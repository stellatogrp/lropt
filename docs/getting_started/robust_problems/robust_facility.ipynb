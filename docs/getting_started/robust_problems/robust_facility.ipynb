{
 "cells": [
  {
   "cell_type": "markdown",
   "metadata": {},
   "source": [
    "# Robust Facility Location"
   ]
  },
  {
   "cell_type": "markdown",
   "metadata": {},
   "source": [
    "The Facility Location Problem (FLP) is a fundamental optimization challenge focusing on determining the optimal locations for facilities such as warehouses, plants, or distribution centers to minimize costs or maximize service coverage. It involves deciding where to place these facilities to efficiently serve demands from customers or locations, considering factors like transportation costs, facility setup costs, and capacity constraints. The goal of the facility location problem is to find the best allocation that satisfies demands and maxinimize profits."
   ]
  },
  {
   "cell_type": "markdown",
   "metadata": {},
   "source": [
    "In this notebook we will solve the example taken from Bertsimas and Den Hertog (2015) [1], Section 2.4. \n",
    "\n",
    "Let $ T, F, N \\in \\mathbb{N}$ be the length of the horizon, the number of candidate locations to which a facility can be assigned, and the number of locations that have a demand for the facility respectively. Let $\\eta \\in \\mathbb{R}_+ $ be the unit price of goods. Let $c_{i}, C_{i} ,K_{i} \\in \\mathbb{R}_+ $ be the unit cost of production, cost of capacity and the cost of opening a location at facility $i$ respectively. Let $d_{ij} \\in \\mathbb{R}_+ $ be the cost of shipping from location $i$ to location $j$. Let $D_{j\\tau} $ be the demand for period $\\tau$ at location $j$. Decision variable $x_{ij\\tau}$ represents the proportion of the demand at location $j$ during period $\\tau$ that is satisfied by facility $i$. $P_{i\\tau}$ represents the amount of good that is produced at facility $i$ during the period $\\tau$. For each facility $i$, the decision variable $I_i$ denotes whether the facility in location $i $ is open or closed, by taking values 1 or 0, respectively, and $Z_i$ denotes the capacity of the facility in this location in case it is open. $M$ is a large constant.\n"
   ]
  },
  {
   "cell_type": "markdown",
   "metadata": {},
   "source": [
    "With this information in mind, our optimization problem becomes:\n",
    "$$\n",
    "\\begin{aligned}\n",
    "& \\text{maximize} \\quad (\\eta \\cdot 1^T - d) \\cdot (x \\cdot D) -  c^T (1^TP) - C^TZ - K^T{I} \\\\\n",
    "& \\text{subject to} \\quad 1^T x \\leq 1,\\\\\n",
    "&  x^T D \\leq P, \\\\\n",
    "& x \\geq 0,  \\\\\n",
    "&  P \\leq Z, \\\\\n",
    "&  Z \\leq M I\n",
    "\\end{aligned}\n",
    "$$"
   ]
  },
  {
   "cell_type": "markdown",
   "metadata": {},
   "source": [
    "Lets look at each term of the objective function:\n",
    "\n",
    "- The expression $ (\\eta \\cdot 1^T - d) \\cdot (x \\cdot D) $ represents the revenue generated from satisfying demand at location  $i$, time period $ \\tau $, and serving demand from location $ j$. It calculates the difference between the revenue $ \\eta $ and the unit demand $ d $, multiplied by the decision variable $x $ and the nominal demand $ D $.\n",
    "\n",
    "- The expression $c^T (1^TP) $ represents the total production cost incurred at facility $ i $ across all time periods $ \\tau $. It accounts for the production cost $ c $ associated with producing $ P$ units at facility $ i $.\n",
    "\n",
    "- The expression $ C^TZ $ represents the fixed costs associated with opening facility $ i $, where $ C$ denotes the fixed cost and $ Z $ represents the binary decision variable indicating whether facility $ i $ is open $( Z_i = 1 )$ or closed $(Z_i = 0)$.\n",
    "\n",
    "- Finally, $ K^T{I}$ represents the penalty or cost incurred if facility $ i $ remains open but does not operate efficiently. Here, $ K $ represents the penalty cost associated with inefficiency at facility $ i $, and $ I $ is a binary variable indicating whether facility $ i $ operates inefficiently $( I_i = 1 )$ or efficiently $( I_i = 0 )$."
   ]
  },
  {
   "cell_type": "markdown",
   "metadata": {},
   "source": [
    "In the robust version of this problem, we assume that the demand $d$ is uncertain. The parameter belongs to the Ellipsoidal Uncertainty set, which can be defined as: "
   ]
  },
  {
   "cell_type": "markdown",
   "metadata": {},
   "source": [
    "$$ \\mathcal{U}_{\\text{ellips}} = \\{Az+b \\ | \\ \\| z\\|_2 \\le \\rho\\} $$\n",
    "\n",
    "- $A$ : np.array, optional\n",
    "  * Scaling matrix for u. Default identity matrix.\n",
    "- $b$ : np.array, optional\n",
    "  * Relocation vector for u. Default None.\n",
    "\n",
    "  \n",
    "In this notebook, we define an uncertain parameter $D$ using the Ellipsoidal definition with $\\rho=0.3, \\mathbf{b}$ as value of $D$ in the deterministic case."
   ]
  },
  {
   "cell_type": "markdown",
   "metadata": {},
   "source": [
    "To solve this, we will first import the required packages. "
   ]
  },
  {
   "cell_type": "code",
   "execution_count": 6,
   "metadata": {},
   "outputs": [],
   "source": [
    "import numpy as np \n",
    "import cvxpy as cp \n",
    "import lropt\n",
    "import warnings\n",
    "\n",
    "from scipy.sparse import SparseEfficiencyWarning\n",
    "warnings.filterwarnings('ignore', category=UserWarning, module='cvxpy')\n",
    "warnings.filterwarnings('ignore', category=SparseEfficiencyWarning)"
   ]
  },
  {
   "cell_type": "markdown",
   "metadata": {},
   "source": [
    "Next, we will generate the data. We will consider an example where we have $5$ facilities and $8$ candidate locations. The length of each horizon is $10$. Finally, the unit price of each good is $100$."
   ]
  },
  {
   "cell_type": "code",
   "execution_count": 7,
   "metadata": {},
   "outputs": [],
   "source": [
    "np.random.seed(1)\n",
    "T = 10  # Length of the horizon\n",
    "F = 5   # Number of facilities\n",
    "N = 8  # Number of candidate locations\n",
    "M = 1100\n",
    "NUM_DEC = 3\n",
    "\n",
    "ETA = 100.0 \n",
    "RHO = 0.3\n",
    "\n",
    "c = np.random.rand(F)\n",
    "C = np.random.rand(F)\n",
    "K = np.random.rand(F)\n",
    "d = np.random.rand(F, N)\n",
    "D_value = np.random.rand(N* T)  # Deterministic demand at each location used to create uncertainty set\n",
    "\n",
    "\n",
    "D = lropt.UncertainParameter(N*T, uncertainty_set = lropt.Ellipsoidal(b = D_value, rho = RHO))\n",
    "x = cp.Variable((F*T,N), nonneg = True)  \n",
    "P = cp.Variable((F, T), nonneg=True) \n",
    "P_T = P.T    \n",
    "Z = cp.Variable(F)         \n",
    "I = cp.Variable(F)        \n",
    "epsilon = np.random.rand(T)\n",
    "theta = cp.Variable()\n"
   ]
  },
  {
   "cell_type": "markdown",
   "metadata": {},
   "source": [
    "Next, we we can define all our constraints"
   ]
  },
  {
   "cell_type": "code",
   "execution_count": 8,
   "metadata": {},
   "outputs": [],
   "source": [
    "f1 = np.tile(ETA - d, (T, 1)).flatten()\n",
    "revenue = cp.sum(cp.reshape(cp.multiply((f1), x.flatten()), (F,N*T)) @ D)\n",
    "cost_production = cp.sum(c @ P)\n",
    "fixed_costs = cp.sum(cp.multiply(C, Z))\n",
    "penalties = cp.sum(cp.multiply(K, I))\n",
    "x_reshaped = cp.reshape(x, (F, N*T))\n",
    "\n",
    "\n",
    "constraints = [\n",
    "revenue - cost_production - fixed_costs - penalties >= theta,\n",
    "cp.sum(x.flatten()) <= 1,\n",
    "x.flatten()>=0,\n",
    "Z <= M*I,\n",
    "cp.sum(x_reshaped @ D) <=cp.sum(P)\n",
    "]\n",
    "\n",
    "for t in range(T):\n",
    "    constraints.append(P_T[t]<=Z)"
   ]
  },
  {
   "cell_type": "markdown",
   "metadata": {},
   "source": [
    "Finally, we can define the objective and get the optimal value for the equation. "
   ]
  },
  {
   "cell_type": "code",
   "execution_count": 9,
   "metadata": {},
   "outputs": [],
   "source": [
    "objective = cp.Maximize(theta)\n",
    "prob = lropt.RobustProblem(objective, constraints)\n",
    "prob.solve()"
   ]
  },
  {
   "cell_type": "code",
   "execution_count": 10,
   "metadata": {},
   "outputs": [
    {
     "name": "stdout",
     "output_type": "stream",
     "text": [
      "The robust optimal value using  is 85.583\n"
     ]
    }
   ],
   "source": [
    "print(f\"The robust optimal value using  is {round(float(theta.value), NUM_DEC)}\")"
   ]
  },
  {
   "cell_type": "markdown",
   "metadata": {},
   "source": [
    "# References\n",
    "\n",
    "1. Bertsimas, Dimitris, and Dick Den Hertog. Robust and Adaptive Optimization. [Dynamic Ideas LLC], 2022."
   ]
  }
 ],
 "metadata": {
  "kernelspec": {
   "display_name": "lropt_v1",
   "language": "python",
   "name": "python3"
  },
  "language_info": {
   "codemirror_mode": {
    "name": "ipython",
    "version": 3
   },
   "file_extension": ".py",
   "mimetype": "text/x-python",
   "name": "python",
   "nbconvert_exporter": "python",
   "pygments_lexer": "ipython3",
   "version": "3.12.2"
  }
 },
 "nbformat": 4,
 "nbformat_minor": 2
}
