{
 "cells": [
  {
   "cell_type": "markdown",
   "metadata": {},
   "source": [
    "# Robust Facility Location (WORK IN PROGRESS - NEEDS TO BE FIXED)"
   ]
  },
  {
   "cell_type": "markdown",
   "metadata": {},
   "source": [
    "The Facility Location Problem (FLP) is a fundamental optimization challenge focusing on determining the optimal locations for facilities such as warehouses, plants, or distribution centers to minimize costs or maximize service coverage. It involves deciding where to place these facilities to efficiently serve demands from customers or locations, considering factors like transportation costs, facility setup costs, and capacity constraints. The goal of the facility location problem is to find the best allocation that satisfies demands and maxinimize profits."
   ]
  },
  {
   "cell_type": "markdown",
   "metadata": {},
   "source": [
    "Let $ T, F, N \\in \\mathbb{N}$ be the length of the horizon, the number of candidate locations to which a facility can be assigned, and the number of locations that have a demand for the facility respectively. Let $\\eta \\in \\mathbb{R}_+ $ be the unit price of goods. Let $\\vec{c}_{i}, \\vec{C}_{i} ,\\vec{K}_{i} \\in \\mathbb{R}_+ $ be the unit cost of production, cost of capacity and the cost of opening a location at facility $i$ respectively. Let $\\vec{d}_{ij} \\in \\mathbb{R}_+ $ be the cost of shipping from location $i$ to location $j$. Let $\\vec{D}_{j\\tau} $ be the demand for period $\\tau$ at location $j$. Decision variable $\\vec{x}_{ij\\tau}$ represents the proportion of the demand at location $j$ during period $\\tau$ that is satisfied by facility $i$. $\\vec{P}_{i\\tau}$ represents the amount of good that is produced at facility $i$ during the period $\\tau$. For each facility $i$, the decision variable $\\vec{I}_i$ denotes whether the facility in location $i $ is open or closed, by taking values 1 or 0, respectively, and $Z_i$ denotes the capacity of the facility in this location in case it is open.\n",
    "$M$ is a large constant.\n"
   ]
  },
  {
   "cell_type": "markdown",
   "metadata": {},
   "source": [
    "With this information in mind, our optimization problem becomes:\n",
    "$$\n",
    "\\begin{aligned}\n",
    "& \\text{maximize} \\quad (\\eta \\cdot \\vec{1}^T - \\vec{d}) \\cdot (\\vec{x} \\cdot \\vec{D}) -  \\vec{c}^T (1^T\\vec{P}) - \\vec{C}^T\\vec{Z} - \\vec{K}^T\\vec{Z} \\\\\n",
    "& \\text{subject to} \\\\\n",
    "& \\vec{1}^T \\vec{x}_{j\\tau} \\leq 1, \\\\\n",
    "&  \\vec{x}_{i\\tau}^T \\vec{D}_{\\tau} \\leq P_{i\\tau}, \\\\\n",
    "& x_{ij\\tau} \\geq 0,  \\\\\n",
    "&  P_{i\\tau} \\leq Z_i, \\\\\n",
    "&  Z_i \\leq M I_i\n",
    "\\end{aligned}\n",
    "$$"
   ]
  },
  {
   "cell_type": "markdown",
   "metadata": {},
   "source": [
    "- no need to arrow for the vectors - lowercase vector, upper case matrix"
   ]
  },
  {
   "cell_type": "markdown",
   "metadata": {},
   "source": [
    "Lets look at each term of the objective function:\n",
    "\n",
    "- The expression $\\sum_{\\tau = 1}^T \\sum_{i = 1}^F \\sum_{j = 1}^N (\\eta - d_{ij}) x_{ij\\tau} D_{i\\tau} $ represents the revenue generated from satisfying demand at location  $i$, time period $ \\tau $, and serving demand from location $ j$. It calculates the difference between the revenue $ \\eta $ and the unit demand $ d_{ij} $, multiplied by the decision variable $x_{ij\\tau} $ and the nominal demand $ D_{i\\tau} $.\n",
    "\n",
    "- The term $ \\sum_{\\tau = 1}^T \\sum_{i = 1}^F c_i P_{i\\tau} $ represents the total production cost incurred at facility $ i $ across all time periods $ \\tau $. It accounts for the production cost $ c_i $ associated with producing $ P_{i\\tau} $ units at facility $ i $.\n",
    "\n",
    "- The expression $ \\sum_{i = 1}^F C_i Z_i $ represents the fixed costs associated with opening facility $ i $, where $ C_i $ denotes the fixed cost and $ Z_i $ represents the binary decision variable indicating whether facility $ i $ is open $( Z_i = 1 )$ or closed $(Z_i = 0)$.\n",
    "\n",
    "- Finally, $ \\sum_{i = 1}^F K_i I_i $ represents the penalty or cost incurred if facility $ i $ remains open but does not operate efficiently. Here, $ K_i $ represents the penalty cost associated with inefficiency at facility $ i $, and $ I_i $ is a binary variable indicating whether facility $ i $ operates inefficiently $( I_i = 1 )$ or efficiently $( I_i = 0 )$."
   ]
  },
  {
   "cell_type": "markdown",
   "metadata": {},
   "source": [
    "In the robust version of this problem, we assume that the demand $d$ is uncertain. The parameter belongs to the Ellipsoidal Uncertainty set, which can be reprsented like this: "
   ]
  },
  {
   "cell_type": "markdown",
   "metadata": {},
   "source": [
    "$$ \\mathcal{U} = \\left\\{ D \\in \\mathbb{R}^{N \\times T} \\ \\middle|\\  \\left\\| \\frac{D - \\bar{D}}{\\epsilon \\cdot \\bar{D}} \\right\\|_F^2 \\leq \\rho^2 \\right\\}\n",
    "$$\n",
    "In this equation, $\\vec{D}$ is the vector of demands. $\\vec{\\bar{D}}$ is the vector of nominal demands. $\\vec{\\epsilon} $ is the vector of parameters related to the variability of demands. $\\vec{\\rho}$ is the size of the ellipsoidal.\n"
   ]
  },
  {
   "cell_type": "markdown",
   "metadata": {},
   "source": [
    "Our optimization problem can thus be converted into the following robust counterpart:"
   ]
  },
  {
   "cell_type": "markdown",
   "metadata": {},
   "source": [
    "$$\n",
    "\\begin{aligned}\n",
    "& \\text{maximize} \\quad \\theta \\\\\n",
    "& \\text{subject to} \\\\\n",
    "& ( \\vec{1}^T \\eta- \\vec{d}) \\cdot (\\vec{x} \\cdot \\vec{D}) - \\rho \\| Q(x) \\|_2 - \\vec{c}^T (1^T\\vec{P}) - \\vec{C}^T\\vec{Z} - \\vec{K}^T\\vec{Z} \\geq \\theta, \\\\\n",
    "& \\vec{x}_{i\\tau}^T \\vec{D}_{\\tau} + \\rho \\| V_{i\\tau} \\|_2 \\leq P_{i\\tau}, \\\\\n",
    "& \\vec{1}^T \\vec{x}_{j\\tau} \\leq 1, \\\\\n",
    "& x_{ij\\tau} \\geq 0,  \\\\\n",
    "&  P_{i\\tau} \\leq Z_i, \\\\\n",
    "& Z_i \\leq M I_i\n",
    "\\end{aligned}\n",
    "$$\n",
    "\n",
    "where $ Q_{jt}(x) = (\\vec{\\eta} - \\vec{d}_j)^T \\vec{x}_{j\\tau}  \\vec{\\epsilon}_t \\vec{\\bar{D}}_{\\tau} $"
   ]
  },
  {
   "cell_type": "markdown",
   "metadata": {},
   "source": [
    "An important point to consider is that this robust counterpart does not directly apply an uncertain parameter in the equations. However, it is a conic quadratic problem that is the equivalent of the original robust problem. It is also particularely useful in these situations are LROPT does not support $2$ - dimensional uncertain parameters at the time of the creation of this example. "
   ]
  },
  {
   "cell_type": "code",
   "execution_count": 1,
   "metadata": {},
   "outputs": [],
   "source": [
    "import numpy as np \n",
    "import cvxpy as cp \n",
    "import lropt"
   ]
  },
  {
   "cell_type": "markdown",
   "metadata": {},
   "source": [
    "Next, we will generate the data. We will consider an example where we have $5$ facilities and $8$ candidate locations. The length of each horizon is $10$. Finally, the unit price of each good is $100$."
   ]
  },
  {
   "cell_type": "code",
   "execution_count": 2,
   "metadata": {},
   "outputs": [],
   "source": [
    "T = 10  # Length of the horizon\n",
    "F = 5   # Number of facilities\n",
    "N = 8  # Number of candidate locations\n",
    "np.random.seed(1)\n",
    "\n",
    "eta = 100.0  # Unit price of goods\n",
    "rho = 100\n",
    "M = 1100\n",
    "c = np.random.rand(F)  # Unit cost of production for each facility\n",
    "C = np.random.rand(F)  # Cost of capacity for each facility\n",
    "K = np.random.rand(F)  # Cost of opening a facility for each facility\n",
    "d = np.random.rand(F, N)  # Cost of shipping from facility i to location j\n",
    "D_value = np.random.rand(N* T)  # Demand at each location and time period THIS IS MEANT TO BE UNCERTAIN\n",
    "\n",
    "#data mean b should be vector of values\n",
    "D=  lropt.UncertainParameter(N*T, uncertainty_set = lropt.Ellipsoidal(b = D_value, rho = 0.3))\n",
    "\n",
    "\n",
    "\n",
    "\n",
    "x = cp.Variable((F*T,N), nonneg = True)   #Flattened x\n",
    "P = cp.Variable((F, T), nonneg=True)     # Production amount at each facility and time\n",
    "Z = cp.Variable(F)         # Binary variable indicating whether facility i is open\n",
    "I = cp.Variable(F)         # Binary variable indicating whether facility i is open\n",
    "epsilon = np.random.rand(T)\n",
    "theta = cp.Variable()\n"
   ]
  },
  {
   "cell_type": "markdown",
   "metadata": {},
   "source": [
    "We will define these variables to help us in formulating constraints and simplifiying our calculations."
   ]
  },
  {
   "cell_type": "code",
   "execution_count": 3,
   "metadata": {},
   "outputs": [],
   "source": [
    "f1 = np.tile(eta - d, (T, 1)).flatten()\n",
    "f2 = np.tile(D, (F ,1)).flatten()\n",
    "#f3 = np.tile(D_normalized, (F ,1)).flatten() #LEN 400"
   ]
  },
  {
   "cell_type": "markdown",
   "metadata": {},
   "source": [
    "We will then define our constraints."
   ]
  },
  {
   "cell_type": "code",
   "execution_count": 4,
   "metadata": {},
   "outputs": [],
   "source": [
    "constraints = []\n",
    "\n",
    "revenue = cp.sum(cp.reshape(cp.multiply((f1), x.flatten()), (5,80)) @ D)\n",
    "\n",
    "\n",
    "cost_production = cp.sum(c @ P)\n",
    "fixed_costs = cp.sum(cp.multiply(C, Z))\n",
    "penalties = cp.sum(cp.multiply(K, I))\n",
    "constraints.append(revenue - cost_production - fixed_costs - penalties >= theta)\n",
    "constraints.append(cp.sum(x.flatten()) <= 1)\n",
    "constraints.append(x.flatten()>=0)"
   ]
  },
  {
   "cell_type": "markdown",
   "metadata": {},
   "source": [
    "Here, we use a helper function to simplify calculations."
   ]
  },
  {
   "cell_type": "code",
   "execution_count": 5,
   "metadata": {},
   "outputs": [],
   "source": [
    "x_reshaped = cp.reshape(x, (5, 80))\n",
    "constraints.append(cp.sum(x_reshaped @ D) <=cp.sum(P))\n",
    "P_T = P.T\n",
    "for t in range(T):\n",
    "    constraints.append(P_T[t]<=Z)\n",
    "\n",
    "constraints.append(Z <= M*I)"
   ]
  },
  {
   "cell_type": "markdown",
   "metadata": {},
   "source": [
    "Finally, we can define the objective and get the optimal value for the equation. "
   ]
  },
  {
   "cell_type": "code",
   "execution_count": 6,
   "metadata": {},
   "outputs": [
    {
     "name": "stderr",
     "output_type": "stream",
     "text": [
      "/Users/mj5676/Documents/Project2/lropt_v1/lib/python3.12/site-packages/scipy/sparse/_index.py:134: SparseEfficiencyWarning: Changing the sparsity structure of a csr_matrix is expensive. lil_matrix is more efficient.\n",
      "  self._set_arrayXarray_sparse(i, j, x)\n"
     ]
    },
    {
     "name": "stdout",
     "output_type": "stream",
     "text": [
      "===============================================================================\n",
      "                                     CVXPY                                     \n",
      "                             v1.5.0.dev0+0.ffd908b                             \n",
      "===============================================================================\n",
      "(CVXPY) Aug 01 12:14:06 PM: Your problem has 1554 variables, 1553 constraints, and 1 parameters.\n",
      "(CVXPY) Aug 01 12:14:06 PM: It is compliant with the following grammars: DCP, DQCP\n",
      "(CVXPY) Aug 01 12:14:06 PM: CVXPY will first compile your problem; then, it will invoke a numerical solver to obtain a solution.\n",
      "(CVXPY) Aug 01 12:14:06 PM: Your problem is compiled with the CPP canonicalization backend.\n"
     ]
    },
    {
     "name": "stderr",
     "output_type": "stream",
     "text": [
      "/Users/mj5676/Documents/Project2/lropt_v1/lib/python3.12/site-packages/cvxpy/utilities/torch_utils.py:61: UserWarning: torch.sparse.SparseTensor(indices, values, shape, *, device=) is deprecated.  Please use torch.sparse_coo_tensor(indices, values, shape, dtype=, device=). (Triggered internally at /Users/runner/work/pytorch/pytorch/pytorch/torch/csrc/utils/tensor_new.cpp:623.)\n",
      "  return torch.sparse.FloatTensor(i, v, torch.Size(value_coo.shape)).to(dtype)\n"
     ]
    },
    {
     "name": "stdout",
     "output_type": "stream",
     "text": [
      "-------------------------------------------------------------------------------\n",
      "                                  Compilation                                  \n",
      "-------------------------------------------------------------------------------\n",
      "(CVXPY) Aug 01 12:14:06 PM: Compiling problem (target solver=MOSEK).\n",
      "(CVXPY) Aug 01 12:14:06 PM: Reduction chain: Dcp2Cone -> CvxAttr2Constr -> ConeMatrixStuffing -> MOSEK\n",
      "(CVXPY) Aug 01 12:14:06 PM: Applying reduction Dcp2Cone\n",
      "(CVXPY) Aug 01 12:14:06 PM: Applying reduction CvxAttr2Constr\n",
      "(CVXPY) Aug 01 12:14:06 PM: Applying reduction ConeMatrixStuffing\n",
      "(CVXPY) Aug 01 12:14:07 PM: Applying reduction MOSEK\n",
      "(CVXPY) Aug 01 12:14:07 PM: Finished problem compilation (took 2.836e-01 seconds).\n",
      "(CVXPY) Aug 01 12:14:07 PM: (Subsequent compilations of this problem, using the same arguments, should take less time.)\n",
      "-------------------------------------------------------------------------------\n",
      "                                Numerical solver                               \n",
      "-------------------------------------------------------------------------------\n",
      "(CVXPY) Aug 01 12:14:07 PM: Invoking solver MOSEK  to obtain a solution.\n",
      "\n",
      "\n",
      "(CVXPY) Aug 01 12:14:07 PM: Problem\n",
      "(CVXPY) Aug 01 12:14:07 PM:   Name                   :                 \n",
      "(CVXPY) Aug 01 12:14:07 PM:   Objective sense        : maximize        \n",
      "(CVXPY) Aug 01 12:14:07 PM:   Type                   : CONIC (conic optimization problem)\n",
      "(CVXPY) Aug 01 12:14:07 PM:   Constraints            : 1556            \n",
      "(CVXPY) Aug 01 12:14:07 PM:   Affine conic cons.     : 0               \n",
      "(CVXPY) Aug 01 12:14:07 PM:   Disjunctive cons.      : 0               \n",
      "(CVXPY) Aug 01 12:14:07 PM:   Cones                  : 2               \n",
      "(CVXPY) Aug 01 12:14:07 PM:   Scalar variables       : 1715            \n",
      "(CVXPY) Aug 01 12:14:07 PM:   Matrix variables       : 0               \n",
      "(CVXPY) Aug 01 12:14:07 PM:   Integer variables      : 0               \n",
      "(CVXPY) Aug 01 12:14:07 PM: \n",
      "(CVXPY) Aug 01 12:14:07 PM: Optimizer started.\n",
      "(CVXPY) Aug 01 12:14:07 PM: Presolve started.\n",
      "(CVXPY) Aug 01 12:14:07 PM: Linear dependency checker started.\n",
      "(CVXPY) Aug 01 12:14:07 PM: Linear dependency checker terminated.\n",
      "(CVXPY) Aug 01 12:14:07 PM: Eliminator started.\n",
      "(CVXPY) Aug 01 12:14:07 PM: Freed constraints in eliminator : 170\n",
      "(CVXPY) Aug 01 12:14:07 PM: Eliminator terminated.\n",
      "(CVXPY) Aug 01 12:14:07 PM: Eliminator started.\n",
      "(CVXPY) Aug 01 12:14:07 PM: Freed constraints in eliminator : 0\n",
      "(CVXPY) Aug 01 12:14:07 PM: Eliminator terminated.\n",
      "(CVXPY) Aug 01 12:14:07 PM: Eliminator - tries                  : 2                 time                   : 0.00            \n",
      "(CVXPY) Aug 01 12:14:07 PM: Lin. dep.  - tries                  : 1                 time                   : 0.00            \n",
      "(CVXPY) Aug 01 12:14:07 PM: Lin. dep.  - primal attempts        : 1                 successes              : 1               \n",
      "(CVXPY) Aug 01 12:14:07 PM: Lin. dep.  - dual attempts          : 0                 successes              : 0               \n",
      "(CVXPY) Aug 01 12:14:07 PM: Lin. dep.  - primal deps.           : 0                 dual deps.             : 0               \n",
      "(CVXPY) Aug 01 12:14:07 PM: Presolve terminated. Time: 0.00    \n",
      "(CVXPY) Aug 01 12:14:07 PM: GP based matrix reordering started.\n",
      "(CVXPY) Aug 01 12:14:07 PM: GP based matrix reordering terminated.\n",
      "(CVXPY) Aug 01 12:14:07 PM: Optimizer  - threads                : 11              \n",
      "(CVXPY) Aug 01 12:14:07 PM: Optimizer  - solved problem         : the dual        \n",
      "(CVXPY) Aug 01 12:14:07 PM: Optimizer  - Constraints            : 191             \n",
      "(CVXPY) Aug 01 12:14:07 PM: Optimizer  - Cones                  : 2               \n",
      "(CVXPY) Aug 01 12:14:07 PM: Optimizer  - Scalar variables       : 629               conic                  : 162             \n",
      "(CVXPY) Aug 01 12:14:07 PM: Optimizer  - Semi-definite variables: 0                 scalarized             : 0               \n",
      "(CVXPY) Aug 01 12:14:07 PM: Factor     - setup time             : 0.00            \n",
      "(CVXPY) Aug 01 12:14:07 PM: Factor     - dense det. time        : 0.00              GP order time          : 0.00            \n",
      "(CVXPY) Aug 01 12:14:07 PM: Factor     - nonzeros before factor : 7127              after factor           : 1.07e+04        \n",
      "(CVXPY) Aug 01 12:14:07 PM: Factor     - dense dim.             : 0                 flops                  : 8.27e+05        \n",
      "(CVXPY) Aug 01 12:14:07 PM: Factor     - GP saved nzs           : 7                 GP saved flops         : 5.25e+03        \n",
      "(CVXPY) Aug 01 12:14:07 PM: ITE PFEAS    DFEAS    GFEAS    PRSTATUS   POBJ              DOBJ              MU       TIME  \n",
      "(CVXPY) Aug 01 12:14:07 PM: 0   1.0e+00  1.0e+00  1.0e+00  0.00e+00   0.000000000e+00   0.000000000e+00   1.0e+00  0.01  \n",
      "(CVXPY) Aug 01 12:14:07 PM: 1   4.5e-01  4.5e-01  6.0e-01  -7.52e-01  -1.024813438e+00  -1.916028859e+00  4.5e-01  0.01  \n",
      "(CVXPY) Aug 01 12:14:07 PM: 2   1.8e-01  1.8e-01  3.5e-01  -7.40e-01  -4.736767579e+00  -7.800373006e+00  1.8e-01  0.01  \n",
      "(CVXPY) Aug 01 12:14:07 PM: 3   6.1e-02  6.1e-02  1.6e-01  -7.93e-01  -2.556686717e+01  -3.211218646e+01  6.1e-02  0.01  \n",
      "(CVXPY) Aug 01 12:14:07 PM: 4   2.0e-02  2.0e-02  1.2e-01  -6.70e-01  -3.312501363e+01  -6.839084178e+01  2.0e-02  0.01  \n",
      "(CVXPY) Aug 01 12:14:07 PM: 5   1.6e-03  1.6e-03  1.6e-02  -7.65e-01  -2.330224844e+02  -3.334463071e+02  1.6e-03  0.01  \n",
      "(CVXPY) Aug 01 12:14:07 PM: 6   4.8e-04  4.8e-04  1.3e-03  2.66e+00   -1.425096479e+02  -1.493899023e+02  4.8e-04  0.01  \n",
      "(CVXPY) Aug 01 12:14:07 PM: 7   1.9e-04  1.9e-04  2.1e-04  2.18e+00   -1.075663854e+02  -1.087513157e+02  1.9e-04  0.01  \n",
      "(CVXPY) Aug 01 12:14:07 PM: 8   6.0e-05  6.0e-05  2.5e-05  1.82e+00   -9.001095701e+01  -9.018211179e+01  6.0e-05  0.01  \n",
      "(CVXPY) Aug 01 12:14:07 PM: 9   2.6e-05  2.6e-05  6.2e-06  1.23e+00   -8.722228428e+01  -8.727996800e+01  2.6e-05  0.01  \n",
      "(CVXPY) Aug 01 12:14:07 PM: 10  1.4e-05  1.4e-05  2.3e-06  1.08e+00   -8.620297252e+01  -8.623091877e+01  1.4e-05  0.01  \n",
      "(CVXPY) Aug 01 12:14:07 PM: 11  2.8e-06  2.8e-06  1.9e-07  1.06e+00   -8.567924779e+01  -8.568388921e+01  2.8e-06  0.02  \n",
      "(CVXPY) Aug 01 12:14:07 PM: 12  4.5e-07  4.5e-07  9.7e-09  1.01e+00   -8.560079748e+01  -8.560124904e+01  4.5e-07  0.02  \n",
      "(CVXPY) Aug 01 12:14:07 PM: 13  2.1e-08  2.1e-08  9.2e-11  1.00e+00   -8.558379932e+01  -8.558381823e+01  2.1e-08  0.02  \n",
      "(CVXPY) Aug 01 12:14:07 PM: 14  4.7e-10  4.7e-10  3.1e-13  1.00e+00   -8.558312613e+01  -8.558312655e+01  4.7e-10  0.02  \n",
      "(CVXPY) Aug 01 12:14:07 PM: Optimizer terminated. Time: 0.02    \n",
      "(CVXPY) Aug 01 12:14:07 PM: \n",
      "(CVXPY) Aug 01 12:14:07 PM: \n",
      "(CVXPY) Aug 01 12:14:07 PM: Interior-point solution summary\n",
      "(CVXPY) Aug 01 12:14:07 PM:   Problem status  : PRIMAL_AND_DUAL_FEASIBLE\n",
      "(CVXPY) Aug 01 12:14:07 PM:   Solution status : OPTIMAL\n",
      "(CVXPY) Aug 01 12:14:07 PM:   Primal.  obj: -8.5583126130e+01   nrm: 9e+01    Viol.  con: 1e-14    var: 0e+00    cones: 4e-08  \n",
      "(CVXPY) Aug 01 12:14:07 PM:   Dual.    obj: -8.5583126551e+01   nrm: 9e+01    Viol.  con: 0e+00    var: 1e-08    cones: 0e+00  \n",
      "-------------------------------------------------------------------------------\n",
      "                                    Summary                                    \n",
      "-------------------------------------------------------------------------------\n",
      "(CVXPY) Aug 01 12:14:07 PM: Problem status: optimal\n",
      "(CVXPY) Aug 01 12:14:07 PM: Optimal value: -8.558e+01\n",
      "(CVXPY) Aug 01 12:14:07 PM: Compilation took 2.836e-01 seconds\n",
      "(CVXPY) Aug 01 12:14:07 PM: Solver (including time spent in interface) took 3.942e-02 seconds\n",
      "The robust optimal value using  is None\n"
     ]
    }
   ],
   "source": [
    "objective = cp.Maximize(theta)\n",
    "prob = lropt.RobustProblem(objective, constraints)\n",
    "prob.solve(verbose = True)"
   ]
  },
  {
   "cell_type": "code",
   "execution_count": 7,
   "metadata": {},
   "outputs": [
    {
     "name": "stdout",
     "output_type": "stream",
     "text": [
      "The robust optimal value using  is 85.58312655053156\n"
     ]
    }
   ],
   "source": [
    "print(f\"The robust optimal value using  is {theta.value}\")"
   ]
  }
 ],
 "metadata": {
  "kernelspec": {
   "display_name": "lropt_v1",
   "language": "python",
   "name": "python3"
  },
  "language_info": {
   "codemirror_mode": {
    "name": "ipython",
    "version": 3
   },
   "file_extension": ".py",
   "mimetype": "text/x-python",
   "name": "python",
   "nbconvert_exporter": "python",
   "pygments_lexer": "ipython3",
   "version": "3.12.2"
  }
 },
 "nbformat": 4,
 "nbformat_minor": 2
}
