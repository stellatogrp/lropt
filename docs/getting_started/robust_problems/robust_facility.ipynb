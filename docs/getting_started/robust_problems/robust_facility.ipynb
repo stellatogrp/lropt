{
 "cells": [
  {
   "cell_type": "markdown",
   "metadata": {},
   "source": [
    "# Robust Facility Location (WORK IN PROGRESS - NEEDS TO BE FIXED)"
   ]
  },
  {
   "cell_type": "markdown",
   "metadata": {},
   "source": [
    "The Facility Location Problem (FLP) is a fundamental optimization challenge focusing on determining the optimal locations for facilities such as warehouses, plants, or distribution centers to minimize costs or maximize service coverage. It involves deciding where to place these facilities to efficiently serve demands from customers or locations, considering factors like transportation costs, facility setup costs, and capacity constraints. The goal of the facility location problem is to find the best allocation that satisfies demands and maxinimize profits."
   ]
  },
  {
   "cell_type": "markdown",
   "metadata": {},
   "source": [
    "Let $ T, F, N \\in \\mathbb{N}$ be the length of the horizon, the number of candidate locations to which a facility can be assigned, and the number of locations that have a demand for the facility respectively. Let $\\eta \\in \\mathbb{R}_+ $ be the unit price of goods. Let $\\vec{c}_{i}, \\vec{C}_{i} ,\\vec{K}_{i} \\in \\mathbb{R}_+ $ be the unit cost of production, cost of capacity and the cost of opening a location at facility $i$ respectively. Let $\\vec{d}_{ij} \\in \\mathbb{R}_+ $ be the cost of shipping from location $i$ to location $j$. Let $\\vec{D}_{j\\tau} $ be the demand for period $\\tau$ at location $j$. Decision variable $\\vec{x}_{ij\\tau}$ represents the proportion of the demand at location $j$ during period $\\tau$ that is satisfied by facility $i$. $\\vec{P}_{i\\tau}$ represents the amount of good that is produced at facility $i$ during the period $\\tau$. For each facility $i$, the decision variable $\\vec{I}_i$ denotes whether the facility in location $i $ is open or closed, by taking values 1 or 0, respectively, and $Z_i$ denotes the capacity of the facility in this location in case it is open.\n",
    "$M$ is a large constant.\n"
   ]
  },
  {
   "cell_type": "markdown",
   "metadata": {},
   "source": [
    "With this information in mind, our optimization problem becomes:\n",
    "$$\n",
    "\\begin{aligned}\n",
    "& \\text{maximize} \\quad (\\eta \\cdot \\vec{1}^T - \\vec{d}) \\cdot (\\vec{x} \\cdot \\vec{D}) -  \\vec{c}^T (1^T\\vec{P}) - \\vec{C}^T\\vec{Z} - \\vec{K}^T\\vec{Z} \\\\\n",
    "& \\text{subject to} \\\\\n",
    "& \\vec{1}^T \\vec{x}_{j\\tau} \\leq 1, \\\\\n",
    "&  \\vec{x}_{i\\tau}^T \\vec{D}_{\\tau} \\leq P_{i\\tau}, \\\\\n",
    "& x_{ij\\tau} \\geq 0,  \\\\\n",
    "&  P_{i\\tau} \\leq Z_i, \\\\\n",
    "&  Z_i \\leq M I_i\n",
    "\\end{aligned}\n",
    "$$"
   ]
  },
  {
   "cell_type": "markdown",
   "metadata": {},
   "source": [
    "- no need to arrow for the vectors - lowercase vector, upper case matrix"
   ]
  },
  {
   "cell_type": "markdown",
   "metadata": {},
   "source": [
    "Lets look at each term of the objective function:\n",
    "\n",
    "- The expression $\\sum_{\\tau = 1}^T \\sum_{i = 1}^F \\sum_{j = 1}^N (\\eta - d_{ij}) x_{ij\\tau} D_{i\\tau} $ represents the revenue generated from satisfying demand at location  $i$, time period $ \\tau $, and serving demand from location $ j$. It calculates the difference between the revenue $ \\eta $ and the unit demand $ d_{ij} $, multiplied by the decision variable $x_{ij\\tau} $ and the nominal demand $ D_{i\\tau} $.\n",
    "\n",
    "- The term $ \\sum_{\\tau = 1}^T \\sum_{i = 1}^F c_i P_{i\\tau} $ represents the total production cost incurred at facility $ i $ across all time periods $ \\tau $. It accounts for the production cost $ c_i $ associated with producing $ P_{i\\tau} $ units at facility $ i $.\n",
    "\n",
    "- The expression $ \\sum_{i = 1}^F C_i Z_i $ represents the fixed costs associated with opening facility $ i $, where $ C_i $ denotes the fixed cost and $ Z_i $ represents the binary decision variable indicating whether facility $ i $ is open $( Z_i = 1 )$ or closed $(Z_i = 0)$.\n",
    "\n",
    "- Finally, $ \\sum_{i = 1}^F K_i I_i $ represents the penalty or cost incurred if facility $ i $ remains open but does not operate efficiently. Here, $ K_i $ represents the penalty cost associated with inefficiency at facility $ i $, and $ I_i $ is a binary variable indicating whether facility $ i $ operates inefficiently $( I_i = 1 )$ or efficiently $( I_i = 0 )$."
   ]
  },
  {
   "cell_type": "markdown",
   "metadata": {},
   "source": [
    "In the robust version of this problem, we assume that the demand $d$ is uncertain. The parameter belongs to the Ellipsoidal Uncertainty set, which can be reprsented like this: "
   ]
  },
  {
   "cell_type": "markdown",
   "metadata": {},
   "source": [
    "$$ \\mathcal{U} = \\left\\{ D \\in \\mathbb{R}^{N \\times T} \\ \\middle|\\  \\left\\| \\frac{D - \\bar{D}}{\\epsilon \\cdot \\bar{D}} \\right\\|_F^2 \\leq \\rho^2 \\right\\}\n",
    "$$\n",
    "In this equation, $\\vec{D}$ is the vector of demands. $\\vec{\\bar{D}}$ is the vector of nominal demands. $\\vec{\\epsilon} $ is the vector of parameters related to the variability of demands. $\\vec{\\rho}$ is the size of the ellipsoidal.\n"
   ]
  },
  {
   "cell_type": "markdown",
   "metadata": {},
   "source": [
    "Our optimization problem can thus be converted into the following robust counterpart:"
   ]
  },
  {
   "cell_type": "markdown",
   "metadata": {},
   "source": [
    "$$\n",
    "\\begin{aligned}\n",
    "& \\text{maximize} \\quad \\theta \\\\\n",
    "& \\text{subject to} \\\\\n",
    "& ( \\vec{1}^T \\eta- \\vec{d}) \\cdot (\\vec{x} \\cdot \\vec{D}) - \\rho \\| Q(x) \\|_2 - \\vec{c}^T (1^T\\vec{P}) - \\vec{C}^T\\vec{Z} - \\vec{K}^T\\vec{Z} \\geq \\theta, \\\\\n",
    "& \\vec{x}_{i\\tau}^T \\vec{D}_{\\tau} + \\rho \\| V_{i\\tau} \\|_2 \\leq P_{i\\tau}, \\\\\n",
    "& \\vec{1}^T \\vec{x}_{j\\tau} \\leq 1, \\\\\n",
    "& x_{ij\\tau} \\geq 0,  \\\\\n",
    "&  P_{i\\tau} \\leq Z_i, \\\\\n",
    "& Z_i \\leq M I_i\n",
    "\\end{aligned}\n",
    "$$\n",
    "\n",
    "where $ Q_{jt}(x) = (\\vec{\\eta} - \\vec{d}_j)^T \\vec{x}_{j\\tau}  \\vec{\\epsilon}_t \\vec{\\bar{D}}_{\\tau} $"
   ]
  },
  {
   "cell_type": "markdown",
   "metadata": {},
   "source": [
    "An important point to consider is that this robust counterpart does not directly apply an uncertain parameter in the equations. However, it is a conic quadratic problem that is the equivalent of the original robust problem. It is also particularely useful in these situations are LROPT does not support $2$ - dimensional uncertain parameters at the time of the creation of this example. "
   ]
  },
  {
   "cell_type": "code",
   "execution_count": 20,
   "metadata": {},
   "outputs": [],
   "source": [
    "import numpy as np \n",
    "import cvxpy as cp \n",
    "import lropt"
   ]
  },
  {
   "cell_type": "markdown",
   "metadata": {},
   "source": [
    "Next, we will generate the data. We will consider an example where we have $5$ facilities and $8$ candidate locations. The length of each horizon is $10$. Finally, the unit price of each good is $100$."
   ]
  },
  {
   "cell_type": "code",
   "execution_count": 21,
   "metadata": {},
   "outputs": [],
   "source": [
    "np.random.seed(1)\n",
    "T = 10  # Length of the horizon\n",
    "F = 5   # Number of facilities\n",
    "N = 8  # Number of candidate locations\n",
    "M = 1100\n",
    "NUM_DEC = 3\n",
    "\n",
    "ETA = 100.0 \n",
    "RHO = 0.3\n",
    "\n",
    "c = np.random.rand(F)\n",
    "C = np.random.rand(F)\n",
    "K = np.random.rand(F)\n",
    "d = np.random.rand(F, N)\n",
    "D_value = np.random.rand(N* T)  # Deterministic Demand at each location used to create uncertainty set\n",
    "\n",
    "\n",
    "D=  lropt.UncertainParameter(N*T, uncertainty_set = lropt.Ellipsoidal(b = D_value, rho = RHO))\n",
    "x = cp.Variable((F*T,N), nonneg = True)  \n",
    "P = cp.Variable((F, T), nonneg=True) \n",
    "P_T = P.T    \n",
    "Z = cp.Variable(F)         \n",
    "I = cp.Variable(F)        \n",
    "epsilon = np.random.rand(T)\n",
    "theta = cp.Variable()\n"
   ]
  },
  {
   "cell_type": "markdown",
   "metadata": {},
   "source": [
    "Next, we we can define all our constraints"
   ]
  },
  {
   "cell_type": "code",
   "execution_count": 23,
   "metadata": {},
   "outputs": [],
   "source": [
    "f1 = np.tile(ETA - d, (T, 1)).flatten()\n",
    "revenue = cp.sum(cp.reshape(cp.multiply((f1), x.flatten()), (F,N*T)) @ D)\n",
    "cost_production = cp.sum(c @ P)\n",
    "fixed_costs = cp.sum(cp.multiply(C, Z))\n",
    "penalties = cp.sum(cp.multiply(K, I))\n",
    "x_reshaped = cp.reshape(x, (F, N*T))\n",
    "\n",
    "\n",
    "constraints = [\n",
    "revenue - cost_production - fixed_costs - penalties >= theta,\n",
    "cp.sum(x.flatten()) <= 1,\n",
    "x.flatten()>=0,\n",
    "Z <= M*I,\n",
    "cp.sum(x_reshaped @ D) <=cp.sum(P)\n",
    "]\n",
    "\n",
    "for t in range(T):\n",
    "    constraints.append(P_T[t]<=Z)"
   ]
  },
  {
   "cell_type": "markdown",
   "metadata": {},
   "source": [
    "Finally, we can define the objective and get the optimal value for the equation. "
   ]
  },
  {
   "cell_type": "code",
   "execution_count": 24,
   "metadata": {},
   "outputs": [
    {
     "name": "stderr",
     "output_type": "stream",
     "text": [
      "/Users/mj5676/Documents/Project2/lropt_v1/lib/python3.12/site-packages/scipy/sparse/_index.py:134: SparseEfficiencyWarning: Changing the sparsity structure of a csr_matrix is expensive. lil_matrix is more efficient.\n",
      "  self._set_arrayXarray_sparse(i, j, x)\n"
     ]
    }
   ],
   "source": [
    "objective = cp.Maximize(theta)\n",
    "prob = lropt.RobustProblem(objective, constraints)\n",
    "prob.solve()"
   ]
  },
  {
   "cell_type": "code",
   "execution_count": 25,
   "metadata": {},
   "outputs": [
    {
     "name": "stdout",
     "output_type": "stream",
     "text": [
      "The robust optimal value using  is 85.583\n"
     ]
    }
   ],
   "source": [
    "print(f\"The robust optimal value using  is {round(float(theta.value), NUM_DEC)}\")"
   ]
  }
 ],
 "metadata": {
  "kernelspec": {
   "display_name": "lropt_v1",
   "language": "python",
   "name": "python3"
  },
  "language_info": {
   "codemirror_mode": {
    "name": "ipython",
    "version": 3
   },
   "file_extension": ".py",
   "mimetype": "text/x-python",
   "name": "python",
   "nbconvert_exporter": "python",
   "pygments_lexer": "ipython3",
   "version": "3.12.2"
  }
 },
 "nbformat": 4,
 "nbformat_minor": 2
}
