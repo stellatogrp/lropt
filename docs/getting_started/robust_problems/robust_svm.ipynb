{
 "cells": [
  {
   "cell_type": "markdown",
   "metadata": {},
   "source": [
    "# Robust SVM (WORK IN PROGRESS)"
   ]
  },
  {
   "cell_type": "markdown",
   "metadata": {},
   "source": [
    "Support Vector Machines (SVMs) are a set of supervised learning methods primarily used for classification. A Robust SVM is a variation of the standard SVM designed to handle data that is noisy or contains outliers more effectively. While the standard SVM focuses on finding a hyperplane that best separates classes by maximizing the margin between them, a Robust SVM aims to improve the model’s performance and stability in the presence of noise and outliers."
   ]
  },
  {
   "cell_type": "markdown",
   "metadata": {},
   "source": [
    "In this notebook, we will consider example 4.5 introduced in Ali, Kolter, Diamond, and Boyd (2015) [1]. Based on the data given, we can reformulate the optimization problem as:"
   ]
  },
  {
   "cell_type": "markdown",
   "metadata": {},
   "source": [
    "$$\n",
    "\\begin{aligned}\n",
    "& \\text{minimize} \\quad \\frac{1}{2} \\| w \\|^2 + C \\cdot \\vec{1}^T \\vec{\\xi} \\\\\n",
    "& \\text{subject to:} \\\\\n",
    "& w^T(x_i + u_x) + b \\geq 1 - \\xi _i\\\\\n",
    "&  w^T (x_i + u_y) + b \\geq 1 - \\xi_i, \\\\\n",
    "& \\vec{\\xi} \\geq \\vec{0}\n",
    "\n",
    "\\end{aligned}\n",
    "$$"
   ]
  },
  {
   "cell_type": "code",
   "execution_count": 1,
   "metadata": {},
   "outputs": [],
   "source": [
    "import numpy as np\n",
    "import cvxpy as cp\n",
    "import lropt\n",
    "import pandas as pd\n",
    "import altair as alt\n",
    "import matplotlib.pyplot as plt\n",
    "from scipy.sparse import SparseEfficiencyWarning\n",
    "import warnings\n",
    "warnings.filterwarnings('ignore', category=UserWarning, module='cvxpy')\n",
    "warnings.filterwarnings('ignore', category=SparseEfficiencyWarning)"
   ]
  },
  {
   "cell_type": "markdown",
   "metadata": {},
   "source": [
    "First, we define our data. We have two datasets, both which are normally distributed but have different mean and variance. $N$ is the number of dimensions in the data, which we define as $2$."
   ]
  },
  {
   "cell_type": "code",
   "execution_count": 2,
   "metadata": {},
   "outputs": [],
   "source": [
    "np.random.seed(1)\n",
    "N=2\n",
    "M = 100\n",
    "C = 0.01 #Regularization Constant\n",
    "V = 2\n",
    "MU_1 = np.array([0, 0])           # Mean for class 1\n",
    "SIG_1 = np.array([[1, 0.5],       # Covariance for class 1\n",
    "                  [0.5, 1]])\n",
    "\n",
    "MU_2 = np.array([3, 3])           # Mean for class 2\n",
    "SIG_2 = np.array([[1, -0.7],      # Covariance for class 2\n",
    "                  [-0.7, 1]])\n",
    "\n",
    "DATA_1= np.random.multivariate_normal(MU_1, SIG_1, M)\n",
    "DATA_2= np.random.multivariate_normal(MU_2, SIG_2, M)\n",
    "\n"
   ]
  },
  {
   "cell_type": "markdown",
   "metadata": {},
   "source": [
    "Next, we can define a function that solves for the Support Vector Machine. This function checks for an uncertainty set. If it isn't present, the function solves the problem in the deterministic case. We use the ellipsoidal uncertainty set, which can be defined by:\n",
    "\n",
    "$$ \\mathcal{U}_{\\text{ellips}} = \\{Az+b \\ | \\ \\| z\\|_2 \\le \\rho\\} $$"
   ]
  },
  {
   "cell_type": "code",
   "execution_count": 3,
   "metadata": {},
   "outputs": [],
   "source": [
    "def solve_svm(uncertainty_set=None):\n",
    "    w = cp.Variable(N)\n",
    "    b = cp.Variable()\n",
    "    xi = cp.Variable(N, nonneg=True)\n",
    "    objective = cp.Minimize(1/V * cp.norm2(w)**V + C * (cp.sum(xi)))\n",
    "    \n",
    "    constraints = []\n",
    "\n",
    "    if uncertainty_set:\n",
    "        u = lropt.UncertainParameter(N, uncertainty_set=uncertainty_set)\n",
    "        for i in range(N):\n",
    "            constraints.append(w@(DATA_1[i] + u) + b >= 1 - xi[i])\n",
    "            constraints.append(-(w@(DATA_2[i]+ u) + b) >= 1 - xi[i])\n",
    "            prob = lropt.RobustProblem(objective, constraints)\n",
    "    else:\n",
    "        for i in range(N):\n",
    "            constraints.append(w@(DATA_1[i]) + b >= 1 - xi[i])\n",
    "            constraints.append(-(w@(DATA_2[i]) + b) >= 1 - xi[i])\n",
    "            prob = cp.Problem(objective, constraints)\n",
    "\n",
    "    prob.solve()\n",
    "    \n",
    "    return w.value, b.value"
   ]
  },
  {
   "cell_type": "markdown",
   "metadata": {},
   "source": [
    "Finally, we can solve the problem. Note that the value of 'b' in the uncertainty set is the mean of the problem in the deterministic case. "
   ]
  },
  {
   "cell_type": "code",
   "execution_count": 4,
   "metadata": {},
   "outputs": [],
   "source": [
    "v = solve_svm(lropt.Ellipsoidal(p = 2,rho=0.1, b = solve_svm()[0]))\n",
    "w_opt = v[0]\n",
    "b_opt = v[1]"
   ]
  },
  {
   "cell_type": "markdown",
   "metadata": {},
   "source": [
    "This is an interactive visualization of the hyperplane created in Altair."
   ]
  },
  {
   "cell_type": "code",
   "execution_count": 5,
   "metadata": {},
   "outputs": [
    {
     "data": {
      "text/html": [
       "\n",
       "<style>\n",
       "  #altair-viz-a01c3744fb1c491d8ebef6d91d69bd14.vega-embed {\n",
       "    width: 100%;\n",
       "    display: flex;\n",
       "  }\n",
       "\n",
       "  #altair-viz-a01c3744fb1c491d8ebef6d91d69bd14.vega-embed details,\n",
       "  #altair-viz-a01c3744fb1c491d8ebef6d91d69bd14.vega-embed details summary {\n",
       "    position: relative;\n",
       "  }\n",
       "</style>\n",
       "<div id=\"altair-viz-a01c3744fb1c491d8ebef6d91d69bd14\"></div>\n",
       "<script type=\"text/javascript\">\n",
       "  var VEGA_DEBUG = (typeof VEGA_DEBUG == \"undefined\") ? {} : VEGA_DEBUG;\n",
       "  (function(spec, embedOpt){\n",
       "    let outputDiv = document.currentScript.previousElementSibling;\n",
       "    if (outputDiv.id !== \"altair-viz-a01c3744fb1c491d8ebef6d91d69bd14\") {\n",
       "      outputDiv = document.getElementById(\"altair-viz-a01c3744fb1c491d8ebef6d91d69bd14\");\n",
       "    }\n",
       "    const paths = {\n",
       "      \"vega\": \"https://cdn.jsdelivr.net/npm/vega@5?noext\",\n",
       "      \"vega-lib\": \"https://cdn.jsdelivr.net/npm/vega-lib?noext\",\n",
       "      \"vega-lite\": \"https://cdn.jsdelivr.net/npm/vega-lite@5.17.0?noext\",\n",
       "      \"vega-embed\": \"https://cdn.jsdelivr.net/npm/vega-embed@6?noext\",\n",
       "    };\n",
       "\n",
       "    function maybeLoadScript(lib, version) {\n",
       "      var key = `${lib.replace(\"-\", \"\")}_version`;\n",
       "      return (VEGA_DEBUG[key] == version) ?\n",
       "        Promise.resolve(paths[lib]) :\n",
       "        new Promise(function(resolve, reject) {\n",
       "          var s = document.createElement('script');\n",
       "          document.getElementsByTagName(\"head\")[0].appendChild(s);\n",
       "          s.async = true;\n",
       "          s.onload = () => {\n",
       "            VEGA_DEBUG[key] = version;\n",
       "            return resolve(paths[lib]);\n",
       "          };\n",
       "          s.onerror = () => reject(`Error loading script: ${paths[lib]}`);\n",
       "          s.src = paths[lib];\n",
       "        });\n",
       "    }\n",
       "\n",
       "    function showError(err) {\n",
       "      outputDiv.innerHTML = `<div class=\"error\" style=\"color:red;\">${err}</div>`;\n",
       "      throw err;\n",
       "    }\n",
       "\n",
       "    function displayChart(vegaEmbed) {\n",
       "      vegaEmbed(outputDiv, spec, embedOpt)\n",
       "        .catch(err => showError(`Javascript Error: ${err.message}<br>This usually means there's a typo in your chart specification. See the javascript console for the full traceback.`));\n",
       "    }\n",
       "\n",
       "    if(typeof define === \"function\" && define.amd) {\n",
       "      requirejs.config({paths});\n",
       "      require([\"vega-embed\"], displayChart, err => showError(`Error loading script: ${err.message}`));\n",
       "    } else {\n",
       "      maybeLoadScript(\"vega\", \"5\")\n",
       "        .then(() => maybeLoadScript(\"vega-lite\", \"5.17.0\"))\n",
       "        .then(() => maybeLoadScript(\"vega-embed\", \"6\"))\n",
       "        .catch(showError)\n",
       "        .then(() => displayChart(vegaEmbed));\n",
       "    }\n",
       "  })({\"config\": {\"view\": {\"continuousWidth\": 300, \"continuousHeight\": 300, \"strokeOpacity\": 0}, \"axis\": {\"grid\": false}}, \"layer\": [{\"mark\": {\"type\": \"point\", \"size\": 60}, \"encoding\": {\"color\": {\"field\": \"Class\", \"type\": \"nominal\"}, \"shape\": {\"field\": \"Class\", \"type\": \"nominal\"}, \"tooltip\": [{\"field\": \"Feature 1\", \"type\": \"quantitative\"}, {\"field\": \"Feature 2\", \"type\": \"quantitative\"}, {\"field\": \"Class\", \"type\": \"nominal\"}], \"x\": {\"field\": \"Feature 1\", \"type\": \"quantitative\"}, \"y\": {\"field\": \"Feature 2\", \"type\": \"quantitative\"}}, \"name\": \"view_1\"}, {\"mark\": {\"type\": \"point\", \"filled\": true, \"size\": 100, \"stroke\": \"black\"}, \"encoding\": {\"color\": {\"field\": \"Class\", \"type\": \"nominal\"}, \"opacity\": {\"condition\": {\"param\": \"param_1\", \"value\": 1}, \"value\": 0.2}, \"shape\": {\"field\": \"Class\", \"type\": \"nominal\"}, \"x\": {\"field\": \"Feature 1\", \"type\": \"quantitative\"}, \"y\": {\"field\": \"Feature 2\", \"type\": \"quantitative\"}}, \"transform\": [{\"filter\": {\"param\": \"param_1\"}}]}, {\"data\": {\"name\": \"data-3fed6d7f9eef9dd25bc271f56c6f7324\"}, \"mark\": {\"type\": \"line\", \"color\": \"black\", \"strokeDash\": [5, 5]}, \"encoding\": {\"x\": {\"field\": \"x\", \"type\": \"quantitative\"}, \"y\": {\"field\": \"y\", \"type\": \"quantitative\"}}}, {\"data\": {\"name\": \"data-a5fa87014fad2dcaf3ce0689fdfcee73\"}, \"mark\": {\"type\": \"point\", \"filled\": true, \"size\": 100}, \"encoding\": {\"color\": {\"field\": \"Class\", \"type\": \"nominal\"}, \"shape\": {\"field\": \"Class\", \"type\": \"nominal\"}, \"x\": {\"field\": \"Feature 1\", \"type\": \"quantitative\"}, \"y\": {\"field\": \"Feature 2\", \"type\": \"quantitative\"}}}], \"data\": {\"name\": \"data-c4fd58814be19e84d5304ccad2c21714\"}, \"height\": 400, \"params\": [{\"name\": \"param_1\", \"select\": {\"type\": \"point\", \"fields\": [\"Feature 1\", \"Feature 2\"], \"nearest\": true, \"on\": \"mouseover\"}, \"views\": [\"view_1\"]}, {\"name\": \"param_2\", \"select\": {\"type\": \"interval\", \"encodings\": [\"x\", \"y\"]}, \"bind\": \"scales\", \"views\": [\"view_1\"]}], \"title\": \"Robust Chance Constrained SVM\", \"width\": 600, \"$schema\": \"https://vega.github.io/schema/vega-lite/v5.17.0.json\", \"datasets\": {\"data-c4fd58814be19e84d5304ccad2c21714\": [{\"Feature 1\": -1.100846142626802, \"Feature 2\": -1.7126025562768774, \"Class\": \"Class 1\"}, {\"Feature 1\": 0.993894466099579, \"Feature 2\": -0.07907415605659175, \"Class\": \"Class 1\"}, {\"Feature 1\": 0.4013043568161029, \"Feature 2\": -1.90023434006418, \"Class\": \"Class 1\"}, {\"Feature 1\": -1.1304478621858642, \"Feature 2\": -1.891654763080967, \"Class\": \"Class 1\"}, {\"Feature 1\": -0.15161077424716604, \"Feature 2\": -0.4009811497245761, \"Class\": \"Class 1\"}, {\"Feature 1\": -0.23615226180697912, \"Feature 2\": -2.2962929713046334, \"Class\": \"Class 1\"}, {\"Feature 1\": 0.47124866662705533, \"Feature 2\": 0.08719431195863965, \"Class\": \"Class 1\"}, {\"Feature 1\": -0.4319275054399895, \"Feature 2\": -1.5318187727540205, \"Class\": \"Class 1\"}, {\"Feature 1\": 0.588256417028379, \"Feature 2\": -0.2896020008929929, \"Class\": \"Class 1\"}, {\"Feature 1\": -0.3279657839025364, \"Feature 2\": 0.2548494298132859, \"Class\": \"Class 1\"}, {\"Feature 1\": 0.3808023124389096, \"Feature 2\": 1.5255260222785239, \"Class\": \"Class 1\"}, {\"Feature 1\": -1.0320476373006129, \"Feature 2\": -0.5295532983987444, \"Class\": \"Class 1\"}, {\"Feature 1\": -0.43830020762615945, \"Feature 2\": -1.1220280668004925, \"Class\": \"Class 1\"}, {\"Feature 1\": 0.5743107743054824, \"Feature 2\": -0.3614586599535865, \"Class\": \"Class 1\"}, {\"Feature 1\": -0.033179851041934744, \"Feature 2\": 0.4971756156962513, \"Class\": \"Class 1\"}, {\"Feature 1\": 0.7973725452227478, \"Feature 2\": 0.4006190183667703, \"Class\": \"Class 1\"}, {\"Feature 1\": 1.0177118358400787, \"Feature 2\": 0.17250619434135903, \"Class\": \"Class 1\"}, {\"Feature 1\": 0.587648500956149, \"Feature 2\": 0.5749839020372476, \"Class\": \"Class 1\"}, {\"Feature 1\": 0.8504112969208523, \"Feature 2\": 1.0848269947379443, \"Class\": \"Class 1\"}, {\"Feature 1\": -1.8084529309225337, \"Feature 2\": -1.0664087703451979, \"Class\": \"Class 1\"}, {\"Feature 1\": 0.6099489437365965, \"Feature 2\": -0.27768002034823985, \"Class\": \"Class 1\"}, {\"Feature 1\": -0.1991692374774119, \"Feature 2\": 1.4932853635503347, \"Class\": \"Class 1\"}, {\"Feature 1\": 0.27449701693938544, \"Feature 2\": -0.362498629629968, \"Class\": \"Class 1\"}, {\"Feature 1\": -1.215465227937265, \"Feature 2\": 0.8847899085415774, \"Class\": \"Class 1\"}, {\"Feature 1\": -0.4126622601949277, \"Feature 2\": 0.20454084951249163, \"Class\": \"Class 1\"}, {\"Feature 1\": -0.08383019929709029, \"Feature 2\": -0.436080045790609, \"Class\": \"Class 1\"}, {\"Feature 1\": 1.1641211449796318, \"Feature 2\": 0.8147784225667543, \"Class\": \"Class 1\"}, {\"Feature 1\": -0.11240388278446586, \"Feature 2\": 0.4742193083977318, \"Class\": \"Class 1\"}, {\"Feature 1\": -1.1921319904208936, \"Feature 2\": -0.26102990911733603, \"Class\": \"Class 1\"}, {\"Feature 1\": -0.6898964608044014, \"Feature 2\": 0.1952447034663269, \"Class\": \"Class 1\"}, {\"Feature 1\": 0.026893703849131367, \"Feature 2\": 1.2797618590824194, \"Class\": \"Class 1\"}, {\"Feature 1\": -0.29516383728922785, \"Feature 2\": -0.5932566723919435, \"Class\": \"Class 1\"}, {\"Feature 1\": -0.38528326860063355, \"Feature 2\": -0.4608549816216892, \"Class\": \"Class 1\"}, {\"Feature 1\": -1.7399282054130585, \"Feature 2\": -0.2201113889908592, \"Class\": \"Class 1\"}, {\"Feature 1\": -1.1945156562001509, \"Feature 2\": -2.5910119916882883, \"Class\": \"Class 1\"}, {\"Feature 1\": 1.5028721729310681, \"Feature 2\": 0.9984063099846165, \"Class\": \"Class 1\"}, {\"Feature 1\": -0.576680628247148, \"Feature 2\": 0.29948829286907697, \"Class\": \"Class 1\"}, {\"Feature 1\": 0.7377527252786104, \"Feature 2\": -1.2844484905453928, \"Class\": \"Class 1\"}, {\"Feature 1\": -0.14880686762672207, \"Feature 2\": 0.6791677749805242, \"Class\": \"Class 1\"}, {\"Feature 1\": -0.580273476258626, \"Feature 2\": 0.1817377040533988, \"Class\": \"Class 1\"}, {\"Feature 1\": 0.29292085394177936, \"Feature 2\": 0.09216278501178186, \"Class\": \"Class 1\"}, {\"Feature 1\": -0.3665927275653436, \"Feature 2\": 0.043458919642912784, \"Class\": \"Class 1\"}, {\"Feature 1\": -0.23123691809685637, \"Feature 2\": -0.1122282722893975, \"Class\": \"Class 1\"}, {\"Feature 1\": 0.3920286841259928, \"Feature 2\": 0.7695924704469121, \"Class\": \"Class 1\"}, {\"Feature 1\": -0.6702422693558525, \"Feature 2\": 0.4592416385560673, \"Class\": \"Class 1\"}, {\"Feature 1\": -1.1308715497880577, \"Feature 2\": -0.9457151323041135, \"Class\": \"Class 1\"}, {\"Feature 1\": 0.6443715041631253, \"Feature 2\": 0.005641096708902711, \"Class\": \"Class 1\"}, {\"Feature 1\": -0.4054269031530831, \"Feature 2\": -0.3280868348045236, \"Class\": \"Class 1\"}, {\"Feature 1\": 0.2759875898120806, \"Feature 2\": 0.31958444664632757, \"Class\": \"Class 1\"}, {\"Feature 1\": 0.18792046419076186, \"Feature 2\": 0.8859524982629808, \"Class\": \"Class 1\"}, {\"Feature 1\": -0.2250291565403988, \"Feature 2\": 0.9994785482651002, \"Class\": \"Class 1\"}, {\"Feature 1\": -0.6462232736240571, \"Feature 2\": -0.05264475038699006, \"Class\": \"Class 1\"}, {\"Feature 1\": 0.8635302567869166, \"Feature 2\": 1.0329126898455847, \"Class\": \"Class 1\"}, {\"Feature 1\": -0.1644903986818549, \"Feature 2\": -1.1181910004897895, \"Class\": \"Class 1\"}, {\"Feature 1\": 0.21424471580999752, \"Feature 2\": 0.24685926250335605, \"Class\": \"Class 1\"}, {\"Feature 1\": 1.031574785688957, \"Feature 2\": 1.3467341777312487, \"Class\": \"Class 1\"}, {\"Feature 1\": -0.30303864607533737, \"Feature 2\": -1.1625545869073237, \"Class\": \"Class 1\"}, {\"Feature 1\": 0.3525599829011211, \"Feature 2\": -0.9597234283363107, \"Class\": \"Class 1\"}, {\"Feature 1\": 0.8413974713884238, \"Feature 2\": -0.7743748833148711, \"Class\": \"Class 1\"}, {\"Feature 1\": -1.1756264925542246, \"Feature 2\": -0.7667259546173967, \"Class\": \"Class 1\"}, {\"Feature 1\": 0.40889971873684444, \"Feature 2\": -0.3662619004323152, \"Class\": \"Class 1\"}, {\"Feature 1\": -2.086655868365945, \"Feature 2\": -0.11955411911120994, \"Class\": \"Class 1\"}, {\"Feature 1\": 0.9909774791552524, \"Feature 2\": 2.2271415096080727, \"Class\": \"Class 1\"}, {\"Feature 1\": -1.5785927490030651, \"Feature 2\": -1.2405810524285892, \"Class\": \"Class 1\"}, {\"Feature 1\": 0.606923923176838, \"Feature 2\": 1.4702692407208593, \"Class\": \"Class 1\"}, {\"Feature 1\": 0.45864189155666146, \"Feature 2\": -0.14527873623659585, \"Class\": \"Class 1\"}, {\"Feature 1\": 0.7899928456312066, \"Feature 2\": 1.340530341607422, \"Class\": \"Class 1\"}, {\"Feature 1\": -0.37482552134098257, \"Feature 2\": -0.9983562510207742, \"Class\": \"Class 1\"}, {\"Feature 1\": 0.12133836229698136, \"Feature 2\": -1.0230030273261614, \"Class\": \"Class 1\"}, {\"Feature 1\": -0.7177156731174608, \"Feature 2\": -0.671148374693315, \"Class\": \"Class 1\"}, {\"Feature 1\": 0.21244709831460495, \"Feature 2\": 0.11070122578545968, \"Class\": \"Class 1\"}, {\"Feature 1\": -1.12768330489622, \"Feature 2\": -0.3772716650312116, \"Class\": \"Class 1\"}, {\"Feature 1\": -0.5273810263111067, \"Feature 2\": -0.3896798163137206, \"Class\": \"Class 1\"}, {\"Feature 1\": -0.3765852047228238, \"Feature 2\": 0.24179505727570072, \"Class\": \"Class 1\"}, {\"Feature 1\": -0.5426218979226941, \"Feature 2\": 0.13992950894179115, \"Class\": \"Class 1\"}, {\"Feature 1\": 1.4859878860598745, \"Feature 2\": -0.9488498780472645, \"Class\": \"Class 1\"}, {\"Feature 1\": -1.9931383187736365, \"Feature 2\": 0.19384132820062153, \"Class\": \"Class 1\"}, {\"Feature 1\": -0.3321552038158255, \"Feature 2\": -0.4323104370993252, \"Class\": \"Class 1\"}, {\"Feature 1\": 0.17769170831423126, \"Feature 2\": 0.05863752053942135, \"Class\": \"Class 1\"}, {\"Feature 1\": 0.5459323745207846, \"Feature 2\": -0.576086354226104, \"Class\": \"Class 1\"}, {\"Feature 1\": 0.9463303505401923, \"Feature 2\": -0.050696477110070914, \"Class\": \"Class 1\"}, {\"Feature 1\": -0.06714581801664227, \"Feature 2\": -0.363786970387505, \"Class\": \"Class 1\"}, {\"Feature 1\": -0.34151400693538914, \"Feature 2\": -0.5162171666778901, \"Class\": \"Class 1\"}, {\"Feature 1\": -0.960958279967412, \"Feature 2\": -0.7474243786319701, \"Class\": \"Class 1\"}, {\"Feature 1\": -0.9490211559059274, \"Feature 2\": -2.84538207879702, \"Class\": \"Class 1\"}, {\"Feature 1\": 0.10950284033649299, \"Feature 2\": 1.010989731985204, \"Class\": \"Class 1\"}, {\"Feature 1\": -2.0652769022778568, \"Feature 2\": -2.313911679993317, \"Class\": \"Class 1\"}, {\"Feature 1\": 0.07533866380662826, \"Feature 2\": -0.15097557870697692, \"Class\": \"Class 1\"}, {\"Feature 1\": -1.0094217518123225, \"Feature 2\": -1.2967296152883412, \"Class\": \"Class 1\"}, {\"Feature 1\": -0.42905695823271833, \"Feature 2\": -0.7488585571313896, \"Class\": \"Class 1\"}, {\"Feature 1\": 0.9452943496196187, \"Feature 2\": 1.2588420700830507, \"Class\": \"Class 1\"}, {\"Feature 1\": -1.0823837724996566, \"Feature 2\": 0.21084211003260542, \"Class\": \"Class 1\"}, {\"Feature 1\": 0.4043309625060274, \"Feature 2\": -0.21303110120633362, \"Class\": \"Class 1\"}, {\"Feature 1\": -0.6077339520525319, \"Feature 2\": -0.36699685981479946, \"Class\": \"Class 1\"}, {\"Feature 1\": -0.20650673486968518, \"Feature 2\": -0.2796194386169629, \"Class\": \"Class 1\"}, {\"Feature 1\": -1.1896290367933744, \"Feature 2\": -0.8201363204176504, \"Class\": \"Class 1\"}, {\"Feature 1\": -2.205011176242798, \"Feature 2\": -1.0939544776822927, \"Class\": \"Class 1\"}, {\"Feature 1\": 0.2429653045263922, \"Feature 2\": -1.3844730360898652, \"Class\": \"Class 1\"}, {\"Feature 1\": -0.7317648997487043, \"Feature 2\": -0.31148269610164464, \"Class\": \"Class 1\"}, {\"Feature 1\": -1.2245257972429946, \"Feature 2\": -0.1800837025357357, \"Class\": \"Class 1\"}, {\"Feature 1\": 3.688727434859697, \"Feature 2\": 2.949544572628258, \"Class\": \"Class 2\"}, {\"Feature 1\": 4.275541014823374, \"Feature 2\": 3.238701030851827, \"Class\": \"Class 2\"}, {\"Feature 1\": 3.5460870132138718, \"Feature 2\": 1.0900894923296478, \"Class\": \"Class 2\"}, {\"Feature 1\": 4.176979115052857, \"Feature 2\": 1.1331994956800415, \"Class\": \"Class 2\"}, {\"Feature 1\": 4.789359518777433, \"Feature 2\": 2.725812684804941, \"Class\": \"Class 2\"}, {\"Feature 1\": 2.7810015666200925, \"Feature 2\": 2.1789662390569657, \"Class\": \"Class 2\"}, {\"Feature 1\": 1.7454299155920314, \"Feature 2\": 3.800250594966367, \"Class\": \"Class 2\"}, {\"Feature 1\": 4.479533427292213, \"Feature 2\": 2.1988884888569666, \"Class\": \"Class 2\"}, {\"Feature 1\": 2.256830471063675, \"Feature 2\": 3.4062535310548814, \"Class\": \"Class 2\"}, {\"Feature 1\": 1.7523130660546662, \"Feature 2\": 4.347688587583075, \"Class\": \"Class 2\"}, {\"Feature 1\": 1.703956835157648, \"Feature 2\": 4.685464577531004, \"Class\": \"Class 2\"}, {\"Feature 1\": 1.6052237839266603, \"Feature 2\": 4.479519180330513, \"Class\": \"Class 2\"}, {\"Feature 1\": 5.073185168101945, \"Feature 2\": 2.824087629205526, \"Class\": \"Class 2\"}, {\"Feature 1\": 3.426169347379315, \"Feature 2\": 2.419811506307851, \"Class\": \"Class 2\"}, {\"Feature 1\": 3.566961184039221, \"Feature 2\": 2.275490153250625, \"Class\": \"Class 2\"}, {\"Feature 1\": 2.854438322106106, \"Feature 2\": 3.3018986622021105, \"Class\": \"Class 2\"}, {\"Feature 1\": 3.0846692968442606, \"Feature 2\": 4.303530482581996, \"Class\": \"Class 2\"}, {\"Feature 1\": 2.633477240288584, \"Feature 2\": 2.411351545262005, \"Class\": \"Class 2\"}, {\"Feature 1\": 3.8321978368371243, \"Feature 2\": 1.6521109308333635, \"Class\": \"Class 2\"}, {\"Feature 1\": 4.8630649448732735, \"Feature 2\": 1.7760004091620512, \"Class\": \"Class 2\"}, {\"Feature 1\": 3.338886245723543, \"Feature 2\": 2.420225825898934, \"Class\": \"Class 2\"}, {\"Feature 1\": 2.460835096468394, \"Feature 2\": 2.457347374445358, \"Class\": \"Class 2\"}, {\"Feature 1\": 4.055409098245216, \"Feature 2\": 2.4672202022515277, \"Class\": \"Class 2\"}, {\"Feature 1\": 2.2580953478030312, \"Feature 2\": 3.398625150774937, \"Class\": \"Class 2\"}, {\"Feature 1\": 0.8250634241978614, \"Feature 2\": 4.163524850649982, \"Class\": \"Class 2\"}, {\"Feature 1\": 3.2286586440414804, \"Feature 2\": 2.5925336597972253, \"Class\": \"Class 2\"}, {\"Feature 1\": 6.3254988159781025, \"Feature 2\": 1.175304549608316, \"Class\": \"Class 2\"}, {\"Feature 1\": 2.2576908426064293, \"Feature 2\": 2.9331737014427754, \"Class\": \"Class 2\"}, {\"Feature 1\": 1.3357374427131443, \"Feature 2\": 5.117914391921689, \"Class\": \"Class 2\"}, {\"Feature 1\": 2.368906996909473, \"Feature 2\": 3.1609140656098553, \"Class\": \"Class 2\"}, {\"Feature 1\": 2.3111740416989788, \"Feature 2\": 2.5070390670224674, \"Class\": \"Class 2\"}, {\"Feature 1\": 2.1220028204680514, \"Feature 2\": 3.587958504919609, \"Class\": \"Class 2\"}, {\"Feature 1\": 3.341967515497183, \"Feature 2\": 3.5891401770082396, \"Class\": \"Class 2\"}, {\"Feature 1\": 2.839128417809779, \"Feature 2\": 3.3641779912303895, \"Class\": \"Class 2\"}, {\"Feature 1\": 2.461085365664795, \"Feature 2\": 2.970924892308535, \"Class\": \"Class 2\"}, {\"Feature 1\": 2.8269821456032345, \"Feature 2\": 4.368498681069417, \"Class\": \"Class 2\"}, {\"Feature 1\": 2.6431394583616292, \"Feature 2\": 4.0423079619052995, \"Class\": \"Class 2\"}, {\"Feature 1\": 3.472721050298924, \"Feature 2\": 1.8550938572533906, \"Class\": \"Class 2\"}, {\"Feature 1\": 4.8056716185037525, \"Feature 2\": 2.148827505822544, \"Class\": \"Class 2\"}, {\"Feature 1\": 3.7764994866073147, \"Feature 2\": 3.307814968696324, \"Class\": \"Class 2\"}, {\"Feature 1\": 3.5514404515896407, \"Feature 2\": 2.109666547548111, \"Class\": \"Class 2\"}, {\"Feature 1\": 3.268898493657912, \"Feature 2\": 3.444853660398082, \"Class\": \"Class 2\"}, {\"Feature 1\": 3.0257593529154208, \"Feature 2\": 3.1377771791079807, \"Class\": \"Class 2\"}, {\"Feature 1\": 3.0533868448236228, \"Feature 2\": 3.0838621731326277, \"Class\": \"Class 2\"}, {\"Feature 1\": 4.060677427944934, \"Feature 2\": 2.002008434920337, \"Class\": \"Class 2\"}, {\"Feature 1\": 3.1500093057348155, \"Feature 2\": 2.8059746406396306, \"Class\": \"Class 2\"}, {\"Feature 1\": 2.282462613033676, \"Feature 2\": 3.190286366115356, \"Class\": \"Class 2\"}, {\"Feature 1\": 2.962744789587645, \"Feature 2\": 2.806919686456623, \"Class\": \"Class 2\"}, {\"Feature 1\": 2.919206927499253, \"Feature 2\": 3.6886738048958936, \"Class\": \"Class 2\"}, {\"Feature 1\": 4.107780702410459, \"Feature 2\": 2.346063565995469, \"Class\": \"Class 2\"}, {\"Feature 1\": 0.5256652566700892, \"Feature 2\": 4.334781488648419, \"Class\": \"Class 2\"}, {\"Feature 1\": 3.4243344316813014, \"Feature 2\": 1.8935730924707437, \"Class\": \"Class 2\"}, {\"Feature 1\": 3.885842133500529, \"Feature 2\": 3.3712113631610263, \"Class\": \"Class 2\"}, {\"Feature 1\": 2.718635768152898, \"Feature 2\": 2.7432568867942253, \"Class\": \"Class 2\"}, {\"Feature 1\": 2.1944221988537125, \"Feature 2\": 3.340971209182859, \"Class\": \"Class 2\"}, {\"Feature 1\": 2.082494579138633, \"Feature 2\": 4.153964253463584, \"Class\": \"Class 2\"}, {\"Feature 1\": 1.463471137395014, \"Feature 2\": 4.024253814636628, \"Class\": \"Class 2\"}, {\"Feature 1\": 0.525048062907699, \"Feature 2\": 6.113672441150955, \"Class\": \"Class 2\"}, {\"Feature 1\": 2.376681717726266, \"Feature 2\": 3.583667881253195, \"Class\": \"Class 2\"}, {\"Feature 1\": 3.33288212611469, \"Feature 2\": 1.9949471465259903, \"Class\": \"Class 2\"}, {\"Feature 1\": 2.8165836401518947, \"Feature 2\": 2.565853839518255, \"Class\": \"Class 2\"}, {\"Feature 1\": 2.419439710803937, \"Feature 2\": 2.9406679700181853, \"Class\": \"Class 2\"}, {\"Feature 1\": 2.7976943864981627, \"Feature 2\": 3.942914300906318, \"Class\": \"Class 2\"}, {\"Feature 1\": 4.112678121542107, \"Feature 2\": 2.8111725339914018, \"Class\": \"Class 2\"}, {\"Feature 1\": 3.6668126997816444, \"Feature 2\": 3.2280694487973296, \"Class\": \"Class 2\"}, {\"Feature 1\": 3.030706478021364, \"Feature 2\": 3.838645301729604, \"Class\": \"Class 2\"}, {\"Feature 1\": 3.8778456997415938, \"Feature 2\": 2.0394320338041996, \"Class\": \"Class 2\"}, {\"Feature 1\": 1.4224836986952842, \"Feature 2\": 4.098787017622058, \"Class\": \"Class 2\"}, {\"Feature 1\": 4.125845172023464, \"Feature 2\": 0.36943171830033394, \"Class\": \"Class 2\"}, {\"Feature 1\": 4.492011936617672, \"Feature 2\": -0.12963626876495704, \"Class\": \"Class 2\"}, {\"Feature 1\": 3.8746843537883544, \"Feature 2\": 3.115659240712543, \"Class\": \"Class 2\"}, {\"Feature 1\": 3.5330168555329204, \"Feature 2\": 2.7175863549752606, \"Class\": \"Class 2\"}, {\"Feature 1\": 3.1047181356788625, \"Feature 2\": 2.9019038489814095, \"Class\": \"Class 2\"}, {\"Feature 1\": 3.087611910794997, \"Feature 2\": 2.777468574656699, \"Class\": \"Class 2\"}, {\"Feature 1\": 2.11937157762337, \"Feature 2\": 2.969716161992485, \"Class\": \"Class 2\"}, {\"Feature 1\": 2.425030171472349, \"Feature 2\": 4.2876126552638025, \"Class\": \"Class 2\"}, {\"Feature 1\": 3.491761514512291, \"Feature 2\": 3.1320935493269504, \"Class\": \"Class 2\"}, {\"Feature 1\": 3.438542029308424, \"Feature 2\": 2.145326805757901, \"Class\": \"Class 2\"}, {\"Feature 1\": 2.7822595623115034, \"Feature 2\": 3.070395865238062, \"Class\": \"Class 2\"}, {\"Feature 1\": 3.153278018648385, \"Feature 2\": 2.3258459702695498, \"Class\": \"Class 2\"}, {\"Feature 1\": 3.877723227776409, \"Feature 2\": 2.8497537533338977, \"Class\": \"Class 2\"}, {\"Feature 1\": 4.92817613362916, \"Feature 2\": 1.34486482693772, \"Class\": \"Class 2\"}, {\"Feature 1\": 3.499865055323022, \"Feature 2\": 3.0638968576056924, \"Class\": \"Class 2\"}, {\"Feature 1\": 1.4474546266805477, \"Feature 2\": 2.3972034426258735, \"Class\": \"Class 2\"}, {\"Feature 1\": 2.5865733327377516, \"Feature 2\": 3.664608416158197, \"Class\": \"Class 2\"}, {\"Feature 1\": 2.7983268720511223, \"Feature 2\": 2.8386399508993283, \"Class\": \"Class 2\"}, {\"Feature 1\": 2.0533480201600565, \"Feature 2\": 3.6267208522386687, \"Class\": \"Class 2\"}, {\"Feature 1\": 1.5270584674738783, \"Feature 2\": 4.910110612569015, \"Class\": \"Class 2\"}, {\"Feature 1\": 0.7247839002241334, \"Feature 2\": 4.666744082185502, \"Class\": \"Class 2\"}, {\"Feature 1\": 4.895720271093212, \"Feature 2\": 1.6579533703277616, \"Class\": \"Class 2\"}, {\"Feature 1\": 2.227540606102286, \"Feature 2\": 3.799849207300385, \"Class\": \"Class 2\"}, {\"Feature 1\": 4.245228214847273, \"Feature 2\": 1.4078336669023221, \"Class\": \"Class 2\"}, {\"Feature 1\": 2.3589143054034962, \"Feature 2\": 3.4984233261919777, \"Class\": \"Class 2\"}, {\"Feature 1\": 3.038978091028042, \"Feature 2\": 2.8251119762580186, \"Class\": \"Class 2\"}, {\"Feature 1\": 3.654588884075408, \"Feature 2\": 1.9325353467022266, \"Class\": \"Class 2\"}, {\"Feature 1\": 4.999947055685153, \"Feature 2\": 2.369508831628914, \"Class\": \"Class 2\"}, {\"Feature 1\": 3.623249763628426, \"Feature 2\": 2.746705492403273, \"Class\": \"Class 2\"}, {\"Feature 1\": 4.249851753696978, \"Feature 2\": 2.36558717431632, \"Class\": \"Class 2\"}, {\"Feature 1\": 5.083521792946849, \"Feature 2\": 1.6295836111518753, \"Class\": \"Class 2\"}, {\"Feature 1\": 3.850041437879823, \"Feature 2\": 3.7848262067235297, \"Class\": \"Class 2\"}], \"data-3fed6d7f9eef9dd25bc271f56c6f7324\": [{\"x\": -5.0, \"y\": 7.320719682822018}, {\"x\": -4.878787878787879, \"y\": 7.212861791026226}, {\"x\": -4.757575757575758, \"y\": 7.105003899230434}, {\"x\": -4.636363636363637, \"y\": 6.997146007434642}, {\"x\": -4.515151515151516, \"y\": 6.88928811563885}, {\"x\": -4.393939393939394, \"y\": 6.781430223843057}, {\"x\": -4.2727272727272725, \"y\": 6.673572332047264}, {\"x\": -4.151515151515151, \"y\": 6.565714440251473}, {\"x\": -4.03030303030303, \"y\": 6.4578565484556805}, {\"x\": -3.909090909090909, \"y\": 6.3499986566598885}, {\"x\": -3.787878787878788, \"y\": 6.2421407648640965}, {\"x\": -3.6666666666666665, \"y\": 6.134282873068303}, {\"x\": -3.5454545454545454, \"y\": 6.026424981272511}, {\"x\": -3.4242424242424243, \"y\": 5.918567089476719}, {\"x\": -3.3030303030303028, \"y\": 5.810709197680926}, {\"x\": -3.1818181818181817, \"y\": 5.702851305885135}, {\"x\": -3.0606060606060606, \"y\": 5.594993414089342}, {\"x\": -2.9393939393939394, \"y\": 5.48713552229355}, {\"x\": -2.8181818181818183, \"y\": 5.379277630497758}, {\"x\": -2.696969696969697, \"y\": 5.271419738701965}, {\"x\": -2.5757575757575757, \"y\": 5.163561846906173}, {\"x\": -2.4545454545454546, \"y\": 5.055703955110381}, {\"x\": -2.333333333333333, \"y\": 4.947846063314588}, {\"x\": -2.212121212121212, \"y\": 4.8399881715187965}, {\"x\": -2.090909090909091, \"y\": 4.7321302797230045}, {\"x\": -1.9696969696969697, \"y\": 4.6242723879272125}, {\"x\": -1.8484848484848486, \"y\": 4.5164144961314205}, {\"x\": -1.727272727272727, \"y\": 4.408556604335628}, {\"x\": -1.606060606060606, \"y\": 4.300698712539836}, {\"x\": -1.4848484848484849, \"y\": 4.192840820744044}, {\"x\": -1.3636363636363633, \"y\": 4.084982928948251}, {\"x\": -1.2424242424242422, \"y\": 3.977125037152459}, {\"x\": -1.121212121212121, \"y\": 3.869267145356667}, {\"x\": -1.0, \"y\": 3.761409253560875}, {\"x\": -0.8787878787878789, \"y\": 3.653551361765083}, {\"x\": -0.7575757575757578, \"y\": 3.5456934699692906}, {\"x\": -0.6363636363636367, \"y\": 3.4378355781734986}, {\"x\": -0.5151515151515147, \"y\": 3.3299776863777057}, {\"x\": -0.3939393939393936, \"y\": 3.2221197945819133}, {\"x\": -0.2727272727272725, \"y\": 3.1142619027861214}, {\"x\": -0.15151515151515138, \"y\": 3.0064040109903294}, {\"x\": -0.030303030303030276, \"y\": 2.8985461191945374}, {\"x\": 0.09090909090909083, \"y\": 2.790688227398745}, {\"x\": 0.21212121212121193, \"y\": 2.682830335602953}, {\"x\": 0.3333333333333339, \"y\": 2.57497244380716}, {\"x\": 0.45454545454545503, \"y\": 2.467114552011368}, {\"x\": 0.5757575757575761, \"y\": 2.359256660215576}, {\"x\": 0.6969696969696972, \"y\": 2.251398768419784}, {\"x\": 0.8181818181818183, \"y\": 2.143540876623992}, {\"x\": 0.9393939393939394, \"y\": 2.0356829848281994}, {\"x\": 1.0606060606060606, \"y\": 1.9278250930324075}, {\"x\": 1.1818181818181817, \"y\": 1.8199672012366155}, {\"x\": 1.3030303030303028, \"y\": 1.7121093094408233}, {\"x\": 1.4242424242424248, \"y\": 1.6042514176450302}, {\"x\": 1.5454545454545459, \"y\": 1.496393525849238}, {\"x\": 1.666666666666667, \"y\": 1.388535634053446}, {\"x\": 1.787878787878788, \"y\": 1.2806777422576539}, {\"x\": 1.9090909090909092, \"y\": 1.1728198504618617}, {\"x\": 2.0303030303030303, \"y\": 1.0649619586660697}, {\"x\": 2.1515151515151514, \"y\": 0.9571040668702775}, {\"x\": 2.2727272727272734, \"y\": 0.8492461750744846}, {\"x\": 2.3939393939393945, \"y\": 0.7413882832786927}, {\"x\": 2.5151515151515156, \"y\": 0.6335303914829005}, {\"x\": 2.6363636363636367, \"y\": 0.5256724996871085}, {\"x\": 2.757575757575758, \"y\": 0.417814607891316}, {\"x\": 2.878787878787879, \"y\": 0.30995671609552405}, {\"x\": 3.0, \"y\": 0.20209882429973208}, {\"x\": 3.121212121212121, \"y\": 0.09424093250393964}, {\"x\": 3.242424242424242, \"y\": -0.013616959291852327}, {\"x\": 3.3636363636363633, \"y\": -0.12147485108764429}, {\"x\": 3.4848484848484844, \"y\": -0.22933274288343675}, {\"x\": 3.6060606060606055, \"y\": -0.3371906346792287}, {\"x\": 3.7272727272727266, \"y\": -0.4450485264750207}, {\"x\": 3.8484848484848495, \"y\": -0.5529064182708145}, {\"x\": 3.9696969696969706, \"y\": -0.6607643100666065}, {\"x\": 4.090909090909092, \"y\": -0.7686222018623985}, {\"x\": 4.212121212121213, \"y\": -0.8764800936581909}, {\"x\": 4.333333333333334, \"y\": -0.9843379854539829}, {\"x\": 4.454545454545455, \"y\": -1.0921958772497748}, {\"x\": 4.575757575757576, \"y\": -1.2000537690455673}, {\"x\": 4.696969696969697, \"y\": -1.3079116608413592}, {\"x\": 4.818181818181818, \"y\": -1.4157695526371512}, {\"x\": 4.9393939393939394, \"y\": -1.5236274444329436}, {\"x\": 5.0606060606060606, \"y\": -1.6314853362287356}, {\"x\": 5.181818181818182, \"y\": -1.7393432280245276}, {\"x\": 5.303030303030303, \"y\": -1.8472011198203195}, {\"x\": 5.424242424242424, \"y\": -1.9550590116161115}, {\"x\": 5.545454545454545, \"y\": -2.0629169034119044}, {\"x\": 5.666666666666668, \"y\": -2.1707747952076972}, {\"x\": 5.787878787878789, \"y\": -2.2786326870034905}, {\"x\": 5.90909090909091, \"y\": -2.3864905787992825}, {\"x\": 6.030303030303031, \"y\": -2.4943484705950745}, {\"x\": 6.151515151515152, \"y\": -2.6022063623908664}, {\"x\": 6.272727272727273, \"y\": -2.7100642541866584}, {\"x\": 6.3939393939393945, \"y\": -2.8179221459824504}, {\"x\": 6.515151515151516, \"y\": -2.925780037778242}, {\"x\": 6.636363636363637, \"y\": -3.033637929574035}, {\"x\": 6.757575757575758, \"y\": -3.141495821369827}, {\"x\": 6.878787878787879, \"y\": -3.249353713165619}, {\"x\": 7.0, \"y\": -3.357211604961411}], \"data-a5fa87014fad2dcaf3ce0689fdfcee73\": [{\"Feature 1\": 0, \"Feature 2\": 0, \"Class\": \"Class 1\"}, {\"Feature 1\": 3, \"Feature 2\": 3, \"Class\": \"Class 2\"}]}}, {\"mode\": \"vega-lite\"});\n",
       "</script>"
      ],
      "text/plain": [
       "alt.LayerChart(...)"
      ]
     },
     "metadata": {},
     "output_type": "display_data"
    }
   ],
   "source": [
    "df = pd.DataFrame({\n",
    "    'Feature 1': np.vstack([DATA_1, DATA_2])[:, 0],\n",
    "    'Feature 2': np.vstack([DATA_1, DATA_2])[:, 1],\n",
    "    'Class': ['Class 1'] * M + ['Class 2'] * M\n",
    "})\n",
    "\n",
    "x_range = np.linspace(-5, 7, 100)\n",
    "y_range = - (w_opt[0] * x_range + b_opt) / w_opt[1]\n",
    "\n",
    "hyperplane_df = pd.DataFrame({'x': x_range, 'y': y_range})\n",
    "mean_df = pd.DataFrame({\n",
    "    'Feature 1': [MU_1[0], MU_2[0]],\n",
    "    'Feature 2': [MU_1[1], MU_2[1]],\n",
    "    'Class': ['Class 1', 'Class 2']\n",
    "})\n",
    "\n",
    "selection = alt.selection_point(on='mouseover', fields=['Feature 1', 'Feature 2'], nearest=True)\n",
    "\n",
    "base = alt.Chart(df).encode(\n",
    "    x='Feature 1',\n",
    "    y='Feature 2',\n",
    "    color='Class',\n",
    "    shape='Class'\n",
    ")\n",
    "\n",
    "points = base.mark_point(size=60).encode(\n",
    "    tooltip=['Feature 1:Q', 'Feature 2:Q', 'Class:N']\n",
    ").add_params(\n",
    "    selection\n",
    ")\n",
    "\n",
    "highlight = base.mark_point(size=100, filled=True, stroke='black').encode(\n",
    "    opacity=alt.condition(selection, alt.value(1), alt.value(0.2))\n",
    ").transform_filter(\n",
    "    selection\n",
    ")\n",
    "\n",
    "hyperplane = alt.Chart(hyperplane_df).mark_line(color='black', strokeDash=[5,5]).encode(\n",
    "    x='x:Q',\n",
    "    y='y:Q'\n",
    ")\n",
    "\n",
    "means = alt.Chart(mean_df).mark_point(size=100, filled=True).encode(\n",
    "    x='Feature 1',\n",
    "    y='Feature 2',\n",
    "    color='Class',\n",
    "    shape='Class'\n",
    ")\n",
    "\n",
    "chart = points + highlight + hyperplane + means\n",
    "\n",
    "chart = chart.properties(\n",
    "    width=600,\n",
    "    height=400,\n",
    "    title='Robust Chance Constrained SVM'\n",
    ").configure_axis(\n",
    "    grid=False\n",
    ").configure_view(\n",
    "    strokeOpacity=0\n",
    ").interactive() \n",
    "\n",
    "chart.show()"
   ]
  },
  {
   "cell_type": "markdown",
   "metadata": {},
   "source": [
    "## References\n",
    "\n",
    "1. Ali, A., Kolter, J. Z., Diamond, S., & Boyd, S. (2015). Disciplined convex stochastic programming: A new framework for stochastic optimization. Proceedings of the 31st Conference on Uncertainty in Artificial Intelligence.\n"
   ]
  }
 ],
 "metadata": {
  "kernelspec": {
   "display_name": "lropt_v1",
   "language": "python",
   "name": "python3"
  },
  "language_info": {
   "codemirror_mode": {
    "name": "ipython",
    "version": 3
   },
   "file_extension": ".py",
   "mimetype": "text/x-python",
   "name": "python",
   "nbconvert_exporter": "python",
   "pygments_lexer": "ipython3",
   "version": "3.12.2"
  }
 },
 "nbformat": 4,
 "nbformat_minor": 2
}
