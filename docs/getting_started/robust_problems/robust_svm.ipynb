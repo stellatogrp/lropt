{
 "cells": [
  {
   "cell_type": "markdown",
   "metadata": {},
   "source": [
    "# Robust SVM (WORK IN PROGRESS)"
   ]
  },
  {
   "cell_type": "markdown",
   "metadata": {},
   "source": [
    "Support Vector Machines (SVMs) are a set of supervised learning methods primarily used for classification. A Robust SVM is a variation of the standard SVM designed to handle data that is noisy or contains outliers more effectively. While the standard SVM focuses on finding a hyperplane that best separates classes by maximizing the margin between them, a Robust SVM aims to improve the model’s performance and stability in the presence of noise and outliers."
   ]
  },
  {
   "cell_type": "markdown",
   "metadata": {},
   "source": [
    "In this notebook, we will consider example 4.5 introduced in Ali, Kolter, Diamond, and Boyd (2015) [1]. Based on the data given, we can reformulate the optimization problem as:"
   ]
  },
  {
   "cell_type": "markdown",
   "metadata": {},
   "source": [
    "$$\n",
    "\\begin{aligned}\n",
    "& \\text{minimize} \\quad \\frac{1}{2} \\| w \\|^2 + C \\cdot \\vec{1}^T \\vec{\\xi} \\\\\n",
    "& \\text{subject to:} \\\\\n",
    "& w^T(x_i + u_x) + b \\geq 1 - \\xi _i\\\\\n",
    "&  w^T (x_i + u_y) + b \\geq 1 - \\xi_i, \\\\\n",
    "& \\vec{\\xi} \\geq \\vec{0}\n",
    "\n",
    "\\end{aligned}\n",
    "$$"
   ]
  },
  {
   "cell_type": "code",
   "execution_count": 1,
   "metadata": {},
   "outputs": [],
   "source": [
    "import numpy as np\n",
    "import cvxpy as cp\n",
    "import lropt\n",
    "import matplotlib.pyplot as plt\n",
    "from scipy.sparse import SparseEfficiencyWarning\n",
    "import warnings\n",
    "warnings.filterwarnings('ignore', category=UserWarning, module='cvxpy')\n",
    "warnings.filterwarnings('ignore', category=SparseEfficiencyWarning)"
   ]
  },
  {
   "cell_type": "code",
   "execution_count": 2,
   "metadata": {},
   "outputs": [],
   "source": [
    "np.random.seed(1)\n",
    "N=2\n",
    "M = 100\n",
    "C = 0.01 #Regularization Constant\n",
    "MU_1 = np.array([0, 0])           # Mean for class 1\n",
    "SIG_1 = np.array([[1, 0.5],       # Covariance for class 1\n",
    "                  [0.5, 1]])\n",
    "\n",
    "MU_2 = np.array([3, 3])           # Mean for class 2\n",
    "SIG_2 = np.array([[1, -0.7],      # Covariance for class 2\n",
    "                  [-0.7, 1]])\n",
    "\n",
    "DATA_1= np.random.multivariate_normal(MU_1, SIG_1, M)\n",
    "DATA_2= np.random.multivariate_normal(MU_2, SIG_2, M)\n",
    "\n",
    "B = [-0.01347606, -0.01514421] #mean attained in the certain case, you can replace with your own values\n"
   ]
  },
  {
   "cell_type": "code",
   "execution_count": 4,
   "metadata": {},
   "outputs": [],
   "source": [
    "np.random.seed(1)\n",
    "w = cp.Variable(N)\n",
    "b = cp.Variable()\n",
    "xi = cp.Variable(N)\n",
    "u = lropt.UncertainParameter(N, uncertainty_set = lropt.Ellipsoidal(p = 2,rho=0.1, b = B))\n"
   ]
  },
  {
   "cell_type": "code",
   "execution_count": 5,
   "metadata": {},
   "outputs": [
    {
     "ename": "NameError",
     "evalue": "name 'objective' is not defined",
     "output_type": "error",
     "traceback": [
      "\u001b[0;31m---------------------------------------------------------------------------\u001b[0m",
      "\u001b[0;31mNameError\u001b[0m                                 Traceback (most recent call last)",
      "Cell \u001b[0;32mIn[5], line 6\u001b[0m\n\u001b[1;32m      3\u001b[0m     constraints\u001b[38;5;241m.\u001b[39mappend(w\u001b[38;5;241m@\u001b[39m(DATA_1[i] \u001b[38;5;241m+\u001b[39m u) \u001b[38;5;241m+\u001b[39m b \u001b[38;5;241m>\u001b[39m\u001b[38;5;241m=\u001b[39m \u001b[38;5;241m1\u001b[39m \u001b[38;5;241m-\u001b[39m xi[i])\n\u001b[1;32m      4\u001b[0m     constraints\u001b[38;5;241m.\u001b[39mappend(\u001b[38;5;241m-\u001b[39m(w\u001b[38;5;241m@\u001b[39m(DATA_2[i]\u001b[38;5;241m+\u001b[39m u) \u001b[38;5;241m+\u001b[39m b) \u001b[38;5;241m>\u001b[39m\u001b[38;5;241m=\u001b[39m \u001b[38;5;241m1\u001b[39m \u001b[38;5;241m-\u001b[39m xi[i])\n\u001b[0;32m----> 6\u001b[0m prob \u001b[38;5;241m=\u001b[39m lropt\u001b[38;5;241m.\u001b[39mRobustProblem(\u001b[43mobjective\u001b[49m, constraints)\n\u001b[1;32m      7\u001b[0m prob\u001b[38;5;241m.\u001b[39msolve()\n",
      "\u001b[0;31mNameError\u001b[0m: name 'objective' is not defined"
     ]
    }
   ],
   "source": [
    "constraints = []\n",
    "for i in range(N):\n",
    "    constraints.append(w@(DATA_1[i] + u) + b >= 1 - xi[i])\n",
    "    constraints.append(-(w@(DATA_2[i]+ u) + b) >= 1 - xi[i])\n",
    "    \n",
    "prob = lropt.RobustProblem(objective, constraints)\n",
    "prob.solve()"
   ]
  },
  {
   "cell_type": "code",
   "execution_count": null,
   "metadata": {},
   "outputs": [],
   "source": [
    "w_opt = w.value\n",
    "b_opt = b.value"
   ]
  },
  {
   "cell_type": "code",
   "execution_count": null,
   "metadata": {},
   "outputs": [],
   "source": [
    "w.value"
   ]
  },
  {
   "cell_type": "code",
   "execution_count": null,
   "metadata": {},
   "outputs": [
    {
     "ename": "TypeError",
     "evalue": "'NoneType' object is not subscriptable",
     "output_type": "error",
     "traceback": [
      "\u001b[0;31m---------------------------------------------------------------------------\u001b[0m",
      "\u001b[0;31mTypeError\u001b[0m                                 Traceback (most recent call last)",
      "Cell \u001b[0;32mIn[10], line 3\u001b[0m\n\u001b[1;32m      1\u001b[0m x_range \u001b[38;5;241m=\u001b[39m np\u001b[38;5;241m.\u001b[39mlinspace(\u001b[38;5;241m-\u001b[39m\u001b[38;5;241m5\u001b[39m, \u001b[38;5;241m7\u001b[39m, \u001b[38;5;241m100\u001b[39m)  \n\u001b[0;32m----> 3\u001b[0m y_range \u001b[38;5;241m=\u001b[39m \u001b[38;5;241m-\u001b[39m (\u001b[43mw_opt\u001b[49m\u001b[43m[\u001b[49m\u001b[38;5;241;43m0\u001b[39;49m\u001b[43m]\u001b[49m \u001b[38;5;241m*\u001b[39m x_range \u001b[38;5;241m+\u001b[39m b_opt) \u001b[38;5;241m/\u001b[39m w_opt[\u001b[38;5;241m1\u001b[39m]\n\u001b[1;32m      6\u001b[0m plt\u001b[38;5;241m.\u001b[39mfigure(figsize\u001b[38;5;241m=\u001b[39m(\u001b[38;5;241m10\u001b[39m, \u001b[38;5;241m6\u001b[39m))\n\u001b[1;32m      8\u001b[0m plt\u001b[38;5;241m.\u001b[39mscatter(DATA_1[:, \u001b[38;5;241m0\u001b[39m], DATA_1[:, \u001b[38;5;241m1\u001b[39m], color\u001b[38;5;241m=\u001b[39m\u001b[38;5;124m'\u001b[39m\u001b[38;5;124mblue\u001b[39m\u001b[38;5;124m'\u001b[39m, label\u001b[38;5;241m=\u001b[39m\u001b[38;5;124m'\u001b[39m\u001b[38;5;124mClass 1\u001b[39m\u001b[38;5;124m'\u001b[39m)\n",
      "\u001b[0;31mTypeError\u001b[0m: 'NoneType' object is not subscriptable"
     ]
    }
   ],
   "source": [
    "x_range = np.linspace(-5, 7, 100)  \n",
    "\n",
    "y_range = - (w_opt[0] * x_range + b_opt) / w_opt[1]\n",
    "\n",
    "\n",
    "plt.figure(figsize=(10, 6))\n",
    "\n",
    "plt.scatter(DATA_1[:, 0], DATA_1[:, 1], color='blue', label='Class 1')\n",
    "plt.scatter(DATA_2[:, 0], DATA_2[:, 1], color='red', label='Class 2')\n",
    "\n",
    "\n",
    "plt.plot(x_range, y_range, 'k--', label='Hyperplane')\n",
    "\n",
    "\n",
    "plt.scatter(MU_1[0], MU_1[1], color='blue', marker='x', s=M, label='Mean Class 1')\n",
    "plt.scatter(MU_2[0], MU_2[1], color='red', marker='x', s=M, label='Mean Class 2')\n",
    "\n",
    "\n",
    "plt.xlabel('Feature 1')\n",
    "plt.ylabel('Feature 2')\n",
    "plt.title('Robust Soft-Margin SVM')\n",
    "plt.legend()\n",
    "plt.grid(True)\n",
    "plt.show()"
   ]
  },
  {
   "cell_type": "markdown",
   "metadata": {},
   "source": [
    "## References\n",
    "\n",
    "1. Ali, A., Kolter, J. Z., Diamond, S., & Boyd, S. (2015). Disciplined convex stochastic programming: A new framework for stochastic optimization. Proceedings of the 31st Conference on Uncertainty in Artificial Intelligence.\n"
   ]
  }
 ],
 "metadata": {
  "kernelspec": {
   "display_name": "lropt_v1",
   "language": "python",
   "name": "python3"
  },
  "language_info": {
   "codemirror_mode": {
    "name": "ipython",
    "version": 3
   },
   "file_extension": ".py",
   "mimetype": "text/x-python",
   "name": "python",
   "nbconvert_exporter": "python",
   "pygments_lexer": "ipython3",
   "version": "3.12.2"
  }
 },
 "nbformat": 4,
 "nbformat_minor": 2
}
