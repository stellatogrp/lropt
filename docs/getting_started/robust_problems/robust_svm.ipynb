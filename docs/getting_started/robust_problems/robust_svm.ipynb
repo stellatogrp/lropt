{
 "cells": [
  {
   "cell_type": "markdown",
   "metadata": {},
   "source": [
    "# Robust SVM (WORK IN PROGRESS)"
   ]
  },
  {
   "cell_type": "markdown",
   "metadata": {},
   "source": [
    "Consider the problem of learning a support vector machine (SVM) from a set of m data points {(xi , yi )}mi=1 . Sup- pose we would like to (additionally) model the fact that our data collection process is noisy (in order to gain ro- bustness in our solution), by incorporating the belief that (say) xi ∼ Normal(μ1,Σ1) for all i where yi = 1 and xi ∼ Normal(μ2,Σ2) for all i where yi = −1 into the learning process. We can thereby pose the following chance-constrained variant of the canonical (soft-margin)"
   ]
  },
  {
   "cell_type": "markdown",
   "metadata": {},
   "source": [
    "The optimization problem becomes:\n",
    "$$\n",
    "\\begin{aligned}\n",
    "& \\min_{w, b, \\xi_i} \\frac{1}{2} \\| w \\|^2 + C \\sum_{i=1}^m \\xi_i \\\\\n",
    "& \\text{subject to:} \\\\\n",
    "& \\forall i, \\forall (x_i, y_i) \\in \\mathcal{S}_i: \\\\\n",
    "& \\quad y_i (w^T x_i + b) \\geq 1 - \\xi_i, \\\\\n",
    "& \\quad \\xi_i \\geq 0\n",
    "\\end{aligned}\n",
    "$$"
   ]
  },
  {
   "cell_type": "code",
   "execution_count": 15,
   "metadata": {},
   "outputs": [],
   "source": [
    "import numpy as np\n",
    "import cvxpy as cp\n",
    "import lropt\n"
   ]
  },
  {
   "cell_type": "code",
   "execution_count": 16,
   "metadata": {},
   "outputs": [],
   "source": [
    "n = 1  # Dimension of feature vector x_i\n",
    "m = 100  # Number of data points\n",
    "C = 1.0  # Regularization parameter\n",
    "sigma = cp.Variable(m, nonneg = True) # Probability threshold\n",
    "eta = 0.95\n",
    "\n",
    "mean = 0\n",
    "std_dev = 1\n",
    "num_samples = 1000\n",
    "\n"
   ]
  },
  {
   "cell_type": "code",
   "execution_count": 17,
   "metadata": {},
   "outputs": [],
   "source": [
    "np.random.seed(1)\n",
    "w = cp.Variable(n)\n",
    "b = cp.Variable()\n",
    "\n",
    "xi = lropt.UncertainParameter(m, uncertainty_set = lropt.Ellipsoidal())\n",
    "y = 2 * (np.random.rand(m) < 0.5) - 1  # Random labels (either 1 or -1)"
   ]
  },
  {
   "cell_type": "code",
   "execution_count": 24,
   "metadata": {},
   "outputs": [
    {
     "data": {
      "text/plain": [
       "UncertainParameter((100,))"
      ]
     },
     "execution_count": 24,
     "metadata": {},
     "output_type": "execute_result"
    }
   ],
   "source": [
    "xi"
   ]
  },
  {
   "cell_type": "code",
   "execution_count": 27,
   "metadata": {},
   "outputs": [
    {
     "data": {
      "text/plain": [
       "array([[0.1, 0. ],\n",
       "       [0. , 0.1]])"
      ]
     },
     "execution_count": 27,
     "metadata": {},
     "output_type": "execute_result"
    }
   ],
   "source": [
    "0.1*np.eye(2)"
   ]
  },
  {
   "cell_type": "code",
   "execution_count": 19,
   "metadata": {},
   "outputs": [],
   "source": [
    "#constraints = []\n",
    "#for i in range(m):\n",
    "    #constraints.append((w.T * x[i] + b) >= 1 - sigma[i])\n",
    "#constraints\n",
    "\n"
   ]
  },
  {
   "cell_type": "code",
   "execution_count": 20,
   "metadata": {},
   "outputs": [],
   "source": [
    "#objective = cp.Minimize(0.5 * cp.norm(w, 2) + C * cp.sum(sigma))\n",
    "#prob = lropt.RobustProblem(objective, constraints)"
   ]
  },
  {
   "cell_type": "code",
   "execution_count": 21,
   "metadata": {},
   "outputs": [],
   "source": [
    "#cp.Minimize(0.5 * cp.norm(w) + C * cp.sum(sigma))"
   ]
  },
  {
   "cell_type": "code",
   "execution_count": 22,
   "metadata": {},
   "outputs": [],
   "source": [
    "#prob.solve()"
   ]
  },
  {
   "cell_type": "code",
   "execution_count": null,
   "metadata": {},
   "outputs": [],
   "source": []
  }
 ],
 "metadata": {
  "kernelspec": {
   "display_name": "lropt_v1",
   "language": "python",
   "name": "python3"
  },
  "language_info": {
   "codemirror_mode": {
    "name": "ipython",
    "version": 3
   },
   "file_extension": ".py",
   "mimetype": "text/x-python",
   "name": "python",
   "nbconvert_exporter": "python",
   "pygments_lexer": "ipython3",
   "version": "3.12.2"
  }
 },
 "nbformat": 4,
 "nbformat_minor": 2
}
