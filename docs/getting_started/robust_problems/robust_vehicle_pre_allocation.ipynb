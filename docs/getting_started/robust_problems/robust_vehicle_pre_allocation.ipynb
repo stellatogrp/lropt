{
 "cells": [
  {
   "cell_type": "markdown",
   "metadata": {},
   "source": [
    "# Robust vehicle pre-allocation"
   ]
  },
  {
   "cell_type": "markdown",
   "metadata": {},
   "source": [
    "This tutorial shows how to construct and solve the vehicle pre-allocation problem problem (Hao et al., 2020, https://onlinelibrary.wiley.com/doi/full/10.1111/poms.13143?casa_token=QjXxs7wyx8cAAAAA%3ADp6PFQDpob1UUd7qG8mSSlyEwmGjPrcjYaeSZxp8mmKaL1FUPfDVqcW4xt-HHLW_mjZlHIJOoETs2qo6). In this problem, there are $I$ supply nodes and $J$ demand nodes. For simplicity in this tutorial we assume that $I=1$. The operator needs to allocate vehicles before seeing the realization of the random demand. The problem can be formulated as follows:\n",
    "$$\n",
    "\\begin{align}\n",
    "\\min_{\\mathbf{x}, \\mathbf{y}}\\; & \\left( \\mathbf{c}-\\mathbf{r} \\right)^T\\mathbf{x} + \\mathbf{r}^T\\mathbf{y} \\nonumber \\\\\n",
    "\n",
    "\\text{s.t. } & \\mathbf{y} \\geq \\mathbf{x}-\\mathbf{d} \\nonumber \\\\\n",
    "\n",
    "&\\mathbf{y} \\geq \\mathbf{0} \\nonumber \\\\\n",
    "\n",
    "&\\sum_{j=1}^J x_j \\leq q \\nonumber \\\\\n",
    "\n",
    "&\\mathbf{x} \\geq \\mathbf{0} \\nonumber \\\\\n",
    "\\end{align}\n",
    "$$\n",
    "\n",
    "where $\\mathbf{x}\\in\\mathbb{R}^J$ is the vehicle allocation vector, i.e. we allocate $x_j$ vehicles from the supply node to the demand node $j$, $\\mathbf{d}\\in\\mathbb{R}^J$ is the unknown demand vector, $\\mathbf{c}\\in\\mathbb{R}^J$ is the cost vector. amd $\\mathbf{r}\\in\\mathbb{R}^J$ is the revenue coefficient vector. $\\mathbf{y}\\in\\mathbb{R}^J$ is a wait and see variable that depends on $\\mathbf{d}$ and can be defined as follows:\n",
    "$$\n",
    "\\mathbf{y} = \\mathbf{y}^0 + \\sum_{j=1}^J \\mathbf{y}_j^k d_j\n",
    "$$\n",
    "where $\\mathbf{y}^0, \\left\\{ \\mathbf{y}_j^k\\right\\}_j\\in\\mathbb{R}^J$."
   ]
  },
  {
   "cell_type": "code",
   "execution_count": 1,
   "metadata": {},
   "outputs": [],
   "source": [
    "import cvxpy as cp\n",
    "import numpy as np\n",
    "import pandas as pd\n",
    "\n",
    "from lropt import Ellipsoidal, UncertainParameter, RobustProblem"
   ]
  },
  {
   "cell_type": "markdown",
   "metadata": {},
   "source": [
    "We define the constants as shown below:"
   ]
  },
  {
   "cell_type": "code",
   "execution_count": 2,
   "metadata": {},
   "outputs": [],
   "source": [
    "data = pd.read_csv('https://xiongpengnus.github.io/rsome/taxi_rain.csv')    # Load the data\n",
    "demand = data.loc[:, 'Region1':'Region10']                                  # Demand data\n",
    "data = demand.values                                                        # sample demand as an array\n",
    "d_ub = demand.max().values                                                  # upper bound of demand\n",
    "d_lb = demand.min().values \n",
    "I, J = 1, 10                                                                # Number of supply/demand nodes\n",
    "r = np.array([4.50, 4.41, 3.61, 4.49, 4.38, 4.58, 4.53, 4.64, 4.58, 4.32])  # Revenue coefficients vector\n",
    "c = 3 * np.ones(J)                                                          # Cost coefficients vector\n",
    "q = 400                                                                     # Maximum vehicle supply"
   ]
  },
  {
   "cell_type": "markdown",
   "metadata": {},
   "source": [
    "The problem is formulated and solved in the block below, using the Budget uncertainty set which is defined as follows:\n",
    "\n",
    "Ellipsoidal uncertainty: $\\{u \\mid \\| Au + b \\|_p \\leq \\rho \\}$\n",
    "\n",
    "- $\\rho$ : float, optional  \n",
    "  * Ellipsoid scaling. Default 1.0. \n",
    "- $p$ : integer, optional  \n",
    "  * Order of the norm. Default 2.\n",
    "- $A$ : np.array, optional\n",
    "  * Scaling matrix for u. Default identity matrix.\n",
    "- $b$ : np.array, optional\n",
    "  * Relocation vector for u. Default None.\n",
    "\n",
    "We directly add the inequality constraints on $\\eta$ using the $\\textit{lb},\\textit{ub}$ optional arguments, which read as follows:\n",
    "$$\n",
    "lb \\leq \\mathbf{u} \\leq ub \\nonumber \\\\\n",
    "$$"
   ]
  },
  {
   "cell_type": "code",
   "execution_count": 3,
   "metadata": {},
   "outputs": [
    {
     "data": {
      "text/plain": [
       "-62.58973897871886"
      ]
     },
     "execution_count": 3,
     "metadata": {},
     "output_type": "execute_result"
    }
   ],
   "source": [
    "x = cp.Variable(J)                                                                  # Optimization variables, vehicles allocations\n",
    "uncertainty_set = Ellipsoidal(p=np.inf, rho = np.max(d_ub), lb = d_lb, ub = d_ub)   # Ellipsoidal uncertainty set\n",
    "d = UncertainParameter(J, uncertainty_set=uncertainty_set)                          # Uncertain parameters, unknown demand\n",
    "y_0 = cp.Variable(J)                                                                # Helper optimization variables for y \n",
    "y_k = [cp.Variable(J) for _ in range(J)]                                            # Helper optimization variables for y\n",
    "y = 0                                                                               # Optimization variables, bookeeping revenues\n",
    "#Define y as a wait-and-see decisision variable\n",
    "for j in range(J):\n",
    "    y += y_k[j]\n",
    "y += y_0\n",
    "\n",
    "\n",
    "objective = cp.Minimize((c-r)@x + r@y)                                              # Problem objective\n",
    "constraints = [\n",
    "                y >= x-d,\n",
    "                y >= 0,\n",
    "                cp.sum(x) <= q,\n",
    "                x >= 0,\n",
    "              ]                                                                     # Problem constraints\n",
    "prob = RobustProblem(objective=objective, constraints=constraints)                  # Define the problem using LROPT\n",
    "prob.solve()                                                                        # Solve the problem using LROPT"
   ]
  }
 ],
 "metadata": {
  "kernelspec": {
   "display_name": "Python 3",
   "language": "python",
   "name": "python3"
  },
  "language_info": {
   "codemirror_mode": {
    "name": "ipython",
    "version": 3
   },
   "file_extension": ".py",
   "mimetype": "text/x-python",
   "name": "python",
   "nbconvert_exporter": "python",
   "pygments_lexer": "ipython3",
   "version": "3.11.5"
  },
  "orig_nbformat": 4
 },
 "nbformat": 4,
 "nbformat_minor": 2
}
