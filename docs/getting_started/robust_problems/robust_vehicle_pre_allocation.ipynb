{
 "cells": [
  {
   "cell_type": "markdown",
   "metadata": {},
   "source": [
    "# Robust vehicle pre-allocation"
   ]
  },
  {
   "cell_type": "code",
   "execution_count": 35,
   "metadata": {},
   "outputs": [],
   "source": [
    "import cvxpy as cp\n",
    "import scipy as sc\n",
    "import numpy as np\n",
    "import numpy.random as npr\n",
    "import torch\n",
    "from sklearn import datasets\n",
    "import pandas as pd\n",
    "import lropt\n",
    "import matplotlib.pyplot as plt\n",
    "from sklearn.model_selection import train_test_split\n",
    "from mpl_toolkits.axes_grid1.inset_locator import mark_inset, zoomed_inset_axes"
   ]
  },
  {
   "cell_type": "code",
   "execution_count": 36,
   "metadata": {},
   "outputs": [],
   "source": [
    "import pandas as pd\n",
    "data = pd.read_csv('https://xiongpengnus.github.io/rsome/taxi_rain.csv')\n",
    "demand = data.loc[:, 'Region1':'Region10']  \n",
    "data = demand.values                              # sample demand as an array\n",
    "d_ub = demand.max().values                      # upper bound of demand\n",
    "d_lb = demand.min().values \n",
    "# S = dhat.shape[0]  \n",
    "I, J = 1, 10\n",
    "r = np.array([4.50, 4.41, 3.61, 4.49, 4.38, 4.58, 4.53, 4.64, 4.58, 4.32])\n",
    "c = 3 * np.ones(J)\n",
    "q = 400 * np.ones(I)"
   ]
  },
  {
   "cell_type": "code",
   "execution_count": 37,
   "metadata": {},
   "outputs": [],
   "source": [
    "u = lropt.UncertainParameter(J,\n",
    "                        uncertainty_set=lropt.Ellipsoidal(p=np.inf, rho = np.max(d_ub), lb = d_lb, ub = d_ub))\n",
    "# Formulate the Robust Problem\n",
    "x = cp.Variable(J)\n",
    "y = cp.Variable(J)\n",
    "Y = cp.Variable((J,J))\n",
    "objective = cp.Minimize((c-r)@x + r@y + r@Y@u)\n",
    "constraints = []\n",
    "for i in range(J):\n",
    "    constraints += [y[i] >= x[i] - (Y[i]+np.eye(J)[i])@u]\n",
    "    constraints += [y[i] + Y[i]@u >= 0]\n",
    "constraints += [x >= 0, cp.sum(x)<= q]\n",
    "prob = lropt.RobustProblem(objective=objective, constraints=constraints)"
   ]
  },
  {
   "cell_type": "code",
   "execution_count": 38,
   "metadata": {},
   "outputs": [
    {
     "data": {
      "text/plain": [
       "-62.589735284066215"
      ]
     },
     "execution_count": 38,
     "metadata": {},
     "output_type": "execute_result"
    }
   ],
   "source": [
    "prob.solve()"
   ]
  }
 ],
 "metadata": {
  "kernelspec": {
   "display_name": "Python 3",
   "language": "python",
   "name": "python3"
  },
  "language_info": {
   "codemirror_mode": {
    "name": "ipython",
    "version": 3
   },
   "file_extension": ".py",
   "mimetype": "text/x-python",
   "name": "python",
   "nbconvert_exporter": "python",
   "pygments_lexer": "ipython3",
   "version": "3.11.0"
  },
  "orig_nbformat": 4
 },
 "nbformat": 4,
 "nbformat_minor": 2
}
