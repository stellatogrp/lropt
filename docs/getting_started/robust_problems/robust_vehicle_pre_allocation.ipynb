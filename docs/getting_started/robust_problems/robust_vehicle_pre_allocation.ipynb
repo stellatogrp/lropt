{
 "cells": [
  {
   "cell_type": "markdown",
   "metadata": {},
   "source": [
    "# Robust vehicle pre-allocation"
   ]
  },
  {
   "cell_type": "markdown",
   "metadata": {},
   "source": [
    "This tutorial shows how to construct and solve the vehicle pre-allocation problem problem (Hao et al., 2020, https://onlinelibrary.wiley.com/doi/full/10.1111/poms.13143?casa_token=QjXxs7wyx8cAAAAA%3ADp6PFQDpob1UUd7qG8mSSlyEwmGjPrcjYaeSZxp8mmKaL1FUPfDVqcW4xt-HHLW_mjZlHIJOoETs2qo6) The problem can be formulated as follows:\n",
    "$$\n",
    "\\begin{align}\n",
    "\\min_{\\mathbf{x}, \\mathbf{Y}}\\; & \\left( \\mathbf{c}-\\mathbf{r} \\right)\\mathbf{x} + \\mathbf{r}\\mathbf{Y} \\nonumber \\\\\n",
    "\n",
    "\\text{s.t. } & \\mathbf{0} \\leq \\mathbf{P} \\leq \\mathbf{P_{max}} \\nonumber \\\\\n",
    "\n",
    "&\\sum_{t=1}^T \\mathbf{p}_t\\leq Q_i \\nonumber \\\\\n",
    "\n",
    "&v_{min} \\leq v_0 + \\sum_{t'=1}^{t-1}\\sum_{i=1}^I p_{i, t'} - \\sum_{t'=1}^{t-1} \\leq v_{max} \\forall t\\in \\left\\{ 1, \\ldots, T \\right\\} \\nonumber \\\\\n",
    "\\end{align}\n",
    "$$\n",
    "\n",
    "where $\\mathbf{d}\\in\\mathbb{R}^T$ is the uncertain demand vector, $\\mathbf{P}\\in\\mathbb{R}^{I\\times T}$ is resource decision variable, i.e. $y_{i,t}$ there is a prodcut order of $p_{i,t}$ at factory $i$ during time $t$. The variable $\\mathbf{P}$ depends on the demand vector $\\mathbf{d}$ and can be written as\n",
    "$$\n",
    "\\mathbf{P} = \\mathbf{P}^0 + \\sum_{\\tau=1}^{t-1}\\mathbf{P}^{\\tau}d_{\\tau}\n",
    "$$\n",
    "where $\\mathbf{P}^0, \\left\\{ \\mathbf{P}^{\\tau} \\right\\}_\\tau \\in \\mathbb{R}^{I\\times T}$, and the $\\mathbf{d}$ belongs to the following uncertainty set:\n",
    "$$\n",
    "\\mathbf{d} \\in \\left\\{ \\mathbf{d}: \\left( 1-\\theta \\right)d_t^0 \\leq d_t \\leq \\left( 1+\\theta \\right)d_t^0  \\right\\}\n",
    "$$\n",
    "and $\\mathbf{d^0}\\in\\mathbb{R}^{T}$ is a known vector."
   ]
  },
  {
   "cell_type": "code",
   "execution_count": 1,
   "metadata": {},
   "outputs": [],
   "source": [
    "import cvxpy as cp\n",
    "import numpy as np\n",
    "import pandas as pd\n",
    "\n",
    "from lropt import Ellipsoidal, UncertainParameter, RobustProblem"
   ]
  },
  {
   "cell_type": "code",
   "execution_count": 2,
   "metadata": {},
   "outputs": [],
   "source": [
    "data = pd.read_csv('https://xiongpengnus.github.io/rsome/taxi_rain.csv')\n",
    "demand = data.loc[:, 'Region1':'Region10']  \n",
    "data = demand.values                              # sample demand as an array\n",
    "d_ub = demand.max().values                      # upper bound of demand\n",
    "d_lb = demand.min().values \n",
    "I, J = 1, 10\n",
    "r = np.array([4.50, 4.41, 3.61, 4.49, 4.38, 4.58, 4.53, 4.64, 4.58, 4.32])\n",
    "c = 3 * np.ones(J)\n",
    "q = 400"
   ]
  },
  {
   "cell_type": "code",
   "execution_count": 4,
   "metadata": {},
   "outputs": [],
   "source": [
    "x = cp.Variable(J)\n",
    "y_0 = cp.Variable(J)\n",
    "y_k = [cp.Variable(J) for _ in range(J)]\n",
    "uncertainty_set = Ellipsoidal(p=np.inf, rho = np.max(d_ub), lb = d_lb, ub = d_ub)\n",
    "d = UncertainParameter(J, uncertainty_set=uncertainty_set)\n",
    "y = 0\n",
    "for j in range(J):\n",
    "    y += y_k[j]\n",
    "y += y_0\n",
    "\n",
    "\n",
    "objective = cp.Minimize((c-r)@x + r@y)\n",
    "constraints = [\n",
    "                y >= x-d,\n",
    "                y >= 0,\n",
    "                cp.sum(x) <= q,\n",
    "                x >= 0,\n",
    "              ]\n",
    "prob = RobustProblem(objective=objective, constraints=constraints)\n",
    "prob.solve()"
   ]
  },
  {
   "cell_type": "code",
   "execution_count": 3,
   "metadata": {},
   "outputs": [],
   "source": [
    "u = lropt.UncertainParameter(J,\n",
    "                        uncertainty_set=lropt.Ellipsoidal(p=np.inf, rho = np.max(d_ub),\n",
    "                                                          lb = d_lb, ub = d_ub))\n",
    "# Formulate the Robust Problem\n",
    "x = cp.Variable(J)\n",
    "y = cp.Variable(J)\n",
    "Y = cp.Variable((J,J))\n",
    "objective = cp.Minimize((c-r)@x + r@y + r@Y@u)\n",
    "constraints = []\n",
    "for i in range(J):\n",
    "    constraints += [y[i] >= x[i] - (Y[i]+np.eye(J)[i])@u]\n",
    "    constraints += [y[i] + Y[i]@u >= 0]\n",
    "constraints += [x >= 0, cp.sum(x)<= q]\n",
    "prob = lropt.RobustProblem(objective=objective, constraints=constraints)"
   ]
  },
  {
   "cell_type": "code",
   "execution_count": 4,
   "metadata": {},
   "outputs": [
    {
     "data": {
      "text/plain": [
       "-62.58973526877305"
      ]
     },
     "execution_count": 4,
     "metadata": {},
     "output_type": "execute_result"
    }
   ],
   "source": [
    "prob.solve()"
   ]
  }
 ],
 "metadata": {
  "kernelspec": {
   "display_name": "Python 3",
   "language": "python",
   "name": "python3"
  },
  "language_info": {
   "codemirror_mode": {
    "name": "ipython",
    "version": 3
   },
   "file_extension": ".py",
   "mimetype": "text/x-python",
   "name": "python",
   "nbconvert_exporter": "python",
   "pygments_lexer": "ipython3",
   "version": "3.11.5"
  },
  "orig_nbformat": 4
 },
 "nbformat": 4,
 "nbformat_minor": 2
}
