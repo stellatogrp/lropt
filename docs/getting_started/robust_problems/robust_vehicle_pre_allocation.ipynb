{
 "cells": [
  {
   "cell_type": "markdown",
   "metadata": {},
   "source": [
    "# Robust vehicle pre-allocation"
   ]
  },
  {
   "cell_type": "code",
   "execution_count": 1,
   "metadata": {},
   "outputs": [],
   "source": [
    "import cvxpy as cp\n",
    "import scipy as sc\n",
    "import numpy as np\n",
    "import numpy.random as npr\n",
    "import torch\n",
    "from sklearn import datasets\n",
    "import pandas as pd\n",
    "import lropt\n",
    "import matplotlib.pyplot as plt\n",
    "from sklearn.model_selection import train_test_split\n",
    "from mpl_toolkits.axes_grid1.inset_locator import mark_inset, zoomed_inset_axes"
   ]
  },
  {
   "cell_type": "code",
   "execution_count": 2,
   "metadata": {},
   "outputs": [],
   "source": [
    "import pandas as pd\n",
    "data = pd.read_csv('https://xiongpengnus.github.io/rsome/taxi_rain.csv')\n",
    "demand = data.loc[:, 'Region1':'Region10']  \n",
    "data = demand.values                              # sample demand as an array\n",
    "d_ub = demand.max().values                      # upper bound of demand\n",
    "d_lb = demand.min().values \n",
    "# S = dhat.shape[0]  \n",
    "I, J = 1, 10\n",
    "r = np.array([4.50, 4.41, 3.61, 4.49, 4.38, 4.58, 4.53, 4.64, 4.58, 4.32])\n",
    "c = 3 * np.ones(J)\n",
    "q = 400 * np.ones(I)\n",
    "\n",
    "y_data = []\n",
    "for i in range(10):\n",
    "    y_data.append(r + np.random.normal(0,0.1,J))\n",
    "y_data = np.array(y_data)"
   ]
  },
  {
   "cell_type": "code",
   "execution_count": 3,
   "metadata": {},
   "outputs": [],
   "source": [
    "c_us = np.vstack([np.eye(J),-np.eye(J)])\n",
    "d = np.hstack([d_ub, -d_lb])\n",
    "u = lropt.UncertainParameter(J,\n",
    "                        uncertainty_set=lropt.Ellipsoidal(p=2,\n",
    "                                                    data=data, rho = 20, c=c_us,d=d))\n",
    "# Formulate the Robust Problem\n",
    "x = cp.Variable(J)\n",
    "r = lropt.Parameter(J, data = y_data)\n",
    "y = cp.Variable(J)\n",
    "Y = cp.Variable((J,J))\n",
    "t = cp.Variable()\n",
    "r.value = y_data[0]\n",
    "objective = cp.Minimize(t)\n",
    "constraints = [(c-r)@x + r@y + r@Y@u <= t]\n",
    "for i in range(J):\n",
    "    constraints += [y[i] >= x[i] - (Y[i]+np.eye(J)[i])@u]\n",
    "    constraints += [y[i] + Y[i]@u >= 0]\n",
    "constraints += [x >= 0, cp.sum(x)<= q]\n",
    "prob = lropt.RobustProblem(objective=objective, constraints=constraints)"
   ]
  },
  {
   "cell_type": "code",
   "execution_count": 4,
   "metadata": {},
   "outputs": [
    {
     "name": "stderr",
     "output_type": "stream",
     "text": [
      "run 0: test value -62.813, violations 0.0: 100%|██████████| 45/45 [00:11<00:00,  4.08it/s]\n"
     ]
    },
    {
     "data": {
      "text/plain": [
       "-67.25590628061082"
      ]
     },
     "execution_count": 4,
     "metadata": {},
     "output_type": "execute_result"
    }
   ],
   "source": [
    "prob.solve()"
   ]
  }
 ],
 "metadata": {
  "kernelspec": {
   "display_name": "Python 3",
   "language": "python",
   "name": "python3"
  },
  "language_info": {
   "codemirror_mode": {
    "name": "ipython",
    "version": 3
   },
   "file_extension": ".py",
   "mimetype": "text/x-python",
   "name": "python",
   "nbconvert_exporter": "python",
   "pygments_lexer": "ipython3",
   "version": "3.11.5"
  },
  "orig_nbformat": 4
 },
 "nbformat": 4,
 "nbformat_minor": 2
}
