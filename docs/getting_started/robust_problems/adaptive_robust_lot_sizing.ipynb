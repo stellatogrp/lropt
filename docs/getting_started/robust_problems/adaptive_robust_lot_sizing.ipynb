{
 "cells": [
  {
   "cell_type": "markdown",
   "metadata": {},
   "source": [
    "# Adaptive robust lot sizing"
   ]
  },
  {
   "cell_type": "markdown",
   "metadata": {},
   "source": [
    "This tutorial shows how to construct and solve the Adaptive robust lot sizing optimization problem. The problem can be formulated as follows:\n",
    "$$\n",
    "\\begin{align}\n",
    "\\min_{\\mathbf{x},\\mathbf{Y}}\\; &\\mathbf{c}^T\\mathbf{x} + \\sum_{i=1}^N\\sum_{j=1}^N t_{i,j}y_{i,j}\\nonumber \\\\\n",
    "\n",
    "\\text{s.t. } & \\mathbf{d} \\leq \\sum_{i=1}^N \\mathbf{y}_{i}^R - \\sum_{i=1}^N \\mathbf{y}_{i}^C + \\mathbf{x} \\nonumber \\\\\n",
    "\n",
    "&\\mathbf{0} \\leq \\mathbf{x}\\leq \\mathbf{k} \\nonumber \\\\\n",
    "\n",
    "&\\mathbf{d}\\in \\left\\{\\mathbf{d}: \\mathbf{0}\\leq \\mathbf{d}\\leq \\mathbf{d}_{max},\\; \\sum_{i=1}^N d_i \\leq \\Gamma\\right\\} \\nonumber \\\\\n",
    "\\end{align}\n",
    "$$\n",
    "\n",
    "where $\\mathbf{d}\\in\\mathbb{R}^N$ is the uncertain demand vector, $\\mathbf{Y}\\in\\mathbb{R}^{N\\times N}$ is the stock matrix, i.e. $y_{i,j}$ stock can be transported from location $i$ to location $j$ at cost $t_{i,j}$. $\\mathbf{y}_i^R, \\mathbf{y}_i^C$ denote the $i$-th row/column of $\\mathbf{Y}$, respectively. The stock matrix $\\mathbf{Y}$ depends on the demand $\\mathbf{d}$ and can be written as\n",
    "$$\n",
    "\\mathbf{Y} = \\mathbf{Y^0} + \\sum_{i=1}^{N}\\mathbf{Y}_i^d d_i\n",
    "$$\n",
    "where $\\mathbf{Y}^0, \\left\\{ \\mathbf{Y}_i^d \\right\\}_i \\in \\mathbb{R}^{N\\times N}$."
   ]
  },
  {
   "cell_type": "code",
   "execution_count": 3,
   "metadata": {},
   "outputs": [],
   "source": [
    "import cvxpy as cp\n",
    "import numpy as np\n",
    "\n",
    "import lropt\n",
    "from lropt.robust_problem import RobustProblem\n",
    "from lropt import UncertainParameter\n",
    "\n",
    "np.random.seed(seed=1234)"
   ]
  },
  {
   "cell_type": "markdown",
   "metadata": {},
   "source": [
    "We define the constants as shown below:"
   ]
  },
  {
   "cell_type": "code",
   "execution_count": 4,
   "metadata": {},
   "outputs": [],
   "source": [
    "n = 30\n",
    "c = 20\n",
    "k = 20\n",
    "dmax = 1\n",
    "Gamma = 20*np.sqrt(n)\n",
    "coordinates = 10*np.random.rand(2, n)\n",
    "t = ((coordinates[[0]] - coordinates[[0]].T) ** 2\n",
    "     + (coordinates[[1]] - coordinates[[1]].T) ** 2) ** 0.5"
   ]
  },
  {
   "cell_type": "markdown",
   "metadata": {},
   "source": [
    "The problem is defined and solved as shown below. Note that $\\mathbf{Y}$ is defined indirectly through $\\mathbf{Y}^0, \\left\\{ \\mathbf{Y}_i^d \\right\\}_i$, and is a function of the demand vector $\\mathbf{d}$."
   ]
  },
  {
   "cell_type": "code",
   "execution_count": 5,
   "metadata": {},
   "outputs": [
    {
     "name": "stderr",
     "output_type": "stream",
     "text": [
      "/Users/irina.wang/Desktop/Princeton/Project2/cvxpy/cvxpy/problems/problem.py:164: UserWarning: Constraint #0 contains too many subexpressions. Consider vectorizing your CVXPY code to speed up compilation.\n",
      "  warnings.warn(f\"Constraint #{i} contains too many subexpressions. \"\n",
      "/Users/irina.wang/Desktop/Princeton/Project2/cvxpy/cvxpy/problems/problem.py:164: UserWarning: Constraint #1 contains too many subexpressions. Consider vectorizing your CVXPY code to speed up compilation.\n",
      "  warnings.warn(f\"Constraint #{i} contains too many subexpressions. \"\n",
      "/Users/irina.wang/anaconda3/envs/lropt_s/lib/python3.11/site-packages/scipy/sparse/_index.py:134: SparseEfficiencyWarning: Changing the sparsity structure of a csr_matrix is expensive. lil_matrix is more efficient.\n",
      "  self._set_arrayXarray_sparse(i, j, x)\n"
     ]
    },
    {
     "ename": "KeyboardInterrupt",
     "evalue": "",
     "output_type": "error",
     "traceback": [
      "\u001b[0;31m---------------------------------------------------------------------------\u001b[0m",
      "\u001b[0;31mKeyboardInterrupt\u001b[0m                         Traceback (most recent call last)",
      "Cell \u001b[0;32mIn[5], line 30\u001b[0m\n\u001b[1;32m     28\u001b[0m \u001b[38;5;66;03m# formulate Robust Problem\u001b[39;00m\n\u001b[1;32m     29\u001b[0m prob \u001b[38;5;241m=\u001b[39m lropt\u001b[38;5;241m.\u001b[39mRobustProblem(objective, constraints,eval_exp \u001b[38;5;241m=\u001b[39m eval_exp )\n\u001b[0;32m---> 30\u001b[0m \u001b[43mprob\u001b[49m\u001b[38;5;241;43m.\u001b[39;49m\u001b[43msolve\u001b[49m\u001b[43m(\u001b[49m\u001b[43m)\u001b[49m\n",
      "File \u001b[0;32m~/Desktop/Princeton/Project2/lropt/lropt/robust_problem.py:1853\u001b[0m, in \u001b[0;36mRobustProblem.solve\u001b[0;34m(self, solver, warm_start, verbose, gp, qcp, requires_grad, enforce_dpp, ignore_dpp, canon_backend, **kwargs)\u001b[0m\n\u001b[1;32m   1850\u001b[0m \u001b[38;5;28;01mif\u001b[39;00m \u001b[38;5;28mself\u001b[39m\u001b[38;5;241m.\u001b[39mproblem_canon \u001b[38;5;129;01mis\u001b[39;00m \u001b[38;5;28;01mNone\u001b[39;00m:\n\u001b[1;32m   1851\u001b[0m     \u001b[38;5;66;03m# if no data is passed, no training is needed\u001b[39;00m\n\u001b[1;32m   1852\u001b[0m     \u001b[38;5;28;01mif\u001b[39;00m \u001b[38;5;28mself\u001b[39m\u001b[38;5;241m.\u001b[39muncertain_parameters()[\u001b[38;5;241m0\u001b[39m]\u001b[38;5;241m.\u001b[39muncertainty_set\u001b[38;5;241m.\u001b[39mdata \u001b[38;5;129;01mis\u001b[39;00m \u001b[38;5;28;01mNone\u001b[39;00m:\n\u001b[0;32m-> 1853\u001b[0m         \u001b[38;5;28;43mself\u001b[39;49m\u001b[38;5;241;43m.\u001b[39;49m\u001b[43mremove_uncertainty\u001b[49m\u001b[43m(\u001b[49m\u001b[43m)\u001b[49m\n\u001b[1;32m   1854\u001b[0m     \u001b[38;5;28;01melse\u001b[39;00m:\n\u001b[1;32m   1855\u001b[0m         \u001b[38;5;66;03m# if not MRO set and not trained\u001b[39;00m\n\u001b[1;32m   1856\u001b[0m         \u001b[38;5;28;01mif\u001b[39;00m \u001b[38;5;129;01mnot\u001b[39;00m \u001b[38;5;28mtype\u001b[39m(\u001b[38;5;28mself\u001b[39m\u001b[38;5;241m.\u001b[39muncertain_parameters()[\u001b[38;5;241m0\u001b[39m]\u001b[38;5;241m.\u001b[39muncertainty_set) \u001b[38;5;241m==\u001b[39m MRO:\n",
      "File \u001b[0;32m~/Desktop/Princeton/Project2/lropt/lropt/robust_problem.py:1808\u001b[0m, in \u001b[0;36mRobustProblem.remove_uncertainty\u001b[0;34m(self, override)\u001b[0m\n\u001b[1;32m   1804\u001b[0m     \u001b[38;5;28;01mreturn\u001b[39;00m\n\u001b[1;32m   1805\u001b[0m \u001b[38;5;28;01mif\u001b[39;00m \u001b[38;5;28mself\u001b[39m\u001b[38;5;241m.\u001b[39muncertain_parameters():\n\u001b[1;32m   1806\u001b[0m     \u001b[38;5;66;03m#Uncertain Canonicalization\u001b[39;00m\n\u001b[1;32m   1807\u001b[0m     \u001b[38;5;28mself\u001b[39m\u001b[38;5;241m.\u001b[39mchain_canon, \u001b[38;5;28mself\u001b[39m\u001b[38;5;241m.\u001b[39mproblem_canon, \u001b[38;5;28mself\u001b[39m\u001b[38;5;241m.\u001b[39minverse_data_canon \u001b[38;5;241m=\u001b[39m \\\n\u001b[0;32m-> 1808\u001b[0m                                 \u001b[43m_uncertain_canonicalization\u001b[49m\u001b[43m(\u001b[49m\u001b[38;5;28;43mself\u001b[39;49m\u001b[43m)\u001b[49m\n\u001b[1;32m   1810\u001b[0m     \u001b[38;5;66;03m#Generating torch expressions and batchify\u001b[39;00m\n\u001b[1;32m   1811\u001b[0m     \u001b[38;5;28mself\u001b[39m\u001b[38;5;241m.\u001b[39mproblem_canon\u001b[38;5;241m.\u001b[39m_gen_all_torch_expressions()\n",
      "File \u001b[0;32m~/Desktop/Princeton/Project2/lropt/lropt/robust_problem.py:1795\u001b[0m, in \u001b[0;36mRobustProblem.remove_uncertainty.<locals>._uncertain_canonicalization\u001b[0;34m(problem)\u001b[0m\n\u001b[1;32m   1793\u001b[0m     reductions_canon \u001b[38;5;241m+\u001b[39m\u001b[38;5;241m=\u001b[39m [FlipObjective()]\n\u001b[1;32m   1794\u001b[0m reductions_canon \u001b[38;5;241m+\u001b[39m\u001b[38;5;241m=\u001b[39m [RemoveSumOfMaxOfUncertain(), UncertainCanonicalization()]\n\u001b[0;32m-> 1795\u001b[0m chain_canon, problem_canon, inverse_data_canon \u001b[38;5;241m=\u001b[39m \u001b[43mgen_and_apply_chain\u001b[49m\u001b[43m(\u001b[49m\u001b[43mproblem\u001b[49m\u001b[38;5;241;43m=\u001b[39;49m\u001b[43mproblem\u001b[49m\u001b[43m,\u001b[49m\n\u001b[1;32m   1796\u001b[0m \u001b[43m                                                            \u001b[49m\u001b[43mreductions\u001b[49m\u001b[38;5;241;43m=\u001b[39;49m\u001b[43mreductions_canon\u001b[49m\u001b[43m)\u001b[49m\n\u001b[1;32m   1797\u001b[0m \u001b[38;5;66;03m# problem_canon.eval = problem.eval #The evaluation expression is not canonicalized\u001b[39;00m\n\u001b[1;32m   1798\u001b[0m \u001b[38;5;28;01mreturn\u001b[39;00m chain_canon, problem_canon, inverse_data_canon\n",
      "File \u001b[0;32m~/Desktop/Princeton/Project2/lropt/lropt/utils.py:42\u001b[0m, in \u001b[0;36mgen_and_apply_chain\u001b[0;34m(problem, reductions)\u001b[0m\n\u001b[1;32m     40\u001b[0m chain \u001b[38;5;241m=\u001b[39m Chain(problem, reductions\u001b[38;5;241m=\u001b[39mreductions)\n\u001b[1;32m     41\u001b[0m chain\u001b[38;5;241m.\u001b[39maccepts(problem)\n\u001b[0;32m---> 42\u001b[0m new_problem, inverse_data \u001b[38;5;241m=\u001b[39m \u001b[43mchain\u001b[49m\u001b[38;5;241;43m.\u001b[39;49m\u001b[43mapply\u001b[49m\u001b[43m(\u001b[49m\u001b[43mproblem\u001b[49m\u001b[43m)\u001b[49m\n\u001b[1;32m     43\u001b[0m \u001b[38;5;28;01mreturn\u001b[39;00m chain, new_problem, inverse_data\n",
      "File \u001b[0;32m~/Desktop/Princeton/Project2/cvxpy/cvxpy/reductions/chain.py:76\u001b[0m, in \u001b[0;36mChain.apply\u001b[0;34m(self, problem, verbose)\u001b[0m\n\u001b[1;32m     74\u001b[0m     \u001b[38;5;28;01mif\u001b[39;00m verbose:\n\u001b[1;32m     75\u001b[0m         s\u001b[38;5;241m.\u001b[39mLOGGER\u001b[38;5;241m.\u001b[39minfo(\u001b[38;5;124m'\u001b[39m\u001b[38;5;124mApplying reduction \u001b[39m\u001b[38;5;132;01m%s\u001b[39;00m\u001b[38;5;124m'\u001b[39m, \u001b[38;5;28mtype\u001b[39m(r)\u001b[38;5;241m.\u001b[39m\u001b[38;5;18m__name__\u001b[39m)\n\u001b[0;32m---> 76\u001b[0m     problem, inv \u001b[38;5;241m=\u001b[39m \u001b[43mr\u001b[49m\u001b[38;5;241;43m.\u001b[39;49m\u001b[43mapply\u001b[49m\u001b[43m(\u001b[49m\u001b[43mproblem\u001b[49m\u001b[43m)\u001b[49m\n\u001b[1;32m     77\u001b[0m     inverse_data\u001b[38;5;241m.\u001b[39mappend(inv)\n\u001b[1;32m     78\u001b[0m \u001b[38;5;28;01mreturn\u001b[39;00m problem, inverse_data\n",
      "File \u001b[0;32m~/Desktop/Princeton/Project2/lropt/lropt/uncertain_canon/uncertain_canonicalization.py:415\u001b[0m, in \u001b[0;36mUncertainCanonicalization.apply\u001b[0;34m(self, problem, solver)\u001b[0m\n\u001b[1;32m    412\u001b[0m     total_cons_number \u001b[38;5;241m+\u001b[39m\u001b[38;5;241m=\u001b[39m \u001b[38;5;28mlen\u001b[39m(dummy_constraints)\n\u001b[1;32m    413\u001b[0m \u001b[38;5;28;01melse\u001b[39;00m:\n\u001b[1;32m    414\u001b[0m     dummy_constraints, cons_data, total_cons_number \u001b[38;5;241m=\u001b[39m \\\n\u001b[0;32m--> 415\u001b[0m         \u001b[43m_gen_dummy_problem\u001b[49m\u001b[43m(\u001b[49m\u001b[43mobjective\u001b[49m\u001b[38;5;241;43m=\u001b[39;49m\u001b[43mproblem\u001b[49m\u001b[38;5;241;43m.\u001b[39;49m\u001b[43mobjective\u001b[49m\u001b[43m,\u001b[49m\n\u001b[1;32m    416\u001b[0m \u001b[43m                        \u001b[49m\u001b[43mconstraints\u001b[49m\u001b[38;5;241;43m=\u001b[39;49m\u001b[43mproblem\u001b[49m\u001b[38;5;241;43m.\u001b[39;49m\u001b[43mconstraints_by_type\u001b[49m\u001b[43m[\u001b[49m\u001b[38;5;28;43mid\u001b[39;49m\u001b[43m]\u001b[49m\u001b[43m,\u001b[49m\n\u001b[1;32m    417\u001b[0m \u001b[43m                        \u001b[49m\u001b[43mcons_data\u001b[49m\u001b[38;5;241;43m=\u001b[39;49m\u001b[43mcons_data\u001b[49m\u001b[43m,\u001b[49m\n\u001b[1;32m    418\u001b[0m \u001b[43m                        \u001b[49m\u001b[43minitial_index\u001b[49m\u001b[43m \u001b[49m\u001b[38;5;241;43m=\u001b[39;49m\u001b[43m \u001b[49m\u001b[43mtotal_cons_number\u001b[49m\u001b[43m)\u001b[49m\n\u001b[1;32m    419\u001b[0m new_constraints \u001b[38;5;241m+\u001b[39m\u001b[38;5;241m=\u001b[39m dummy_constraints\n\u001b[1;32m    420\u001b[0m constraints_by_type[\u001b[38;5;28mid\u001b[39m] \u001b[38;5;241m=\u001b[39m dummy_constraints\n",
      "File \u001b[0;32m~/Desktop/Princeton/Project2/lropt/lropt/uncertain_canon/uncertain_canonicalization.py:374\u001b[0m, in \u001b[0;36mUncertainCanonicalization.apply.<locals>._gen_dummy_problem\u001b[0;34m(objective, constraints, cons_data, initial_index)\u001b[0m\n\u001b[1;32m    371\u001b[0m dummy_problem \u001b[38;5;241m=\u001b[39m RobustProblem(objective\u001b[38;5;241m=\u001b[39mobjective, constraints\u001b[38;5;241m=\u001b[39mconstraints, verify_y_parameters\u001b[38;5;241m=\u001b[39m\u001b[38;5;28;01mFalse\u001b[39;00m)\n\u001b[1;32m    372\u001b[0m \u001b[38;5;66;03m#Get A, b tensors (A separated to uncertain and certain parts).\u001b[39;00m\n\u001b[1;32m    373\u001b[0m A_certain, A_uncertain, b_certain, b_uncertain, cones,variables \\\n\u001b[0;32m--> 374\u001b[0m                                     \u001b[38;5;241m=\u001b[39m \u001b[43m_get_tensors\u001b[49m\u001b[43m(\u001b[49m\u001b[43mdummy_problem\u001b[49m\u001b[43m,\u001b[49m\u001b[43m \u001b[49m\u001b[43msolver\u001b[49m\u001b[38;5;241;43m=\u001b[39;49m\u001b[43msolver\u001b[49m\u001b[43m)\u001b[49m\n\u001b[1;32m    376\u001b[0m new_objective, new_constraints, cons_data_updated, total_cons_num \\\n\u001b[1;32m    377\u001b[0m     \u001b[38;5;241m=\u001b[39m _gen_canon_robust_problem(dummy_problem,\n\u001b[1;32m    378\u001b[0m                                         A_certain, A_uncertain,\n\u001b[1;32m    379\u001b[0m                                         b_certain,b_uncertain,\n\u001b[1;32m    380\u001b[0m                                         cones, variables,cons_data,\n\u001b[1;32m    381\u001b[0m                                         initial_index)\n\u001b[1;32m    382\u001b[0m \u001b[38;5;28;01mreturn\u001b[39;00m new_constraints, cons_data_updated, total_cons_num\n",
      "File \u001b[0;32m~/Desktop/Princeton/Project2/lropt/lropt/uncertain_canon/uncertain_canonicalization.py:180\u001b[0m, in \u001b[0;36mUncertainCanonicalization.apply.<locals>._get_tensors\u001b[0;34m(problem, solver)\u001b[0m\n\u001b[1;32m    178\u001b[0m cones \u001b[38;5;241m=\u001b[39m data[\u001b[38;5;241m0\u001b[39m][\u001b[38;5;124m\"\u001b[39m\u001b[38;5;124mdims\u001b[39m\u001b[38;5;124m\"\u001b[39m]\n\u001b[1;32m    179\u001b[0m canon_variables \u001b[38;5;241m=\u001b[39m param_prob\u001b[38;5;241m.\u001b[39mvariables\n\u001b[0;32m--> 180\u001b[0m vec_Ab_certain, vec_Ab_certain_param, T_Ab_dict \u001b[38;5;241m=\u001b[39m \u001b[43m_gen_param_vec\u001b[49m\u001b[43m(\u001b[49m\u001b[43mparam_prob\u001b[49m\u001b[43m)\u001b[49m\n\u001b[1;32m    181\u001b[0m n_var \u001b[38;5;241m=\u001b[39m param_prob\u001b[38;5;241m.\u001b[39mreduced_A\u001b[38;5;241m.\u001b[39mvar_len\n\u001b[1;32m    182\u001b[0m A_certain, b_certain \u001b[38;5;241m=\u001b[39m _finalize_expressions(vec_Ab_certain, n_var\u001b[38;5;241m=\u001b[39mn_var)\n",
      "File \u001b[0;32m~/Desktop/Princeton/Project2/lropt/lropt/uncertain_canon/uncertain_canonicalization.py:118\u001b[0m, in \u001b[0;36mUncertainCanonicalization.apply.<locals>._get_tensors.<locals>._gen_param_vec\u001b[0;34m(param_prob)\u001b[0m\n\u001b[1;32m    116\u001b[0m n_var \u001b[38;5;241m=\u001b[39m param_prob\u001b[38;5;241m.\u001b[39mreduced_A\u001b[38;5;241m.\u001b[39mvar_len\n\u001b[1;32m    117\u001b[0m T_Ab \u001b[38;5;241m=\u001b[39m param_prob\u001b[38;5;241m.\u001b[39mA\n\u001b[0;32m--> 118\u001b[0m T_Ab \u001b[38;5;241m=\u001b[39m \u001b[43mreshape_tensor\u001b[49m\u001b[43m(\u001b[49m\u001b[43mT_Ab\u001b[49m\u001b[43m,\u001b[49m\u001b[43m \u001b[49m\u001b[43mn_var\u001b[49m\u001b[43m)\u001b[49m\n\u001b[1;32m    119\u001b[0m param_vec_dict \u001b[38;5;241m=\u001b[39m {param_type: [] \u001b[38;5;28;01mfor\u001b[39;00m param_type \u001b[38;5;129;01min\u001b[39;00m PARAM_TYPES}\n\u001b[1;32m    120\u001b[0m T_Ab_dict \u001b[38;5;241m=\u001b[39m {param_type: [] \u001b[38;5;28;01mfor\u001b[39;00m param_type \u001b[38;5;129;01min\u001b[39;00m PARAM_TYPES}\n",
      "File \u001b[0;32m~/Desktop/Princeton/Project2/lropt/lropt/uncertain_canon/utils.py:49\u001b[0m, in \u001b[0;36mreshape_tensor\u001b[0;34m(T_Ab, n_var)\u001b[0m\n\u001b[1;32m     47\u001b[0m \u001b[38;5;28;01mfor\u001b[39;00m target_row \u001b[38;5;129;01min\u001b[39;00m \u001b[38;5;28mrange\u001b[39m(num_rows): \u001b[38;5;66;03m#Counter for populating the new row of T_Ab_res\u001b[39;00m\n\u001b[1;32m     48\u001b[0m     source_row \u001b[38;5;241m=\u001b[39m _calc_source_row(target_row, num_constraints, n_var_full)\n\u001b[0;32m---> 49\u001b[0m     \u001b[43mT_Ab_res\u001b[49m\u001b[43m[\u001b[49m\u001b[43mtarget_row\u001b[49m\u001b[43m,\u001b[49m\u001b[43m \u001b[49m\u001b[43m:\u001b[49m\u001b[43m]\u001b[49m \u001b[38;5;241m=\u001b[39m T_Ab[source_row, :]\n\u001b[1;32m     50\u001b[0m \u001b[38;5;28;01mreturn\u001b[39;00m T_Ab_res\n",
      "File \u001b[0;32m~/anaconda3/envs/lropt_s/lib/python3.11/site-packages/scipy/sparse/_index.py:134\u001b[0m, in \u001b[0;36mIndexMixin.__setitem__\u001b[0;34m(self, key, x)\u001b[0m\n\u001b[1;32m    132\u001b[0m     x \u001b[38;5;241m=\u001b[39m x\u001b[38;5;241m.\u001b[39mtocoo(copy\u001b[38;5;241m=\u001b[39m\u001b[38;5;28;01mTrue\u001b[39;00m)\n\u001b[1;32m    133\u001b[0m     x\u001b[38;5;241m.\u001b[39msum_duplicates()\n\u001b[0;32m--> 134\u001b[0m     \u001b[38;5;28;43mself\u001b[39;49m\u001b[38;5;241;43m.\u001b[39;49m\u001b[43m_set_arrayXarray_sparse\u001b[49m\u001b[43m(\u001b[49m\u001b[43mi\u001b[49m\u001b[43m,\u001b[49m\u001b[43m \u001b[49m\u001b[43mj\u001b[49m\u001b[43m,\u001b[49m\u001b[43m \u001b[49m\u001b[43mx\u001b[49m\u001b[43m)\u001b[49m\n\u001b[1;32m    135\u001b[0m \u001b[38;5;28;01melse\u001b[39;00m:\n\u001b[1;32m    136\u001b[0m     \u001b[38;5;66;03m# Make x and i into the same shape\u001b[39;00m\n\u001b[1;32m    137\u001b[0m     x \u001b[38;5;241m=\u001b[39m np\u001b[38;5;241m.\u001b[39masarray(x, dtype\u001b[38;5;241m=\u001b[39m\u001b[38;5;28mself\u001b[39m\u001b[38;5;241m.\u001b[39mdtype)\n",
      "File \u001b[0;32m~/anaconda3/envs/lropt_s/lib/python3.11/site-packages/scipy/sparse/_compressed.py:847\u001b[0m, in \u001b[0;36m_cs_matrix._set_arrayXarray_sparse\u001b[0;34m(self, row, col, x)\u001b[0m\n\u001b[1;32m    845\u001b[0m \u001b[38;5;66;03m# only assign entries in the new sparsity structure\u001b[39;00m\n\u001b[1;32m    846\u001b[0m i, j \u001b[38;5;241m=\u001b[39m \u001b[38;5;28mself\u001b[39m\u001b[38;5;241m.\u001b[39m_swap((row[r, c], col[r, c]))\n\u001b[0;32m--> 847\u001b[0m \u001b[38;5;28;43mself\u001b[39;49m\u001b[38;5;241;43m.\u001b[39;49m\u001b[43m_set_many\u001b[49m\u001b[43m(\u001b[49m\u001b[43mi\u001b[49m\u001b[43m,\u001b[49m\u001b[43m \u001b[49m\u001b[43mj\u001b[49m\u001b[43m,\u001b[49m\u001b[43m \u001b[49m\u001b[43mx\u001b[49m\u001b[43m)\u001b[49m\n",
      "File \u001b[0;32m~/anaconda3/envs/lropt_s/lib/python3.11/site-packages/scipy/sparse/_compressed.py:935\u001b[0m, in \u001b[0;36m_cs_matrix._set_many\u001b[0;34m(self, i, j, x)\u001b[0m\n\u001b[1;32m    933\u001b[0m j \u001b[38;5;241m=\u001b[39m j[mask]\n\u001b[1;32m    934\u001b[0m j[j \u001b[38;5;241m<\u001b[39m \u001b[38;5;241m0\u001b[39m] \u001b[38;5;241m+\u001b[39m\u001b[38;5;241m=\u001b[39m N\n\u001b[0;32m--> 935\u001b[0m \u001b[38;5;28;43mself\u001b[39;49m\u001b[38;5;241;43m.\u001b[39;49m\u001b[43m_insert_many\u001b[49m\u001b[43m(\u001b[49m\u001b[43mi\u001b[49m\u001b[43m,\u001b[49m\u001b[43m \u001b[49m\u001b[43mj\u001b[49m\u001b[43m,\u001b[49m\u001b[43m \u001b[49m\u001b[43mx\u001b[49m\u001b[43m[\u001b[49m\u001b[43mmask\u001b[49m\u001b[43m]\u001b[49m\u001b[43m)\u001b[49m\n",
      "File \u001b[0;32m~/anaconda3/envs/lropt_s/lib/python3.11/site-packages/scipy/sparse/_compressed.py:1025\u001b[0m, in \u001b[0;36m_cs_matrix._insert_many\u001b[0;34m(self, i, j, x)\u001b[0m\n\u001b[1;32m   1022\u001b[0m \u001b[38;5;28;01mif\u001b[39;00m do_sort:\n\u001b[1;32m   1023\u001b[0m     \u001b[38;5;66;03m# TODO: only sort where necessary\u001b[39;00m\n\u001b[1;32m   1024\u001b[0m     \u001b[38;5;28mself\u001b[39m\u001b[38;5;241m.\u001b[39mhas_sorted_indices \u001b[38;5;241m=\u001b[39m \u001b[38;5;28;01mFalse\u001b[39;00m\n\u001b[0;32m-> 1025\u001b[0m     \u001b[38;5;28;43mself\u001b[39;49m\u001b[38;5;241;43m.\u001b[39;49m\u001b[43msort_indices\u001b[49m\u001b[43m(\u001b[49m\u001b[43m)\u001b[49m\n\u001b[1;32m   1027\u001b[0m \u001b[38;5;28mself\u001b[39m\u001b[38;5;241m.\u001b[39mcheck_format(full_check\u001b[38;5;241m=\u001b[39m\u001b[38;5;28;01mFalse\u001b[39;00m)\n",
      "File \u001b[0;32m~/anaconda3/envs/lropt_s/lib/python3.11/site-packages/scipy/sparse/_compressed.py:1163\u001b[0m, in \u001b[0;36m_cs_matrix.sort_indices\u001b[0;34m(self)\u001b[0m\n\u001b[1;32m   1159\u001b[0m \u001b[38;5;250m\u001b[39m\u001b[38;5;124;03m\"\"\"Sort the indices of this matrix *in place*\u001b[39;00m\n\u001b[1;32m   1160\u001b[0m \u001b[38;5;124;03m\"\"\"\u001b[39;00m\n\u001b[1;32m   1162\u001b[0m \u001b[38;5;28;01mif\u001b[39;00m \u001b[38;5;129;01mnot\u001b[39;00m \u001b[38;5;28mself\u001b[39m\u001b[38;5;241m.\u001b[39mhas_sorted_indices:\n\u001b[0;32m-> 1163\u001b[0m     \u001b[43m_sparsetools\u001b[49m\u001b[38;5;241;43m.\u001b[39;49m\u001b[43mcsr_sort_indices\u001b[49m\u001b[43m(\u001b[49m\u001b[38;5;28;43mlen\u001b[39;49m\u001b[43m(\u001b[49m\u001b[38;5;28;43mself\u001b[39;49m\u001b[38;5;241;43m.\u001b[39;49m\u001b[43mindptr\u001b[49m\u001b[43m)\u001b[49m\u001b[43m \u001b[49m\u001b[38;5;241;43m-\u001b[39;49m\u001b[43m \u001b[49m\u001b[38;5;241;43m1\u001b[39;49m\u001b[43m,\u001b[49m\u001b[43m \u001b[49m\u001b[38;5;28;43mself\u001b[39;49m\u001b[38;5;241;43m.\u001b[39;49m\u001b[43mindptr\u001b[49m\u001b[43m,\u001b[49m\n\u001b[1;32m   1164\u001b[0m \u001b[43m                                  \u001b[49m\u001b[38;5;28;43mself\u001b[39;49m\u001b[38;5;241;43m.\u001b[39;49m\u001b[43mindices\u001b[49m\u001b[43m,\u001b[49m\u001b[43m \u001b[49m\u001b[38;5;28;43mself\u001b[39;49m\u001b[38;5;241;43m.\u001b[39;49m\u001b[43mdata\u001b[49m\u001b[43m)\u001b[49m\n\u001b[1;32m   1165\u001b[0m     \u001b[38;5;28mself\u001b[39m\u001b[38;5;241m.\u001b[39mhas_sorted_indices \u001b[38;5;241m=\u001b[39m \u001b[38;5;28;01mTrue\u001b[39;00m\n",
      "\u001b[0;31mKeyboardInterrupt\u001b[0m: "
     ]
    }
   ],
   "source": [
    "uncertainty_set = lropt.Ellipsoidal(rho=Gamma, p=1, lb=0, ub=dmax)\n",
    "u = lropt.UncertainParameter(n, uncertainty_set=uncertainty_set)\n",
    "\n",
    "# u = lropt.UncertainParameter(n,\n",
    "#                                 uncertainty_set = lropt.Ellipsoidal(p=2, data =np.ones((10,n))))\n",
    "# formulate cvxpy variable\n",
    "L = cp.Variable()\n",
    "x = cp.Variable(n)\n",
    "y_0 = cp.Variable((n,n))\n",
    "c = lropt.Parameter(n, data = 20*np.ones((10,n)))\n",
    "c.value=20*np.ones(n)\n",
    "y = {}\n",
    "for i in range(n):\n",
    "    y[i]={}\n",
    "    for j in range(n):\n",
    "        y[i][j] = cp.Variable(n)\n",
    "\n",
    "cons_expr = [c@x + cp.sum(cp.multiply(t,y_0)) + u@cp.sum([cp.sum([t[i,j]*y[i][j] for j in range(n)]) for i in range(n)]) - L]\n",
    "for i in range(n):\n",
    "    cons_expr += [((np.eye(n)[i]) - y_0[:,i] - cp.sum([y[j][i] for j in range(n)]) + y_0[i] + cp.sum([y[i][j] for j in range(n)]))@u -x[i]  ]\n",
    "    for j in range(n):\n",
    "        cons_expr +=[-y_0[i][j] - y[i][j]@u]  \n",
    "\n",
    "objective = cp.Minimize(L)\n",
    "constraints = [cp.maximum(*cons_expr)<=0]\n",
    "constraints += [x<=20, x>=0]\n",
    "eval_exp = c@x + cp.multiply(t,y_0) + u@cp.sum([cp.sum([t[i,j]*y[i][j] for j in range(n)]) for i in range(n)])\n",
    "# formulate Robust Problem\n",
    "prob = lropt.RobustProblem(objective, constraints,eval_exp = eval_exp )\n",
    "prob.solve()"
   ]
  },
  {
   "cell_type": "code",
   "execution_count": 58,
   "metadata": {},
   "outputs": [
    {
     "data": {
      "text/plain": [
       "array([ 5.03092920e-16,  6.04737415e-16,  3.93802706e-16,  1.72460016e-16,\n",
       "        1.53440950e-15,  8.09947497e-16,  1.66516743e-15,  1.11829820e-15,\n",
       "        5.21147456e-16,  4.52941990e-16,  6.71621629e-16,  1.68065779e-15,\n",
       "        1.57670304e-16,  1.12033652e-15, -1.46478715e-16,  5.06392201e-16,\n",
       "       -1.02986252e-16,  1.14387718e-15,  1.23013313e-15,  1.03202783e-15,\n",
       "       -2.73783784e-18,  1.82845596e-16, -3.87693205e-16,  1.48997478e-15,\n",
       "       -1.88623151e-16,  1.69698982e-15,  1.02530386e-15,  6.58673373e-16,\n",
       "        1.67467719e-15,  1.60089732e-15])"
      ]
     },
     "execution_count": 58,
     "metadata": {},
     "output_type": "execute_result"
    }
   ],
   "source": [
    "x.value"
   ]
  },
  {
   "cell_type": "code",
   "execution_count": 33,
   "metadata": {},
   "outputs": [],
   "source": [
    "x = cp.Variable(N)\n",
    "d = UncertainParameter(N, uncertainty_set=uncertainty_set)\n",
    "y_0 = cp.Variable((N,N))\n",
    "y_d = [cp.Variable((N,N)) for _ in range(N)]\n",
    "y = 0\n",
    "e = np.eye(N)\n",
    "for j in range(N):\n",
    "    y += y_d[j]*(e[j]@d)\n",
    "y += y_0\n",
    "\n",
    "#cp.multiply is elementwise multiplication\n",
    "# objective = cp.Minimize(cp.sum(c*x) + cp.sum(cp.multiply(t,y)))\n",
    "# constraints = [\n",
    "#                 d <= cp.sum(y, axis=0) - cp.sum(y, axis=1) + x,\n",
    "#                 y >= 0,\n",
    "#                 x >= 0,\n",
    "#                 x <= k,\n",
    "#               ]\n",
    "# prob = RobustProblem(objective=objective, constraints=constraints)\n",
    "# prob.solve()"
   ]
  },
  {
   "cell_type": "code",
   "execution_count": 35,
   "metadata": {},
   "outputs": [
    {
     "data": {
      "text/plain": [
       "-1.844877606758542e-09"
      ]
     },
     "execution_count": 35,
     "metadata": {},
     "output_type": "execute_result"
    }
   ],
   "source": [
    "objective = cp.Minimize(cp.sum(c*x))\n",
    "constraints = [d@np.ones(N) <= 110,\n",
    "                x >=0,\n",
    "              ]\n",
    "prob = RobustProblem(objective=objective, constraints=constraints)\n",
    "prob.solve()"
   ]
  },
  {
   "cell_type": "code",
   "execution_count": null,
   "metadata": {},
   "outputs": [],
   "source": []
  }
 ],
 "metadata": {
  "kernelspec": {
   "display_name": "lropt_cvxpy",
   "language": "python",
   "name": "python3"
  },
  "language_info": {
   "codemirror_mode": {
    "name": "ipython",
    "version": 3
   },
   "file_extension": ".py",
   "mimetype": "text/x-python",
   "name": "python",
   "nbconvert_exporter": "python",
   "pygments_lexer": "ipython3",
   "version": "3.11.0"
  }
 },
 "nbformat": 4,
 "nbformat_minor": 2
}
