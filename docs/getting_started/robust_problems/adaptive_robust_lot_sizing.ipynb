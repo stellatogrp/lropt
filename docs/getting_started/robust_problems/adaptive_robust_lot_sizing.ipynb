{
 "cells": [
  {
   "cell_type": "markdown",
   "metadata": {},
   "source": [
    "# Adaptive robust lot sizing"
   ]
  },
  {
   "cell_type": "code",
   "execution_count": 1,
   "metadata": {},
   "outputs": [],
   "source": [
    "import cvxpy as cp\n",
    "import numpy as np\n",
    "import torch\n",
    "import matplotlib.pyplot as plt\n",
    "\n",
    "import lropt\n",
    "from lropt.parameter import Parameter\n",
    "from lropt.robust_problem import RobustProblem\n",
    "from lropt.uncertain import UncertainParameter\n",
    "\n",
    "np.random.seed(seed=1234)"
   ]
  },
  {
   "cell_type": "code",
   "execution_count": 2,
   "metadata": {},
   "outputs": [],
   "source": [
    "N = 30\n",
    "c = 20\n",
    "K = 20\n",
    "dmax = 20\n",
    "Gamma = 20*np.sqrt(N)\n",
    "coordinates = 10*np.random.rand(2, N)\n",
    "t = ((coordinates[[0]] - coordinates[[0]].T) ** 2\n",
    "     + (coordinates[[1]] - coordinates[[1]].T) ** 2) ** 0.5"
   ]
  },
  {
   "cell_type": "code",
   "execution_count": 3,
   "metadata": {},
   "outputs": [],
   "source": [
    "uncertainty_set = lropt.Ellipsoidal(p=1, rho=Gamma, lb=0, ub=dmax)\n",
    "x = cp.Variable(N)\n",
    "d = UncertainParameter(N, uncertainty_set=uncertainty_set)\n",
    "y_0 = cp.Variable((N,N))\n",
    "y_d = [cp.Variable((N,N)) for _ in range(N)]\n",
    "y = 0\n",
    "for k in range(N):\n",
    "    y += y_d[k]*d[k]\n",
    "y += y_0\n",
    "\n",
    "#cp.multiply is elementwise multiplication\n",
    "objective = cp.Minimize(cp.sum(c*x) + cp.sum(cp.multiply(t,y)))\n",
    "constraints = [\n",
    "                d <= cp.sum(y, axis=0) - cp.sum(y, axis=1) + x,\n",
    "                y >= 0,\n",
    "                x >= 0,\n",
    "                x <= K,\n",
    "              ]\n",
    "prob = RobustProblem(objective=objective, constraints=constraints)"
   ]
  },
  {
   "cell_type": "code",
   "execution_count": 8,
   "metadata": {},
   "outputs": [
    {
     "data": {
      "text/plain": [
       "[UncertainParameter((30,))]"
      ]
     },
     "execution_count": 8,
     "metadata": {},
     "output_type": "execute_result"
    }
   ],
   "source": [
    "y.parameters()"
   ]
  },
  {
   "cell_type": "code",
   "execution_count": 4,
   "metadata": {},
   "outputs": [
    {
     "ename": "ValueError",
     "evalue": "DRP error: not able to process non multiplication/additions",
     "output_type": "error",
     "traceback": [
      "\u001b[0;31m---------------------------------------------------------------------------\u001b[0m",
      "\u001b[0;31mValueError\u001b[0m                                Traceback (most recent call last)",
      "\u001b[1;32m/Users/irina.wang/Desktop/Princeton/Project2/lropt/docs/getting_started/robust_problems/adaptive_robust_lot_sizing.ipynb Cell 5\u001b[0m line \u001b[0;36m1\n\u001b[0;32m----> <a href='vscode-notebook-cell:/Users/irina.wang/Desktop/Princeton/Project2/lropt/docs/getting_started/robust_problems/adaptive_robust_lot_sizing.ipynb#W4sZmlsZQ%3D%3D?line=0'>1</a>\u001b[0m prob\u001b[39m.\u001b[39;49msolve()\n",
      "File \u001b[0;32m~/Desktop/Princeton/Project2/lropt/lropt/robust_problem.py:1596\u001b[0m, in \u001b[0;36mRobustProblem.solve\u001b[0;34m(self, solver, warm_start, verbose, gp, qcp, requires_grad, enforce_dpp, ignore_dpp, canon_backend, **kwargs)\u001b[0m\n\u001b[1;32m   1593\u001b[0m \u001b[39melif\u001b[39;00m \u001b[39mself\u001b[39m\u001b[39m.\u001b[39muncertain_parameters():\n\u001b[1;32m   1594\u001b[0m     \u001b[39m# if no data is passed, no training is needed\u001b[39;00m\n\u001b[1;32m   1595\u001b[0m     \u001b[39mif\u001b[39;00m \u001b[39mself\u001b[39m\u001b[39m.\u001b[39muncertain_parameters()[\u001b[39m0\u001b[39m]\u001b[39m.\u001b[39muncertainty_set\u001b[39m.\u001b[39mdata \u001b[39mis\u001b[39;00m \u001b[39mNone\u001b[39;00m:\n\u001b[0;32m-> 1596\u001b[0m         \u001b[39mself\u001b[39;49m\u001b[39m.\u001b[39;49mdualize_constraints()\n\u001b[1;32m   1597\u001b[0m     \u001b[39melse\u001b[39;00m:\n\u001b[1;32m   1598\u001b[0m         \u001b[39m# if not MRO set and not trained\u001b[39;00m\n\u001b[1;32m   1599\u001b[0m         \u001b[39mif\u001b[39;00m \u001b[39mnot\u001b[39;00m \u001b[39mtype\u001b[39m(\u001b[39mself\u001b[39m\u001b[39m.\u001b[39muncertain_parameters()[\u001b[39m0\u001b[39m]\u001b[39m.\u001b[39muncertainty_set) \u001b[39m==\u001b[39m MRO:\n",
      "File \u001b[0;32m~/Desktop/Princeton/Project2/lropt/lropt/robust_problem.py:1563\u001b[0m, in \u001b[0;36mRobustProblem.dualize_constraints\u001b[0;34m(self, override)\u001b[0m\n\u001b[1;32m   1561\u001b[0m unc_reductions \u001b[39m+\u001b[39m\u001b[39m=\u001b[39m [RemoveUncertainParameters()]\n\u001b[1;32m   1562\u001b[0m newchain \u001b[39m=\u001b[39m UncertainChain(\u001b[39mself\u001b[39m, reductions\u001b[39m=\u001b[39munc_reductions)\n\u001b[0;32m-> 1563\u001b[0m prob, inverse_data \u001b[39m=\u001b[39m newchain\u001b[39m.\u001b[39;49mapply(\u001b[39mself\u001b[39;49m)\n\u001b[1;32m   1564\u001b[0m \u001b[39mself\u001b[39m\u001b[39m.\u001b[39mnew_prob \u001b[39m=\u001b[39m  prob\n\u001b[1;32m   1565\u001b[0m \u001b[39mself\u001b[39m\u001b[39m.\u001b[39minverse_data \u001b[39m=\u001b[39m inverse_data\n",
      "File \u001b[0;32m~/Desktop/Princeton/Project2/lropt/lropt/uncertain_canon/uncertain_chain.py:80\u001b[0m, in \u001b[0;36mUncertainChain.apply\u001b[0;34m(self, problem, verbose)\u001b[0m\n\u001b[1;32m     78\u001b[0m     \u001b[39mif\u001b[39;00m verbose:\n\u001b[1;32m     79\u001b[0m         s\u001b[39m.\u001b[39mLOGGER\u001b[39m.\u001b[39minfo(\u001b[39m'\u001b[39m\u001b[39mApplying reduction \u001b[39m\u001b[39m%s\u001b[39;00m\u001b[39m'\u001b[39m, \u001b[39mtype\u001b[39m(r)\u001b[39m.\u001b[39m\u001b[39m__name__\u001b[39m)\n\u001b[0;32m---> 80\u001b[0m     problem, inv \u001b[39m=\u001b[39m r\u001b[39m.\u001b[39;49mapply(problem)\n\u001b[1;32m     81\u001b[0m     inverse_data\u001b[39m.\u001b[39mappend(inv)\n\u001b[1;32m     82\u001b[0m \u001b[39mreturn\u001b[39;00m problem, inverse_data\n",
      "File \u001b[0;32m~/Desktop/Princeton/Project2/lropt/lropt/remove_uncertain/remove_uncertain.py:22\u001b[0m, in \u001b[0;36mRemoveUncertainParameters.apply\u001b[0;34m(self, problem)\u001b[0m\n\u001b[1;32m     20\u001b[0m \u001b[39mif\u001b[39;00m \u001b[39mnot\u001b[39;00m \u001b[39mself\u001b[39m\u001b[39m.\u001b[39maccepts(problem):\n\u001b[1;32m     21\u001b[0m     \u001b[39mraise\u001b[39;00m \u001b[39mValueError\u001b[39;00m(\u001b[39m\"\u001b[39m\u001b[39mCannot canonicalize uncertain problem atoms.\u001b[39m\u001b[39m\"\u001b[39m)\n\u001b[0;32m---> 22\u001b[0m \u001b[39mreturn\u001b[39;00m \u001b[39msuper\u001b[39;49m(RemoveUncertainParameters, \u001b[39mself\u001b[39;49m)\u001b[39m.\u001b[39;49mapply(problem)\n",
      "File \u001b[0;32m~/Desktop/Princeton/Project2/lropt/lropt/uncertain_canon/uncertain_canonicalization.py:67\u001b[0m, in \u001b[0;36mUncertain_Canonicalization.apply\u001b[0;34m(self, problem)\u001b[0m\n\u001b[1;32m     57\u001b[0m \u001b[39mfor\u001b[39;00m constraint \u001b[39min\u001b[39;00m new_constraints:\n\u001b[1;32m     58\u001b[0m     \u001b[39m# canon_constr is the constraint rexpressed in terms of\u001b[39;00m\n\u001b[1;32m     59\u001b[0m     \u001b[39m# its canonicalized arguments, and aux_constr are the constraints\u001b[39;00m\n\u001b[0;32m   (...)\u001b[0m\n\u001b[1;32m     62\u001b[0m     \u001b[39m# import ipdb\u001b[39;00m\n\u001b[1;32m     63\u001b[0m     \u001b[39m# ipdb.set_trace()\u001b[39;00m\n\u001b[1;32m     64\u001b[0m     \u001b[39mif\u001b[39;00m \u001b[39mself\u001b[39m\u001b[39m.\u001b[39mhas_unc_param(constraint):\n\u001b[1;32m     65\u001b[0m         \u001b[39m# import ipdb\u001b[39;00m\n\u001b[1;32m     66\u001b[0m         \u001b[39m# ipdb.set_trace()\u001b[39;00m\n\u001b[0;32m---> 67\u001b[0m         unc_lst, std_lst, is_max \u001b[39m=\u001b[39m \u001b[39mself\u001b[39;49m\u001b[39m.\u001b[39;49mseparate_uncertainty(\n\u001b[1;32m     68\u001b[0m             constraint)\n\u001b[1;32m     69\u001b[0m         \u001b[39mif\u001b[39;00m is_max:\n\u001b[1;32m     70\u001b[0m             unc_lst_tot \u001b[39m=\u001b[39m []\n",
      "File \u001b[0;32m~/Desktop/Princeton/Project2/lropt/lropt/uncertain_canon/uncertain_canonicalization.py:389\u001b[0m, in \u001b[0;36mUncertain_Canonicalization.separate_uncertainty\u001b[0;34m(self, expr)\u001b[0m\n\u001b[1;32m    386\u001b[0m \u001b[39m# import ipdb\u001b[39;00m\n\u001b[1;32m    387\u001b[0m \u001b[39m# ipdb.set_trace()\u001b[39;00m\n\u001b[1;32m    388\u001b[0m func \u001b[39m=\u001b[39m sep_methods[\u001b[39mtype\u001b[39m(expr)]\n\u001b[0;32m--> 389\u001b[0m \u001b[39mreturn\u001b[39;00m func(\u001b[39mself\u001b[39;49m, expr)\n",
      "File \u001b[0;32m~/Desktop/Princeton/Project2/lropt/lropt/uncertain_canon/separate_uncertainty/inequality_sep.py:2\u001b[0m, in \u001b[0;36minequality_sep\u001b[0;34m(unc_canon, expr)\u001b[0m\n\u001b[1;32m      1\u001b[0m \u001b[39mdef\u001b[39;00m \u001b[39minequality_sep\u001b[39m(unc_canon, expr):\n\u001b[0;32m----> 2\u001b[0m     \u001b[39mreturn\u001b[39;00m unc_canon\u001b[39m.\u001b[39;49mseparate_uncertainty(expr\u001b[39m.\u001b[39;49margs[\u001b[39m0\u001b[39;49m] \u001b[39m+\u001b[39;49m \u001b[39m-\u001b[39;49m\u001b[39m1\u001b[39;49m\u001b[39m*\u001b[39;49mexpr\u001b[39m.\u001b[39;49margs[\u001b[39m1\u001b[39;49m])\n",
      "File \u001b[0;32m~/Desktop/Princeton/Project2/lropt/lropt/uncertain_canon/uncertain_canonicalization.py:389\u001b[0m, in \u001b[0;36mUncertain_Canonicalization.separate_uncertainty\u001b[0;34m(self, expr)\u001b[0m\n\u001b[1;32m    386\u001b[0m \u001b[39m# import ipdb\u001b[39;00m\n\u001b[1;32m    387\u001b[0m \u001b[39m# ipdb.set_trace()\u001b[39;00m\n\u001b[1;32m    388\u001b[0m func \u001b[39m=\u001b[39m sep_methods[\u001b[39mtype\u001b[39m(expr)]\n\u001b[0;32m--> 389\u001b[0m \u001b[39mreturn\u001b[39;00m func(\u001b[39mself\u001b[39;49m, expr)\n",
      "File \u001b[0;32m~/Desktop/Princeton/Project2/lropt/lropt/uncertain_canon/separate_uncertainty/addexpression_sep.py:8\u001b[0m, in \u001b[0;36maddexpression_sep\u001b[0;34m(unc_canon, expr)\u001b[0m\n\u001b[1;32m      6\u001b[0m \u001b[39mfor\u001b[39;00m arg \u001b[39min\u001b[39;00m expr\u001b[39m.\u001b[39margs:\n\u001b[1;32m      7\u001b[0m     \u001b[39mif\u001b[39;00m unc_canon\u001b[39m.\u001b[39mhas_unc_param(arg):\n\u001b[0;32m----> 8\u001b[0m         unc_lst_0, std_lst_0, is_max \u001b[39m=\u001b[39m unc_canon\u001b[39m.\u001b[39;49mseparate_uncertainty(arg)\n\u001b[1;32m      9\u001b[0m         \u001b[39mif\u001b[39;00m is_max \u001b[39m==\u001b[39m \u001b[39m0\u001b[39m:\n\u001b[1;32m     10\u001b[0m             unc_lst \u001b[39m=\u001b[39m unc_lst \u001b[39m+\u001b[39m unc_lst_0\n",
      "File \u001b[0;32m~/Desktop/Princeton/Project2/lropt/lropt/uncertain_canon/uncertain_canonicalization.py:389\u001b[0m, in \u001b[0;36mUncertain_Canonicalization.separate_uncertainty\u001b[0;34m(self, expr)\u001b[0m\n\u001b[1;32m    386\u001b[0m \u001b[39m# import ipdb\u001b[39;00m\n\u001b[1;32m    387\u001b[0m \u001b[39m# ipdb.set_trace()\u001b[39;00m\n\u001b[1;32m    388\u001b[0m func \u001b[39m=\u001b[39m sep_methods[\u001b[39mtype\u001b[39m(expr)]\n\u001b[0;32m--> 389\u001b[0m \u001b[39mreturn\u001b[39;00m func(\u001b[39mself\u001b[39;49m, expr)\n",
      "File \u001b[0;32m~/Desktop/Princeton/Project2/lropt/lropt/uncertain_canon/separate_uncertainty/multiply_sep.py:38\u001b[0m, in \u001b[0;36mmultiply_sep\u001b[0;34m(unc_canon, expr)\u001b[0m\n\u001b[1;32m     35\u001b[0m \u001b[39mif\u001b[39;00m unc_canon\u001b[39m.\u001b[39mhas_unc_param(non_unc_param):\n\u001b[1;32m     36\u001b[0m     non_unc_param, unc_param \u001b[39m=\u001b[39m expr\u001b[39m.\u001b[39margs\n\u001b[0;32m---> 38\u001b[0m unc_lst, std_lst, is_max \u001b[39m=\u001b[39m unc_canon\u001b[39m.\u001b[39;49mseparate_uncertainty(unc_param)\n\u001b[1;32m     39\u001b[0m \u001b[39mif\u001b[39;00m \u001b[39mtype\u001b[39m(non_unc_param) \u001b[39mnot\u001b[39;00m \u001b[39min\u001b[39;00m SEPARATION_SUB_METHODS:\n\u001b[1;32m     40\u001b[0m     \u001b[39mif\u001b[39;00m is_max \u001b[39m==\u001b[39m \u001b[39m0\u001b[39m:\n",
      "File \u001b[0;32m~/Desktop/Princeton/Project2/lropt/lropt/uncertain_canon/uncertain_canonicalization.py:389\u001b[0m, in \u001b[0;36mUncertain_Canonicalization.separate_uncertainty\u001b[0;34m(self, expr)\u001b[0m\n\u001b[1;32m    386\u001b[0m \u001b[39m# import ipdb\u001b[39;00m\n\u001b[1;32m    387\u001b[0m \u001b[39m# ipdb.set_trace()\u001b[39;00m\n\u001b[1;32m    388\u001b[0m func \u001b[39m=\u001b[39m sep_methods[\u001b[39mtype\u001b[39m(expr)]\n\u001b[0;32m--> 389\u001b[0m \u001b[39mreturn\u001b[39;00m func(\u001b[39mself\u001b[39;49m, expr)\n",
      "File \u001b[0;32m~/Desktop/Princeton/Project2/lropt/lropt/uncertain_canon/separate_uncertainty/addexpression_sep.py:8\u001b[0m, in \u001b[0;36maddexpression_sep\u001b[0;34m(unc_canon, expr)\u001b[0m\n\u001b[1;32m      6\u001b[0m \u001b[39mfor\u001b[39;00m arg \u001b[39min\u001b[39;00m expr\u001b[39m.\u001b[39margs:\n\u001b[1;32m      7\u001b[0m     \u001b[39mif\u001b[39;00m unc_canon\u001b[39m.\u001b[39mhas_unc_param(arg):\n\u001b[0;32m----> 8\u001b[0m         unc_lst_0, std_lst_0, is_max \u001b[39m=\u001b[39m unc_canon\u001b[39m.\u001b[39;49mseparate_uncertainty(arg)\n\u001b[1;32m      9\u001b[0m         \u001b[39mif\u001b[39;00m is_max \u001b[39m==\u001b[39m \u001b[39m0\u001b[39m:\n\u001b[1;32m     10\u001b[0m             unc_lst \u001b[39m=\u001b[39m unc_lst \u001b[39m+\u001b[39m unc_lst_0\n",
      "File \u001b[0;32m~/Desktop/Princeton/Project2/lropt/lropt/uncertain_canon/uncertain_canonicalization.py:384\u001b[0m, in \u001b[0;36mUncertain_Canonicalization.separate_uncertainty\u001b[0;34m(self, expr)\u001b[0m\n\u001b[1;32m    381\u001b[0m     \u001b[39mreturn\u001b[39;00m [expr], [], \u001b[39m0\u001b[39m\n\u001b[1;32m    383\u001b[0m \u001b[39melif\u001b[39;00m \u001b[39mtype\u001b[39m(expr) \u001b[39mnot\u001b[39;00m \u001b[39min\u001b[39;00m sep_methods:\n\u001b[0;32m--> 384\u001b[0m     \u001b[39mraise\u001b[39;00m \u001b[39mValueError\u001b[39;00m(\n\u001b[1;32m    385\u001b[0m         \u001b[39m\"\u001b[39m\u001b[39mDRP error: not able to process non multiplication/additions\u001b[39m\u001b[39m\"\u001b[39m)\n\u001b[1;32m    386\u001b[0m \u001b[39m# import ipdb\u001b[39;00m\n\u001b[1;32m    387\u001b[0m \u001b[39m# ipdb.set_trace()\u001b[39;00m\n\u001b[1;32m    388\u001b[0m func \u001b[39m=\u001b[39m sep_methods[\u001b[39mtype\u001b[39m(expr)]\n",
      "\u001b[0;31mValueError\u001b[0m: DRP error: not able to process non multiplication/additions"
     ]
    }
   ],
   "source": [
    "prob.solve()"
   ]
  },
  {
   "cell_type": "code",
   "execution_count": null,
   "metadata": {},
   "outputs": [],
   "source": []
  }
 ],
 "metadata": {
  "kernelspec": {
   "display_name": "lropt_cvxpy",
   "language": "python",
   "name": "python3"
  },
  "language_info": {
   "codemirror_mode": {
    "name": "ipython",
    "version": 3
   },
   "file_extension": ".py",
   "mimetype": "text/x-python",
   "name": "python",
   "nbconvert_exporter": "python",
   "pygments_lexer": "ipython3",
   "version": "3.11.0"
  }
 },
 "nbformat": 4,
 "nbformat_minor": 2
}
