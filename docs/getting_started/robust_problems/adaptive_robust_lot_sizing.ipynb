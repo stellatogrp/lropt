{
 "cells": [
  {
   "cell_type": "markdown",
   "metadata": {},
   "source": [
    "# Adaptive robust lot sizing"
   ]
  },
  {
   "cell_type": "code",
   "execution_count": 1,
   "metadata": {},
   "outputs": [],
   "source": [
    "import cvxpy as cp\n",
    "import numpy as np\n",
    "import torch\n",
    "import matplotlib.pyplot as plt\n",
    "\n",
    "import lropt\n",
    "from lropt.parameter import Parameter\n",
    "from lropt.robust_problem import RobustProblem\n",
    "from lropt.uncertain import UncertainParameter\n",
    "\n",
    "np.random.seed(seed=1234)"
   ]
  },
  {
   "cell_type": "code",
   "execution_count": 3,
   "metadata": {},
   "outputs": [],
   "source": [
    "N = 30\n",
    "c = 20\n",
    "dmax = 20\n",
    "Gamma = 20*np.sqrt(N)\n",
    "coordinates = 10*np.random.rand(2, N)\n",
    "t = ((coordinates[[0]] - coordinates[[0]].T) ** 2\n",
    "     + (coordinates[[1]] - coordinates[[1]].T) ** 2) ** 0.5"
   ]
  },
  {
   "cell_type": "code",
   "execution_count": 6,
   "metadata": {},
   "outputs": [],
   "source": [
    "uncertainty_set = lropt.Ellipsoidal(rho=1, p=Gamma, lb=0, ub=dmax)\n",
    "x = cp.Variable(N)\n",
    "y = cp.Variable((N,N))\n",
    "d = UncertainParameter(N, uncertainty_set=uncertainty_set)\n",
    "\n",
    "objective = cp.Minimize(cp.sum(c*x) + cp.sum(t@y))\n",
    "constraints = [\n",
    "                d <= cp.sum(y, axis=0) - cp.sum(y, axis=1) + x,\n",
    "                y >= 0,\n",
    "                x >= 0,\n",
    "                x <= c,\n",
    "              ]"
   ]
  }
 ],
 "metadata": {
  "kernelspec": {
   "display_name": "lropt_cvxpy",
   "language": "python",
   "name": "python3"
  },
  "language_info": {
   "codemirror_mode": {
    "name": "ipython",
    "version": 3
   },
   "file_extension": ".py",
   "mimetype": "text/x-python",
   "name": "python",
   "nbconvert_exporter": "python",
   "pygments_lexer": "ipython3",
   "version": "3.11.5"
  }
 },
 "nbformat": 4,
 "nbformat_minor": 2
}
