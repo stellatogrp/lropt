{
 "cells": [
  {
   "cell_type": "markdown",
   "metadata": {},
   "source": [
    "# Adaptive robust lot sizing"
   ]
  },
  {
   "cell_type": "markdown",
   "metadata": {},
   "source": [
    "This tutorial shows how to construct and solve the Adaptive robust lot sizing optimization problem. The problem can be formulated as follows:\n",
    "$$\n",
    "\\begin{align}\n",
    "\\min_{\\mathbf{x},\\mathbf{Y}}\\; &\\mathbf{c}^T\\mathbf{x} + \\sum_{i=1}^N\\sum_{j=1}^N t_{i,j}y_{i,j}\\nonumber \\\\\n",
    "\n",
    "\\text{s.t. } & \\mathbf{d} \\leq \\sum_{i=1}^N \\mathbf{y}_{i}^R - \\sum_{i=1}^N \\mathbf{y}_{i}^C + \\mathbf{x} \\nonumber \\\\\n",
    "\n",
    "&\\mathbf{0} \\leq \\mathbf{x}\\leq \\mathbf{k} \\nonumber \\\\\n",
    "\n",
    "&\\mathbf{d}\\in \\left\\{\\mathbf{d}: \\mathbf{0}\\leq \\mathbf{d}\\leq \\mathbf{d}_{max},\\; \\sum_{i=1}^N d_i \\leq \\Gamma\\right\\} \\nonumber \\\\\n",
    "\\end{align}\n",
    "$$\n",
    "\n",
    "where $\\mathbf{d}\\in\\mathbb{R}^N$ is the uncertain demand vector, $\\mathbf{Y}\\in\\mathbb{R}^{N\\times N}$ is the stock matrix, i.e. $y_{i,j}$ stock can be transported from location $i$ to location $j$ at cost $t_{i,j}$. $\\mathbf{y}_i^R, \\mathbf{y}_i^C$ denote the $i$-th row/column of $\\mathbf{Y}$, respectively. The stock matrix $\\mathbf{Y}$ depends on the demand $\\mathbf{d}$ and can be written as\n",
    "$$\n",
    "\\mathbf{Y} = \\mathbf{Y^0} + \\sum_{i=1}^{N}\\mathbf{Y}_i^d d_i\n",
    "$$\n",
    "where $\\mathbf{Y}^0, \\left\\{ \\mathbf{Y}_i^d \\right\\}_i \\in \\mathbb{R}^{N\\times N}$."
   ]
  },
  {
   "cell_type": "code",
   "execution_count": 1,
   "metadata": {},
   "outputs": [],
   "source": [
    "import cvxpy as cp\n",
    "import numpy as np\n",
    "\n",
    "import lropt\n",
    "from lropt.robust_problem import RobustProblem\n",
    "from lropt.uncertain import UncertainParameter\n",
    "\n",
    "np.random.seed(seed=1234)"
   ]
  },
  {
   "cell_type": "markdown",
   "metadata": {},
   "source": [
    "We define the constants as shown below:"
   ]
  },
  {
   "cell_type": "code",
   "execution_count": 2,
   "metadata": {},
   "outputs": [],
   "source": [
    "N = 30\n",
    "c = 20\n",
    "k = 20\n",
    "dmax = 20\n",
    "Gamma = 20*np.sqrt(N)\n",
    "coordinates = 10*np.random.rand(2, N)\n",
    "t = ((coordinates[[0]] - coordinates[[0]].T) ** 2\n",
    "     + (coordinates[[1]] - coordinates[[1]].T) ** 2) ** 0.5"
   ]
  },
  {
   "cell_type": "markdown",
   "metadata": {},
   "source": [
    "The problem is defined and solved as shown below. Note that $\\mathbf{Y}$ is defined indirectly through $\\mathbf{Y}^0, \\left\\{ \\mathbf{Y}_i^d \\right\\}_i$, and is a function of the demand vector $\\mathbf{d}$."
   ]
  },
  {
   "cell_type": "code",
   "execution_count": 3,
   "metadata": {},
   "outputs": [],
   "source": [
    "uncertainty_set = lropt.Ellipsoidal(rho=Gamma, p=1, lb=0, ub=dmax)\n",
    "x = cp.Variable(N)\n",
    "d = UncertainParameter(N, uncertainty_set=uncertainty_set)\n",
    "y_0 = cp.Variable((N,N))\n",
    "y_d = [cp.Variable((N,N)) for _ in range(N)]\n",
    "y = 0\n",
    "for j in range(N):\n",
    "    y += y_d[j]*d[j]\n",
    "y += y_0\n",
    "\n",
    "#cp.multiply is elementwise multiplication\n",
    "objective = cp.Minimize(cp.sum(c*x) + cp.sum(cp.multiply(t,y)))\n",
    "constraints = [\n",
    "                d <= cp.sum(y, axis=0) - cp.sum(y, axis=1) + x,\n",
    "                y >= 0,\n",
    "                x >= 0,\n",
    "                x <= k,\n",
    "              ]\n",
    "prob = RobustProblem(objective=objective, constraints=constraints)\n",
    "prob.solve()"
   ]
  }
 ],
 "metadata": {
  "kernelspec": {
   "display_name": "lropt_cvxpy",
   "language": "python",
   "name": "python3"
  },
  "language_info": {
   "codemirror_mode": {
    "name": "ipython",
    "version": 3
   },
   "file_extension": ".py",
   "mimetype": "text/x-python",
   "name": "python",
   "nbconvert_exporter": "python",
   "pygments_lexer": "ipython3",
   "version": "3.11.5"
  }
 },
 "nbformat": 4,
 "nbformat_minor": 2
}
