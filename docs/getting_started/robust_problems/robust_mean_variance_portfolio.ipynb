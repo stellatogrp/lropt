{
 "cells": [
  {
   "cell_type": "markdown",
   "metadata": {},
   "source": [
    "## Robust Mean - Variance Portfolio Optimization (WORK IN PROGRESS)\n",
    "\n",
    "Robust portfolio optimization is a variant of traditional portfolio optimization. The objective is to allocate a total investment amount across different assets to maximize the portfolio's expected return, while ensuring a very low probability (e.g., 0.5%) that the actual return falls below this expected value. This approach addresses the uncertainty inherent in portfolio returns, making it a robust optimization problem.\n"
   ]
  },
  {
   "cell_type": "markdown",
   "metadata": {},
   "source": [
    "Consider an example where we have n = 200 assets. Let $r_i$ denote the return of the $i$-th asset. The return on Asset #200 $r_{n}=1.05$ has zero variability. The returns of the remaining assets $r_i$, $\\forall i \\in [n - 1]$, are random variables taking values in the intervals $[\\mu_i - \\sigma_i ,\\mu_i + \\sigma_i  ]$. $\\vec{\\mu}$ and $\\vec{\\sigma}$ are defined as:\n",
    "\n",
    "$$ \\mu_i = 1.05 + \\frac{0.3\\left(n - i\\right)}{n - 1} , \\space \\sigma_i = 0.05 + \\frac{0.6\\left(n - i\\right)}{n - 1}, \\space \\forall i \\in [n - 1] $$\n",
    "\n"
   ]
  },
  {
   "cell_type": "markdown",
   "metadata": {},
   "source": [
    "To solve this problem, we first import the required packages and generate the data. "
   ]
  },
  {
   "cell_type": "code",
   "execution_count": 6,
   "metadata": {},
   "outputs": [],
   "source": [
    "import lropt\n",
    "import cvxpy as cp\n",
    "import numpy as np\n",
    "import warnings\n",
    "from scipy.sparse import SparseEfficiencyWarning\n",
    "warnings.filterwarnings('ignore', category=UserWarning, module='cvxpy')\n",
    "warnings.filterwarnings('ignore', category=SparseEfficiencyWarning)\n"
   ]
  },
  {
   "cell_type": "code",
   "execution_count": 7,
   "metadata": {},
   "outputs": [],
   "source": [
    "N = 200\n",
    "GUARENTEED_RETURN = 1.05\n",
    "b2 = 0.3\n",
    "b3 = 0.05\n",
    "b4 = 0.6\n",
    "\n",
    "mu = np.zeros(N - 1)\n",
    "for i in range(N - 1):\n",
    "    mu_i = GUARENTEED_RETURN + b2 * (N - i) / (N- 1)\n",
    "    mu[i] = mu_i  \n",
    "\n",
    "sigma = np.zeros(N - 1)\n",
    "for i in range(N - 1):\n",
    "    sigma_i = b3 + b4 * (N - i) / (N - 1)\n",
    "    sigma[i] = sigma_i \n"
   ]
  },
  {
   "cell_type": "markdown",
   "metadata": {},
   "source": [
    "The problem we want to solve is the uncertain linear optimization problem:\n",
    "\n",
    "$$ \n",
    "\\begin{aligned}\n",
    "& \\text{maximize} \\quad t\\\\\n",
    "& \\text{subject to} \\\\\n",
    "& \\mu^T \\vec{x} + \\sigma^T \\vec{x} + 1.05x_{n} \\geq t , \\\\\n",
    "& 1^T\\vec{x}= 1, \\\\\n",
    "& \\vec{x} \\geq 0\n",
    "\\end{aligned}\n",
    "$$\n",
    "\n",
    "$ x_i $ is the capital to be invested in asset $i$. The guarenteed yearly return is 1.05.\n",
    "\n"
   ]
  },
  {
   "cell_type": "markdown",
   "metadata": {},
   "source": [
    "In this problem, the uncertain data are the retuns $r_i = \\mu_i + \\sigma_i z_i, i \\in [199]$ where $z_i, i\\in[199]$, are independant random variables with zero mean varying in the segments $[-1, 1]$. The robust counterpart to the uncertain linear optimization problem is:\n",
    "\n",
    "\n",
    "$$ \n",
    "\\begin{aligned}\n",
    "& \\text{maximize} \\quad t\\\\\n",
    "& \\text{subject to} \\\\\n",
    "& (\\vec{\\mu} + \\sigma^T \\vec{z})\\vec{x} + 1.05x_{n - 1} \\geq t , \\quad \\forall z \\in \\mathcal{Z} \\\\\n",
    "& 1^T\\vec{x}= 1, \\\\\n",
    "& \\vec{x} \\geq 0\n",
    "\\end{aligned}\n",
    "$$\n",
    "\n",
    "for a variety of uncertainty sets $ \\mathcal{Z} $. \n"
   ]
  },
  {
   "cell_type": "markdown",
   "metadata": {},
   "source": [
    "In the following snippet, we solve this problem using three uncertainty sets and compare the results. (ADD FORMULATIONS FOR UNCERTAINTY SETS)"
   ]
  },
  {
   "cell_type": "code",
   "execution_count": 9,
   "metadata": {},
   "outputs": [
    {
     "name": "stdout",
     "output_type": "stream",
     "text": [
      "The robust optimal value using ellipsoidal uncertainty is 1.05\n",
      "The robust optimal value using budget uncertainty is 1.05\n",
      "The robust optimal value using box uncertainty is 1.05\n"
     ]
    }
   ],
   "source": [
    "uncertainty_sets = [lropt.Ellipsoidal(p = 2, rho = 2), lropt.Budget(), lropt.Box(rho = 1, a = np.diag(sigma))]\n",
    "names = ['ellipsoidal', 'budget', 'box']\n",
    "num_dec = 3\n",
    "\n",
    "for uc in enumerate(uncertainty_sets):\n",
    "    t = cp.Variable()\n",
    "    x = cp.Variable(N, nonneg=True)\n",
    "    z = lropt.UncertainParameter(N - 1, uncertainty_set=uc[1])\n",
    "\n",
    "    constraints = [\n",
    "    (mu + sigma @ z) @ x[:(N-1)] + GUARENTEED_RETURN * x[-1] >=t,\n",
    "    cp.sum(x) == 1\n",
    "    ]\n",
    "    objective = cp.Maximize(t)\n",
    "    prob = lropt.RobustProblem(objective, constraints)\n",
    "    prob.solve()\n",
    "    \n",
    "    print(f\"The robust optimal value using {names[uc[0]]} uncertainty is {round(float(t.value), num_dec)}\")"
   ]
  },
  {
   "cell_type": "markdown",
   "metadata": {},
   "source": [
    "The value $t$ is the guarenteed return on the entire portfolio. Looking at the results without rounding, there is a very slight difference in the three values."
   ]
  }
 ],
 "metadata": {
  "kernelspec": {
   "display_name": "lropt_v1",
   "language": "python",
   "name": "python3"
  },
  "language_info": {
   "codemirror_mode": {
    "name": "ipython",
    "version": 3
   },
   "file_extension": ".py",
   "mimetype": "text/x-python",
   "name": "python",
   "nbconvert_exporter": "python",
   "pygments_lexer": "ipython3",
   "version": "3.12.2"
  }
 },
 "nbformat": 4,
 "nbformat_minor": 2
}
