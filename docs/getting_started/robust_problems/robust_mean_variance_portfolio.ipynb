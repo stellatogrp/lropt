{
 "cells": [
  {
   "cell_type": "markdown",
   "metadata": {},
   "source": [
    "## Robust Mean - Variance Portfolio Optimization\n",
    "\n",
    "Robust portfolio optimization is a variant of traditional portfolio optimization. The objective is to allocate a total investment amount across different assets to maximize the portfolio's expected return, while ensuring a very low probability (e.g., 0.5%) that the actual return falls below this expected value. This approach addresses the uncertainty inherent in portfolio returns, making it a robust optimization problem."
   ]
  },
  {
   "cell_type": "markdown",
   "metadata": {},
   "source": [
    "In the example taken from Bertsimas and Den Hertog (2015) [1], Section 3.4, we have n = 200 assets. Let $r_i$ denote the return of the $i$-th asset. The return on Asset #200 $r_{n}=1.05$ has zero variability. The returns of the remaining assets $r_i$, $\\forall i \\in [n - 1]$, are random variables taking values in the intervals $[\\mu_i - \\sigma_i ,\\mu_i + \\sigma_i  ]$. $\\vec{\\mu}$ and $\\vec{\\sigma}$ are defined as:\n",
    "\n",
    "$$ \\mu_i = 1.05 + \\frac{0.3\\left(n - i\\right)}{n - 1} , \\space \\sigma_i = 0.05 + \\frac{0.6\\left(n - i\\right)}{n - 1}, \\space \\forall i \\in [n - 1] $$\n",
    "\n"
   ]
  },
  {
   "cell_type": "markdown",
   "metadata": {},
   "source": [
    "To solve this problem, we first import the required packages and generate the data. "
   ]
  },
  {
   "cell_type": "code",
   "execution_count": 1,
   "metadata": {},
   "outputs": [],
   "source": [
    "import lropt\n",
    "import cvxpy as cp\n",
    "import numpy as np\n",
    "import warnings\n",
    "import altair as alt\n",
    "import pandas as pd\n",
    "from scipy.sparse import SparseEfficiencyWarning\n",
    "warnings.filterwarnings('ignore', category=UserWarning, module='cvxpy')\n",
    "warnings.filterwarnings('ignore', category=SparseEfficiencyWarning)\n"
   ]
  },
  {
   "cell_type": "code",
   "execution_count": 2,
   "metadata": {},
   "outputs": [],
   "source": [
    "N = 200\n",
    "GUARANTEED_RETURN = 1.05\n",
    "b2 = 0.3\n",
    "b3 = 0.05\n",
    "b4 = 0.6\n",
    "P = 2\n",
    "RHO_VALUES = [0.5, 1.0, 1.5, 2.0] \n",
    "mu = np.zeros(N - 1)\n",
    "for i in range(N - 1):\n",
    "    mu_i = GUARANTEED_RETURN + b2 * (N - i) / (N- 1)\n",
    "    mu[i] = mu_i  \n",
    "\n",
    "sigma = np.zeros(N - 1)\n",
    "for i in range(N - 1):\n",
    "    sigma_i = b3 + b4 * (N - i) / (N - 1)\n",
    "    sigma[i] = sigma_i \n"
   ]
  },
  {
   "cell_type": "markdown",
   "metadata": {},
   "source": [
    "The problem we want to solve is the uncertain linear optimization problem:\n",
    "\n",
    "$$ \n",
    "\\begin{aligned}\n",
    "& \\text{maximize} \\quad t\\\\\n",
    "& \\text{subject to} \\quad \\mu^T x + \\sigma^T x + 1.05x \\geq t , \\\\\n",
    "& 1^T x= 1, \\\\\n",
    "& x \\geq 0\n",
    "\\end{aligned}\n",
    "$$\n",
    "\n",
    "$ x_i $ is the capital to be invested in asset $i$. The guarenteed yearly return is 1.05.\n",
    "\n"
   ]
  },
  {
   "cell_type": "markdown",
   "metadata": {},
   "source": [
    "In this problem, the uncertain data are the retuns $r_i = \\mu_i + \\sigma_i z_i, i \\in [199]$ where $z_i, i\\in[199]$, are independant random variables with zero mean varying in the segments $[-1, 1]$. The robust counterpart to the uncertain linear optimization problem is:\n",
    "\n",
    "\n",
    "$$ \n",
    "\\begin{aligned}\n",
    "& \\text{maximize} \\quad t\\\\\n",
    "& \\text{subject to} \\quad (\\mu + \\sigma^T z)x + 1.05x \\geq t , \\quad \\forall z \\in \\mathcal{Z}, \\\\\n",
    "& 1^Tx= 1, \\\\\n",
    "& x \\geq 0\n",
    "\\end{aligned}\n",
    "$$\n",
    "\n",
    "for a variety of uncertainty sets $ \\mathcal{Z} $. "
   ]
  },
  {
   "cell_type": "markdown",
   "metadata": {},
   "source": [
    "In the following snippet, we solve this problem using  Ellipsoidal, Box and Budget uncertainty sets and compare the results. The definitions for each cells are the following: \n",
    "\n",
    "Budget : $ \\mathcal{U}_{\\text{budget}} = \\{Az+b \\ | \\ \\|z \\|_\\infty \\le \\rho_1,\n",
    "        \\|z \\|_1 \\leq \\rho_2\\} $\n",
    "\n",
    "Ellipsoidal : $\\mathcal{U}_{\\text{ellips}} = \\{Az+b \\ | \\ \\| z\\|_2 \\le \\rho\\}$\n"
   ]
  },
  {
   "cell_type": "code",
   "execution_count": 3,
   "metadata": {},
   "outputs": [],
   "source": [
    "names = ['ellipsoidal', 'budget', 'box']\n",
    "results = []\n",
    "for rho in RHO_VALUES:\n",
    "    uncertainty_sets = [lropt.Ellipsoidal(rho = rho, a = np.diag(sigma), b = mu), lropt.Budget(rho1 = rho, rho2 = rho, b= mu, a = np.diag(sigma)), lropt.Box(rho = rho, a = np.diag(sigma), b = mu)]\n",
    "    \n",
    "    for uc in enumerate(uncertainty_sets):\n",
    "\n",
    "        t = cp.Variable()\n",
    "        x = cp.Variable(N, nonneg=True)\n",
    "        z = lropt.UncertainParameter(N - 1, uncertainty_set=uc[1])\n",
    "\n",
    "        constraints = [\n",
    "        (mu + sigma @ z) @ x[:(N-1)] + GUARANTEED_RETURN * x[-1] >=t,\n",
    "        cp.sum(x) == 1\n",
    "        ]\n",
    "\n",
    "        objective = cp.Maximize(t)\n",
    "        prob = lropt.RobustProblem(objective, constraints)\n",
    "        prob.solve()\n",
    "        results.append({\n",
    "            'rho': rho,\n",
    "            'uncertainty_set': names[uc[0]],\n",
    "            'robust_value': float(t.value)\n",
    "        })"
   ]
  },
  {
   "cell_type": "code",
   "execution_count": 4,
   "metadata": {},
   "outputs": [
    {
     "data": {
      "text/html": [
       "\n",
       "<style>\n",
       "  #altair-viz-4583305193a64059ae39ba9e64873539.vega-embed {\n",
       "    width: 100%;\n",
       "    display: flex;\n",
       "  }\n",
       "\n",
       "  #altair-viz-4583305193a64059ae39ba9e64873539.vega-embed details,\n",
       "  #altair-viz-4583305193a64059ae39ba9e64873539.vega-embed details summary {\n",
       "    position: relative;\n",
       "  }\n",
       "</style>\n",
       "<div id=\"altair-viz-4583305193a64059ae39ba9e64873539\"></div>\n",
       "<script type=\"text/javascript\">\n",
       "  var VEGA_DEBUG = (typeof VEGA_DEBUG == \"undefined\") ? {} : VEGA_DEBUG;\n",
       "  (function(spec, embedOpt){\n",
       "    let outputDiv = document.currentScript.previousElementSibling;\n",
       "    if (outputDiv.id !== \"altair-viz-4583305193a64059ae39ba9e64873539\") {\n",
       "      outputDiv = document.getElementById(\"altair-viz-4583305193a64059ae39ba9e64873539\");\n",
       "    }\n",
       "    const paths = {\n",
       "      \"vega\": \"https://cdn.jsdelivr.net/npm/vega@5?noext\",\n",
       "      \"vega-lib\": \"https://cdn.jsdelivr.net/npm/vega-lib?noext\",\n",
       "      \"vega-lite\": \"https://cdn.jsdelivr.net/npm/vega-lite@5.17.0?noext\",\n",
       "      \"vega-embed\": \"https://cdn.jsdelivr.net/npm/vega-embed@6?noext\",\n",
       "    };\n",
       "\n",
       "    function maybeLoadScript(lib, version) {\n",
       "      var key = `${lib.replace(\"-\", \"\")}_version`;\n",
       "      return (VEGA_DEBUG[key] == version) ?\n",
       "        Promise.resolve(paths[lib]) :\n",
       "        new Promise(function(resolve, reject) {\n",
       "          var s = document.createElement('script');\n",
       "          document.getElementsByTagName(\"head\")[0].appendChild(s);\n",
       "          s.async = true;\n",
       "          s.onload = () => {\n",
       "            VEGA_DEBUG[key] = version;\n",
       "            return resolve(paths[lib]);\n",
       "          };\n",
       "          s.onerror = () => reject(`Error loading script: ${paths[lib]}`);\n",
       "          s.src = paths[lib];\n",
       "        });\n",
       "    }\n",
       "\n",
       "    function showError(err) {\n",
       "      outputDiv.innerHTML = `<div class=\"error\" style=\"color:red;\">${err}</div>`;\n",
       "      throw err;\n",
       "    }\n",
       "\n",
       "    function displayChart(vegaEmbed) {\n",
       "      vegaEmbed(outputDiv, spec, embedOpt)\n",
       "        .catch(err => showError(`Javascript Error: ${err.message}<br>This usually means there's a typo in your chart specification. See the javascript console for the full traceback.`));\n",
       "    }\n",
       "\n",
       "    if(typeof define === \"function\" && define.amd) {\n",
       "      requirejs.config({paths});\n",
       "      require([\"vega-embed\"], displayChart, err => showError(`Error loading script: ${err.message}`));\n",
       "    } else {\n",
       "      maybeLoadScript(\"vega\", \"5\")\n",
       "        .then(() => maybeLoadScript(\"vega-lite\", \"5.17.0\"))\n",
       "        .then(() => maybeLoadScript(\"vega-embed\", \"6\"))\n",
       "        .catch(showError)\n",
       "        .then(() => displayChart(vegaEmbed));\n",
       "    }\n",
       "  })({\"config\": {\"view\": {\"continuousWidth\": 300, \"continuousHeight\": 300}}, \"data\": {\"name\": \"data-8ea311f420c5dbacfadca00f151d4a1f\"}, \"mark\": {\"type\": \"line\", \"color\": \"black\", \"point\": true}, \"encoding\": {\"color\": {\"field\": \"uncertainty_set\", \"scale\": {\"scheme\": \"set1\"}, \"title\": \"Uncertainty Set\", \"type\": \"nominal\"}, \"strokeDash\": {\"field\": \"uncertainty_set\", \"title\": \"Uncertainty Set\", \"type\": \"nominal\"}, \"tooltip\": [{\"field\": \"rho\", \"title\": \"Rho\", \"type\": \"ordinal\"}, {\"field\": \"robust_value\", \"title\": \"Robust Value\", \"type\": \"quantitative\"}, {\"field\": \"uncertainty_set\", \"title\": \"Uncertainty Set\", \"type\": \"nominal\"}], \"x\": {\"axis\": {\"grid\": false, \"labelFontSize\": 12, \"titleFontSize\": 14}, \"field\": \"rho\", \"title\": \"Rho Value\", \"type\": \"ordinal\"}, \"y\": {\"axis\": {\"grid\": true, \"labelFontSize\": 12, \"titleFontSize\": 14}, \"field\": \"robust_value\", \"title\": \"Robust Value\", \"type\": \"quantitative\"}}, \"height\": 500, \"params\": [{\"name\": \"param_1\", \"select\": {\"type\": \"interval\", \"encodings\": [\"x\", \"y\"]}, \"bind\": \"scales\"}], \"title\": \"Trade-off Curves for Robust Portfolio Optimization\", \"width\": 700, \"$schema\": \"https://vega.github.io/schema/vega-lite/v5.17.0.json\", \"datasets\": {\"data-8ea311f420c5dbacfadca00f151d4a1f\": [{\"rho\": 0.5, \"uncertainty_set\": \"ellipsoidal\", \"robust_value\": 87.74459095563665}, {\"rho\": 0.5, \"uncertainty_set\": \"budget\", \"robust_value\": 88.94275298670252}, {\"rho\": 0.5, \"uncertainty_set\": \"box\", \"robust_value\": 73.66524251916074}, {\"rho\": 1.0, \"uncertainty_set\": \"ellipsoidal\", \"robust_value\": 86.33321457458987}, {\"rho\": 1.0, \"uncertainty_set\": \"budget\", \"robust_value\": 88.72953863795945}, {\"rho\": 1.0, \"uncertainty_set\": \"box\", \"robust_value\": 58.17454754946674}, {\"rho\": 1.5, \"uncertainty_set\": \"ellipsoidal\", \"robust_value\": 84.92183819354311}, {\"rho\": 1.5, \"uncertainty_set\": \"budget\", \"robust_value\": 88.51632428853102}, {\"rho\": 1.5, \"uncertainty_set\": \"box\", \"robust_value\": 42.68383768858729}, {\"rho\": 2.0, \"uncertainty_set\": \"ellipsoidal\", \"robust_value\": 83.5104618124963}, {\"rho\": 2.0, \"uncertainty_set\": \"budget\", \"robust_value\": 88.30310995864616}, {\"rho\": 2.0, \"uncertainty_set\": \"box\", \"robust_value\": 27.193128139738455}]}}, {\"mode\": \"vega-lite\"});\n",
       "</script>"
      ],
      "text/plain": [
       "alt.Chart(...)"
      ]
     },
     "metadata": {},
     "output_type": "display_data"
    }
   ],
   "source": [
    "df = pd.DataFrame(results)\n",
    "chart = alt.Chart(df).mark_line(point=True, color='black').encode(\n",
    "    x=alt.X('rho:O', title='Rho Value', axis=alt.Axis(grid=False, titleFontSize=14, labelFontSize=12)),\n",
    "    y=alt.Y('robust_value:Q', title='Robust Value', axis=alt.Axis(grid=True, titleFontSize=14, labelFontSize=12)),\n",
    "    color=alt.Color('uncertainty_set:N', title='Uncertainty Set', scale=alt.Scale(scheme='set1')),\n",
    "    strokeDash=alt.StrokeDash('uncertainty_set:N', title='Uncertainty Set'),\n",
    "    tooltip=[\n",
    "        alt.Tooltip('rho:O', title='Rho'),\n",
    "        alt.Tooltip('robust_value:Q', title='Robust Value'),\n",
    "        alt.Tooltip('uncertainty_set:N', title='Uncertainty Set')\n",
    "    ]\n",
    ").properties(\n",
    "    title='Trade-off Curves for Robust Portfolio Optimization',\n",
    "    width=700,  \n",
    "    height=500  \n",
    ").interactive() \n",
    "chart.show()"
   ]
  },
  {
   "cell_type": "code",
   "execution_count": 8,
   "metadata": {},
   "outputs": [
    {
     "data": {
      "text/plain": [
       "[{'rho': 0.5,\n",
       "  'uncertainty_set': 'ellipsoidal',\n",
       "  'robust_value': 87.74459095563665},\n",
       " {'rho': 0.5, 'uncertainty_set': 'budget', 'robust_value': 88.94275298670252},\n",
       " {'rho': 0.5, 'uncertainty_set': 'box', 'robust_value': 73.66524251916074},\n",
       " {'rho': 1.0,\n",
       "  'uncertainty_set': 'ellipsoidal',\n",
       "  'robust_value': 86.33321457458987},\n",
       " {'rho': 1.0, 'uncertainty_set': 'budget', 'robust_value': 88.72953863795945},\n",
       " {'rho': 1.0, 'uncertainty_set': 'box', 'robust_value': 58.17454754946674},\n",
       " {'rho': 1.5,\n",
       "  'uncertainty_set': 'ellipsoidal',\n",
       "  'robust_value': 84.92183819354311},\n",
       " {'rho': 1.5, 'uncertainty_set': 'budget', 'robust_value': 88.51632428853102},\n",
       " {'rho': 1.5, 'uncertainty_set': 'box', 'robust_value': 42.68383768858729},\n",
       " {'rho': 2.0,\n",
       "  'uncertainty_set': 'ellipsoidal',\n",
       "  'robust_value': 83.5104618124963},\n",
       " {'rho': 2.0, 'uncertainty_set': 'budget', 'robust_value': 88.30310995864616},\n",
       " {'rho': 2.0, 'uncertainty_set': 'box', 'robust_value': 27.193128139738455}]"
      ]
     },
     "execution_count": 8,
     "metadata": {},
     "output_type": "execute_result"
    }
   ],
   "source": [
    "results"
   ]
  },
  {
   "cell_type": "code",
   "execution_count": 16,
   "metadata": {},
   "outputs": [
    {
     "data": {
      "image/png": "[encoded data removed]",
      "text/plain": [
       "<Figure size 1000x700 with 1 Axes>"
      ]
     },
     "metadata": {},
     "output_type": "display_data"
    }
   ],
   "source": [
    "import matplotlib.pyplot as plt\n",
    "df = pd.DataFrame(results)\n",
    "\n",
    "\n",
    "df['risk'] = 100 - df['robust_value']  # Example of simulated risk (lower robust_value, higher risk)\n",
    "\n",
    "# Define colors and line styles\n",
    "colors = {'ellipsoidal': 'blue', 'budget': 'green', 'box': 'red'}\n",
    "linestyles = {'ellipsoidal': '-', 'budget': '--', 'box': '-.'}\n",
    "\n",
    "# Create plot\n",
    "fig, ax = plt.subplots(figsize=(10, 7))\n",
    "\n",
    "# Plot risk versus return for each uncertainty set\n",
    "for label in df['uncertainty_set'].unique():\n",
    "    subset = df[df['uncertainty_set'] == label]\n",
    "    ax.plot(subset['risk'], subset['robust_value'],\n",
    "            marker='o',\n",
    "            color=colors[label],\n",
    "            linestyle=linestyles[label],\n",
    "            label=label)\n",
    "\n",
    "# Set labels and title\n",
    "ax.set_xlabel('Risk (Simulated)', fontsize=14)\n",
    "ax.set_ylabel('Return (Robust Value)', fontsize=14)\n",
    "ax.set_title('Trade-off Curve for Risk vs. Return', fontsize=16)\n",
    "\n",
    "# Set grid and customize ticks\n",
    "ax.grid(True)\n",
    "ax.tick_params(axis='both', which='major', labelsize=12)\n",
    "\n",
    "# Create legend\n",
    "ax.legend(title='Uncertainty Set')\n",
    "\n",
    "# Show plot\n",
    "plt.show()\n"
   ]
  },
  {
   "cell_type": "markdown",
   "metadata": {},
   "source": [
    "# References\n",
    "\n",
    "1. Bertsimas, Dimitris, and Dick Den Hertog. Robust and Adaptive Optimization. [Dynamic Ideas LLC], 2022."
   ]
  }
 ],
 "metadata": {
  "kernelspec": {
   "display_name": "lropt_v1",
   "language": "python",
   "name": "python3"
  },
  "language_info": {
   "codemirror_mode": {
    "name": "ipython",
    "version": 3
   },
   "file_extension": ".py",
   "mimetype": "text/x-python",
   "name": "python",
   "nbconvert_exporter": "python",
   "pygments_lexer": "ipython3",
   "version": "3.12.2"
  }
 },
 "nbformat": 4,
 "nbformat_minor": 2
}
