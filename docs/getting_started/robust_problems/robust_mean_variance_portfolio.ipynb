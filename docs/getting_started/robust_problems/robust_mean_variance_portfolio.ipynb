{
 "cells": [
  {
   "cell_type": "markdown",
   "metadata": {},
   "source": [
    "## Robust Portfolio Optimization\n",
    "\n",
    "Robust portfolio optimization is a variant of traditional portfolio optimization. The objective is to allocate a total investment amount across different assets to maximize the portfolio's expected return, while ensuring a very low probability (e.g., 0.5%) that the actual return falls below this expected value. This approach addresses the uncertainty inherent in portfolio returns, making it a robust optimization problem.\n"
   ]
  },
  {
   "cell_type": "markdown",
   "metadata": {},
   "source": [
    "Consider an example where we have n = 200 assets. Let $r_i$ denote the return of the $i$-th asset. The return on Asset #200 $r_{n}=1.05$ has zero variability. The returns of the remaining assets $r_i$, $\\forall i \\in [n - 1]$, are random variables taking values in the intervals $[\\mu_i - \\sigma_i ,\\mu_i + \\sigma_i  ]$. $\\vec{\\mu}$ and $\\vec{\\sigma}$ are defined as:\n",
    "\n",
    "$$ \\mu_i = 1.05 + \\frac{0.3\\left(n - i\\right)}{n - 1} , \\space \\sigma_i = 0.05 + \\frac{0.6\\left(n - i\\right)}{n - 1}, \\space \\forall i \\in [n - 1] $$\n",
    "\n"
   ]
  },
  {
   "cell_type": "markdown",
   "metadata": {},
   "source": [
    "To solve this problem, we first import the required packages and generate the data. "
   ]
  },
  {
   "cell_type": "code",
   "execution_count": 1,
   "metadata": {},
   "outputs": [],
   "source": [
    "import lropt\n",
    "import cvxpy as cp\n",
    "import numpy as np\n",
    "import warnings\n",
    "warnings.simplefilter(action='ignore', category=FutureWarning)\n",
    "warnings.simplefilter(action='ignore', category=UserWarning)"
   ]
  },
  {
   "cell_type": "code",
   "execution_count": 2,
   "metadata": {},
   "outputs": [],
   "source": [
    "n = 200\n",
    "b1 = 1.05\n",
    "b2 = 0.3\n",
    "b3 = 0.05\n",
    "b4 = 0.6\n",
    "\n",
    "mu = np.zeros(n)\n",
    "for i in range(1, n + 1):\n",
    "    mu_i = b1 + b2 * (n - i) / (n - 1)\n",
    "    mu[i - 1] = mu_i  \n",
    "\n",
    "sigma = np.zeros(n)\n",
    "for i in range(1, n + 1):\n",
    "    sigma_i = b3 + b4 * (n - i) / (n - 1)\n",
    "    sigma[i - 1] = sigma_i \n",
    "\n",
    "r = np.zeros(n)\n",
    "for i in range(n):\n",
    "    r_i = np.random.uniform(mu[i] - sigma[i], mu[i] + sigma[i])\n",
    "    r[i] = r_i"
   ]
  },
  {
   "cell_type": "markdown",
   "metadata": {},
   "source": [
    "The problem we want to solve is the uncertain Linear Optimization problem:\n",
    "\n",
    "$$ \n",
    "\\begin{aligned}\n",
    "& \\text{maximize} \\quad t\\\\\n",
    "& \\text{subject to} \\\\\n",
    "& \\mu^T \\vec{x} - \\sigma^T \\vec{x} + 1.05x_{n} \\geq t , \\\\\n",
    "& 1^T\\vec{x}= 1, \\\\\n",
    "& \\vec{x} \\geq 0\n",
    "\\end{aligned}\n",
    "$$\n",
    "\n",
    "$ x_i $ is the capital to be invested in asset $i$. The guarenteed yearly return is 1.05, and the worst possible return is $ r_i = \\mu_i - \\sigma_i $ for the uncertain returns. The robust optimal solution is *guarenteed* to keep the initial capital in the bank.\n",
    "\n",
    "\n"
   ]
  },
  {
   "cell_type": "markdown",
   "metadata": {},
   "source": [
    "The uncertain data are the retuns $r_i = \\mu_i + \\sigma_i z_i, i \\in [199]$ where $z_i, i\\in[199]$, are independant random variables with zero mean varying in the segments $[-1, 1]$."
   ]
  },
  {
   "cell_type": "markdown",
   "metadata": {},
   "source": [
    "The robust counterpart to the initial optimization problem is:\n",
    "\n",
    "\n",
    "$$ \n",
    "\\begin{aligned}\n",
    "& \\text{maximize} \\quad t\\\\\n",
    "& \\text{subject to} \\\\\n",
    "& \\mu^T \\vec{x} - \\sigma^T \\vec{x} + 1.05x_{n} \\geq t , \\quad \\forall z \\in \\mathcal{Z} \\\\\n",
    "& 1^T\\vec{x}= 1, \\\\\n",
    "& \\vec{x} \\geq 0\n",
    "\\end{aligned}\n",
    "$$\n",
    "\n",
    "for a variety of uncertainty sets $ \\mathcal{Z} $. \n"
   ]
  },
  {
   "cell_type": "code",
   "execution_count": 3,
   "metadata": {},
   "outputs": [],
   "source": [
    "t = cp.Variable()\n",
    "x = cp.Variable(n, nonneg=True)"
   ]
  },
  {
   "cell_type": "markdown",
   "metadata": {},
   "source": [
    "In the following snippet, we solve this problem using three uncertainty sets and compare the results."
   ]
  },
  {
   "cell_type": "code",
   "execution_count": 4,
   "metadata": {},
   "outputs": [
    {
     "name": "stdout",
     "output_type": "stream",
     "text": [
      "The robust optimal value using ellipsoidal uncertainty is 1.007\n",
      "The robust optimal value using budget uncertainty is 1.013\n",
      "The robust optimal value using box uncertainty is 1.0\n"
     ]
    }
   ],
   "source": [
    "uncertainty_sets = [lropt.Ellipsoidal(), lropt.Budget(), lropt.Box()]\n",
    "names = ['ellipsoidal', 'budget', 'box']\n",
    "num_dec = 3\n",
    "\n",
    "for uc in enumerate(uncertainty_sets):\n",
    "    t = cp.Variable()\n",
    "    x = cp.Variable(n, nonneg=True)\n",
    "    uncertainty_param = lropt.UncertainParameter(n, uncertainty_set=uc[1])\n",
    "\n",
    "    constraints = [\n",
    "        cp.sum(cp.multiply((cp.multiply(uncertainty_param,sigma) + mu), x)) + b1 * x[n - 1] >= t,\n",
    "        cp.sum(x) == 1,\n",
    "        x >= 0\n",
    "    ]\n",
    "\n",
    "    objective = cp.Maximize(t)\n",
    "\n",
    "    robust_prob = lropt.RobustProblem(objective, constraints)\n",
    "    print(f\"The robust optimal value using {names[uc[0]]} uncertainty is {round(robust_prob.solve(), num_dec)}\")\n"
   ]
  }
 ],
 "metadata": {
  "kernelspec": {
   "display_name": "lropt_v1",
   "language": "python",
   "name": "python3"
  },
  "language_info": {
   "codemirror_mode": {
    "name": "ipython",
    "version": 3
   },
   "file_extension": ".py",
   "mimetype": "text/x-python",
   "name": "python",
   "nbconvert_exporter": "python",
   "pygments_lexer": "ipython3",
   "version": "3.12.2"
  }
 },
 "nbformat": 4,
 "nbformat_minor": 2
}
