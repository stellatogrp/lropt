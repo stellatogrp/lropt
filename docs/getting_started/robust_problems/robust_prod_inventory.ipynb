{
 "cells": [
  {
   "cell_type": "markdown",
   "metadata": {},
   "source": [
    "## Robust Production - Inventory"
   ]
  },
  {
   "cell_type": "markdown",
   "metadata": {},
   "source": [
    "The production inventory problem is one that addresses uncertainty in inventory management scenarios. The objective is to minimize the costs associated with inventory management while ensuring that customer demand is met consistently over a planning horizon. Since the demand is uncertain and varies within a specific bound, this problem can be classified as a robust optimization problem."
   ]
  },
  {
   "cell_type": "markdown",
   "metadata": {},
   "source": [
    "We can consider a single product inventory system which is comprised of a warehouse and $I$ factories. The planning horizon is $T$ periods. At period $t$:\n",
    "- $d_t$ is the demand of the product that is uncertain\n",
    "- $v(t)$ is the amount of product in the warehouse at the beginning of a period\n",
    "- $p_i(t)$ is the amount of product to be produced during period $t$ by factory $i$ and is used to satisfy the demand of the period\n",
    "- $P_i(t)$ is the maximal production capacity of factory $i$ in time period $t$\n",
    "- $c_i(t)$ is the cost of producing a unit of product at factory $i$ in time period $t$\n",
    "- $Q_i(t)$ is the maximal cumulative production capacity of factory $i$ in time period $t$\n",
    "- $V_{min}$ and $V_{max}$ are the minimal and maximal storage capacity of the warehouse, respectively"
   ]
  },
  {
   "cell_type": "markdown",
   "metadata": {},
   "source": [
    "With this information, the robust counterpart to the problem can be modeled into the following linear program:"
   ]
  },
  {
   "cell_type": "markdown",
   "metadata": {},
   "source": [
    "$$\n",
    "\\begin{aligned}\n",
    "& \\text{minimize} \\quad  F \\\\\n",
    "& \\text{subject to} \\\\\n",
    "& \\vec{c(t)}^T\\vec{p(t)} \\leq F,\\\\\n",
    "& 0 \\leq p_i(t) \\leq P_i(t),\\\\\n",
    "& 1^T\\vec{p(t)} \\leq Q_i,\\\\\n",
    "& V_{min} \\leq v(1) + 1^T\\vec{p} - 1^T\\vec{d} \\leq V_{max}\\\\\n",
    "\n",
    "\\end{aligned}\n",
    "$$\n"
   ]
  },
  {
   "cell_type": "markdown",
   "metadata": {},
   "source": [
    "To solve an example of this problem, we first import the required packages and generate the data. "
   ]
  },
  {
   "cell_type": "code",
   "execution_count": 30,
   "metadata": {},
   "outputs": [],
   "source": [
    "import numpy as np \n",
    "import cvxpy as cp \n",
    "import lropt\n",
    "import warnings\n",
    "from scipy.sparse import SparseEfficiencyWarning\n",
    "warnings.filterwarnings('ignore', category=UserWarning, module='cvxpy')\n",
    "warnings.filterwarnings('ignore', category=SparseEfficiencyWarning)"
   ]
  },
  {
   "cell_type": "markdown",
   "metadata": {},
   "source": [
    "In our example, we consider $I$ = 3 factories producing a product in one warehouse. The time horizon $T$ is 24 periods. The  maximal production capacity of each one of the factories at each two-weeks period is $P_i(t) = 567$, and the integral production capacity of each one of the factories for a year is $Q = 13600$. The inventory at the warehouse should not be less then $500$ units, and cannot exceed $2000$ units. Initially, the inventory sits at $500$ units."
   ]
  },
  {
   "cell_type": "code",
   "execution_count": 31,
   "metadata": {},
   "outputs": [],
   "source": [
    "np.random.seed(1)\n",
    "T = 24 #number of periods\n",
    "I = 3 #number of factories\n",
    "V_MIN = 500\n",
    "V_MAX = 2000\n",
    "HALF = 0.5\n",
    "SEASONAL_MULTIPLIER = 1000\n",
    "INTEGRAL_CAPACITY = 13600\n",
    "RHO = 18284138416584168\n",
    "V_INITIAL = 500\n",
    "MAX_CAPACITY = 567\n",
    "PROPORTION = 0.2\n",
    "\n",
    "P = np.full((I, T), MAX_CAPACITY)\n",
    "Q = [INTEGRAL_CAPACITY]*I\n",
    "\n",
    "F = cp.Variable(nonneg = True)\n",
    "p = cp.Variable((I,T), nonneg = True)\n"
   ]
  },
  {
   "cell_type": "markdown",
   "metadata": {},
   "source": [
    "The production cost for a factory $i$ at a period $t$ is given by:\n",
    "$$\n",
    "\\begin{align*}\n",
    "c_i(t) =  \\alpha_i \\left(1 - \\frac{1}{2} \\sin \\left(\\frac{\\pi (t-1)}{12}\\right)\\right), \\quad t  \\in [1, 2, ... ,24] \\\\\n",
    "\\alpha_i \\in [1, 1.5, 2]\n",
    "\\end{align*}\n",
    "$$"
   ]
  },
  {
   "cell_type": "code",
   "execution_count": 32,
   "metadata": {},
   "outputs": [],
   "source": [
    "c = [] \n",
    "alphas = np.array([1, 1.5, 2])\n",
    "\n",
    "for t in range (1, T+1):\n",
    "    c.append((alphas * (1 + HALF*np.sin(np.pi*(t-1)/(T*HALF)))).flatten())\n",
    "c = np.array(c).T\n"
   ]
  },
  {
   "cell_type": "markdown",
   "metadata": {},
   "source": [
    "In the robust optimization context, the demand is considered uncertain and seasonal, reaching its peak in winter. Specifically, the demand follows a seasonal pattern represented by:\n",
    "$$\n",
    "\\begin{align*}\n",
    "d^*(t) =  1000\\left(1 - \\frac{1}{2} \\sin \\left(\\frac{\\pi (t-1)}{12}\\right)\\right), \\quad  t  \\in [1, 2, ... ,24] \\\\\n",
    "\\end{align*}\n",
    "$$\n",
    "To handle this uncertainty, we adopt an ellipsoidal uncertainty model. This approach allows us to define bounds for the uncertain set using parameters $c$ and $d$. Within this frameework, $F, p$ and $v$ are variables in CVXPY.\n",
    "\n",
    "In this setup, robust optimization ensures that the decisions made are resilient against variations in demand within an uncertainty level of $20\\%$. This robustness is achieved by optimizing over a range of possible demand scenarios rather than relying on a single forecast."
   ]
  },
  {
   "cell_type": "code",
   "execution_count": 33,
   "metadata": {},
   "outputs": [],
   "source": [
    "t_values = np.arange(1, T + 1)\n",
    "d_star = SEASONAL_MULTIPLIER * (1 + HALF * np.sin(np.pi * (t_values - 1) / (T * HALF)))\n",
    "\n",
    "# Construct lhs\n",
    "eye_matrix = np.eye(T)\n",
    "neg_eye_matrix = -np.eye(T)\n",
    "lhs = np.concatenate((eye_matrix, neg_eye_matrix), axis=0)\n",
    "\n",
    "# Construct rhs\n",
    "rhs_upper = (1 + PROPORTION) * d_star\n",
    "rhs_lower = (-1 + PROPORTION) * d_star\n",
    "rhs = np.hstack((rhs_upper, rhs_lower))\n",
    "\n",
    "# Uncertain parameter definition\n",
    "d = lropt.UncertainParameter(T, uncertainty_set=lropt.Norm(rho=RHO, c=lhs, d=rhs))"
   ]
  },
  {
   "cell_type": "markdown",
   "metadata": {},
   "source": [
    "Next, as mentioned earlier, we will define all the constraints of the problem in a list."
   ]
  },
  {
   "cell_type": "code",
   "execution_count": 34,
   "metadata": {},
   "outputs": [],
   "source": [
    "constraints = [\n",
    "    cp.sum(cp.multiply(c, p)) <= F,\n",
    "    p <= P,\n",
    "    cp.sum(p) <= Q[0],\n",
    "    V_MIN <= cp.sum(p) - cp.sum(d) + V_INITIAL,\n",
    "    cp.sum(p) - cp.sum(d) + V_INITIAL <= V_MAX\n",
    "]"
   ]
  },
  {
   "cell_type": "markdown",
   "metadata": {},
   "source": [
    "Finally, we can define the objective and solve the problem. "
   ]
  },
  {
   "cell_type": "code",
   "execution_count": 35,
   "metadata": {},
   "outputs": [
    {
     "name": "stdout",
     "output_type": "stream",
     "text": [
      "The robust optimal value is 2.3576801416664123e-09\n"
     ]
    }
   ],
   "source": [
    "objective = cp.Minimize(F)\n",
    "prob = lropt.RobustProblem(objective, constraints)\n",
    "prob.solve()\n",
    "sol = F.value\n",
    "print(f\"The robust optimal value is {sol}\")"
   ]
  }
 ],
 "metadata": {
  "kernelspec": {
   "display_name": "lropt_v1",
   "language": "python",
   "name": "python3"
  },
  "language_info": {
   "codemirror_mode": {
    "name": "ipython",
    "version": 3
   },
   "file_extension": ".py",
   "mimetype": "text/x-python",
   "name": "python",
   "nbconvert_exporter": "python",
   "pygments_lexer": "ipython3",
   "version": "3.12.2"
  }
 },
 "nbformat": 4,
 "nbformat_minor": 2
}
