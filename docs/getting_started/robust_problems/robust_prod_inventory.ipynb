{
 "cells": [
  {
   "cell_type": "markdown",
   "metadata": {},
   "source": [
    "## Robust Production - Inventory (WORK IN PROGRESS)"
   ]
  },
  {
   "cell_type": "markdown",
   "metadata": {},
   "source": [
    "The production inventory problem is one that addresses uncertainty in inventory management scenarios. The objective is to minimize the costs associated with inventory management while ensuring that customer demand is met consistently over a planning horizon. Since the demand is uncertain and varies within a specific bound, this problem can be classified as a robust optimization problem."
   ]
  },
  {
   "cell_type": "markdown",
   "metadata": {},
   "source": [
    "Taking the example introduced in Ben-Tal et al. (2004) [1], let us consider a single product inventory system which is comprised of a warehouse and $I$ factories. The planning horizon is $T$ periods. At period $t$:\n",
    "- $d_t$ is the demand of the product that is uncertain\n",
    "- $v(t)$ is the amount of product in the warehouse at the beginning of a period\n",
    "- $p_i(t)$ is the amount of product to be produced during period $t$ by factory $i$ and is used to satisfy the demand of the period\n",
    "- $P_i(t)$ is the maximal production capacity of factory $i$ in time period $t$\n",
    "- $c_i(t)$ is the cost of producing a unit of product at factory $i$ in time period $t$\n",
    "- $Q_i(t)$ is the maximal cumulative production capacity of factory $i$ in time period $t$\n",
    "- $V_{min}$ and $V_{max}$ are the minimal and maximal storage capacity of the warehouse, respectively"
   ]
  },
  {
   "cell_type": "markdown",
   "metadata": {},
   "source": [
    "With this information, the robust counterpart to the problem can be modeled into the following linear program:"
   ]
  },
  {
   "cell_type": "markdown",
   "metadata": {},
   "source": [
    "$$\n",
    "\\begin{aligned}\n",
    "& \\text{minimize} \\quad  F \\\\\n",
    "& \\text{subject to} \\quad c(t)^Tp(t) \\leq F, \\\\\n",
    "& 0 \\leq p(t) \\leq P(t),\\\\\n",
    "& 1^Tp(t) \\leq Q,\\\\\n",
    "& V_{min} \\leq v(1) + 1^Tp - 1^Td \\leq V_{max}\\\\\n",
    "\n",
    "\\end{aligned}\n",
    "$$\n"
   ]
  },
  {
   "cell_type": "markdown",
   "metadata": {},
   "source": [
    "We first import the required packages and generate the data. "
   ]
  },
  {
   "cell_type": "code",
   "execution_count": 1,
   "metadata": {},
   "outputs": [],
   "source": [
    "import numpy as np \n",
    "import cvxpy as cp \n",
    "import lropt\n",
    "import warnings\n",
    "import matplotlib.pyplot as plt\n",
    "from scipy.sparse import SparseEfficiencyWarning\n",
    "warnings.filterwarnings('ignore', category=UserWarning, module='cvxpy')\n",
    "warnings.filterwarnings('ignore', category=SparseEfficiencyWarning)"
   ]
  },
  {
   "cell_type": "markdown",
   "metadata": {},
   "source": [
    "Next, we can consider $I$ = 3 factories producing a product in one warehouse. The time horizon $T$ is 24 periods. The  maximal production capacity of each one of the factories at each two-weeks period is $P_i(t) = 567$, and the integral production capacity of each one of the factories for a year is $Q = 13600$. The inventory at the warehouse should not be less then $500$ units, and cannot exceed $2000$ units. Initially, the inventory sits at $500$ units."
   ]
  },
  {
   "cell_type": "code",
   "execution_count": 2,
   "metadata": {},
   "outputs": [],
   "source": [
    "np.random.seed(1)\n",
    "T = 24 #number of periods\n",
    "I = 3 #number of factories\n",
    "V_MIN = 300 # The lower and upper bounds must be relaxed for larger uncertainty, or the problem becomes infeasible\n",
    "V_MAX = 10000\n",
    "HALF = 0.5\n",
    "SEASONAL_MULTIPLIER = 1000\n",
    "INTEGRAL_CAPACITY = 13600\n",
    "RHO = 1\n",
    "V_INITIAL = 500\n",
    "MAX_CAPACITY = 567\n",
    "PROPORTION = 0.2\n",
    "\n",
    "P = np.full((I, T), MAX_CAPACITY)\n",
    "Q = [INTEGRAL_CAPACITY]*I\n",
    "\n",
    "F = cp.Variable(nonneg = True)\n",
    "p = cp.Variable((I,T), nonneg = True)\n"
   ]
  },
  {
   "cell_type": "markdown",
   "metadata": {},
   "source": [
    "The production cost for a factory $i$ at a period $t$ is given by:\n",
    "$$\n",
    "\\begin{align*}\n",
    "c(t) =  \\alpha \\left(1 - \\frac{1}{2} \\sin \\left(\\frac{\\pi (t-1)}{12}\\right)\\right), \\quad t  \\in [1, 2, ... ,24] \\\\\n",
    "\\alpha \\in [1, 1.5, 2]\n",
    "\\end{align*}\n",
    "$$"
   ]
  },
  {
   "cell_type": "code",
   "execution_count": 3,
   "metadata": {},
   "outputs": [],
   "source": [
    "c = [] \n",
    "alphas = np.array([1, 1.5, 2])\n",
    "for t in range (1, T+1):\n",
    "    c.append((alphas * (1 + HALF*np.sin(np.pi*(t-1)/(T*HALF)))).flatten())\n",
    "c = np.array(c).T"
   ]
  },
  {
   "cell_type": "markdown",
   "metadata": {},
   "source": [
    "In the robust optimization context, the demand is considered uncertain and seasonal, reaching its peak in winter. Specifically, the demand follows a seasonal pattern represented by:\n",
    "$$\n",
    "\\begin{align*}\n",
    "d^*(t) =  1000\\left(1 - \\frac{1}{2} \\sin \\left(\\frac{\\pi (t-1)}{12}\\right)\\right), \\quad  t  \\in [1, 2, ... ,24] \\\\\n",
    "\\end{align*}\n",
    "$$\n"
   ]
  },
  {
   "cell_type": "markdown",
   "metadata": {},
   "source": [
    "To handle this uncertainty, we adopt the norm uncertainty set. This uncertainty set is defined by:\n",
    "$$\n",
    " \\mathcal{U}_{\\text{Norm}} = \\{Az+b \\ | \\ \\|z \\|_p \\le \\rho\\}\n",
    "$$\n",
    "This set allows us to define bounds for the uncertainty set to indicate that the demand is within an uncertainty level of $20\\%$."
   ]
  },
  {
   "cell_type": "code",
   "execution_count": 4,
   "metadata": {},
   "outputs": [],
   "source": [
    "t_values = np.arange(1, T + 1)\n",
    "d_star = SEASONAL_MULTIPLIER * (1 + HALF * np.sin(np.pi * (t_values - 1) / (T * HALF)))\n",
    "\n",
    "# Construct lhs\n",
    "eye_matrix = np.eye(T)\n",
    "neg_eye_matrix = -np.eye(T)\n",
    "lhs = np.concatenate((eye_matrix, neg_eye_matrix), axis=0)\n",
    "\n",
    "# Construct rhs\n",
    "rhs_upper = (1 + PROPORTION) * d_star\n",
    "rhs_lower = (-1 + PROPORTION) * d_star\n",
    "rhs = np.hstack((rhs_upper, rhs_lower))\n",
    "\n",
    "# Uncertain parameter definition\n",
    "d = lropt.UncertainParameter(T, uncertainty_set=lropt.Ellipsoidal(p = np.inf,rho = 30, c=lhs, d=rhs, b = d_star)) \n"
   ]
  },
  {
   "cell_type": "markdown",
   "metadata": {},
   "source": [
    "Next, we will define all the constraints of the problem in a list."
   ]
  },
  {
   "cell_type": "code",
   "execution_count": 5,
   "metadata": {},
   "outputs": [],
   "source": [
    "constraints = [\n",
    "    cp.sum(cp.multiply(c, p)) <= F,\n",
    "    p <= P,\n",
    "    cp.sum(p, axis = 1) <= Q,\n",
    "]\n",
    "for i in range(1, T+1):\n",
    "    mult = np.hstack([np.ones(i),np.zeros(T - i)])\n",
    "    constraints.append(V_MIN <= cp.sum(cp.sum(cp.sum(p, axis = 0)[:i])) - mult @ d + V_INITIAL)\n",
    "    constraints.append(cp.sum(cp.sum(cp.sum(p, axis = 0)[:i])) - mult @ d + V_INITIAL <= V_MAX)"
   ]
  },
  {
   "cell_type": "markdown",
   "metadata": {},
   "source": [
    "Finally, we can define the objective and solve the problem. "
   ]
  },
  {
   "cell_type": "code",
   "execution_count": 6,
   "metadata": {},
   "outputs": [
    {
     "name": "stdout",
     "output_type": "stream",
     "text": [
      "The robust optimal value is 35432.02291978939\n"
     ]
    }
   ],
   "source": [
    "objective = cp.Minimize(F)\n",
    "prob = lropt.RobustProblem(objective, constraints)\n",
    "prob.solve()\n",
    "sol = F.value\n",
    "print(f\"The robust optimal value is {sol}\")\n"
   ]
  },
  {
   "cell_type": "code",
   "execution_count": 7,
   "metadata": {},
   "outputs": [
    {
     "data": {
      "image/png": "[encoded data removed]",
      "text/plain": [
       "<Figure size 1200x600 with 1 Axes>"
      ]
     },
     "metadata": {},
     "output_type": "display_data"
    }
   ],
   "source": [
    "p_value = p.value\n",
    "inventory_levels = np.sum(p_value, axis=0)\n",
    "plt.figure(figsize=(12, 6))\n",
    "plt.plot(t_values, inventory_levels, marker='o', linestyle='-', color='b', label='Inventory Levels')\n",
    "plt.xlabel('Time Period')\n",
    "plt.ylabel('Inventory Level')\n",
    "plt.title('Inventory Levels Over Time')\n",
    "plt.grid(True)\n",
    "plt.show()"
   ]
  },
  {
   "cell_type": "markdown",
   "metadata": {},
   "source": [
    "## References\n",
    "\n",
    "1. Ben-Tal, Aharon, Alexander Goryashko, Elana Guslitzer, and Arkadi Nemirovski. 2004. Adjustable robust solutions of uncertain linear programs. Mathematical Programming 99(2) 351-376. - add a clickable link"
   ]
  }
 ],
 "metadata": {
  "kernelspec": {
   "display_name": "lropt_v1",
   "language": "python",
   "name": "python3"
  },
  "language_info": {
   "codemirror_mode": {
    "name": "ipython",
    "version": 3
   },
   "file_extension": ".py",
   "mimetype": "text/x-python",
   "name": "python",
   "nbconvert_exporter": "python",
   "pygments_lexer": "ipython3",
   "version": "3.12.2"
  }
 },
 "nbformat": 4,
 "nbformat_minor": 2
}
