{
 "cells": [
  {
   "cell_type": "markdown",
   "metadata": {},
   "source": [
    "# Joint Production-Inventory"
   ]
  },
  {
   "cell_type": "code",
   "execution_count": 1,
   "metadata": {},
   "outputs": [],
   "source": [
    "import cvxpy as cp\n",
    "import numpy as np\n",
    "\n",
    "import lropt\n",
    "from lropt.robust_problem import RobustProblem\n",
    "from lropt.uncertain import UncertainParameter\n",
    "\n",
    "np.random.seed(seed=1234)"
   ]
  },
  {
   "cell_type": "code",
   "execution_count": 2,
   "metadata": {},
   "outputs": [],
   "source": [
    "T = 24\n",
    "I = 3\n",
    "t = np.arange(1, T+1)\n",
    "d0 = 1000 * (1 + 0.5*np.sin(np.pi*(t-1)/12))\n",
    "alpha = np.array([1, 1.5, 2]).reshape((3, 1))\n",
    "c = alpha * (1 + 0.5*np.sin(np.pi*(t-1)/12))\n",
    "\n",
    "P = 567\n",
    "Q = 13600\n",
    "vmin = 500\n",
    "vmax = 2000\n",
    "v0 = 500\n",
    "theta = 0.2"
   ]
  },
  {
   "cell_type": "code",
   "execution_count": 3,
   "metadata": {},
   "outputs": [],
   "source": [
    "uncertainty_set = lropt.Polyhedral(c=np.eye(T),d=(1+theta)*d0, lb=(1-theta)*d0)\n",
    "d = UncertainParameter(T, uncertainty_set=uncertainty_set)\n",
    "p_0 = cp.Variable((I, T))\n",
    "p_tau = [cp.Variable((I,T)) for _ in range(T-1)]\n",
    "p = 0\n",
    "for t in range(T-1):\n",
    "    p += p_tau[t]*d[t+1]\n",
    "p += p_0\n",
    "inventory_exp = v0 + cp.sum(p) - cp.sum(d)\n",
    "\n",
    "objective = cp.Minimize(cp.sum(cp.multiply(c, p)))\n",
    "constraints = [\n",
    "                p >= 0,\n",
    "                p <= P,\n",
    "                cp.sum(p, axis=1) <= Q,\n",
    "                inventory_exp >= vmin,\n",
    "                inventory_exp <= vmax,\n",
    "              ]\n",
    "\n",
    "prob = RobustProblem(objective=objective, constraints=constraints)"
   ]
  },
  {
   "cell_type": "code",
   "execution_count": 4,
   "metadata": {},
   "outputs": [
    {
     "ename": "ValueError",
     "evalue": "DRP error: not able to process non multiplication/additions",
     "output_type": "error",
     "traceback": [
      "\u001b[0;31m---------------------------------------------------------------------------\u001b[0m",
      "\u001b[0;31mValueError\u001b[0m                                Traceback (most recent call last)",
      "Cell \u001b[0;32mIn[4], line 1\u001b[0m\n\u001b[0;32m----> 1\u001b[0m \u001b[43mprob\u001b[49m\u001b[38;5;241;43m.\u001b[39;49m\u001b[43msolve\u001b[49m\u001b[43m(\u001b[49m\u001b[43m)\u001b[49m\n",
      "File \u001b[0;32m~/Amit/lropt/lropt/robust_problem.py:1594\u001b[0m, in \u001b[0;36mRobustProblem.solve\u001b[0;34m(self, solver, warm_start, verbose, gp, qcp, requires_grad, enforce_dpp, ignore_dpp, canon_backend, **kwargs)\u001b[0m\n\u001b[1;32m   1591\u001b[0m \u001b[38;5;28;01melif\u001b[39;00m \u001b[38;5;28mself\u001b[39m\u001b[38;5;241m.\u001b[39muncertain_parameters():\n\u001b[1;32m   1592\u001b[0m     \u001b[38;5;66;03m# if no data is passed, no training is needed\u001b[39;00m\n\u001b[1;32m   1593\u001b[0m     \u001b[38;5;28;01mif\u001b[39;00m \u001b[38;5;28mself\u001b[39m\u001b[38;5;241m.\u001b[39muncertain_parameters()[\u001b[38;5;241m0\u001b[39m]\u001b[38;5;241m.\u001b[39muncertainty_set\u001b[38;5;241m.\u001b[39mdata \u001b[38;5;129;01mis\u001b[39;00m \u001b[38;5;28;01mNone\u001b[39;00m:\n\u001b[0;32m-> 1594\u001b[0m         \u001b[38;5;28;43mself\u001b[39;49m\u001b[38;5;241;43m.\u001b[39;49m\u001b[43mdualize_constraints\u001b[49m\u001b[43m(\u001b[49m\u001b[43m)\u001b[49m\n\u001b[1;32m   1595\u001b[0m     \u001b[38;5;28;01melse\u001b[39;00m:\n\u001b[1;32m   1596\u001b[0m         \u001b[38;5;66;03m# if not MRO set and not trained\u001b[39;00m\n\u001b[1;32m   1597\u001b[0m         \u001b[38;5;28;01mif\u001b[39;00m \u001b[38;5;129;01mnot\u001b[39;00m \u001b[38;5;28mtype\u001b[39m(\u001b[38;5;28mself\u001b[39m\u001b[38;5;241m.\u001b[39muncertain_parameters()[\u001b[38;5;241m0\u001b[39m]\u001b[38;5;241m.\u001b[39muncertainty_set) \u001b[38;5;241m==\u001b[39m MRO:\n",
      "File \u001b[0;32m~/Amit/lropt/lropt/robust_problem.py:1563\u001b[0m, in \u001b[0;36mRobustProblem.dualize_constraints\u001b[0;34m(self, override)\u001b[0m\n\u001b[1;32m   1561\u001b[0m unc_reductions \u001b[38;5;241m+\u001b[39m\u001b[38;5;241m=\u001b[39m [RemoveUncertainParameters()]\n\u001b[1;32m   1562\u001b[0m newchain \u001b[38;5;241m=\u001b[39m UncertainChain(\u001b[38;5;28mself\u001b[39m, reductions\u001b[38;5;241m=\u001b[39munc_reductions)\n\u001b[0;32m-> 1563\u001b[0m \u001b[38;5;28mself\u001b[39m\u001b[38;5;241m.\u001b[39mnew_prob, \u001b[38;5;28mself\u001b[39m\u001b[38;5;241m.\u001b[39minverse_data \u001b[38;5;241m=\u001b[39m \u001b[43mnewchain\u001b[49m\u001b[38;5;241;43m.\u001b[39;49m\u001b[43mapply\u001b[49m\u001b[43m(\u001b[49m\u001b[38;5;28;43mself\u001b[39;49m\u001b[43m)\u001b[49m\n\u001b[1;32m   1564\u001b[0m \u001b[38;5;28mself\u001b[39m\u001b[38;5;241m.\u001b[39muncertain_chain \u001b[38;5;241m=\u001b[39m newchain\n",
      "File \u001b[0;32m~/Amit/lropt/lropt/uncertain_canon/uncertain_chain.py:78\u001b[0m, in \u001b[0;36mUncertainChain.apply\u001b[0;34m(self, problem, verbose)\u001b[0m\n\u001b[1;32m     76\u001b[0m     \u001b[38;5;28;01mif\u001b[39;00m verbose:\n\u001b[1;32m     77\u001b[0m         s\u001b[38;5;241m.\u001b[39mLOGGER\u001b[38;5;241m.\u001b[39minfo(\u001b[38;5;124m'\u001b[39m\u001b[38;5;124mApplying reduction \u001b[39m\u001b[38;5;132;01m%s\u001b[39;00m\u001b[38;5;124m'\u001b[39m, \u001b[38;5;28mtype\u001b[39m(r)\u001b[38;5;241m.\u001b[39m\u001b[38;5;18m__name__\u001b[39m)\n\u001b[0;32m---> 78\u001b[0m     problem, inv \u001b[38;5;241m=\u001b[39m \u001b[43mr\u001b[49m\u001b[38;5;241;43m.\u001b[39;49m\u001b[43mapply\u001b[49m\u001b[43m(\u001b[49m\u001b[43mproblem\u001b[49m\u001b[43m)\u001b[49m\n\u001b[1;32m     79\u001b[0m     inverse_data\u001b[38;5;241m.\u001b[39mappend(inv)\n\u001b[1;32m     80\u001b[0m \u001b[38;5;28;01mreturn\u001b[39;00m problem, inverse_data\n",
      "File \u001b[0;32m~/Amit/lropt/lropt/remove_uncertain/remove_uncertain.py:22\u001b[0m, in \u001b[0;36mRemoveUncertainParameters.apply\u001b[0;34m(self, problem)\u001b[0m\n\u001b[1;32m     20\u001b[0m \u001b[38;5;28;01mif\u001b[39;00m \u001b[38;5;129;01mnot\u001b[39;00m \u001b[38;5;28mself\u001b[39m\u001b[38;5;241m.\u001b[39maccepts(problem):\n\u001b[1;32m     21\u001b[0m     \u001b[38;5;28;01mraise\u001b[39;00m \u001b[38;5;167;01mValueError\u001b[39;00m(\u001b[38;5;124m\"\u001b[39m\u001b[38;5;124mCannot canonicalize uncertain problem atoms.\u001b[39m\u001b[38;5;124m\"\u001b[39m)\n\u001b[0;32m---> 22\u001b[0m \u001b[38;5;28;01mreturn\u001b[39;00m \u001b[38;5;28;43msuper\u001b[39;49m\u001b[43m(\u001b[49m\u001b[43mRemoveUncertainParameters\u001b[49m\u001b[43m,\u001b[49m\u001b[43m \u001b[49m\u001b[38;5;28;43mself\u001b[39;49m\u001b[43m)\u001b[49m\u001b[38;5;241;43m.\u001b[39;49m\u001b[43mapply\u001b[49m\u001b[43m(\u001b[49m\u001b[43mproblem\u001b[49m\u001b[43m)\u001b[49m\n",
      "File \u001b[0;32m~/Amit/lropt/lropt/uncertain_canon/uncertain_canonicalization.py:75\u001b[0m, in \u001b[0;36mUncertain_Canonicalization.apply\u001b[0;34m(self, problem)\u001b[0m\n\u001b[1;32m     69\u001b[0m \u001b[38;5;28;01mfor\u001b[39;00m constraint \u001b[38;5;129;01min\u001b[39;00m new_constraints:\n\u001b[1;32m     70\u001b[0m     \u001b[38;5;66;03m# canon_constr is the constraint rexpressed in terms of\u001b[39;00m\n\u001b[1;32m     71\u001b[0m     \u001b[38;5;66;03m# its canonicalized arguments, and aux_constr are the constraints\u001b[39;00m\n\u001b[1;32m     72\u001b[0m     \u001b[38;5;66;03m# generated while canonicalizing the arguments of the original\u001b[39;00m\n\u001b[1;32m     73\u001b[0m     \u001b[38;5;66;03m# constraint\u001b[39;00m\n\u001b[1;32m     74\u001b[0m     \u001b[38;5;28;01mif\u001b[39;00m \u001b[38;5;28mself\u001b[39m\u001b[38;5;241m.\u001b[39mhas_unc_param(constraint):\n\u001b[0;32m---> 75\u001b[0m         unc_lst, std_lst, is_max \u001b[38;5;241m=\u001b[39m \u001b[38;5;28;43mself\u001b[39;49m\u001b[38;5;241;43m.\u001b[39;49m\u001b[43mseparate_uncertainty\u001b[49m\u001b[43m(\u001b[49m\u001b[43mconstraint\u001b[49m\u001b[43m)\u001b[49m\n\u001b[1;32m     76\u001b[0m         canon_constr \u001b[38;5;241m=\u001b[39m \u001b[38;5;28mself\u001b[39m\u001b[38;5;241m.\u001b[39mremove_uncertainty(unc_lst, std_lst, is_max, canon_constraints)\n\u001b[1;32m     77\u001b[0m     \u001b[38;5;28;01melse\u001b[39;00m:\n",
      "File \u001b[0;32m~/Amit/lropt/lropt/uncertain_canon/uncertain_canonicalization.py:335\u001b[0m, in \u001b[0;36mUncertain_Canonicalization.separate_uncertainty\u001b[0;34m(self, expr)\u001b[0m\n\u001b[1;32m    332\u001b[0m     \u001b[38;5;28;01mraise\u001b[39;00m \u001b[38;5;167;01mValueError\u001b[39;00m(\n\u001b[1;32m    333\u001b[0m         \u001b[38;5;124m\"\u001b[39m\u001b[38;5;124mDRP error: not able to process non multiplication/additions\u001b[39m\u001b[38;5;124m\"\u001b[39m)\n\u001b[1;32m    334\u001b[0m func \u001b[38;5;241m=\u001b[39m sep_methods[\u001b[38;5;28mtype\u001b[39m(expr)]\n\u001b[0;32m--> 335\u001b[0m \u001b[38;5;28;01mreturn\u001b[39;00m \u001b[43mfunc\u001b[49m\u001b[43m(\u001b[49m\u001b[38;5;28;43mself\u001b[39;49m\u001b[43m,\u001b[49m\u001b[43m \u001b[49m\u001b[43mexpr\u001b[49m\u001b[43m)\u001b[49m\n",
      "File \u001b[0;32m~/Amit/lropt/lropt/uncertain_canon/separate_uncertainty/inequality_sep.py:2\u001b[0m, in \u001b[0;36minequality_sep\u001b[0;34m(unc_canon, expr)\u001b[0m\n\u001b[1;32m      1\u001b[0m \u001b[38;5;28;01mdef\u001b[39;00m \u001b[38;5;21minequality_sep\u001b[39m(unc_canon, expr):\n\u001b[0;32m----> 2\u001b[0m     \u001b[38;5;28;01mreturn\u001b[39;00m \u001b[43munc_canon\u001b[49m\u001b[38;5;241;43m.\u001b[39;49m\u001b[43mseparate_uncertainty\u001b[49m\u001b[43m(\u001b[49m\u001b[43mexpr\u001b[49m\u001b[38;5;241;43m.\u001b[39;49m\u001b[43margs\u001b[49m\u001b[43m[\u001b[49m\u001b[38;5;241;43m0\u001b[39;49m\u001b[43m]\u001b[49m\u001b[43m \u001b[49m\u001b[38;5;241;43m+\u001b[39;49m\u001b[43m \u001b[49m\u001b[38;5;241;43m-\u001b[39;49m\u001b[38;5;241;43m1\u001b[39;49m\u001b[38;5;241;43m*\u001b[39;49m\u001b[43mexpr\u001b[49m\u001b[38;5;241;43m.\u001b[39;49m\u001b[43margs\u001b[49m\u001b[43m[\u001b[49m\u001b[38;5;241;43m1\u001b[39;49m\u001b[43m]\u001b[49m\u001b[43m)\u001b[49m\n",
      "File \u001b[0;32m~/Amit/lropt/lropt/uncertain_canon/uncertain_canonicalization.py:335\u001b[0m, in \u001b[0;36mUncertain_Canonicalization.separate_uncertainty\u001b[0;34m(self, expr)\u001b[0m\n\u001b[1;32m    332\u001b[0m     \u001b[38;5;28;01mraise\u001b[39;00m \u001b[38;5;167;01mValueError\u001b[39;00m(\n\u001b[1;32m    333\u001b[0m         \u001b[38;5;124m\"\u001b[39m\u001b[38;5;124mDRP error: not able to process non multiplication/additions\u001b[39m\u001b[38;5;124m\"\u001b[39m)\n\u001b[1;32m    334\u001b[0m func \u001b[38;5;241m=\u001b[39m sep_methods[\u001b[38;5;28mtype\u001b[39m(expr)]\n\u001b[0;32m--> 335\u001b[0m \u001b[38;5;28;01mreturn\u001b[39;00m \u001b[43mfunc\u001b[49m\u001b[43m(\u001b[49m\u001b[38;5;28;43mself\u001b[39;49m\u001b[43m,\u001b[49m\u001b[43m \u001b[49m\u001b[43mexpr\u001b[49m\u001b[43m)\u001b[49m\n",
      "File \u001b[0;32m~/Amit/lropt/lropt/uncertain_canon/separate_uncertainty/addexpression_sep.py:8\u001b[0m, in \u001b[0;36maddexpression_sep\u001b[0;34m(unc_canon, expr)\u001b[0m\n\u001b[1;32m      6\u001b[0m \u001b[38;5;28;01mfor\u001b[39;00m arg \u001b[38;5;129;01min\u001b[39;00m expr\u001b[38;5;241m.\u001b[39margs:\n\u001b[1;32m      7\u001b[0m     \u001b[38;5;28;01mif\u001b[39;00m unc_canon\u001b[38;5;241m.\u001b[39mhas_unc_param(arg):\n\u001b[0;32m----> 8\u001b[0m         unc_lst_0, std_lst_0, is_max \u001b[38;5;241m=\u001b[39m \u001b[43munc_canon\u001b[49m\u001b[38;5;241;43m.\u001b[39;49m\u001b[43mseparate_uncertainty\u001b[49m\u001b[43m(\u001b[49m\u001b[43marg\u001b[49m\u001b[43m)\u001b[49m\n\u001b[1;32m      9\u001b[0m         \u001b[38;5;28;01mif\u001b[39;00m is_max \u001b[38;5;241m==\u001b[39m \u001b[38;5;241m0\u001b[39m:\n\u001b[1;32m     10\u001b[0m             unc_lst \u001b[38;5;241m=\u001b[39m unc_lst \u001b[38;5;241m+\u001b[39m unc_lst_0\n",
      "File \u001b[0;32m~/Amit/lropt/lropt/uncertain_canon/uncertain_canonicalization.py:332\u001b[0m, in \u001b[0;36mUncertain_Canonicalization.separate_uncertainty\u001b[0;34m(self, expr)\u001b[0m\n\u001b[1;32m    329\u001b[0m     \u001b[38;5;28;01mreturn\u001b[39;00m [expr], [], \u001b[38;5;241m0\u001b[39m\n\u001b[1;32m    331\u001b[0m \u001b[38;5;28;01melif\u001b[39;00m \u001b[38;5;28mtype\u001b[39m(expr) \u001b[38;5;129;01mnot\u001b[39;00m \u001b[38;5;129;01min\u001b[39;00m sep_methods:\n\u001b[0;32m--> 332\u001b[0m     \u001b[38;5;28;01mraise\u001b[39;00m \u001b[38;5;167;01mValueError\u001b[39;00m(\n\u001b[1;32m    333\u001b[0m         \u001b[38;5;124m\"\u001b[39m\u001b[38;5;124mDRP error: not able to process non multiplication/additions\u001b[39m\u001b[38;5;124m\"\u001b[39m)\n\u001b[1;32m    334\u001b[0m func \u001b[38;5;241m=\u001b[39m sep_methods[\u001b[38;5;28mtype\u001b[39m(expr)]\n\u001b[1;32m    335\u001b[0m \u001b[38;5;28;01mreturn\u001b[39;00m func(\u001b[38;5;28mself\u001b[39m, expr)\n",
      "\u001b[0;31mValueError\u001b[0m: DRP error: not able to process non multiplication/additions"
     ]
    }
   ],
   "source": [
    "prob.solve()"
   ]
  }
 ],
 "metadata": {
  "kernelspec": {
   "display_name": "lropt_cvxpy",
   "language": "python",
   "name": "python3"
  },
  "language_info": {
   "codemirror_mode": {
    "name": "ipython",
    "version": 3
   },
   "file_extension": ".py",
   "mimetype": "text/x-python",
   "name": "python",
   "nbconvert_exporter": "python",
   "pygments_lexer": "ipython3",
   "version": "3.11.5"
  }
 },
 "nbformat": 4,
 "nbformat_minor": 2
}
