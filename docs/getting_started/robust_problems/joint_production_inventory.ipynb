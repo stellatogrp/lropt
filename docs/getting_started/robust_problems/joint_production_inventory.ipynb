{
 "cells": [
  {
   "cell_type": "markdown",
   "metadata": {},
   "source": [
    "# Joint Production-Inventory"
   ]
  },
  {
   "cell_type": "code",
   "execution_count": 2,
   "metadata": {},
   "outputs": [],
   "source": [
    "import cvxpy as cp\n",
    "import numpy as np\n",
    "import torch\n",
    "import matplotlib.pyplot as plt\n",
    "\n",
    "import lropt\n",
    "from lropt.parameter import Parameter\n",
    "from lropt.robust_problem import RobustProblem\n",
    "from lropt.uncertain import UncertainParameter\n",
    "\n",
    "np.random.seed(seed=1234)"
   ]
  },
  {
   "cell_type": "code",
   "execution_count": 3,
   "metadata": {},
   "outputs": [],
   "source": [
    "T = 24\n",
    "t = np.arange(1, T+1)\n",
    "d0 = 1000 * (1 + 0.5*np.sin(np.pi*(t-1)/12))\n",
    "alpha = np.array([1, 1.5, 2]).reshape((3, 1))\n",
    "c = alpha * (1 + 0.5*np.sin(np.pi*(t-1)/12))\n",
    "\n",
    "P = 567\n",
    "Q = 13600\n",
    "vmin = 500\n",
    "vmax = 2000\n",
    "v = 500\n",
    "theta = 0.2"
   ]
  },
  {
   "cell_type": "code",
   "execution_count": null,
   "metadata": {},
   "outputs": [],
   "source": [
    "uncertainty_set = "
   ]
  }
 ],
 "metadata": {
  "kernelspec": {
   "display_name": "lropt_cvxpy",
   "language": "python",
   "name": "python3"
  },
  "language_info": {
   "codemirror_mode": {
    "name": "ipython",
    "version": 3
   },
   "file_extension": ".py",
   "mimetype": "text/x-python",
   "name": "python",
   "nbconvert_exporter": "python",
   "pygments_lexer": "ipython3",
   "version": "3.11.5"
  }
 },
 "nbformat": 4,
 "nbformat_minor": 2
}
