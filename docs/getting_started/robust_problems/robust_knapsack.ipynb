{
 "cells": [
  {
   "cell_type": "markdown",
   "metadata": {},
   "source": [
    "# Robust Knapsack"
   ]
  },
  {
   "cell_type": "markdown",
   "metadata": {},
   "source": [
    "This tutorial shows how to construct and solve the Robust knapsack optimization problem (Bertsimas and Simm 2004, (https://pubsonline.informs.org/doi/abs/10.1287/opre.1030.0065). The problem can be formulated as follows:\n",
    "$$\n",
    "\\begin{align}\n",
    "\\max_{\\mathbf{x}} &\\mathbf{c}^T\\mathbf{x} \\nonumber \\\\\n",
    "\n",
    "\\text{s.t. } &\\left( \\mathbf{w} + \\mathbf{\\Delta}\\mathbf{z} \\right)\\mathbf{x} \\leq b \\nonumber \\\\\n",
    "\n",
    "&\\mathbf{x}\\in \\left\\{ 0,1 \\right\\}^n \\nonumber \\\\\n",
    "\n",
    "&\\mathbf{z}\\in \\left\\{\\mathbf{z}:  \\left \\lVert \\mathbf{z} \\right \\rVert_{\\infty} \\leq 1, \\left \\lVert \\mathbf{z} \\right \\rVert_{1} \\leq r \\right\\} \\nonumber \\\\\n",
    "\\end{align}\n",
    "$$\n",
    "\n",
    "where the items values are denoted by $\\mathbf{c}$, and the uncertainty is represented by $\\mathbf{z}$. The matrix $\\Delta$ is a diagonal matrix. The vector $\\mathbf{w}$ stores the nominal weight coefficients."
   ]
  },
  {
   "cell_type": "code",
   "execution_count": 1,
   "metadata": {},
   "outputs": [],
   "source": [
    "import cvxpy as cp\n",
    "import numpy as np\n",
    "\n",
    "from lropt import Budget\n",
    "from lropt.robust_problem import RobustProblem\n",
    "from lropt.uncertain import UncertainParameter\n",
    "\n",
    "np.random.seed(seed=1234)"
   ]
  },
  {
   "cell_type": "markdown",
   "metadata": {},
   "source": [
    "We define the constants as shown below:"
   ]
  },
  {
   "cell_type": "code",
   "execution_count": 2,
   "metadata": {},
   "outputs": [],
   "source": [
    "N = 50\n",
    "b = 2000\n",
    "\n",
    "c = 2*np.random.randint(low=5, high=10, size=N)    # profit coefficients\n",
    "w = 2*np.random.randint(low=10, high=41, size=N)   # nominal weights\n",
    "delta = np.diag(0.2*w)                             # maximum deviations\n",
    "r = 2                                              # uncertainty budget"
   ]
  },
  {
   "cell_type": "markdown",
   "metadata": {},
   "source": [
    "The problem is defined and solved as shown below:"
   ]
  },
  {
   "cell_type": "code",
   "execution_count": 3,
   "metadata": {},
   "outputs": [],
   "source": [
    "uncertainty_set = Budget(rho1=1, rho2=r)\n",
    "x = cp.Variable(N, boolean=True)\n",
    "z = UncertainParameter(N, uncertainty_set=uncertainty_set)\n",
    "\n",
    "objective = cp.Maximize(c@x)\n",
    "constraints = [\n",
    "                (w + delta@z)@x <= b,\n",
    "              ]\n",
    "prob = RobustProblem(objective=objective, constraints=constraints)\n",
    "prob.solve()"
   ]
  }
 ],
 "metadata": {
  "kernelspec": {
   "display_name": "lropt_cvxpy",
   "language": "python",
   "name": "python3"
  },
  "language_info": {
   "codemirror_mode": {
    "name": "ipython",
    "version": 3
   },
   "file_extension": ".py",
   "mimetype": "text/x-python",
   "name": "python",
   "nbconvert_exporter": "python",
   "pygments_lexer": "ipython3",
   "version": "3.11.5"
  }
 },
 "nbformat": 4,
 "nbformat_minor": 2
}
