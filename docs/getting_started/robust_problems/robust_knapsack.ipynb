{
 "cells": [
  {
   "cell_type": "markdown",
   "metadata": {},
   "source": [
    "# Robust Knapsack"
   ]
  },
  {
   "cell_type": "markdown",
   "metadata": {},
   "source": [
    "This tutorial shows how to construct and solve the Robust Portfolio problem, introduced by Bertsimas and Sim 2004 [1] (https://pubsonline.informs.org/doi/abs/10.1287/opre.1030.0065)\n",
    "We show to how solve the robust knapsack problem (Section 6.1). Using the same formulation as in [1], the problem can be formulated as follows:\n",
    "$$\n",
    "\\begin{align}\n",
    "\\max_{\\mathbf{x}} &\\;\\mathbf{c}^T \\mathbf{x} \\nonumber \\\\\n",
    "\n",
    "\\text{s.t. } &\\mathbf{\\tilde{w}}^T\\mathbf{x} \\leq b \\nonumber \\\\\n",
    "\n",
    "&\\mathbf{x}\\in\\left\\{ 0,1\\right\\}^n \\nonumber \\\\\n",
    "\n",
    "&\\mathbf{w}-\\pmb{\\delta} \\leq \\mathbf{\\tilde{w}} \\leq \\mathbf{w}+\\pmb{\\delta} \\\\\n",
    "\\end{align}\n",
    "$$\n",
    "\n",
    "where there are $n$ items, $\\mathbf{x}$ are the binary decision variables, their values are denoted by $\\mathbf{c}$, and their weights $\\mathbf{\\tilde{w}}$ belong to a box uncertainty set, where the expected weights are denoted by $\\mathbf{w}$, and their uncertainties are captured by $\\pmb{\\delta}$."
   ]
  },
  {
   "cell_type": "code",
   "execution_count": 1,
   "metadata": {},
   "outputs": [],
   "source": [
    "import cvxpy as cp\n",
    "import numpy as np\n",
    "\n",
    "from lropt import Budget, Box\n",
    "from lropt.robust_problem import RobustProblem\n",
    "from lropt.uncertain import UncertainParameter\n",
    "\n",
    "np.random.seed(seed=1234)"
   ]
  },
  {
   "cell_type": "markdown",
   "metadata": {},
   "source": [
    "We define the constants as shown below:"
   ]
  },
  {
   "cell_type": "code",
   "execution_count": 2,
   "metadata": {},
   "outputs": [],
   "source": [
    "n = 200 #Number of items\n",
    "b = 1000 #Capacity\n",
    "c = np.random.uniform(low=0., high=1., size=n) #Value of each item\n",
    "w = np.random.uniform(low=1., high=2, size=n) #Mean weight of each item\n",
    "delta = np.random.uniform(low=0., high=0.1, size=n) #Weights uncertainties"
   ]
  },
  {
   "cell_type": "markdown",
   "metadata": {},
   "source": [
    "The uncertain parameter $\\mathbf{\\tilde{w}}$ is formulated using LROPT in the block below. We use the box uncertainty set, which is defined as follows:\n",
    "\n",
    "Box uncertainty: $\\{ u \\mid\\| Au + b\\|_\\infty \\leq \\rho \\}$ \n",
    "\n",
    "- $\\rho$ : float, optional  \n",
    "  * Box scaling. Default 1.0.\n",
    "- $A$ : np.array, optional\n",
    "  * Scaling matrix for u. Default identity matrix.\n",
    "- $b$ : np.array, optional\n",
    "  * Relocation vector for u. Default None.\n",
    "\n",
    "We define a helper uncertain variable $\\mathbf{u}$ that satisfies $-\\pmb{\\delta}\\leq\\mathbf{u}\\leq\\pmb{\\delta}$, so the uncertain paramater $\\mathbf{\\tilde{w}}$ is defined as $\\mathbf{\\tilde{w}} = \\mathbf{w} + \\mathbf{u}$."
   ]
  },
  {
   "cell_type": "code",
   "execution_count": 4,
   "metadata": {},
   "outputs": [
    {
     "data": {
      "text/plain": [
       "105.50851379393394"
      ]
     },
     "execution_count": 4,
     "metadata": {},
     "output_type": "execute_result"
    }
   ],
   "source": [
    "#Define a helper uncertainty variable u\n",
    "uncertainty_set = Box(rho=1, a=np.diag(1/delta))\n",
    "u = UncertainParameter(n, uncertainty_set=uncertainty_set)\n",
    "w_hat = w+u\n",
    "x = cp.Variable(n, boolean=True) #Optimization variable\n",
    "\n",
    "#Define and solve the problem\n",
    "objective = cp.Maximize(c@x)\n",
    "constraints = [\n",
    "                w_hat@x <= b,\n",
    "              ]\n",
    "prob = RobustProblem(objective=objective, constraints=constraints)\n",
    "prob.solve()"
   ]
  },
  {
   "cell_type": "markdown",
   "metadata": {},
   "source": [
    "# DELETE THIS WHEN DONE"
   ]
  },
  {
   "cell_type": "code",
   "execution_count": null,
   "metadata": {},
   "outputs": [],
   "source": [
    "n = 50                                             # Number of items\n",
    "b = 2000                                           # Constraint constant\n",
    "\n",
    "c = 2*np.random.randint(low=5, high=10, size=n)    # Profit coefficients\n",
    "w = 2*np.random.randint(low=10, high=41, size=n)   # Nominal weights\n",
    "delta = np.diag(0.2*w)                             # Maximum deviations\n",
    "r = 2                                              # Uncertainty budget"
   ]
  },
  {
   "cell_type": "markdown",
   "metadata": {},
   "source": [
    "The problem is formulated and solved in the block below, using the Budget uncertainty set which is defined as follows:\n",
    "\n",
    "Budget uncertainty: $\\{u \\mid \\| A_1u + b_1 \\|_\\infty \\leq \\rho_1, \\| A_2u + b_2 \\|_1 \\leq \\rho_2\\}$ \n",
    "\n",
    "- $\\rho_1$ : float, optional  \n",
    "  * Box scaling. Default 1.0. \n",
    "- $\\rho_2$ : float, optional\n",
    "  * 1-norm scaling. Default 1.0.\n",
    "- $A_1$, $A_2$ : np.array, optional\n",
    "  * Scaling matrix for u. Default identity matrix.\n",
    "- $b_1$, $b_2$ : np.array, optional\n",
    "  * Relocation vector for u. Default None."
   ]
  },
  {
   "cell_type": "code",
   "execution_count": null,
   "metadata": {},
   "outputs": [],
   "source": [
    "uncertainty_set = Budget(rho1=1, rho2=r)                            # Budget uncertainty set\n",
    "x = cp.Variable(n, boolean=True)                                    # Boolean optimization variables, control which item is taken\n",
    "z = UncertainParameter(n, uncertainty_set=uncertainty_set)          # Uncertain parameters, control the weight coefficients\n",
    "\n",
    "objective = cp.Maximize(c@x)                                        # Problem objective\n",
    "constraints = [\n",
    "                (w + delta@z)@x <= b,\n",
    "              ]                                                     # Problem constraints\n",
    "prob = RobustProblem(objective=objective, constraints=constraints)  # Define the problem using LROPT \n",
    "prob.solve()                                                        # Solve the problem using LROPT"
   ]
  }
 ],
 "metadata": {
  "kernelspec": {
   "display_name": "lropt_cvxpy",
   "language": "python",
   "name": "python3"
  },
  "language_info": {
   "codemirror_mode": {
    "name": "ipython",
    "version": 3
   },
   "file_extension": ".py",
   "mimetype": "text/x-python",
   "name": "python",
   "nbconvert_exporter": "python",
   "pygments_lexer": "ipython3",
   "version": "3.11.5"
  }
 },
 "nbformat": 4,
 "nbformat_minor": 2
}
