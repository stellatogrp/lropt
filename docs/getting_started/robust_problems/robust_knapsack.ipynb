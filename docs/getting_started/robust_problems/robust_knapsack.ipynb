{
 "cells": [
  {
   "cell_type": "markdown",
   "metadata": {},
   "source": [
    "# Robust Knapsack"
   ]
  },
  {
   "cell_type": "markdown",
   "metadata": {},
   "source": [
    "This tutorial shows how to construct and solve the Robust knapsack optimization problem (Bertsimas and Simm 2004, (https://pubsonline.informs.org/doi/abs/10.1287/opre.1030.0065). The problem can be formulated as follows:\n",
    "$$\n",
    "\\begin{align}\n",
    "\\max_{\\mathbf{x}} \\;&\\mathbf{c}^T\\mathbf{x} \\nonumber \\\\\n",
    "\n",
    "\\text{s.t. } &\\left( \\mathbf{w} + \\mathbf{\\Delta}\\mathbf{z} \\right)^T\\mathbf{x} \\leq b \\nonumber \\\\\n",
    "\n",
    "&\\mathbf{x}\\in \\left\\{ 0,1 \\right\\}^n \\nonumber \\\\\n",
    "\n",
    "&\\mathbf{z}\\in \\left\\{\\mathbf{z}:  \\left \\lVert \\mathbf{z} \\right \\rVert_{\\infty} \\leq 1, \\left \\lVert \\mathbf{z} \\right \\rVert_{1} \\leq r \\right\\} \\nonumber \\\\\n",
    "\\end{align}\n",
    "$$\n",
    "\n",
    "where the items values are denoted by $\\mathbf{c}$, and the uncertainty is represented by $\\mathbf{z}$. The matrix $\\Delta$ is a diagonal matrix. The vector $\\mathbf{w}$ stores the nominal weight coefficients."
   ]
  },
  {
   "cell_type": "code",
   "execution_count": 1,
   "metadata": {},
   "outputs": [],
   "source": [
    "import cvxpy as cp\n",
    "import numpy as np\n",
    "\n",
    "from lropt import Budget\n",
    "from lropt.robust_problem import RobustProblem\n",
    "from lropt.uncertain import UncertainParameter\n",
    "\n",
    "np.random.seed(seed=1234)"
   ]
  },
  {
   "cell_type": "markdown",
   "metadata": {},
   "source": [
    "We define the constants as shown below:"
   ]
  },
  {
   "cell_type": "code",
   "execution_count": 2,
   "metadata": {},
   "outputs": [],
   "source": [
    "N = 50                                             # Number of items\n",
    "b = 2000                                           # Constraint constant\n",
    "\n",
    "c = 2*np.random.randint(low=5, high=10, size=N)    # Profit coefficients\n",
    "w = 2*np.random.randint(low=10, high=41, size=N)   # Nominal weights\n",
    "delta = np.diag(0.2*w)                             # Maximum deviations\n",
    "r = 2                                              # Uncertainty budget"
   ]
  },
  {
   "cell_type": "markdown",
   "metadata": {},
   "source": [
    "The problem is formulated and solved in the block below, using the Budget uncertainty set which is defined as follows:\n",
    "\n",
    "Budget uncertainty: $\\{u \\mid \\| A_1u + b_1 \\|_\\infty \\leq \\rho_1, \\| A_2u + b_2 \\|_1 \\leq \\rho_2\\}$ \n",
    "\n",
    "- $\\rho_1$ : float, optional  \n",
    "  * Box scaling. Default 1.0. \n",
    "- $\\rho_2$ : float, optional\n",
    "  * 1-norm scaling. Default 1.0.\n",
    "- $A_1$, $A_2$ : np.array, optional\n",
    "  * Scaling matrix for u. Default identity matrix.\n",
    "- $b_1$, $b_2$ : np.array, optional\n",
    "  * Relocation vector for u. Default None."
   ]
  },
  {
   "cell_type": "code",
   "execution_count": 3,
   "metadata": {},
   "outputs": [
    {
     "data": {
      "text/plain": [
       "626.0"
      ]
     },
     "execution_count": 3,
     "metadata": {},
     "output_type": "execute_result"
    }
   ],
   "source": [
    "uncertainty_set = Budget(rho1=1, rho2=r)                            # Budget uncertainty set\n",
    "x = cp.Variable(N, boolean=True)                                    # Boolean optimization variables, control which item is taken\n",
    "z = UncertainParameter(N, uncertainty_set=uncertainty_set)          # Uncertain parameters, control the weight coefficients\n",
    "\n",
    "objective = cp.Maximize(c@x)                                        # Problem objective\n",
    "constraints = [\n",
    "                (w + delta@z)@x <= b,\n",
    "              ]                                                     # Problem constraints\n",
    "prob = RobustProblem(objective=objective, constraints=constraints)  # Define the problem using LROPT \n",
    "prob.solve()                                                        # Solve the problem using LROPT"
   ]
  }
 ],
 "metadata": {
  "kernelspec": {
   "display_name": "lropt_cvxpy",
   "language": "python",
   "name": "python3"
  },
  "language_info": {
   "codemirror_mode": {
    "name": "ipython",
    "version": 3
   },
   "file_extension": ".py",
   "mimetype": "text/x-python",
   "name": "python",
   "nbconvert_exporter": "python",
   "pygments_lexer": "ipython3",
   "version": "3.11.5"
  }
 },
 "nbformat": 4,
 "nbformat_minor": 2
}
