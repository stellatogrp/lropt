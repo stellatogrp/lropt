{
 "cells": [
  {
   "cell_type": "markdown",
   "metadata": {},
   "source": [
    "# Robust Portfolio"
   ]
  },
  {
   "cell_type": "code",
   "execution_count": 1,
   "metadata": {},
   "outputs": [],
   "source": [
    "import cvxpy as cp\n",
    "import numpy as np\n",
    "import torch\n",
    "import matplotlib.pyplot as plt\n",
    "\n",
    "import lropt\n",
    "from lropt.parameter import Parameter\n",
    "from lropt.robust_problem import RobustProblem\n",
    "from lropt.uncertain import UncertainParameter\n",
    "\n",
    "np.random.seed(seed=1234)"
   ]
  },
  {
   "cell_type": "code",
   "execution_count": 16,
   "metadata": {},
   "outputs": [],
   "source": [
    "n = 150\n",
    "i = np.arange(1, n+1)\n",
    "p = 1.15 + i*0.05/150\n",
    "delta = np.array(0.05/450 * (2*i*n*(n+1))**0.5)\n",
    "Gamma = 5"
   ]
  },
  {
   "cell_type": "code",
   "execution_count": 17,
   "metadata": {},
   "outputs": [],
   "source": [
    "x = cp.Variable(n)\n",
    "t = cp.Variable()\n",
    "uncertainty_set = lropt.Budget(rho1=1, rho2=Gamma)\n",
    "z = lropt.UncertainParameter(n, uncertainty_set=uncertainty_set)\n",
    "objective = cp.Maximize((p + cp.multiply(delta,z)) @ x)\n",
    "constraints = [cp.sum(x)==1,\n",
    "                x>=0,\n",
    "              ]\n",
    "# objective = cp.Minimize(t)\n",
    "# constraints = [-(p + cp.multiply(delta,z)) @ x <= t,\n",
    "#                 cp.sum(x)==1,\n",
    "#                 x>=0,\n",
    "#               ]\n",
    "prob = RobustProblem(objective=objective, constraints=constraints)"
   ]
  },
  {
   "cell_type": "code",
   "execution_count": 18,
   "metadata": {},
   "outputs": [
    {
     "data": {
      "text/plain": [
       "1.184443027116401"
      ]
     },
     "execution_count": 18,
     "metadata": {},
     "output_type": "execute_result"
    }
   ],
   "source": [
    "prob.solve(solver=\"CLARABEL\")"
   ]
  },
  {
   "cell_type": "code",
   "execution_count": null,
   "metadata": {},
   "outputs": [],
   "source": []
  },
  {
   "cell_type": "code",
   "execution_count": null,
   "metadata": {},
   "outputs": [],
   "source": []
  }
 ],
 "metadata": {
  "kernelspec": {
   "display_name": "lropt_cvxpy",
   "language": "python",
   "name": "python3"
  },
  "language_info": {
   "codemirror_mode": {
    "name": "ipython",
    "version": 3
   },
   "file_extension": ".py",
   "mimetype": "text/x-python",
   "name": "python",
   "nbconvert_exporter": "python",
   "pygments_lexer": "ipython3",
   "version": "3.11.0"
  }
 },
 "nbformat": 4,
 "nbformat_minor": 2
}
