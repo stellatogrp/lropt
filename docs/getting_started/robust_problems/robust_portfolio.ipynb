{
 "cells": [
  {
   "cell_type": "markdown",
   "metadata": {},
   "source": [
    "# Robust Portfolio"
   ]
  },
  {
   "cell_type": "markdown",
   "metadata": {},
   "source": [
    "This tutorial shows how to construct and solve the Robust Portfolio optimization problem. The problem can be formulated as follows:\n",
    "$$\n",
    "\\begin{align}\n",
    "\\max_{\\mathbf{x}} &\\left( \\mathbf{p}+\\mathbf{\\Delta}\\mathbf{z} \\right)^T \\mathbf{x} \\nonumber \\\\\n",
    "\n",
    "\\text{s.t. } &\\sum_{i=1}^n x_i = 1 \\nonumber \\\\\n",
    "\n",
    "&\\mathbf{x}\\geq \\mathbf{0} \\nonumber \\\\\n",
    "\n",
    "&\\mathbf{z}\\in \\left\\{\\mathbf{z}:  \\left \\lVert \\mathbf{z} \\right \\rVert_{\\infty} \\leq 1, \\left \\lVert \\mathbf{z} \\right \\rVert_{1} \\leq \\Gamma \\right\\} \\nonumber \\\\\n",
    "\\end{align}\n",
    "$$\n",
    "\n",
    "where each stock has a value in an interval $\\left[ p_i - \\delta_i, p_i + \\delta_i \\right]$, $\\Delta$ is a diagonal matrix with $\\left\\{ \\delta_i \\right\\}_i$ on its diagonal, and $\\Gamma$ is the budget of the uncertainty parameter."
   ]
  },
  {
   "cell_type": "code",
   "execution_count": 1,
   "metadata": {},
   "outputs": [],
   "source": [
    "import cvxpy as cp\n",
    "import numpy as np\n",
    "\n",
    "from lropt import Budget\n",
    "from lropt.robust_problem import RobustProblem\n",
    "from lropt.uncertain import UncertainParameter\n",
    "\n",
    "np.random.seed(seed=1234)"
   ]
  },
  {
   "cell_type": "markdown",
   "metadata": {},
   "source": [
    "We start by defining the relevant constants as shown below:"
   ]
  },
  {
   "cell_type": "code",
   "execution_count": 2,
   "metadata": {},
   "outputs": [],
   "source": [
    "n = 150                                             # Number of stocks\n",
    "i = np.arange(1, n+1)                               # Indices vector\n",
    "p = 1.15 + i*0.05/150                               # Mean of the returns\n",
    "delta = np.array(0.05/450 * (2*i*n*(n+1))**0.5)     # Deviations of the returns\n",
    "Gamma = 5                                           # Uncertainty budget"
   ]
  },
  {
   "cell_type": "markdown",
   "metadata": {},
   "source": [
    "The problem is formulated and solved in the block below, using the Budget uncertainty set which is defined as follows:\n",
    "\n",
    "Budget uncertainty: $\\{u \\mid \\| A_1u + b_1 \\|_\\infty \\leq \\rho_1, \\| A_2u + b_2 \\|_1 \\leq \\rho_2\\}$ \n",
    "\n",
    "- $\\rho_1$ : float, optional  \n",
    "  * Box scaling. Default 1.0. \n",
    "- $\\rho_2$ : float, optional\n",
    "  * 1-norm scaling. Default 1.0.\n",
    "- $A_1$, $A_2$ : np.array, optional\n",
    "  * Scaling matrix for u. Default identity matrix.\n",
    "- $b_1$, $b_2$ : np.array, optional\n",
    "  * Relocation vector for u. Default None."
   ]
  },
  {
   "cell_type": "code",
   "execution_count": 3,
   "metadata": {},
   "outputs": [
    {
     "data": {
      "text/plain": [
       "1.1708896495314707"
      ]
     },
     "execution_count": 3,
     "metadata": {},
     "output_type": "execute_result"
    }
   ],
   "source": [
    "x = cp.Variable(n)                                                  # Optimization variables, investment fractions\n",
    "uncertainty_set = Budget(rho1=1, rho2=Gamma)                        # Budget uncertainty set\n",
    "z = UncertainParameter(n, uncertainty_set=uncertainty_set)          # Uncertain parameters, control the random return\n",
    "objective = cp.Maximize((p + cp.multiply(delta,z)) @ x)             # Problem objective\n",
    "constraints = [\n",
    "                cp.sum(x)==1,\n",
    "                x>=0,\n",
    "              ]                                                     # Problem constraints\n",
    "\n",
    "prob = RobustProblem(objective=objective, constraints=constraints)  # Define the problem using LROPT\n",
    "prob.solve(solver=\"CLARABEL\")                                       # Solve the problem using LROPT"
   ]
  }
 ],
 "metadata": {
  "kernelspec": {
   "display_name": "lropt_cvxpy",
   "language": "python",
   "name": "python3"
  },
  "language_info": {
   "codemirror_mode": {
    "name": "ipython",
    "version": 3
   },
   "file_extension": ".py",
   "mimetype": "text/x-python",
   "name": "python",
   "nbconvert_exporter": "python",
   "pygments_lexer": "ipython3",
   "version": "3.11.5"
  }
 },
 "nbformat": 4,
 "nbformat_minor": 2
}
