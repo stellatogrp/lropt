{
 "cells": [
  {
   "cell_type": "markdown",
   "metadata": {},
   "source": [
    "# Robust Portfolio"
   ]
  },
  {
   "cell_type": "markdown",
   "metadata": {},
   "source": [
    "This tutorial shows how to construct and solve the Robust Portfolio problem, introduced by Bertsimas and Sim 2004 [1] (https://pubsonline.informs.org/doi/abs/10.1287/opre.1030.0065)\n",
    "We show to how solve the simple portfolio problem (Section 6.2). Using the same formulation as in [1], the problem can be formulated as follows:\n",
    "$$\n",
    "\\begin{align}\n",
    "\\max_{\\mathbf{x}} &\\;\\mathbf{\\tilde{p}}^T \\mathbf{x} \\nonumber \\\\\n",
    "\n",
    "\\text{s.t. } &\\mathbf{1}^T\\mathbf{x} = 1 \\nonumber \\\\\n",
    "\n",
    "&\\mathbf{x}\\geq \\mathbf{0} \\nonumber \\\\\n",
    "\n",
    "&\\mathbf{p}-\\pmb{\\sigma} \\leq \\mathbf{\\tilde{p}} \\leq \\mathbf{p}+\\pmb{\\sigma} \\\\\n",
    "\\end{align}\n",
    "$$\n",
    "\n",
    "where there are $n$ stocks, the unknown return of the stocks is denoted by $\\mathbf{\\tilde{p}}$, and $\\mathbf{x}$ denotes the fraction fo wealth invested in the stocks. The expected return of the stocks are denoted by $\\mathbf{p}$, and their uncertainties are captured by $\\pmb{\\sigma}$."
   ]
  },
  {
   "cell_type": "code",
   "execution_count": 2,
   "metadata": {},
   "outputs": [],
   "source": [
    "import cvxpy as cp\n",
    "import numpy as np\n",
    "\n",
    "from lropt import Box\n",
    "from lropt.robust_problem import RobustProblem\n",
    "from lropt.uncertain import UncertainParameter\n",
    "\n",
    "np.random.seed(seed=1234)"
   ]
  },
  {
   "cell_type": "markdown",
   "metadata": {},
   "source": [
    "We start by defining the relevant constants. We use the same values as given in the example in Section 6.2 of [1]."
   ]
  },
  {
   "cell_type": "code",
   "execution_count": 3,
   "metadata": {},
   "outputs": [],
   "source": [
    "n = 150 #Number of stocks\n",
    "i = np.arange(1, n+1) #Indices vector\n",
    "p = 1.15 + i*0.05/150 #Mean returns vector\n",
    "sigma = np.array(0.05/450 * (2*i*n*(n+1))**0.5) #Uncertainty vector\n",
    "Gamma = 5 #Budget TODO: Do we need this?"
   ]
  },
  {
   "cell_type": "markdown",
   "metadata": {},
   "source": [
    "The uncertain parameter $\\mathbf{\\tilde{p}}$ is formulated using LROPT in the block below. We use the box uncertainty set, which is defined as follows:\n",
    "\n",
    "Box uncertainty: $\\{ u \\mid\\| Au + b\\|_\\infty \\leq \\rho \\}$ \n",
    "\n",
    "- $\\rho$ : float, optional  \n",
    "  * Box scaling. Default 1.0.\n",
    "- $A$ : np.array, optional\n",
    "  * Scaling matrix for u. Default identity matrix.\n",
    "- $b$ : np.array, optional\n",
    "  * Relocation vector for u. Default None.\n",
    "\n",
    "We define a helper uncertain variable $\\mathbf{u}$ that satisfies $-\\pmb{\\sigma}\\leq\\mathbf{u}\\leq\\pmb{\\sigma}$, so the uncertain paramater $\\mathbf{\\tilde{p}}$ is defined as $\\mathbf{\\tilde{p}} = \\mathbf{p} + \\mathbf{u}$."
   ]
  },
  {
   "cell_type": "code",
   "execution_count": 12,
   "metadata": {},
   "outputs": [
    {
     "data": {
      "text/plain": [
       "1.1266846798960153"
      ]
     },
     "execution_count": 12,
     "metadata": {},
     "output_type": "execute_result"
    }
   ],
   "source": [
    "#Define a helper uncertainty variable u\n",
    "uncertainty_set = Box(rho=1, a=np.diag(1/sigma))\n",
    "u = UncertainParameter(n, uncertainty_set=uncertainty_set)\n",
    "p_hat = p+u\n",
    "x = cp.Variable(n) #Optimization variable\n",
    "\n",
    "#Define and solve the problem\n",
    "objective = cp.Maximize(p_hat@x)\n",
    "constraints = [\n",
    "                cp.sum(x)==1,\n",
    "                x>=0,\n",
    "              ]\n",
    "prob = RobustProblem(objective=objective, constraints=constraints)\n",
    "prob.solve(solver=\"CLARABEL\")"
   ]
  }
 ],
 "metadata": {
  "kernelspec": {
   "display_name": "lropt_cvxpy",
   "language": "python",
   "name": "python3"
  },
  "language_info": {
   "codemirror_mode": {
    "name": "ipython",
    "version": 3
   },
   "file_extension": ".py",
   "mimetype": "text/x-python",
   "name": "python",
   "nbconvert_exporter": "python",
   "pygments_lexer": "ipython3",
   "version": "3.11.5"
  }
 },
 "nbformat": 4,
 "nbformat_minor": 2
}
