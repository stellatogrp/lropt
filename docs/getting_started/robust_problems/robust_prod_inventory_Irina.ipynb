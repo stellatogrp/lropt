{
 "cells": [
  {
   "cell_type": "markdown",
   "metadata": {},
   "source": [
    "## Robust Production - Inventory"
   ]
  },
  {
   "cell_type": "markdown",
   "metadata": {},
   "source": [
    "The production inventory problem is one that addresses uncertainty in inventory management scenarios. The objective is to minimize the costs associated with inventory management while ensuring that customer demand is met consistently over a planning horizon. Since the demand is uncertain and varies within a specific bound, this problem can be classified as a robust optimization problem."
   ]
  },
  {
   "cell_type": "markdown",
   "metadata": {},
   "source": [
    "Takingn the example introduced in Ben-Tal et al. (2004), let us consider a single product inventory system which is comprised of a warehouse and $I$ factories. The planning horizon is $T$ periods. At period $t$:\n",
    "- $d_t$ is the demand of the product that is uncertain\n",
    "- $v(t)$ is the amount of product in the warehouse at the beginning of a period\n",
    "- $p_i(t)$ is the amount of product to be produced during period $t$ by factory $i$ and is used to satisfy the demand of the period\n",
    "- $P_i(t)$ is the maximal production capacity of factory $i$ in time period $t$\n",
    "- $c_i(t)$ is the cost of producing a unit of product at factory $i$ in time period $t$\n",
    "- $Q_i(t)$ is the maximal cumulative production capacity of factory $i$ in time period $t$\n",
    "- $V_{min}$ and $V_{max}$ are the minimal and maximal storage capacity of the warehouse, respectively"
   ]
  },
  {
   "cell_type": "markdown",
   "metadata": {},
   "source": [
    "With this information, the robust counterpart to the problem can be modeled into the following linear program:"
   ]
  },
  {
   "cell_type": "markdown",
   "metadata": {},
   "source": [
    "$$\n",
    "\\begin{aligned}\n",
    "& \\text{minimize} \\quad  F \\\\\n",
    "& \\text{subject to} \\\\\n",
    "& \\vec{c(t)}^T\\vec{p(t)} \\leq F,\\\\\n",
    "& 0 \\leq p_i(t) \\leq P_i(t),\\\\\n",
    "& 1^T\\vec{p(t)} \\leq Q_i,\\\\\n",
    "& V_{min} \\leq v(1) + 1^T\\vec{p} - 1^T\\vec{d} \\leq V_{max}\\\\\n",
    "\n",
    "\\end{aligned}\n",
    "$$\n"
   ]
  },
  {
   "cell_type": "markdown",
   "metadata": {},
   "source": [
    "We first import the required packages and generate the data. "
   ]
  },
  {
   "cell_type": "code",
   "execution_count": 1,
   "metadata": {},
   "outputs": [],
   "source": [
    "import numpy as np \n",
    "import cvxpy as cp \n",
    "import lropt\n",
    "import warnings\n",
    "from scipy.sparse import SparseEfficiencyWarning\n",
    "warnings.filterwarnings('ignore', category=UserWarning, module='cvxpy')\n",
    "warnings.filterwarnings('ignore', category=SparseEfficiencyWarning)"
   ]
  },
  {
   "cell_type": "markdown",
   "metadata": {},
   "source": [
    "Next, we can consider $I$ = 3 factories producing a product in one warehouse. The time horizon $T$ is 24 periods. The  maximal production capacity of each one of the factories at each two-weeks period is $P_i(t) = 567$, and the integral production capacity of each one of the factories for a year is $Q = 13600$. The inventory at the warehouse should not be less then $500$ units, and cannot exceed $2000$ units. Initially, the inventory sits at $500$ units."
   ]
  },
  {
   "cell_type": "code",
   "execution_count": 2,
   "metadata": {},
   "outputs": [],
   "source": [
    "np.random.seed(1)\n",
    "T = 24 #number of periods\n",
    "I = 3 #number of factories\n",
    "V_MIN = 300 # The lower and upper bounds must be relaxed for larger uncertainty, or the problem becomes infeasible\n",
    "V_MAX = 10000\n",
    "HALF = 0.5\n",
    "SEASONAL_MULTIPLIER = 1000\n",
    "INTEGRAL_CAPACITY = 13600\n",
    "RHO = 1\n",
    "V_INITIAL = 500\n",
    "MAX_CAPACITY = 567\n",
    "PROPORTION = 0.2\n",
    "\n",
    "P = np.full((I, T), MAX_CAPACITY)\n",
    "Q = [INTEGRAL_CAPACITY]*I\n",
    "\n",
    "F = cp.Variable(nonneg = True)\n",
    "p = cp.Variable((I,T), nonneg = True)\n"
   ]
  },
  {
   "cell_type": "markdown",
   "metadata": {},
   "source": [
    "The production cost for a factory $i$ at a period $t$ is given by:\n",
    "$$\n",
    "\\begin{align*}\n",
    "c_i(t) =  \\alpha_i \\left(1 - \\frac{1}{2} \\sin \\left(\\frac{\\pi (t-1)}{12}\\right)\\right), \\quad t  \\in [1, 2, ... ,24] \\\\\n",
    "\\alpha_i \\in [1, 1.5, 2]\n",
    "\\end{align*}\n",
    "$$"
   ]
  },
  {
   "cell_type": "code",
   "execution_count": 3,
   "metadata": {},
   "outputs": [],
   "source": [
    "c = [] \n",
    "alphas = np.array([1, 1.5, 2])\n",
    "\n",
    "for t in range (1, T+1):\n",
    "    c.append((alphas * (1 + HALF*np.sin(np.pi*(t-1)/(T*HALF)))).flatten())\n",
    "c = np.array(c).T\n"
   ]
  },
  {
   "cell_type": "markdown",
   "metadata": {},
   "source": [
    "In the robust optimization context, the demand is considered uncertain and seasonal, reaching its peak in winter. Specifically, the demand follows a seasonal pattern represented by:\n",
    "$$\n",
    "\\begin{align*}\n",
    "d^*(t) =  1000\\left(1 - \\frac{1}{2} \\sin \\left(\\frac{\\pi (t-1)}{12}\\right)\\right), \\quad  t  \\in [1, 2, ... ,24] \\\\\n",
    "\\end{align*}\n",
    "$$\n"
   ]
  },
  {
   "cell_type": "markdown",
   "metadata": {},
   "source": [
    "To handle this uncertainty, we adopt the norm uncertainty set. This uncertainty set is defined by:\n",
    "$$\n",
    " \\mathcal{U}_{\\text{Norm}} = \\{Az+b \\ | \\ z\\| \\|_p \\le \\rho\\}\n",
    "$$\n",
    "This set allows us to define bounds for the uncertainty set to indicate that the demand is within an uncertainty level of $20\\%$."
   ]
  },
  {
   "cell_type": "code",
   "execution_count": 4,
   "metadata": {},
   "outputs": [],
   "source": [
    "t_values = np.arange(1, T + 1)\n",
    "d_star = SEASONAL_MULTIPLIER * (1 + HALF * np.sin(np.pi * (t_values - 1) / (T * HALF)))\n",
    "\n",
    "# Construct lhs\n",
    "eye_matrix = np.eye(T)\n",
    "neg_eye_matrix = -np.eye(T)\n",
    "lhs = np.concatenate((eye_matrix, neg_eye_matrix), axis=0)\n",
    "\n",
    "# Construct rhs\n",
    "rhs_upper = (1 + PROPORTION) * d_star\n",
    "rhs_lower = (-1+PROPORTION) * d_star\n",
    "rhs = np.hstack((rhs_upper, rhs_lower))\n",
    "\n",
    "# Uncertain parameter definition\n",
    "# d = lropt.UncertainParameter(T, uncertainty_set=lropt.Ellipsoidal(p=2,rho=5000, c=lhs, d=rhs, b = d_star )) #uncertain demand\n",
    "d = lropt.UncertainParameter(T, uncertainty_set=lropt.Polyhedral(lhs=lhs, rhs=rhs)) #uncertain demand"
   ]
  },
  {
   "cell_type": "markdown",
   "metadata": {},
   "source": [
    "Next, we will define all the constraints of the problem in a list."
   ]
  },
  {
   "cell_type": "code",
   "execution_count": 5,
   "metadata": {},
   "outputs": [],
   "source": [
    "constraints = [\n",
    "    cp.sum(cp.multiply(c, p)) <= F,\n",
    "    p <= P,\n",
    "    cp.sum(p,1) <= Q,\n",
    "]\n",
    "for i in range(1,T+1):\n",
    "    multvec = np.hstack([np.ones(i),np.zeros(T-i)])\n",
    "    constraints += [cp.sum(cp.sum(p,0)[:i]) - multvec@d + V_INITIAL >= V_MIN]\n",
    "    constraints += [cp.sum(cp.sum(p,0)[:i]) - multvec@d + V_INITIAL <= V_MAX]"
   ]
  },
  {
   "cell_type": "markdown",
   "metadata": {},
   "source": [
    "Finally, we can define the objective and solve the problem. "
   ]
  },
  {
   "cell_type": "code",
   "execution_count": 6,
   "metadata": {},
   "outputs": [
    {
     "name": "stdout",
     "output_type": "stream",
     "text": [
      "The robust optimal value is 43670.829128431986\n",
      "[[567. 567. 567. 567. 567. 567. 567. 567. 567. 567. 567. 567. 567. 567.\n",
      "  567. 567. 567. 567. 567. 567. 567. 559. 567. 567.]\n",
      " [567. 567. 567. 567. 567. 567. 567. 567. 567. 567. 567. 567. 567. 478.\n",
      "  333. 209. 113. 362. 567. 289.   0.   0.  33.  29.]\n",
      " [567. 567. 567. 567. 567. 363.   0. 307. 567. 490. 366. 221.  66.   0.\n",
      "    0.   0.   0.   0.   0.   0.   0.   0.   0.   0.]]\n"
     ]
    }
   ],
   "source": [
    "objective = cp.Minimize(F)\n",
    "prob = lropt.RobustProblem(objective, constraints)\n",
    "prob.solve()\n",
    "sol = F.value\n",
    "print(f\"The robust optimal value is {sol}\")\n",
    "print(np.round(p.value))"
   ]
  },
  {
   "cell_type": "code",
   "execution_count": 7,
   "metadata": {},
   "outputs": [
    {
     "name": "stdout",
     "output_type": "stream",
     "text": [
      "1000.9999999999577 1200.9999999999577 1400.9999999999577\n",
      "1346.7085729379091 1772.5904774481614 2198.4723819584133\n",
      "1547.7085729371033 2223.5904774473556 2899.4723819576075\n",
      "1624.4445042238212 2571.037086852727 3517.629669481634\n",
      "1605.8292619498825 2839.0243849572325 4072.2195079645844\n",
      "1323.0985638359161 2852.886269472173 4382.673975108431\n",
      "657.0985638447291 2486.886269480987 4316.673975117244\n",
      "318.61524227457267 2444.995530539736 4571.3758188049\n",
      "300.0000000006221 2712.9828286442316 5125.965657287839\n",
      "300.00000000085856 2983.6935067631202 5667.387013525386\n",
      "300.0000000006148 3233.6935067628765 6167.387013525142\n",
      "300.0000000005384 3459.5754112730538 6619.150822545571\n",
      "299.99999999983993 3659.5754112723553 7019.150822544872\n",
      "300.00000000121145 3833.693506763473 7367.387013525738\n",
      "300.0000000016262 3983.693506763888 7667.387013526153\n",
      "300.00000000241926 4112.982828646029 7925.9656572896365\n",
      "300.0000000041655 4226.380288269331 8152.760576534496\n",
      "608.3736886593942 4638.16139429565 8667.94909993191\n",
      "1142.3736886467595 5272.161394283015 9401.949099919275\n",
      "1378.356879978899 5611.5520029862455 9844.7471259936\n",
      "1264.972122251027 5611.564704879929 9958.157287508842\n",
      "1048.2361909796855 5524.1180954899355 10000.000000000193\n",
      "748.2361909790889 5374.118095489339 9999.999999999596\n",
      "300.0000000015134 5100.00000000151 9900.000000001513\n"
     ]
    }
   ],
   "source": [
    "for i in range(1,T+1):\n",
    "  multvec = np.hstack([np.ones(i),np.zeros(T-i)])\n",
    "  low = (cp.sum(cp.sum(p,0)[:i]) - multvec@rhs_upper + V_INITIAL).value\n",
    "  mid = (cp.sum(cp.sum(p,0)[:i]) - multvec@d_star + V_INITIAL).value\n",
    "  high = (cp.sum(cp.sum(p,0)[:i]) - multvec@(-rhs_lower) + V_INITIAL).value\n",
    "  print(low, mid, high)"
   ]
  },
  {
   "cell_type": "code",
   "execution_count": null,
   "metadata": {},
   "outputs": [],
   "source": []
  }
 ],
 "metadata": {
  "kernelspec": {
   "display_name": "lropt_v1",
   "language": "python",
   "name": "python3"
  },
  "language_info": {
   "codemirror_mode": {
    "name": "ipython",
    "version": 3
   },
   "file_extension": ".py",
   "mimetype": "text/x-python",
   "name": "python",
   "nbconvert_exporter": "python",
   "pygments_lexer": "ipython3",
   "version": "3.12.2"
  }
 },
 "nbformat": 4,
 "nbformat_minor": 2
}
