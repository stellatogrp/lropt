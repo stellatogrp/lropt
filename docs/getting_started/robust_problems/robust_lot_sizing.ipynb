{
 "cells": [
  {
   "cell_type": "markdown",
   "metadata": {},
   "source": [
    "# Robust Lot Sizing Problem"
   ]
  },
  {
   "cell_type": "markdown",
   "metadata": {},
   "source": [
    "The Lot Sizing problem is a fundamental optimization challenge in operations management, focusing on finding the best quantities to produce or order in each period to meet demand while minimizing costs. Over a fixed planning horizon, the problem involves known product demand and associated costs like setup, production, inventory holding, and backorders. Key decisions include determining production quantities and initiation timings. The primary goal is to devise a production plan that efficiently meets demand each period. In its robust form, the problem considers uncertain production yields, fluctuating within a range defined by its nominal value and maximum deviation."
   ]
  },
  {
   "cell_type": "markdown",
   "metadata": {},
   "source": [
    "In this example, we aim to solve the Robust LSP provided in Robust optimization for lot-sizing problems under yield uncertainty (paula metzker, simon thevenin). Let us consider a single - item multi period uncapacitated LSP with backorder and production yield determines the quantity to produce in each period of the finite planning horizon $T$. We are given the setup cost $\\vec{s}$, the inventory holding cost $\\vec{h}$, the backorder cost $\\vec{b}$ and the demand $\\vec{d}$ for each time period in $T$. The model contains the decision variables $X_t$, the lot size to be produced, and the setup decision $Y_t$. The strictly positive uncertain production yield is defined as $\\bar{p}$. "
   ]
  },
  {
   "cell_type": "markdown",
   "metadata": {},
   "source": [
    "The robust problem can be optimization as follows:"
   ]
  },
  {
   "cell_type": "markdown",
   "metadata": {},
   "source": [
    "$$\n",
    "\\begin{aligned}\n",
    "& \\text{minimize} \\quad s^TY + v^TX + H \\\\\n",
    "& \\text{such that} \\\\\n",
    "& H_t \\geq h_t[ \\bar{p}^TX_t - d], \\\\\n",
    "& H_t \\geq -b_t[ \\bar{p}^TX_t - d], \\\\\n",
    "& X_t \\leq M_tY_t, \\\\\n",
    "& X_t, H_t \\geq 0, \\\\\n",
    "\\end{aligned}\n",
    "\n",
    "$$"
   ]
  },
  {
   "cell_type": "markdown",
   "metadata": {},
   "source": [
    "To solve this problem, we first import the required packages."
   ]
  },
  {
   "cell_type": "code",
   "execution_count": 11,
   "metadata": {},
   "outputs": [],
   "source": [
    "import numpy as np\n",
    "import lropt\n",
    "import cvxpy as cp"
   ]
  },
  {
   "cell_type": "markdown",
   "metadata": {},
   "source": [
    "We start by defining the relevant constants and creating variables. "
   ]
  },
  {
   "cell_type": "code",
   "execution_count": 12,
   "metadata": {},
   "outputs": [],
   "source": [
    "np.random.seed(1)\n",
    "T = 5 # Using 5 periods as an example\n",
    "s = np.random.rand(T)  # Setup costs\n",
    "v = np.random.rand(T)  # Unit production costs\n",
    "h = np.random.rand(T)  # Inventory holding costs\n",
    "b = np.random.rand(T)  # Backorder costs\n",
    "d = np.random.randint(10, 20, size=T)  # Demand\n",
    "\n",
    "# Large positive number for setup constraint\n",
    "M = np.full(T, 1000)\n",
    "\n",
    "\n",
    "X = cp.Variable(T, nonneg=True)  # Production quantities\n",
    "Y = cp.Variable(T, boolean=True)  # Setup decision variables (binary)\n",
    "H = cp.Variable(T, nonneg=True)  # Cost terms for inventory and backorder costs\n",
    "NUM_DEC = 3 \n"
   ]
  },
  {
   "cell_type": "markdown",
   "metadata": {},
   "source": [
    "In the following code cell, we have defined the uncertain parameter p as a part of the Budget Uncertainty set.\n"
   ]
  },
  {
   "cell_type": "code",
   "execution_count": 13,
   "metadata": {},
   "outputs": [],
   "source": [
    "p = lropt.UncertainParameter(T, uncertainty_set = lropt.Budget(), nonneg = True)"
   ]
  },
  {
   "cell_type": "markdown",
   "metadata": {},
   "source": [
    "Here, we have defined our objective and constraints. Finally, we can solve the problem and get the optimal value. "
   ]
  },
  {
   "cell_type": "code",
   "execution_count": 14,
   "metadata": {},
   "outputs": [],
   "source": [
    "objective = cp.Minimize(cp.sum(s @ Y + v @ X + H))\n",
    "constraints = [\n",
    "H >= h * cp.sum(p @ X - d),\n",
    "H >= (-b) * cp.sum(p @ X - d),\n",
    "X <= M@Y\n",
    "]"
   ]
  },
  {
   "cell_type": "code",
   "execution_count": 15,
   "metadata": {},
   "outputs": [
    {
     "name": "stdout",
     "output_type": "stream",
     "text": [
      "The robust optimal value using Budget uncertainty is 36.176\n"
     ]
    }
   ],
   "source": [
    "prob = lropt.RobustProblem(objective, constraints)\n",
    "prob.solve()\n",
    "print(f\"The robust optimal value using Budget uncertainty is {round(prob.solve(), NUM_DEC)}\")"
   ]
  }
 ],
 "metadata": {
  "kernelspec": {
   "display_name": "lropt_v1",
   "language": "python",
   "name": "python3"
  },
  "language_info": {
   "codemirror_mode": {
    "name": "ipython",
    "version": 3
   },
   "file_extension": ".py",
   "mimetype": "text/x-python",
   "name": "python",
   "nbconvert_exporter": "python",
   "pygments_lexer": "ipython3",
   "version": "3.12.2"
  }
 },
 "nbformat": 4,
 "nbformat_minor": 2
}
