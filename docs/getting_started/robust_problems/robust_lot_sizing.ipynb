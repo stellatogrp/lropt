{
 "cells": [
  {
   "cell_type": "markdown",
   "metadata": {},
   "source": [
    "# Robust Lot Sizing Problem"
   ]
  },
  {
   "cell_type": "markdown",
   "metadata": {},
   "source": [
    "The Lot Sizing problem is a fundamental optimization challenge in operations management, focusing on finding the best quantities to produce or order in each period to meet demand while minimizing costs. Over a fixed planning horizon, the problem involves known product demand and associated costs like setup, production, inventory holding, and backorders. The primary goal is to devise a production plan that efficiently meets demand each period. In its robust form, the problem considers uncertain production yields, fluctuating within a range defined by its nominal value and maximum deviation."
   ]
  },
  {
   "cell_type": "markdown",
   "metadata": {},
   "source": [
    "In this example, we aim to solve the Robust LSP provided Metzker et al. (2023) [1] in Section 3.3. Let us consider a single - item multi period uncapacitated LSP with backorder and production yield determines the quantity to produce in each period of the finite planning horizon $T$. We are given the setup cost $\\vec{s}$, the inventory holding cost $\\vec{h}$, the backorder cost $\\vec{b}$ and the demand $\\vec{d}$ for each time period in $T$. The model contains the decision variables $X_t$, the lot size to be produced, and the setup decision $Y_t$. The strictly positive uncertain production yield is defined as $\\bar{p}$. $\\vec{H}$ is the total holding and backorder cost per period."
   ]
  },
  {
   "cell_type": "markdown",
   "metadata": {},
   "source": [
    "The robust problem can be optimization as follows:"
   ]
  },
  {
   "cell_type": "markdown",
   "metadata": {},
   "source": [
    "$$\n",
    "\\begin{aligned}\n",
    "& \\text{minimize} \\quad s^TY + v^TX + H \\\\\n",
    "& \\text{such that} \\\\\n",
    "& H_t \\geq h_t[ \\bar{p}^TX_t - d], \\\\\n",
    "& H_t \\geq -b_t[ \\bar{p}^TX_t - d], \\\\\n",
    "& X_t \\leq M_tY_t, \\\\\n",
    "& X_t, H_t \\geq 0, \\\\\n",
    "\\end{aligned}\n",
    "\n",
    "$$"
   ]
  },
  {
   "cell_type": "markdown",
   "metadata": {},
   "source": [
    "To solve this problem, we first import the required packages."
   ]
  },
  {
   "cell_type": "code",
   "execution_count": 1,
   "metadata": {},
   "outputs": [],
   "source": [
    "import numpy as np\n",
    "import lropt\n",
    "import cvxpy as cp\n",
    "import warnings\n",
    "from scipy.sparse import SparseEfficiencyWarning\n",
    "warnings.filterwarnings('ignore', category=UserWarning, module='cvxpy')\n",
    "warnings.filterwarnings('ignore', category=SparseEfficiencyWarning)\n"
   ]
  },
  {
   "cell_type": "markdown",
   "metadata": {},
   "source": [
    "We start by defining the relevant constants and creating variables. "
   ]
  },
  {
   "cell_type": "code",
   "execution_count": 2,
   "metadata": {},
   "outputs": [],
   "source": [
    "np.random.seed(1)\n",
    "T = 5 \n",
    "s = np.random.rand(T)  \n",
    "v = np.random.rand(T)  \n",
    "h = np.random.rand(T)  \n",
    "b = np.random.rand(T)  \n",
    "d = np.random.randint(10, 20, size=T)  \n",
    "\n",
    "# Large positive number for setup constraint\n",
    "M = np.full(T, 1000)\n",
    "\n",
    "\n",
    "X = cp.Variable(T, nonneg=True)\n",
    "Y = cp.Variable(T, boolean=True)  \n",
    "H = cp.Variable(T, nonneg=True)  \n",
    "NUM_DEC = 3 \n"
   ]
  },
  {
   "cell_type": "markdown",
   "metadata": {},
   "source": [
    "In the following code cell, we have defined the uncertain parameter p as a part of the Budget Uncertainty set. Budget uncertainty is defined as:\n",
    "$$\n",
    "        \\mathcal{U}_{\\text{budget}} = \\{Az+b \\ | \\ \\|z \\|_\\infty \\le \\rho_1,\n",
    "        \\|z \\|_1 \\leq \\rho_2\\}\n",
    "$$\n"
   ]
  },
  {
   "cell_type": "code",
   "execution_count": 3,
   "metadata": {},
   "outputs": [],
   "source": [
    "p = lropt.UncertainParameter(T, uncertainty_set = lropt.Budget(), nonneg = True)"
   ]
  },
  {
   "cell_type": "markdown",
   "metadata": {},
   "source": [
    "Here, we have defined our objective and constraints. Finally, we can solve the problem and get the optimal value. "
   ]
  },
  {
   "cell_type": "code",
   "execution_count": 4,
   "metadata": {},
   "outputs": [],
   "source": [
    "objective = cp.Minimize(cp.sum(s @ Y + v @ X + H))\n",
    "constraints = [\n",
    "H >= h * cp.sum(p @ X - d),\n",
    "H >= (-b) * cp.sum(p @ X - d),\n",
    "X <= M@Y\n",
    "]"
   ]
  },
  {
   "cell_type": "code",
   "execution_count": 5,
   "metadata": {},
   "outputs": [],
   "source": [
    "prob = lropt.RobustProblem(objective, constraints)\n",
    "prob.solve()"
   ]
  },
  {
   "cell_type": "code",
   "execution_count": 6,
   "metadata": {},
   "outputs": [
    {
     "name": "stdout",
     "output_type": "stream",
     "text": [
      "The robust optimal values for the total cost using Budget uncertainty are [60.342 37.557 50.282 12.635 17.829]\n"
     ]
    }
   ],
   "source": [
    "print(f\"The robust optimal values for the total cost using Budget uncertainty are {np.array(H.value).round(3)}\")"
   ]
  },
  {
   "cell_type": "markdown",
   "metadata": {},
   "source": [
    "# Citation List\n",
    "\n",
    "1. Metzker, P., Thevenin, S., Adulyasak, Y., & Dolgui, A. (2023). Robust optimization for lot-sizing problems under yield uncertainty. https://doi.org/10.1016/j.cor.2022.106025"
   ]
  }
 ],
 "metadata": {
  "kernelspec": {
   "display_name": "lropt_v1",
   "language": "python",
   "name": "python3"
  },
  "language_info": {
   "codemirror_mode": {
    "name": "ipython",
    "version": 3
   },
   "file_extension": ".py",
   "mimetype": "text/x-python",
   "name": "python",
   "nbconvert_exporter": "python",
   "pygments_lexer": "ipython3",
   "version": "3.12.2"
  }
 },
 "nbformat": 4,
 "nbformat_minor": 2
}
