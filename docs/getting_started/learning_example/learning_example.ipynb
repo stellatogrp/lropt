{
 "cells": [
  {
   "attachments": {},
   "cell_type": "markdown",
   "metadata": {},
   "source": [
    "## Learning problem"
   ]
  },
  {
   "cell_type": "markdown",
   "metadata": {},
   "source": [
    "This file shows an example of a robust learning problem where the uncertainty set is learned."
   ]
  },
  {
   "cell_type": "code",
   "execution_count": 1,
   "metadata": {},
   "outputs": [],
   "source": [
    "import numpy as np\n",
    "import numpy.random as npr\n",
    "import numpy.testing as npt\n",
    "import scipy as sc\n",
    "import torch\n",
    "import cvxpy as cp\n",
    "\n",
    "# from tests.settings import SOLVER\n",
    "from sklearn.model_selection import train_test_split\n",
    "\n",
    "from lropt.parameter import Parameter\n",
    "from lropt.robust_problem import RobustProblem\n",
    "from lropt.uncertain import UncertainParameter\n",
    "from lropt.uncertainty_sets.ellipsoidal import Ellipsoidal\n",
    "#from tests.settings import TESTS_ATOL as ATOL\n",
    "#from tests.settings import TESTS_RTOL as RTOL"
   ]
  },
  {
   "cell_type": "code",
   "execution_count": 2,
   "metadata": {},
   "outputs": [],
   "source": [
    "def gen_demand_intro(N, seed):\n",
    "    \"\"\"\n",
    "    This function generates random demand.\n",
    "    \"\"\"\n",
    "    np.random.seed(seed)\n",
    "    sig = np.array([[0.3, -0.4], [-0.5, 0.1]])\n",
    "    mu = np.array((0.3, 0.3))\n",
    "    d_train = np.random.multivariate_normal(mu, sig, N)\n",
    "    # d_train = np.exp(d_train)\n",
    "    return d_train"
   ]
  },
  {
   "cell_type": "code",
   "execution_count": 3,
   "metadata": {},
   "outputs": [
    {
     "name": "stderr",
     "output_type": "stream",
     "text": [
      "/var/folders/p_/cgtqpk9j7kq74n_ft0y8yvxr0000gp/T/ipykernel_34551/2031112850.py:8: RuntimeWarning: covariance is not symmetric positive-semidefinite.\n",
      "  d_train = np.random.multivariate_normal(mu, sig, N)\n",
      "\n",
      "run 0: test value -0.013, violations 0.1:   0%|          | 0/100 [00:00<?, ?it/s]\n",
      "run 0: test value -0.013, violations 0.1:   1%|          | 1/100 [00:00<00:12,  8.17it/s]\n",
      "run 0: test value -0.013, violations 0.1:   5%|▌         | 5/100 [00:00<00:04, 23.35it/s]s]\u001b[A\n",
      "run 1: test value -0.204, violations 0.117:   5%|▌         | 5/100 [00:00<00:04, 23.28it/s]\u001b[A\n",
      "run 0: test value -0.013, violations 0.1:   9%|▉         | 9/100 [00:00<00:03, 28.49it/s]s]\u001b[A\n",
      "run 0: test value -0.035, violations 0.067:  12%|█▏        | 12/100 [00:00<00:03, 28.24it/s][A\n",
      "run 1: test value -0.199, violations 0.067:  12%|█▏        | 12/100 [00:00<00:03, 28.25it/s]\u001b[A\n",
      "run 0: test value -0.035, violations 0.067:  20%|██        | 20/100 [00:00<00:02, 32.09it/s]\u001b[A\n",
      "run 0: test value -0.053, violations 0.033:  20%|██        | 20/100 [00:00<00:02, 32.09it/s]\u001b[A\n",
      "run 0: test value -0.053, violations 0.033:  24%|██▍       | 24/100 [00:00<00:02, 31.21it/s]\u001b[A\n",
      "run 1: test value -0.183, violations 0.05:  24%|██▍       | 24/100 [00:00<00:02, 31.16it/s]\u001b[A\n",
      "run 0: test value -0.053, violations 0.033:  28%|██▊       | 28/100 [00:00<00:02, 31.89it/s][A\n",
      "run 0: test value -0.068, violations 0.017:  28%|██▊       | 28/100 [00:01<00:02, 31.89it/s][A\n",
      "run 0: test value -0.068, violations 0.017:  32%|███▏      | 32/100 [00:01<00:02, 31.16it/s][A\n",
      "run 0: test value -0.068, violations 0.017:  40%|████      | 40/100 [00:01<00:01, 32.97it/s][A\n",
      "run 0: test value -0.08, violations 0.0:  40%|████      | 40/100 [00:01<00:01, 32.97it/s]   [A\n",
      "run 1: test value -0.158, violations 0.0:  40%|████      | 40/100 [00:01<00:01, 32.92it/s] \u001b[A\n",
      "run 0: test value -0.08, violations 0.0:  48%|████▊     | 48/100 [00:01<00:01, 32.56it/s]]\u001b[A\n",
      "run 0: test value -0.092, violations 0.0:  48%|████▊     | 48/100 [00:01<00:01, 32.56it/s]\u001b[A\n",
      "run 1: test value -0.143, violations 0.0:  48%|████▊     | 48/100 [00:01<00:01, 32.54it/s]\u001b[A\n",
      "run 1: test value -0.143, violations 0.0:  52%|█████▏    | 52/100 [00:01<00:01, 31.60it/s]\u001b[A\n",
      "run 0: test value -0.092, violations 0.0:  60%|██████    | 60/100 [00:01<00:01, 33.05it/s]\u001b[A\n",
      "run 1: test value -0.143, violations 0.0:  60%|██████    | 60/100 [00:01<00:01, 33.01it/s]\u001b[A\n",
      "run 0: test value -0.099, violations 0.0:  64%|██████▍   | 64/100 [00:02<00:01, 31.76it/s]\u001b[A\n",
      "run 0: test value -0.099, violations 0.0:  68%|██████▊   | 68/100 [00:02<00:00, 32.18it/s]\u001b[A\n",
      "run 1: test value -0.132, violations 0.0:  68%|██████▊   | 68/100 [00:02<00:00, 32.16it/s]\u001b[A\n",
      "run 0: test value -0.102, violations 0.0:  68%|██████▊   | 68/100 [00:02<00:00, 32.18it/s]\u001b[A\n",
      "run 1: test value -0.125, violations 0.0:  72%|███████▏  | 72/100 [00:02<00:00, 30.73it/s]\u001b[A\n",
      "run 0: test value -0.102, violations 0.0:  76%|███████▌  | 76/100 [00:02<00:00, 31.04it/s]\u001b[A\n",
      "run 0: test value -0.102, violations 0.0:  80%|████████  | 80/100 [00:02<00:00, 31.58it/s]\u001b[A\n",
      "run 0: test value -0.105, violations 0.0:  80%|████████  | 80/100 [00:02<00:00, 31.58it/s]\u001b[A\n",
      "run 0: test value -0.105, violations 0.0:  84%|████████▍ | 84/100 [00:02<00:00, 29.78it/s]\u001b[A\n",
      "run 1: test value -0.119, violations 0.0:  88%|████████▊ | 88/100 [00:02<00:00, 30.78it/s]\u001b[A\n",
      "run 0: test value -0.104, violations 0.0:  92%|█████████▏| 92/100 [00:03<00:00, 29.32it/s]\u001b[A\n",
      "run 1: test value -0.116, violations 0.0:  92%|█████████▏| 92/100 [00:03<00:00, 29.30it/s]\u001b[A\n",
      "run 0: test value -0.104, violations 0.0:  96%|█████████▌| 96/100 [00:03<00:00, 30.32it/s]\u001b[A\n",
      "run 1: test value -0.116, violations 0.0: 100%|██████████| 100/100 [00:03<00:00, 30.78it/s]\u001b[A\n",
      "run 0: test value -0.104, violations 0.0: 100%|██████████| 100/100 [00:03<00:00, 30.78it/s]\n"
     ]
    }
   ],
   "source": [
    "n = 2\n",
    "N = 100\n",
    "norms = npr.multivariate_normal(np.zeros(n), np.eye(n), N)\n",
    "data = np.exp(norms)\n",
    "kappa = -0.01\n",
    "seed = 15\n",
    "np.random.seed(seed)\n",
    "dist = (np.array([25, 10, 60, 50, 40, 30, 30, 20,\n",
    "        20, 15, 10, 10, 10, 10, 10, 10])/10)[:n]\n",
    "y_data = np.random.dirichlet(dist, 10)\n",
    "y = Parameter(n, data=y_data)\n",
    "\n",
    "data = gen_demand_intro(600, seed=15)\n",
    "u = UncertainParameter(n,uncertainty_set=Ellipsoidal(p=2,data=data))\n",
    "# Formulate the Robust Problem\n",
    "x = cp.Variable(n)\n",
    "t = cp.Variable()\n",
    "        \n",
    "\n",
    "objective = cp.Minimize(t + 0.2*cp.norm(x - y, 1))\n",
    "constraints = [-x@u <= t, cp.sum(x) == 1, x >= 0]\n",
    "eval_exp = -x @ u + 0.2*cp.norm(x-y, 1)\n",
    "prob = RobustProblem(objective, constraints, eval_exp=eval_exp)\n",
    "test_p = 0.1\n",
    "s = 5\n",
    "train, _ = train_test_split(data, test_size=int(\n",
    "    data.shape[0]*test_p), random_state=s)\n",
    "init = sc.linalg.sqrtm(sc.linalg.inv(np.cov(train.T)))\n",
    "-init@np.mean(train, axis=0)\n",
    "np.random.seed(15)\n",
    "initn = np.random.rand(n, n) + 0.1*init + 0.5*np.eye(n)\n",
    "init_bvaln = -initn@(np.mean(train, axis=0) - 0.3*np.ones(n))\n",
    "\n",
    "result = prob.train(lr=0.01, num_iter=100, momentum=0.8,\n",
    "                            optimizer=\"SGD\",\n",
    "                            seed=s, init_A=initn, init_b=init_bvaln,\n",
    "                            init_lam=0.5, init_mu=0.01,\n",
    "                            mu_multiplier=1.001, init_alpha=0., test_percentage=test_p, kappa=kappa,\n",
    "                            n_jobs=8, random_init=True, num_random_init=2, position=True)"
   ]
  },
  {
   "cell_type": "code",
   "execution_count": 5,
   "metadata": {},
   "outputs": [
    {
     "name": "stdout",
     "output_type": "stream",
     "text": [
      "Test value = 0   -0.204291\n",
      "1   -0.199478\n",
      "2   -0.183228\n",
      "3   -0.170275\n",
      "4   -0.158126\n",
      "5   -0.142884\n",
      "6   -0.131874\n",
      "7   -0.125228\n",
      "8   -0.119399\n",
      "9   -0.116393\n",
      "Probability violations test = 0    0.116667\n",
      "1    0.066667\n",
      "2        0.05\n",
      "3    0.016667\n",
      "4         0.0\n",
      "5         0.0\n",
      "6         0.0\n",
      "7         0.0\n",
      "8         0.0\n",
      "9         0.0\n"
     ]
    }
   ],
   "source": [
    "print(f\"Test value = {result.df_test['Test_val'].to_string()}\")\n",
    "print(f\"Probability violations test = {result.df_test['Probability_violations_test'].to_string()}\")"
   ]
  },
  {
   "cell_type": "code",
   "execution_count": null,
   "metadata": {},
   "outputs": [],
   "source": [
    "print(results.df_test[\"Test_val\"])"
   ]
  }
 ],
 "metadata": {
  "kernelspec": {
   "display_name": "Python 3 (ipykernel)",
   "language": "python",
   "name": "python3"
  },
  "language_info": {
   "codemirror_mode": {
    "name": "ipython",
    "version": 3
   },
   "file_extension": ".py",
   "mimetype": "text/x-python",
   "name": "python",
   "nbconvert_exporter": "python",
   "pygments_lexer": "ipython3",
   "version": "3.11.5"
  },
  "vscode": {
   "interpreter": {
    "hash": "e3ed6dde042e78d86e091991aef4e6276872e8fbcb7e1edcb6e9eacd7157f213"
   }
  }
 },
 "nbformat": 4,
 "nbformat_minor": 4
}
