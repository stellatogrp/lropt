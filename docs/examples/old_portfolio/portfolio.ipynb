{
    "cells": [
        {
            "cell_type": "markdown",
            "metadata": {},
            "source": [
                "# Robust Portfolio Optimization\n",
                "\n",
                "The general goal is to select a *portfolio* of assets to maximize return, but we also take into account the \"risk\" of the portfolio. \n",
                "In general, the higher the return, the higher the risk. \n",
                "Our goal is to find portfolios that trade off return and risk in such a way as to make sure that, for a given risk appetite/tolerance, we find the highest return."
            ]
        },
        {
            "cell_type": "markdown",
            "metadata": {},
            "source": [
                "## Deterministic portfolio optimization (review of cvxpy)\n",
                "\n",
                "To get warmed up, we'll model the classic Markowitz portfolio optmization problem. Given $n$ assets, with average returns $r$ and covariance matrix of returns $\\Sigma$, we can express the problem of finding the minimum risk portfolio for a given return as\n",
                "$$\n",
                "\\begin{array}{ll}\n",
                "\\text{minimize} & x^T \\Sigma x\\\\\n",
                "\\text{subject to} & \\mathbf{1}^T x = 1\\\\\n",
                "& r^T x \\ge R\\\\\n",
                "& x \\ge 0\n",
                "\\end{array}\n",
                "$$\n",
                "\n",
                "You can imagine a flipped problem where we maximize return subject to a risk tolerance. We also note that we've defined risk to be the variance of the resulting portfolio - this isn't probably a good idea in practice, but this is an older-style model."
            ]
        },
        {
            "cell_type": "markdown",
            "metadata": {},
            "source": [
                "### Setup imports and seed"
            ]
        },
        {
            "cell_type": "code",
            "execution_count": 9,
            "metadata": {},
            "outputs": [
                {
                    "data": {
                        "text/plain": [
                            "'/Users/irina.wang/Desktop/Princeton/Project2/lropt/examples/portfolio'"
                        ]
                    },
                    "execution_count": 9,
                    "metadata": {},
                    "output_type": "execute_result"
                }
            ],
            "source": [
                "pwd"
            ]
        },
        {
            "cell_type": "code",
            "execution_count": 10,
            "metadata": {},
            "outputs": [
                {
                    "ename": "ModuleNotFoundError",
                    "evalue": "No module named 'lropt'",
                    "output_type": "error",
                    "traceback": [
                        "\u001b[0;31m---------------------------------------------------------------------------\u001b[0m",
                        "\u001b[0;31mModuleNotFoundError\u001b[0m                       Traceback (most recent call last)",
                        "\u001b[0;32m<ipython-input-10-e84324f9110a>\u001b[0m in \u001b[0;36m<module>\u001b[0;34m()\u001b[0m\n\u001b[1;32m      1\u001b[0m \u001b[0;32mimport\u001b[0m \u001b[0mnumpy\u001b[0m \u001b[0;32mas\u001b[0m \u001b[0mnp\u001b[0m\u001b[0;34m\u001b[0m\u001b[0;34m\u001b[0m\u001b[0m\n\u001b[1;32m      2\u001b[0m \u001b[0;32mimport\u001b[0m \u001b[0mcvxpy\u001b[0m \u001b[0;32mas\u001b[0m \u001b[0mcp\u001b[0m\u001b[0;34m\u001b[0m\u001b[0;34m\u001b[0m\u001b[0m\n\u001b[0;32m----> 3\u001b[0;31m \u001b[0;32mimport\u001b[0m \u001b[0mlropt\u001b[0m\u001b[0;34m.\u001b[0m\u001b[0mlropt\u001b[0m\u001b[0;34m\u001b[0m\u001b[0;34m\u001b[0m\u001b[0m\n\u001b[0m\u001b[1;32m      4\u001b[0m \u001b[0mnp\u001b[0m\u001b[0;34m.\u001b[0m\u001b[0mrandom\u001b[0m\u001b[0;34m.\u001b[0m\u001b[0mseed\u001b[0m\u001b[0;34m(\u001b[0m\u001b[0;36m0\u001b[0m\u001b[0;34m)\u001b[0m  \u001b[0;31m# Reset seed\u001b[0m\u001b[0;34m\u001b[0m\u001b[0;34m\u001b[0m\u001b[0m\n",
                        "\u001b[0;31mModuleNotFoundError\u001b[0m: No module named 'lropt'"
                    ]
                }
            ],
            "source": [
                "import numpy as np\n",
                "import cvxpy as cp\n",
                "import lropt\n",
                "np.random.seed(0)  # Reset seed"
            ]
        },
        {
            "cell_type": "markdown",
            "metadata": {},
            "source": [
                "### Generate portfolio data"
            ]
        },
        {
            "cell_type": "code",
            "execution_count": 2,
            "metadata": {},
            "outputs": [],
            "source": [
                "def generate_data(n, N):\n",
                "    \"\"\"Generate synthetic portfolio data.\"\"\"\n",
                "    data = np.zeros((N, n))  # Preallocate date\n",
                "    beta = [i / n for i in range(n)]  # Linking factors\n",
                "    \n",
                "    for sample_idx in range(N):\n",
                "        # Common market factor, mean 3%, sd 5%, truncate at +- 3 sd\n",
                "        mu, std = 0.03, 0.05\n",
                "        z = np.random.normal(mu, std)\n",
                "        z = np.minimum(np.maximum(z, mu - 3 * std), mu + 3 * std)\n",
                "        \n",
                "        for asset_idx in range(n):\n",
                "            # Idiosyncratic contribution, mean 0%, sd 5%, truncated at +- 3 sd\n",
                "            mu_id, std_id = 0.00, 0.05 \n",
                "            asset = np.random.normal(mu_id, std_id)\n",
                "            asset = np.minimum(np.maximum(asset, mu_id - 3 * std_id), mu_id + 3 * std_id)\n",
                "            \n",
                "            data[sample_idx, asset_idx] = beta[asset_idx] * z + asset\n",
                "            \n",
                "    return 100 * data"
            ]
        },
        {
            "cell_type": "code",
            "execution_count": 3,
            "metadata": {},
            "outputs": [
                {
                    "name": "stdout",
                    "output_type": "stream",
                    "text": [
                        "Mean returns:  [ 9.24  4.85  4.91 ... -0.5   2.7  -2.5 ]\n",
                        "Covariance returns:  [[ 43.658   3.415  20.09  ...  -5.64    7.607   3.32 ]\n",
                        " [  3.415  30.174   7.063 ...   4.838   0.282   9.323]\n",
                        " [ 20.09    7.063  16.23  ...  -1.646  15.151  -9.429]\n",
                        " ...\n",
                        " [ -5.64    4.838  -1.646 ...   2.088  -2.193  -0.303]\n",
                        " [  7.607   0.282  15.151 ...  -2.193  27.183 -20.286]\n",
                        " [  3.32    9.323  -9.429 ...  -0.303 -20.286  35.024]]\n"
                    ]
                }
            ],
            "source": [
                "returns = generate_data(5, 10000)\n",
                "print(\"Mean returns: \", np.round(np.mean(returns, 1), decimals=2))\n",
                "print(\"Covariance returns: \", np.round(np.cov(returns), decimals=3))"
            ]
        },
        {
            "cell_type": "markdown",
            "metadata": {},
            "source": [
                "### Evaluate portfolio selection"
            ]
        },
        {
            "cell_type": "code",
            "execution_count": 4,
            "metadata": {},
            "outputs": [],
            "source": [
                "def evaluate_portfolio(returns, x):\n",
                "    returns_x = returns.dot(x)\n",
                "    returns_x.sort()\n",
                "    n = len(returns_x)\n",
                "    # Collect summary statistics for returns\n",
                "    print(\" minimum: %6.3f\" % returns_x[0])\n",
                "    print(\" maximum: %6.3f\" % returns_x[-1])\n",
                "    print(\" mean:    %6.3f\" % returns_x.mean())\n",
                "    print(\" std dev: %6.3f\" % returns_x.std())\n",
                "    print(\" maximum: %6.3f\" % returns_x.var())"
            ]
        },
        {
            "cell_type": "code",
            "execution_count": 5,
            "metadata": {
                "scrolled": false
            },
            "outputs": [
                {
                    "name": "stdout",
                    "output_type": "stream",
                    "text": [
                        "Stats fora portfolio investing all equally\n",
                        " minimum: -9.943\n",
                        " maximum: 12.373\n",
                        " mean:     1.171\n",
                        " std dev:  2.987\n",
                        " maximum:  8.925\n"
                    ]
                }
            ],
            "source": [
                "print(\"Stats fora portfolio investing all equally\")\n",
                "evaluate_portfolio(returns, 0.2 * np.ones(5))"
            ]
        },
        {
            "cell_type": "markdown",
            "metadata": {},
            "source": [
                "### Solve deterministic portfolio"
            ]
        },
        {
            "cell_type": "code",
            "execution_count": 26,
            "metadata": {},
            "outputs": [],
            "source": [
                "def solve_deterministic_portfolio(returns, min_return):\n",
                "    # Get data\n",
                "    r = np.mean(returns, 0)\n",
                "    Sigma = np.cov(returns.T)\n",
                "    n = returns.shape[1]\n",
                "    \n",
                "    # Define and solve problem\n",
                "    x = cp.Variable(n)\n",
                "    constraints = [0 <= x, x <= 1, cp.sum(x) == 1]\n",
                "#     constraints += [r * x >= min_return]\n",
                "#     objective = cp.Minimize(cp.quad_form(x, Sigma))\n",
                "    cp.Problem(objective, constraints).solve(verbose=True)\n",
                "    return x.value"
            ]
        },
        {
            "cell_type": "code",
            "execution_count": 27,
            "metadata": {},
            "outputs": [
                {
                    "name": "stdout",
                    "output_type": "stream",
                    "text": [
                        "-----------------------------------------------------------------\n",
                        "           OSQP v0.5.0  -  Operator Splitting QP Solver\n",
                        "              (c) Bartolomeo Stellato,  Goran Banjac\n",
                        "        University of Oxford  -  Stanford University 2019\n",
                        "-----------------------------------------------------------------\n",
                        "problem:  variables n = 10, constraints m = 22\n",
                        "          nnz(P) + nnz(A) = 95\n",
                        "settings: linear system solver = qdldl,\n",
                        "          eps_abs = 1.0e-04, eps_rel = 1.0e-04,\n",
                        "          eps_prim_inf = 1.0e-04, eps_dual_inf = 1.0e-04,\n",
                        "          rho = 1.00e-01 (adaptive),\n",
                        "          sigma = 1.00e-06, alpha = 1.60, max_iter = 10000\n",
                        "          check_termination: on (interval 25),\n",
                        "          scaling: on, scaled_termination: off\n",
                        "          warm start: on, polish: on\n",
                        "\n",
                        "iter   objective    pri res    dua res    rho        time\n",
                        "   1   0.0000e+00   1.22e+00   4.83e+03   1.00e-01   1.28e-03s\n",
                        "  75   6.2339e+00   1.20e-13   3.40e-11   5.52e-01   2.40e-03s\n",
                        "plsh   6.2339e+00   2.56e-16   1.20e-14   --------   2.51e-03s\n",
                        "\n",
                        "status:               solved\n",
                        "solution polish:      successful\n",
                        "number of iterations: 75\n",
                        "optimal objective:    6.2339\n",
                        "run time:             2.51e-03s\n",
                        "optimal rho estimate: 1.31e-02\n",
                        "\n",
                        "Portfolio:  [0.13 0.13 0.12 0.12 0.09 0.09 0.09 0.08 0.07 0.07]\n",
                        " minimum: -7.230\n",
                        " maximum: 10.856\n",
                        " mean:     1.216\n",
                        " std dev:  2.497\n",
                        " maximum:  6.233\n"
                    ]
                }
            ],
            "source": [
                "train_returns = generate_data(10, 10000)\n",
                "x_deterministic = solve_deterministic_portfolio(train_returns, 1.216)\n",
                "print(\"Portfolio: \", np.round(x_deterministic, decimals=2))\n",
                "evaluate_portfolio(train_returns, x_deterministic)"
            ]
        },
        {
            "cell_type": "markdown",
            "metadata": {},
            "source": [
                "## Robust portfolio optimization\n",
                "In a robust portfolio optmization problem, we still have our $n$ assets and our goal is to balance risk and return. Instead of using the mean and variance of the portfolio, we'll instead try to maximize the worst-case return over our uncertainty set, i.e.,\n",
                "$$\n",
                "\\begin{array}{ll}\n",
                "\\text{minimize} &\\text{max}_{r \\in U}  r^T x\\\\\n",
                "\\text{subject to} & \\mathbf{1}^T x = 1\\\\\n",
                "& x \\ge 0\n",
                "\\end{array}\n",
                "$$\n",
                "The tradeoff between risk and return is baked into the uncertainty set $U$."
            ]
        },
        {
            "cell_type": "markdown",
            "metadata": {},
            "source": [
                "### Box uncertainty set\n",
                "Given past returns, calculate average return $\\bar{r}$ and the standard deviation of return $\\sigma$ for each asset. Then our uncertainty set is\n",
                "$$\n",
                "U = \\left\\{ \\bar{r} - \\rho*\\sigma \\leq r \\leq \\bar{r} + \\rho*\\sigma \\right\\}\n",
                "$$\n",
                "where $\\rho$ controls the size of the box. If $\\rho=0$, $r$ is just the average return."
            ]
        },
        {
            "cell_type": "code",
            "execution_count": 22,
            "metadata": {},
            "outputs": [],
            "source": [
                "def solve_portfolio_box(returns, alpha):\n",
                "    n = returns.shape[1]\n",
                "    \n",
                "    # Uncertainty\n",
                "    r_bar = returns.mean(axis=0)\n",
                "    sigma = returns.std(axis=0)\n",
                "    r = lropt.UncertainParameter(n, uncertainty_set=lropt.Box(center=r_bar,\n",
                "                                                            side=2 * sigma,\n",
                "                                                            rho=alpha))\n",
                "\n",
                "    x = cp.Variable(n)\n",
                "    constraints = [cp.sum(x) == 1,\n",
                "                   x >= 0]\n",
                "    \n",
                "    obj = cp.Variable()  # Hack to add the objective\n",
                "    constraints += [r * x >= obj]\n",
                "    \n",
                "    objective = cp.Maximize(obj)\n",
                "    problem = lropt.RobustProblem(objective, constraints)\n",
                "    print(problem)\n",
                "    problem.solve()\n",
                "    \n",
                "    return x.value"
            ]
        },
        {
            "cell_type": "code",
            "execution_count": 25,
            "metadata": {},
            "outputs": [
                {
                    "name": "stdout",
                    "output_type": "stream",
                    "text": [
                        "maximize var1132\n",
                        "subject to Sum(var1122, None, False) == 1.0\n",
                        "           0.0 <= var1122\n",
                        "           var1132 <= param1121 * var1122\n",
                        "Portfolio:  [0. 0. 0. 0. 0. 0. 0. 0. 0. 1.]\n",
                        " minimum: -20.032\n",
                        " maximum: 27.820\n",
                        " mean:     2.688\n",
                        " std dev:  6.662\n",
                        " maximum: 44.379\n"
                    ]
                }
            ],
            "source": [
                "train_returns = generate_data(10, 10000)\n",
                "x_portfolio_box = solve_portfolio_box(train_returns, 0.001)\n",
                "print(\"Portfolio: \", np.round(x_portfolio_box, decimals=2))\n",
                "evaluate_portfolio(train_returns, x_portfolio_box)"
            ]
        },
        {
            "cell_type": "code",
            "execution_count": null,
            "metadata": {},
            "outputs": [],
            "source": []
        }
    ],
    "metadata": {
        "kernelspec": {
            "display_name": "Python 3",
            "language": "python",
            "name": "python3"
        },
        "language_info": {
            "codemirror_mode": {
                "name": "ipython",
                "version": 3
            },
            "file_extension": ".py",
            "mimetype": "text/x-python",
            "name": "python",
            "nbconvert_exporter": "python",
            "pygments_lexer": "ipython3",
            "version": "3.7.2"
        }
    },
    "nbformat": 4,
    "nbformat_minor": 2
}
