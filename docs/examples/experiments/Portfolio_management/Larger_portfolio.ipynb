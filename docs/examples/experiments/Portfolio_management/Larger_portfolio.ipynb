{
 "cells": [
  {
   "cell_type": "markdown",
   "metadata": {},
   "source": [
    "# Learning Uncertainty Sets"
   ]
  },
  {
   "cell_type": "code",
   "execution_count": 3,
   "metadata": {
    "tags": []
   },
   "outputs": [],
   "source": [
    "import cvxpy as cp\n",
    "import scipy as sc\n",
    "import numpy as np\n",
    "import numpy.random as npr\n",
    "import torch\n",
    "from sklearn import datasets\n",
    "import pandas as pd\n",
    "import lropt\n",
    "import sys\n",
    "sys.path.append('..')\n",
    "from utils import plot_tradeoff,plot_iters\n",
    "import matplotlib.pyplot as plt\n",
    "from sklearn.model_selection import train_test_split\n",
    "import warnings\n",
    "warnings.filterwarnings(\"ignore\")"
   ]
  },
  {
   "attachments": {},
   "cell_type": "markdown",
   "metadata": {},
   "source": [
    "### Example 4: Portfolio management\n"
   ]
  },
  {
   "cell_type": "code",
   "execution_count": 8,
   "metadata": {},
   "outputs": [
    {
     "data": {
      "text/plain": [
       "[<matplotlib.lines.Line2D at 0x7f8169b6d4b0>]"
      ]
     },
     "execution_count": 8,
     "metadata": {},
     "output_type": "execute_result"
    },
    {
     "data": {
      "image/png": "[encoded data removed]",
      "text/plain": [
       "<Figure size 432x288 with 1 Axes>"
      ]
     },
     "metadata": {
      "needs_background": "light"
     },
     "output_type": "display_data"
    }
   ],
   "source": [
    "def data_scaled(N, m, scale, seed):\n",
    "    np.random.seed(seed)\n",
    "    R = np.vstack([np.random.normal(\n",
    "    0.1 + i*0.035*scale, np.sqrt((0.02**2+(i*0.05)**2)), N) for i in range(1, m+1)])\n",
    "    return (R.transpose())\n",
    "\n",
    "def data_modes(N, m, scales, seed):\n",
    "    modes = len(scales)\n",
    "    d = np.zeros((N+100, m))\n",
    "    weights = int(np.ceil(N/modes))\n",
    "    for i in range(modes):\n",
    "        d[i*weights:(i+1)*weights,\n",
    "          :] = data_scaled(weights, m, scales[i], seed)\n",
    "    return d[0:N, :]\n",
    "\n",
    "def loss(t,x,p,alpha, data,mu=1000,l=10000,quantile = 0.95, target = -0.1):\n",
    "    sums = 0\n",
    "    totsum = 0\n",
    "    Nsample = data.shape[0]\n",
    "    sums += torch.sum(torch.maximum(-data@x - t - alpha, torch.tensor(0.,requires_grad = True)))\n",
    "    totsum += torch.sum(torch.where(torch.maximum(-data@x - t - alpha, torch.tensor(0.,requires_grad = True))>= 0.001,torch.tensor(1.), torch.tensor(0.)))\n",
    "    sums = (sums/((1-quantile)*Nsample)) + alpha\n",
    "    return t + 0.05*torch.norm(x-p,1) + torch.tensor(l)*(sums - torch.tensor(target)) + torch.tensor(mu/2)*(sums - torch.tensor(target))**2, t + 0.05*torch.norm(x-p,1), totsum/Nsample, sums.detach().numpy()\n",
    "\n",
    "n = 15\n",
    "N = 300\n",
    "seed = 15\n",
    "np.random.seed(seed)\n",
    "data = data_modes(600,n,[1,2,3],seed = seed)\n",
    "dist = (np.array([250,100,60,50,40,30,30,20,20,15,10,10,10,5,5,1])/10)[:n]\n",
    "# dist = np.ones(n)\n",
    "scenarios = {}\n",
    "num_scenarios = 5\n",
    "for scene in range(num_scenarios):\n",
    "    np.random.seed(scene)\n",
    "    scenarios[scene] = {}\n",
    "    scenarios[scene][0] = np.reshape(np.random.dirichlet(dist,1),(n,))\n",
    "\n",
    "for i in range(num_scenarios):\n",
    "  plt.plot(scenarios[i][0])\n",
    "\n",
    "x = cp.Variable(n)\n",
    "t = cp.Variable()\n",
    "p = cp.Parameter(n)\n",
    "p.value = scenarios[0][0]\n",
    "# p1.value = scenarios[0][1]\n",
    "objective = cp.Minimize(t)\n",
    "\n",
    "constraints = [-data@x <= t,cp.sum(x)==1, x >= 0]\n",
    "prob = lropt.RobustProblem(objective, constraints)\n",
    "prob.solve()\n",
    "plt.plot(x.value, color = \"red\")"
   ]
  },
  {
   "cell_type": "code",
   "execution_count": 9,
   "metadata": {},
   "outputs": [],
   "source": [
    "# Formulate uncertainty set\n",
    "u = lropt.UncertainParameter(n,\n",
    "                        uncertainty_set=lropt.Ellipsoidal(p=2,\n",
    "                                                    data=data, loss = loss))\n",
    "# Formulate the Robust Problem\n",
    "x = cp.Variable(n)\n",
    "t = cp.Variable()\n",
    "p = cp.Parameter(n)\n",
    "p.value = scenarios[0][0]\n",
    "# p1.value = scenarios[0][1]\n",
    "objective = cp.Minimize(t + 0.05*cp.norm(x - p,1))\n",
    "\n",
    "constraints = [-x@u <= t, cp.sum(x)==1, x >= 0]\n",
    "\n",
    "prob = lropt.RobustProblem(objective, constraints)\n",
    "target = -0.01\n",
    "test_p = 0.5\n",
    "s = 5\n",
    "train, test = train_test_split(data, test_size=int(data.shape[0]*test_p), random_state=s)\n",
    "init = sc.linalg.sqrtm(sc.linalg.inv(np.cov(train.T)))\n",
    "init_bval = -init@np.mean(train, axis=0)\n",
    "# Train A and b\n",
    "result1 = prob.train(lr = 0.0001, step=1500, momentum = 0.8, optimizer = \"SGD\", seed = s, init_A = init, init_b = init_bval, fixb = False, init_mu = 5, init_lam = 0, target_cvar = target, init_alpha = 0., mu_multiplier = 1.01, test_percentage = test_p, scenarios = scenarios, num_scenarios = num_scenarios, max_inner_iter = 1)\n",
    "df1 = result1.df\n",
    "A_fin = result1.A\n",
    "b_fin = result1.b\n",
    "\n",
    "result3 = prob.train(eps = True, lr = 0.0001, step=1500, momentum = 0.8, optimizer = \"SGD\", seed = s, init_A = init, init_b = init_bval, init_mu = 5, init_lam = 0,  target_cvar = target, init_alpha =0.,mu_multiplier = 1.01,test_percentage = test_p,scenarios = scenarios, num_scenarios = num_scenarios)\n",
    "df_r2 = result3.df\n",
    "\n",
    "# Grid search epsilon\n",
    "result4 = prob.grid(epslst = np.linspace(0.01, 3, 40), init_A = result3.A, init_b = result3.b, seed = s, init_alpha = 0.,test_percentage = test_p,scenarios = scenarios, num_scenarios = num_scenarios)\n",
    "dfgrid = result4.df\n",
    "\n",
    "result5 = prob.grid(epslst = np.linspace(0.01, 3, 40), init_A = A_fin, init_b = b_fin, seed = s, init_alpha = 0.,test_percentage = test_p,scenarios = scenarios, num_scenarios = num_scenarios)\n",
    "dfgrid2 = result5.df"
   ]
  },
  {
   "cell_type": "code",
   "execution_count": null,
   "metadata": {},
   "outputs": [],
   "source": [
    "plot_tradeoff(dfgrid,dfgrid2,\"Port\",ind_1 = (11,30), ind_2 = (10,30))\n"
   ]
  },
  {
   "cell_type": "code",
   "execution_count": null,
   "metadata": {},
   "outputs": [],
   "source": [
    "plot_iters(df1,\"Port\",steps = 1500)"
   ]
  }
 ],
 "metadata": {
  "kernelspec": {
   "display_name": "Python 3",
   "language": "python",
   "name": "python3"
  },
  "language_info": {
   "codemirror_mode": {
    "name": "ipython",
    "version": 3
   },
   "file_extension": ".py",
   "mimetype": "text/x-python",
   "name": "python",
   "nbconvert_exporter": "python",
   "pygments_lexer": "ipython3",
   "version": "3.10.0"
  },
  "vscode": {
   "interpreter": {
    "hash": "30c3c09dd4e997e3a7859f8ad32d57c686543aa6231cf005f8af1a5d90496772"
   }
  }
 },
 "nbformat": 4,
 "nbformat_minor": 4
}
