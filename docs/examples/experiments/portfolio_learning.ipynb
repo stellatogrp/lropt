{
    "cells": [
        {
            "cell_type": "markdown",
            "id": "977e1ace",
            "metadata": {},
            "source": [
                "# Portfolio Optimization"
            ]
        },
        {
            "cell_type": "code",
            "execution_count": 1,
            "id": "endless-bunch",
            "metadata": {},
            "outputs": [],
            "source": [
                "import cvxpy as cp\n",
                "import numpy as np\n",
                "import numpy.random as npr\n",
                "import torch\n",
                "import pandas as pd\n",
                "import lropt"
            ]
        },
        {
            "cell_type": "markdown",
            "id": "cardiac-turning",
            "metadata": {},
            "source": [
                "### Import Dataset and choose random stocks"
            ]
        },
        {
            "cell_type": "code",
            "execution_count": 2,
            "id": "smaller-motivation",
            "metadata": {},
            "outputs": [],
            "source": [
                "sp500 = pd.read_csv('stock_data/prices_sp500.csv').to_numpy()\n",
                "sp500_synthetic_returns = pd.read_csv('stock_data/sp500_synthetic_returns.csv').to_numpy()[:,1:]\n",
                "\n",
                "num_stocks = 100\n",
                "num_rets = 500"
            ]
        },
        {
            "cell_type": "code",
            "execution_count": 3,
            "id": "micro-visitor",
            "metadata": {},
            "outputs": [],
            "source": [
                "npr.seed(1)\n",
                "stock_idxs = np.random.choice(sp500.shape[1], num_stocks, replace=False)\n",
                "\n",
                "sp_prices = sp500[:num_rets+1, stock_idxs]\n",
                "sp_rets = (sp_prices[1:,:] - sp_prices[:-1,:])/sp_prices[1:,:]"
            ]
        },
        {
            "cell_type": "code",
            "execution_count": 4,
            "id": "southern-ceiling",
            "metadata": {},
            "outputs": [
                {
                    "data": {
                        "text/plain": [
                            "(500, 100)"
                        ]
                    },
                    "execution_count": 4,
                    "metadata": {},
                    "output_type": "execute_result"
                }
            ],
            "source": [
                "sp_rets.shape"
            ]
        },
        {
            "cell_type": "markdown",
            "id": "about-greek",
            "metadata": {},
            "source": [
                "### Create LROPT problem"
            ]
        },
        {
            "cell_type": "code",
            "execution_count": 5,
            "id": "prostate-range",
            "metadata": {},
            "outputs": [
                {
                    "name": "stderr",
                    "output_type": "stream",
                    "text": [
                        "/Users/irina.wang/Desktop/Princeton/Project2/cvxpy/cvxpy/expressions/expression.py:607: UserWarning: \n",
                        "This use of ``*`` has resulted in matrix multiplication.\n",
                        "Using ``*`` for matrix multiplication has been deprecated since CVXPY 1.1.\n",
                        "    Use ``*`` for matrix-scalar and vector-scalar multiplication.\n",
                        "    Use ``@`` for matrix-matrix and matrix-vector multiplication.\n",
                        "    Use ``multiply`` for elementwise multiplication.\n",
                        "This code path has been hit 1 times so far.\n",
                        "\n",
                        "  warnings.warn(msg, UserWarning)\n",
                        "/Users/irina.wang/Desktop/Princeton/Project2/cvxpy/cvxpy/expressions/expression.py:607: UserWarning: \n",
                        "This use of ``*`` has resulted in matrix multiplication.\n",
                        "Using ``*`` for matrix multiplication has been deprecated since CVXPY 1.1.\n",
                        "    Use ``*`` for matrix-scalar and vector-scalar multiplication.\n",
                        "    Use ``@`` for matrix-matrix and matrix-vector multiplication.\n",
                        "    Use ``multiply`` for elementwise multiplication.\n",
                        "This code path has been hit 2 times so far.\n",
                        "\n",
                        "  warnings.warn(msg, UserWarning)\n",
                        "/Users/irina.wang/Desktop/Princeton/Project2/cvxpy/cvxpy/reductions/solvers/solving_chain.py:197: UserWarning: Your problem has too many parameters for efficient DPP compilation. We suggest setting 'ignore_dpp = True'.\n",
                        "  warnings.warn(\n",
                        "/Users/irina.wang/Desktop/Princeton/Project2/cvxpy/cvxpy/expressions/expression.py:607: UserWarning: \n",
                        "This use of ``*`` has resulted in matrix multiplication.\n",
                        "Using ``*`` for matrix multiplication has been deprecated since CVXPY 1.1.\n",
                        "    Use ``*`` for matrix-scalar and vector-scalar multiplication.\n",
                        "    Use ``@`` for matrix-matrix and matrix-vector multiplication.\n",
                        "    Use ``multiply`` for elementwise multiplication.\n",
                        "This code path has been hit 3 times so far.\n",
                        "\n",
                        "  warnings.warn(msg, UserWarning)\n",
                        "/Users/irina.wang/Desktop/Princeton/Project2/cvxpy/cvxpy/expressions/expression.py:607: UserWarning: \n",
                        "This use of ``*`` has resulted in matrix multiplication.\n",
                        "Using ``*`` for matrix multiplication has been deprecated since CVXPY 1.1.\n",
                        "    Use ``*`` for matrix-scalar and vector-scalar multiplication.\n",
                        "    Use ``@`` for matrix-matrix and matrix-vector multiplication.\n",
                        "    Use ``multiply`` for elementwise multiplication.\n",
                        "This code path has been hit 4 times so far.\n",
                        "\n",
                        "  warnings.warn(msg, UserWarning)\n"
                    ]
                },
                {
                    "data": {
                        "text/plain": [
                            "-0.08372198960845363"
                        ]
                    },
                    "execution_count": 5,
                    "metadata": {},
                    "output_type": "execute_result"
                }
            ],
            "source": [
                "def violation_loss(t_soln, x_soln, data, lmbda=1):\n",
                "    return t_soln + lmbda * torch.mean(\n",
                "        torch.maximum(-data @ x_soln - t_soln, torch.tensor(0., requires_grad=True))), t_soln\n",
                "\n",
                "unc_set = lropt.Ellipsoidal(data=sp_rets, loss=violation_loss)\n",
                "u = lropt.UncertainParameter(num_stocks, uncertainty_set=unc_set)\n",
                "\n",
                "x = cp.Variable(num_stocks)\n",
                "t = cp.Variable()\n",
                "\n",
                "objective = cp.Minimize(t)\n",
                "cons = [-u @ x <= t]\n",
                "cons += [cp.sum(x) == 1, x >= 0]\n",
                "\n",
                "prob_robust = lropt.RobustProblem(objective, cons)\n",
                "df = prob_robust.train()\n",
                "prob_robust.solve()"
            ]
        },
        {
            "cell_type": "code",
            "execution_count": 48,
            "id": "hollywood-enhancement",
            "metadata": {},
            "outputs": [],
            "source": []
        },
        {
            "cell_type": "code",
            "execution_count": 51,
            "id": "alone-register",
            "metadata": {},
            "outputs": [
                {
                    "data": {
                        "text/plain": [
                            "torch.Size([100, 10])"
                        ]
                    },
                    "execution_count": 51,
                    "metadata": {},
                    "output_type": "execute_result"
                }
            ],
            "source": []
        },
        {
            "cell_type": "code",
            "execution_count": null,
            "id": "coupled-liberty",
            "metadata": {},
            "outputs": [],
            "source": []
        }
    ],
    "metadata": {
        "kernelspec": {
            "display_name": "Python 3.10.6 ('lropt')",
            "language": "python",
            "name": "python3"
        },
        "language_info": {
            "codemirror_mode": {
                "name": "ipython",
                "version": 3
            },
            "file_extension": ".py",
            "mimetype": "text/x-python",
            "name": "python",
            "nbconvert_exporter": "python",
            "pygments_lexer": "ipython3",
            "version": "3.10.6"
        },
        "vscode": {
            "interpreter": {
                "hash": "e3ed6dde042e78d86e091991aef4e6276872e8fbcb7e1edcb6e9eacd7157f213"
            }
        }
    },
    "nbformat": 4,
    "nbformat_minor": 5
}
