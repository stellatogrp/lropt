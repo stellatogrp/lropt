{
    "cells": [
        {
            "cell_type": "markdown",
            "metadata": {},
            "source": [
                "# Deterministic Uncertainty Sets"
            ]
        },
        {
            "cell_type": "code",
            "execution_count": 1,
            "metadata": {},
            "outputs": [],
            "source": [
                "import cvxpy as cp\n",
                "import scipy as sc\n",
                "from sklearn import datasets\n",
                "import numpy as np\n",
                "import numpy.random as npr\n",
                "import numpy.testing as npt\n",
                "import torch\n",
                "import pandas as pd\n",
                "import lropt\n",
                "import matplotlib.pyplot as plt\n",
                "RTOL = 1e-04\n",
                "ATOL = 1e-04\n",
                "import warnings\n",
                "warnings.filterwarnings(\"ignore\")\n",
                "plt.rcParams.update({\n",
                "    \"text.usetex\":True,\n",
                "    \"font.size\":18,\n",
                "    \"font.family\": \"serif\"\n",
                "})\n",
                "colors = [\"tab:blue\", \"tab:green\", \"tab:orange\", \n",
                "          \"tab:red\", \"tab:purple\", \"tab:brown\", \"tab:pink\", \"tab:grey\", \"tab:olive\"]"
            ]
        },
        {
            "attachments": {},
            "cell_type": "markdown",
            "metadata": {},
            "source": [
                "### Formulating the uncertainty set\n",
                "\n",
                "The first step is to formulate the uncertainty set. There are multiple options, with their associated input parameters. The uncertainty set can be formulated within the uncertain parameter, which takes in the size of the uncertainty and an uncertainty set as parameters."
            ]
        },
        {
            "attachments": {},
            "cell_type": "markdown",
            "metadata": {},
            "source": [
                "#### Ellipsoidal uncertainty: $\\{u \\mid \\| Au + b \\|_p \\leq \\rho \\}$\n",
                "\n",
                "- $\\rho$ : float, optional  \n",
                "  * Ellipsoid scaling. Default 1.0. \n",
                "- $p$ : integer, optional  \n",
                "  * Order of the norm. Default 2.\n",
                "- $A$ : np.array, optional\n",
                "  * Scaling matrix for u. Default identity matrix.\n",
                "- $b$ : np.array, optional\n",
                "  * Relocation vector for u. Default None.\n"
            ]
        },
        {
            "cell_type": "code",
            "execution_count": 2,
            "metadata": {},
            "outputs": [],
            "source": [
                "# Ellipsoidal uncertainty set example\n",
                "m = 5\n",
                "data = np.random.normal(0,1,size = (100,m))\n",
                "ellip_u = lropt.UncertainParameter(m,\n",
                "                                   uncertainty_set = lropt.Ellipsoidal(p = 2, \n",
                "                                                                       rho=2., b = np.mean(data, axis = 0)))"
            ]
        },
        {
            "attachments": {},
            "cell_type": "markdown",
            "metadata": {},
            "source": [
                "#### Mean Robust uncertainty: $\\{ u = (v_1,\\dots,v_K)  \\mid  \\sum_{k=1} ^K w_k \\| A_k(v_k - \\bar{d}_k) \\|_p^{\\text{power}} \\le \\rho \\}$ \n",
                "\n",
                "- $K$: int\n",
                "  * Number of clusters. Default 1.\n",
                "- data : np.array\n",
                "  * Data to be clustered. The $K$ cluster centers are denoted $\\bar{d}_k$ for $k = 1, \\dots,K$.\n",
                "- $\\rho$ : float, optional  \n",
                "  * Ellipsoid scaling. Default 1.0. \n",
                "- $p$ : integer, optional  \n",
                "  * Order of the norm. Default 2.\n",
                "- power: integer, optional\n",
                "  * Power of the norm. Default 1. \n",
                "- $A_k$ : np.array, optional\n",
                "  * Scaling matrix for u, for each $k$. Default identity matrix.\n",
                "- Train: boolean, optional\n",
                "  * Whether or not $A_k$ should be trained using given data. Default True.\n"
            ]
        },
        {
            "cell_type": "code",
            "execution_count": 3,
            "metadata": {},
            "outputs": [],
            "source": [
                "# size of uncertain parameter\n",
                "m = 5\n",
                "# Generate data\n",
                "data = np.random.normal(0,1,size = (100,m))\n",
                "\n",
                "mro_u = lropt.UncertainParameter(m,\n",
                "                                 uncertainty_set = lropt.MRO(K = 1, rho=2., data = data, train = False))"
            ]
        },
        {
            "attachments": {},
            "cell_type": "markdown",
            "metadata": {},
            "source": [
                "#### Box uncertainty: $\\{ u \\mid\\| Au + b\\|_\\infty \\leq \\rho \\}$ \n",
                "\n",
                "- $\\rho$ : float, optional  \n",
                "  * Box scaling. Default 1.0.\n",
                "- $A$ : np.array, optional\n",
                "  * Scaling matrix for u. Default identity matrix.\n",
                "- $b$ : np.array, optional\n",
                "  * Relocation vector for u. Default None.\n"
            ]
        },
        {
            "cell_type": "code",
            "execution_count": 4,
            "metadata": {},
            "outputs": [],
            "source": [
                "# Box uncertainty set example\n",
                "box_u = lropt.UncertainParameter(m, \n",
                "                                 uncertainty_set = lropt.Box(rho=2.))"
            ]
        },
        {
            "attachments": {},
            "cell_type": "markdown",
            "metadata": {},
            "source": [
                "#### Budget uncertainty: $\\{u \\mid \\| A_1u + b_1 \\|_\\infty \\leq \\rho_1, \\| A_2u + b_2 \\|_1 \\leq \\rho_2\\}$ \n",
                "\n",
                "- $\\rho_1$ : float, optional  \n",
                "  * Box scaling. Default 1.0. \n",
                "- $\\rho_2$ : float, optional\n",
                "  * 1-norm scaling. Default 1.0.\n",
                "- $A_1$, $A_2$ : np.array, optional\n",
                "  * Scaling matrix for u. Default identity matrix.\n",
                "- $b_1$, $b_2$ : np.array, optional\n",
                "  * Relocation vector for u. Default None.\n"
            ]
        },
        {
            "cell_type": "code",
            "execution_count": 5,
            "metadata": {},
            "outputs": [],
            "source": [
                "# Budget uncertainty set example\n",
                "budget_u = lropt.UncertainParameter(m, \n",
                "                                    uncertainty_set = lropt.Budget(rho1=2., \n",
                "                                                                   rho2 = 1.))"
            ]
        },
        {
            "attachments": {},
            "cell_type": "markdown",
            "metadata": {},
            "source": [
                "#### Polyhedral uncertainty: $\\{ u \\mid Du \\leq d\\}$\n",
                "\n",
                "- $D$ : np.array  \n",
                "- $d$ : np.array  "
            ]
        },
        {
            "cell_type": "code",
            "execution_count": 6,
            "metadata": {},
            "outputs": [],
            "source": [
                "# Polyhedral uncertainty set example\n",
                "poly_u = lropt.UncertainParameter(m, \n",
                "                                  uncertainty_set = lropt.Polyhedral(D = np.ones((3,m)), d = np.array([1,2,3])))"
            ]
        },
        {
            "cell_type": "markdown",
            "metadata": {},
            "source": [
                "###  Formulating the Robust Problem\n",
                "\n",
                "We can now fomulate the Robust Problem, treating the uncertain parameter as a regular parameter."
            ]
        },
        {
            "attachments": {},
            "cell_type": "markdown",
            "metadata": {},
            "source": [
                "#### Example 1: Affine transformed LP, ellipsoidal uncertainty and mean robust uncertainty.\n",
                "We solve the problem\n",
                "$$\n",
                "\\begin{array}{ll}\n",
                "\\text{minimize} & c^Tx\\\\\n",
                "\\text{subject to}  & (Pu+a)^Tx \\leq  10,\\\\\n",
                "\\end{array}\n",
                "$$\n",
                "where $c$, $P$, and $a$ are constants, and $u$ is the uncertain parameter from the ellipsoidal set above, where $b$ is nonzero."
            ]
        },
        {
            "cell_type": "code",
            "execution_count": 7,
            "metadata": {},
            "outputs": [
                {
                    "name": "stdout",
                    "output_type": "stream",
                    "text": [
                        "LRO objective value:  -1.6519071154902834 \n",
                        "LRO x:  [-1.28865213 -1.0510689  -0.00152114 -0.66158881]\n"
                    ]
                }
            ],
            "source": [
                "#restate the ellipsoidal set\n",
                "ellip_u = lropt.UncertainParameter(m,\n",
                "                                  uncertainty_set = lropt.Ellipsoidal(p = 2, \n",
                "                                                                      rho=2., b = -np.mean(data, axis = 0)))\n",
                "n = 4\n",
                "\n",
                "# formulate cvxpy variable\n",
                "x_r = cp.Variable(4)\n",
                "\n",
                "# formulate problem constants\n",
                "P = 3. * np.eye(m)[:n, :]\n",
                "a = 0.1 * np.random.rand(n)\n",
                "c = np.random.rand(n)\n",
                "\n",
                "# formulate objective\n",
                "objective = cp.Minimize(c@x_r)\n",
                "\n",
                "# formulate constraints\n",
                "constraints = [(P@ellip_u +a)@ x_r <= 10]\n",
                "\n",
                "# formulate Robust Problem\n",
                "prob_robust = lropt.RobustProblem(objective, constraints)\n",
                "\n",
                "# solve\n",
                "prob_robust.solve()\n",
                "print(\"LRO objective value: \", prob_robust.objective.value, \"\\nLRO x: \", x_r.value)\n"
            ]
        },
        {
            "attachments": {},
            "cell_type": "markdown",
            "metadata": {},
            "source": [
                "We note that this is equivalent to using the MRO uncertainty set with $K = 1$ and power = 1."
            ]
        },
        {
            "cell_type": "code",
            "execution_count": 8,
            "metadata": {},
            "outputs": [
                {
                    "name": "stdout",
                    "output_type": "stream",
                    "text": [
                        "MRO objective value:  -1.6519071151229305 \n",
                        "MRO x:  [-1.28865203 -1.05106898 -0.00152115 -0.66158886]\n"
                    ]
                }
            ],
            "source": [
                "#\n",
                "mro_u = lropt.UncertainParameter(m,\n",
                "                                 uncertainty_set = lropt.MRO(rho=2., K = 1, data = data, train = False))\n",
                "n = 4\n",
                "\n",
                "# formulate cvxpy variable\n",
                "x_m = cp.Variable(4)\n",
                "\n",
                "# formulate objective\n",
                "objective = cp.Minimize(c@x_m)\n",
                "\n",
                "# formulate constraints\n",
                "constraints = [(P@mro_u +a)@ x_m <= 10]\n",
                "\n",
                "# formulate Robust Problem\n",
                "prob_robust = lropt.RobustProblem(objective, constraints)\n",
                "\n",
                "# solve\n",
                "prob_robust.solve()\n",
                "print(\"MRO objective value: \", prob_robust.objective.value, \"\\nMRO x: \", x_m.value)\n"
            ]
        },
        {
            "attachments": {},
            "cell_type": "markdown",
            "metadata": {},
            "source": [
                "We compare the above with its explicit reformulation and solution\n",
                "$$\n",
                "\\begin{array}{ll}\n",
                "\\text{minimize} & c^Tx\\\\\n",
                "\\text{subject to}  & a^Tx - b^T(P^Tx) + \\rho\\|P^Tx\\|_2 \\leq  10,\\\\\n",
                "\\end{array}\n",
                "$$"
            ]
        },
        {
            "cell_type": "code",
            "execution_count": 9,
            "metadata": {},
            "outputs": [
                {
                    "name": "stdout",
                    "output_type": "stream",
                    "text": [
                        "Cvxpy objective value:  -1.6519071095609226 \n",
                        "Cvxpy x:  [-1.28861583 -1.05109806 -0.00152409 -0.66160572]\n"
                    ]
                }
            ],
            "source": [
                "# formulate cvxpy variable\n",
                "x = cp.Variable(4)\n",
                "\n",
                "# formulate objective\n",
                "objective = cp.Minimize(c@x)\n",
                "\n",
                "# formulate constraints\n",
                "constraints = [a@x + np.mean(data, axis = 0)@(P.T@x) + 2*cp.norm(P.T@x,2) <= 10]\n",
                "\n",
                "# formulate problem\n",
                "prob_cvxpy = cp.Problem(objective, constraints)\n",
                "\n",
                "# solve\n",
                "prob_cvxpy.solve()\n",
                "\n",
                "print(\"Cvxpy objective value: \", prob_cvxpy.objective.value, \"\\nCvxpy x: \", x.value)\n",
                "\n",
                "# assert x values are equal\n",
                "npt.assert_allclose(x_r.value, x.value, rtol=RTOL, atol=ATOL)\n"
            ]
        },
        {
            "cell_type": "markdown",
            "metadata": {},
            "source": [
                "We see that they provide the same solution."
            ]
        },
        {
            "cell_type": "markdown",
            "metadata": {},
            "source": [
                "#### Example 2: Multiple uncertain terms, box uncertainty\n",
                "We solve the problem\n",
                "$$\n",
                "\\begin{array}{ll}\n",
                "\\text{minimize} & c^Tx\\\\\n",
                "\\text{subject to}  & P(Au+ b)^Tx  \\leq  10 + 2(Au + b)^Tx\\\\\n",
                "& x \\geq 0,\\quad x \\leq 1,\n",
                "\\end{array}\n",
                "$$\n",
                "where again $c$, $P$, and $a$ are constants, and $u$ is the uncertain parameter from a box uncertainty set. We note that the uncertain parameter can appear more than once in the uncertain constraint. \n",
                "\n",
                "Note that using the box uncertainty set is equivalent to using the ellipsoidal uncertainty set with $p = \\infty$"
            ]
        },
        {
            "cell_type": "code",
            "execution_count": 10,
            "metadata": {},
            "outputs": [
                {
                    "name": "stdout",
                    "output_type": "stream",
                    "text": [
                        "Box objective value:  -1.4078979589735572 \n",
                        "Box x:  [7.29768334e-11 3.03296876e-01 1.00000000e+00 1.00000000e+00\n",
                        " 3.35504847e-12]\n",
                        "Ellipsoidal objective value:  -1.4078979589735567 \n",
                        "Ellipsoidal x:  [7.29771431e-11 3.03296876e-01 1.00000000e+00 1.00000000e+00\n",
                        " 3.35507240e-12]\n"
                    ]
                }
            ],
            "source": [
                "#formulate using the box set\n",
                "box_u = lropt.UncertainParameter(m, \n",
                "                                 uncertainty_set = lropt.Box(rho=2.))\n",
                "n = 5\n",
                "\n",
                "# formulate cvxpy variable\n",
                "x_box = cp.Variable(n)\n",
                "\n",
                "# formulate problem constants\n",
                "P = 3*np.random.rand(n,m)\n",
                "c = np.random.rand(n)\n",
                "center = 0.5*np.ones(m)\n",
                "side = 0.1*np.array([1,2,3,4,5])\n",
                "A = np.diag(0.5*side)\n",
                "b = center\n",
                "\n",
                "# formulate objective\n",
                "objective = cp.Minimize(-c@x_box)\n",
                "\n",
                "# formulate constraints\n",
                "constraints = [(P@A@box_u+ P@b)@ x_box - 2*(A@box_u + b)@x_box <= 10 , x_box >=0, x_box<=1]\n",
                "\n",
                "# formulate Robust Problem\n",
                "prob_robust = lropt.RobustProblem(objective, constraints)\n",
                "\n",
                "# solve\n",
                "newprob = prob_robust.dualize_constraints()\n",
                "newprob.solve()\n",
                "print(\"Box objective value: \", newprob.objective.value, \"\\nBox x: \", x_box.value)\n",
                "\n",
                "#formulate using the ellipsoidal set\n",
                "ellip_u = lropt.UncertainParameter(m,\n",
                "                                   uncertainty_set = lropt.Ellipsoidal(p = np.inf, \n",
                "                                                                       rho=2., A = np.eye(m)))\n",
                "n = 5\n",
                "\n",
                "# formulate cvxpy variable\n",
                "x_el = cp.Variable(n)\n",
                "\n",
                "# formulate objective\n",
                "objective = cp.Minimize(-c@x_el)\n",
                "\n",
                "# formulate constraints\n",
                "constraints = [P@(A@ellip_u + b)@ x_el  <= 10+(2*A@ellip_u+ 2*b)@x_el, x_el >=0, x_el<=1]\n",
                "\n",
                "# formulate Robust Problem\n",
                "prob_robust = lropt.RobustProblem(objective, constraints)\n",
                "\n",
                "# solve\n",
                "prob_robust.solve()\n",
                "\n",
                "print(\"Ellipsoidal objective value: \", prob_robust.objective.value, \"\\nEllipsoidal x: \", x_el.value)\n",
                "\n",
                "# assert x values are equal\n",
                "npt.assert_allclose(x_box.value, x_el.value, rtol=RTOL, atol=ATOL)\n"
            ]
        },
        {
            "cell_type": "markdown",
            "metadata": {},
            "source": [
                "We compare the above with its explicit reformulation and solution\n",
                "$$\n",
                "\\begin{array}{ll}\n",
                "\\text{minimize} & c^Tx\\\\\n",
                "\\text{subject to}  & (Pb)^Tx - 2b^Tx + \\rho\\|A^TP^Tx - 2A^Tx\\|_1 \\leq  10,\\\\\n",
                "\\end{array}\n",
                "$$"
            ]
        },
        {
            "cell_type": "code",
            "execution_count": 11,
            "metadata": {},
            "outputs": [
                {
                    "name": "stdout",
                    "output_type": "stream",
                    "text": [
                        "Cvxpy objective value:  -1.407897958860878 \n",
                        "Cvxpy x:  [4.90973587e-10 3.03296878e-01 9.99999999e-01 1.00000000e+00\n",
                        " 2.55184680e-11]\n"
                    ]
                }
            ],
            "source": [
                "# formulate using cvxpy\n",
                "x_cvxpy = cp.Variable(5)\n",
                "# formulate objective\n",
                "objective = cp.Minimize(-c@x_cvxpy)\n",
                "\n",
                "# formulate constraints\n",
                "constraints = [(P@b)@x_cvxpy - 2*b@x_cvxpy + 2*cp.norm((P@A).T@x_cvxpy - 2*A.T@x_cvxpy,p=1)<= 10, x_cvxpy>=0, x_cvxpy<=1]\n",
                "\n",
                "# formulate problem\n",
                "prob_cvxpy = cp.Problem(objective, constraints)\n",
                "\n",
                "# solve\n",
                "prob_cvxpy.solve()\n",
                "\n",
                "print(\"Cvxpy objective value: \", prob_cvxpy.objective.value, \"\\nCvxpy x: \", x_cvxpy.value)\n",
                "\n",
                "# assert x values are equal\n",
                "npt.assert_allclose(x_box.value, x_cvxpy.value, rtol=RTOL, atol=ATOL)\n"
            ]
        },
        {
            "cell_type": "markdown",
            "metadata": {},
            "source": [
                "#### Example 3: Multiple uncertain constraints, polyhedral uncertainty\n",
                "We solve the problem\n",
                "$$\n",
                "\\begin{array}{ll}\n",
                "\\text{minimize} & c^Tx\\\\\n",
                "\\text{subject to}  & (P_1u + a)^Tx  \\leq  10\\\\\n",
                "& (P_2u)^Tx  \\leq  5\\\\\n",
                "& x \\leq 5,\n",
                "\\end{array}\n",
                "$$\n",
                "where $c$, $P_1$, $P_2$, and $a$ are constants, and $u$ is the uncertain parameter from a polyhedral uncertainty set"
            ]
        },
        {
            "cell_type": "code",
            "execution_count": 12,
            "metadata": {},
            "outputs": [
                {
                    "name": "stdout",
                    "output_type": "stream",
                    "text": [
                        "LRO objective value:  -6.847182231773523 \n",
                        "LRO x:  [-5.86505292  5.          5.          4.99999999]\n"
                    ]
                }
            ],
            "source": [
                "#restate the ellipsoidal set \n",
                "D =  np.vstack((np.eye(m), -2*np.eye(m)))\n",
                "d = np.concatenate((0.1*np.ones(m), 0.1*np.ones(m)))\n",
                "poly_u = lropt.UncertainParameter(m, \n",
                "                                  uncertainty_set = lropt.Polyhedral(D = D, d = d))\n",
                "n = 4\n",
                "# formulate cvxpy variable\n",
                "x_r = cp.Variable(n)\n",
                "\n",
                "# formulate problem constants\n",
                "P1 = 0.5 * np.eye(m)[:n, :]\n",
                "P2 = 3*np.random.rand(n,m)\n",
                "a = 0.1 * np.random.rand(n)\n",
                "c = np.random.rand(n)\n",
                "\n",
                "# formulate objective\n",
                "objective = cp.Minimize(-c@x_r)\n",
                "\n",
                "# formulate constraints\n",
                "constraints = [(P1@poly_u +a)@ x_r <=10, x_r<=5]\n",
                "constraints += [(P2@poly_u)@ x_r <= 5]\n",
                "\n",
                "# formulate Robust Problem\n",
                "prob_robust = lropt.RobustProblem(objective, constraints)\n",
                "\n",
                "# solve\n",
                "\n",
                "# solve\n",
                "prob_robust.solve()\n",
                "print(\"LRO objective value: \", prob_robust.objective.value, \"\\nLRO x: \", x_r.value)"
            ]
        },
        {
            "cell_type": "markdown",
            "metadata": {},
            "source": [
                "We compare it with its direct reformulation, where each uncertain constraint is treated independently,\n",
                "$$\n",
                "\\begin{array}{ll}\n",
                "\\text{minimize} & c^Tx\\\\\n",
                "\\text{subject to}  & a^Tx + w_1^Td  \\leq  10\\\\\n",
                "& w_1^TD = P_1^Tx\\\\\n",
                "& w_2^Td  \\leq  5\\\\\n",
                "& w_2^TD = P_2^Tx\\\\\n",
                "& w_1, w_2 \\geq 0\\\\\n",
                "& x \\leq 5,\n",
                "\\end{array}\n",
                "$$\n",
                "where $w_1$, $w_2$ are new variables introduced."
            ]
        },
        {
            "cell_type": "code",
            "execution_count": 13,
            "metadata": {},
            "outputs": [
                {
                    "name": "stdout",
                    "output_type": "stream",
                    "text": [
                        "Cvxpy objective value:  -6.847182239193556 \n",
                        "Cvxpy x:  [-5.86505291  5.          5.          5.        ]\n"
                    ]
                }
            ],
            "source": [
                "# formulate using cvxpy\n",
                "x_cvxpy = cp.Variable(n)\n",
                "w1 = cp.Variable(2*m)\n",
                "w2 = cp.Variable(2*m)\n",
                "# formulate objective\n",
                "objective = cp.Minimize(-c@x_cvxpy)\n",
                "\n",
                "# formulate constraints\n",
                "constraints = [a@x_cvxpy + w1@d <= 10]\n",
                "constraints += [w1@D == P1.T@x_cvxpy]\n",
                "constraints += [w2@d <= 5]\n",
                "constraints += [w2@D == P2.T@x_cvxpy]\n",
                "constraints += [w1>=0, w2 >= 0, x_cvxpy <=5]\n",
                "# formulate Robust Problem\n",
                "prob_cvxpy = cp.Problem(objective, constraints)\n",
                "\n",
                "# solve\n",
                "prob_cvxpy.solve()\n",
                "print(\"Cvxpy objective value: \", prob_cvxpy.objective.value, \"\\nCvxpy x: \", x_cvxpy.value)\n",
                "\n",
                "# assert x values are equal\n",
                "npt.assert_allclose(x_r.value, x_cvxpy.value, rtol=RTOL, atol=ATOL)"
            ]
        },
        {
            "cell_type": "markdown",
            "metadata": {},
            "source": [
                "#### Example 4: Direct comparison constraints, budget uncertainty\n",
                "We solve the problem\n",
                "$$\n",
                "\\begin{array}{ll}\n",
                "\\text{minimize} & c^Tx\\\\\n",
                "\\text{subject to}  & (Pu + a)^Tx  \\leq  10\\\\\n",
                "& x \\geq P_1u,\n",
                "\\end{array}\n",
                "$$\n",
                "where $c$, $P$,and $a$ are constants, and $u$ is the uncertain parameter from a budet uncertainty set. \n",
                "We can include constraints that relates directly the values of $x$ and $u$, as in the second constraint."
            ]
        },
        {
            "cell_type": "code",
            "execution_count": 19,
            "metadata": {},
            "outputs": [
                {
                    "name": "stdout",
                    "output_type": "stream",
                    "text": [
                        "LRO objective value:  5.261330257320349 \n",
                        "LRO x:  [2.9843025  2.98430251 2.9843025  2.9843025 ]\n"
                    ]
                }
            ],
            "source": [
                "#restate the ellipsoidal set\n",
                "budget_u = lropt.UncertainParameter(m, \n",
                "                                    uncertainty_set = lropt.Budget(rho1=2., \n",
                "                                                                   rho2 = 1., A1 = np.eye(m), A2 = np.eye(m)))\n",
                "n = 4\n",
                "# formulate cvxpy variable\n",
                "x_r = cp.Variable(n)\n",
                "\n",
                "# formulate problem constants\n",
                "P = 3. * np.eye(m)[:n, :]\n",
                "P1 = 3*np.random.rand(n,m)\n",
                "a = 0.1 * np.random.rand(n)\n",
                "c = np.random.rand(n)\n",
                "\n",
                "# formulate objective\n",
                "objective = cp.Minimize(c@x_r)\n",
                "\n",
                "# formulate constraints\n",
                "constraints = [(P@budget_u +a)@ x_r <= 10]\n",
                "constraints += [x_r >= P1@budget_u]\n",
                "\n",
                "# formulate Robust Problem\n",
                "prob_robust = lropt.RobustProblem(objective, constraints)\n",
                "\n",
                "# solve\n",
                "prob_robust.solve()\n",
                "print(\"LRO objective value: \", prob_robust.objective.value, \"\\nLRO x: \", x_r.value)\n"
            ]
        },
        {
            "cell_type": "markdown",
            "metadata": {},
            "source": [
                "We compare this with its direct reformulation,\n",
                "$$\n",
                "\\begin{array}{ll}\n",
                "\\text{minimize} & c^Tx\\\\\n",
                "\\text{subject to}  & a^Tx + \\rho_1\\|y\\|_1 + \\rho_2\\|P^Tx - y\\|_\\infty  \\leq  10\\\\\n",
                "& -x_i + \\rho_1\\|z_i\\|_1 + \\rho_2\\|(P_1^T)_i - z_i\\|_\\infty \\leq 0, \\quad i = 1,\\dots,n\n",
                "\\end{array}\n",
                "$$\n",
                "where $(P_1^T)_i$ is the $i$'th row of $P_1$."
            ]
        },
        {
            "cell_type": "code",
            "execution_count": 20,
            "metadata": {},
            "outputs": [
                {
                    "name": "stdout",
                    "output_type": "stream",
                    "text": [
                        "Cvxpy objective value:  4.413832675527443 \n",
                        "Cvxpy x:  [2.05171805 1.42413308 2.81831985 2.9843025 ]\n"
                    ]
                },
                {
                    "ename": "AssertionError",
                    "evalue": "\nNot equal to tolerance rtol=0.0001, atol=0.0001\n\nMismatched elements: 3 / 4 (75%)\nMax absolute difference: 1.56016943\nMax relative difference: 1.09552221\n x: array([2.984303, 2.984303, 2.984303, 2.984303])\n y: array([2.051718, 1.424133, 2.81832 , 2.984303])",
                    "output_type": "error",
                    "traceback": [
                        "\u001b[0;31m---------------------------------------------------------------------------\u001b[0m",
                        "\u001b[0;31mAssertionError\u001b[0m                            Traceback (most recent call last)",
                        "Cell \u001b[0;32mIn[20], line 22\u001b[0m\n\u001b[1;32m     19\u001b[0m \u001b[39mprint\u001b[39m(\u001b[39m\"\u001b[39m\u001b[39mCvxpy objective value: \u001b[39m\u001b[39m\"\u001b[39m, prob_cvxpy\u001b[39m.\u001b[39mobjective\u001b[39m.\u001b[39mvalue, \u001b[39m\"\u001b[39m\u001b[39m\\n\u001b[39;00m\u001b[39mCvxpy x: \u001b[39m\u001b[39m\"\u001b[39m, x_cvxpy\u001b[39m.\u001b[39mvalue)\n\u001b[1;32m     21\u001b[0m \u001b[39m# assert x values are equal\u001b[39;00m\n\u001b[0;32m---> 22\u001b[0m npt\u001b[39m.\u001b[39;49massert_allclose(x_r\u001b[39m.\u001b[39;49mvalue, x_cvxpy\u001b[39m.\u001b[39;49mvalue, rtol\u001b[39m=\u001b[39;49mRTOL, atol\u001b[39m=\u001b[39;49mATOL)\n",
                        "    \u001b[0;31m[... skipping hidden 1 frame]\u001b[0m\n",
                        "File \u001b[0;32m~/.asdf/installs/python/3.10.7/lib/python3.10/contextlib.py:79\u001b[0m, in \u001b[0;36mContextDecorator.__call__.<locals>.inner\u001b[0;34m(*args, **kwds)\u001b[0m\n\u001b[1;32m     76\u001b[0m \u001b[39m@wraps\u001b[39m(func)\n\u001b[1;32m     77\u001b[0m \u001b[39mdef\u001b[39;00m \u001b[39minner\u001b[39m(\u001b[39m*\u001b[39margs, \u001b[39m*\u001b[39m\u001b[39m*\u001b[39mkwds):\n\u001b[1;32m     78\u001b[0m     \u001b[39mwith\u001b[39;00m \u001b[39mself\u001b[39m\u001b[39m.\u001b[39m_recreate_cm():\n\u001b[0;32m---> 79\u001b[0m         \u001b[39mreturn\u001b[39;00m func(\u001b[39m*\u001b[39;49margs, \u001b[39m*\u001b[39;49m\u001b[39m*\u001b[39;49mkwds)\n",
                        "File \u001b[0;32m~/Dropbox/work/research/code/projects/learn_robust/lro/.direnv/python-3.10.7/lib/python3.10/site-packages/numpy/testing/_private/utils.py:862\u001b[0m, in \u001b[0;36massert_array_compare\u001b[0;34m(comparison, x, y, err_msg, verbose, header, precision, equal_nan, equal_inf, strict)\u001b[0m\n\u001b[1;32m    858\u001b[0m         err_msg \u001b[39m+\u001b[39m\u001b[39m=\u001b[39m \u001b[39m'\u001b[39m\u001b[39m\\n\u001b[39;00m\u001b[39m'\u001b[39m \u001b[39m+\u001b[39m \u001b[39m'\u001b[39m\u001b[39m\\n\u001b[39;00m\u001b[39m'\u001b[39m\u001b[39m.\u001b[39mjoin(remarks)\n\u001b[1;32m    859\u001b[0m         msg \u001b[39m=\u001b[39m build_err_msg([ox, oy], err_msg,\n\u001b[1;32m    860\u001b[0m                             verbose\u001b[39m=\u001b[39mverbose, header\u001b[39m=\u001b[39mheader,\n\u001b[1;32m    861\u001b[0m                             names\u001b[39m=\u001b[39m(\u001b[39m'\u001b[39m\u001b[39mx\u001b[39m\u001b[39m'\u001b[39m, \u001b[39m'\u001b[39m\u001b[39my\u001b[39m\u001b[39m'\u001b[39m), precision\u001b[39m=\u001b[39mprecision)\n\u001b[0;32m--> 862\u001b[0m         \u001b[39mraise\u001b[39;00m \u001b[39mAssertionError\u001b[39;00m(msg)\n\u001b[1;32m    863\u001b[0m \u001b[39mexcept\u001b[39;00m \u001b[39mValueError\u001b[39;00m:\n\u001b[1;32m    864\u001b[0m     \u001b[39mimport\u001b[39;00m \u001b[39mtraceback\u001b[39;00m\n",
                        "\u001b[0;31mAssertionError\u001b[0m: \nNot equal to tolerance rtol=0.0001, atol=0.0001\n\nMismatched elements: 3 / 4 (75%)\nMax absolute difference: 1.56016943\nMax relative difference: 1.09552221\n x: array([2.984303, 2.984303, 2.984303, 2.984303])\n y: array([2.051718, 1.424133, 2.81832 , 2.984303])"
                    ]
                }
            ],
            "source": [
                "# formulate cvxpy variables\n",
                "x_cvxpy = cp.Variable(n)\n",
                "y = cp.Variable(m)\n",
                "z = cp.Variable((n,m))\n",
                "\n",
                "# formulate objective\n",
                "objective = cp.Minimize(c@x_cvxpy)\n",
                "\n",
                "# formulate constraints\n",
                "constraints = [a@x_cvxpy + 2*cp.norm(y,1) + cp.norm(P.T@x_cvxpy-y,np.inf) <= 10]\n",
                "for i in range(n):\n",
                "  constraints += [-x_cvxpy[i] + 2*cp.norm(z[i],1) + cp.norm(P1.T@(np.eye(n)[i]) - z[i],np.inf) <= 0]\n",
                "\n",
                "# formulate Robust Problem\n",
                "prob_cvxpy = cp.Problem(objective, constraints)\n",
                "\n",
                "# solve\n",
                "prob_cvxpy.solve()\n",
                "print(\"Cvxpy objective value: \", prob_cvxpy.objective.value, \"\\nCvxpy x: \", x_cvxpy.value)\n",
                "\n",
                "# assert x values are equal\n",
                "npt.assert_allclose(x_r.value, x_cvxpy.value, rtol=RTOL, atol=ATOL)\n"
            ]
        },
        {
            "cell_type": "markdown",
            "metadata": {},
            "source": [
                "#### Example 5: Quadratic uncertainty, ellipsoidal set\n",
                "We solve the problem\n",
                "$$\n",
                "\\begin{array}{ll}\n",
                "\\text{minimize} & \\tau\\\\\n",
                "\\text{subject to}  & -(1/2)\\sum_{i=1}^n (u^TP_iu)x_i  \\leq  \\tau\\\\\n",
                "& \\mathbf{1}^Tx = 3\\\\\n",
                "& x \\geq 0, \\quad x \\leq 1\n",
                "\\end{array}\n",
                "$$\n",
                "where each $P_i\\in \\mathbf{R}^{n\\times n}$ is a symmetric positive definite matrix, and $u$ is the uncertain parameter from an ellipsoidal uncertainty set. "
            ]
        },
        {
            "cell_type": "code",
            "execution_count": 21,
            "metadata": {},
            "outputs": [
                {
                    "name": "stdout",
                    "output_type": "stream",
                    "text": [
                        "LRO objective value:  -2.09735042339787e-10 \n",
                        "LRO x:  [0.79877007 0.80135793 0.80079074 0.79877817 0.80030309]\n"
                    ]
                }
            ],
            "source": [
                "# formulate uncertainty set\n",
                "n = 5\n",
                "u = lropt.UncertainParameter(n,\n",
                "                             uncertainty_set=lropt.Ellipsoidal(p=2, rho=0.5))\n",
                "# formulate cvxpy variables\n",
                "x_r = cp.Variable(n)\n",
                "t = cp.Variable()\n",
                "\n",
                "# formulate problem constants\n",
                "P = {}\n",
                "P_inv = {}\n",
                "for i in range(n):\n",
                "    P[i] = datasets.make_spd_matrix(n, random_state=i)\n",
                "    P_inv[i] = sc.linalg.sqrtm(np.linalg.inv(P[i]))\n",
                "\n",
                "# formulate objective\n",
                "objective = cp.Minimize(t)\n",
                "\n",
                "# formulate constraints \n",
                "constraints = [cp.sum([-0.5*lropt.quad_form(u, P[i]*x_r[i]) for i in range(n)]) <= t]\n",
                "constraints += [cp.sum(x_r)==4]\n",
                "constraints += [x_r >= 0.6, x_r <= 1]\n",
                "\n",
                "# formulate Robust Problem\n",
                "prob_robust = lropt.RobustProblem(objective, constraints)\n",
                "\n",
                "# solve\n",
                "prob_robust.solve()\n",
                "print(\"LRO objective value: \", prob_robust.objective.value, \"\\nLRO x: \", x_r.value)"
            ]
        },
        {
            "cell_type": "markdown",
            "metadata": {},
            "source": [
                "We compare this with the direct reformulation,\n",
                "\\begin{equation}\n",
                "\t\\begin{array}{lll}\n",
                "\t\t&\\text{minimize} & \\tau \\\\\n",
                "\t\t&\\text{subject to} & (1/2)\\sum_{i=1}^n (z_i^TP_i^{-1}z_i)/x_i + \\rho\\|z\\|_2 \\le \\tau\\\\\n",
                "\t\t&& \\sum_{i=1}^n z_i = z,\\\\\n",
                "&& \\mathbf{1}^Tx = 3\\\\\n",
                "&& x \\geq 0, \\quad x \\leq 1\n",
                "\t\\end{array}\n",
                "\\end{equation}\n",
                "where we have $\\gamma \\in \\mathbf{R}^m, z \\in \\mathbf{R}^n, z_i \\in \\mathbf{R}^n$, $i = 1,\\dots,n$, as auxiliary variables. "
            ]
        },
        {
            "cell_type": "code",
            "execution_count": 22,
            "metadata": {},
            "outputs": [
                {
                    "name": "stdout",
                    "output_type": "stream",
                    "text": [
                        "Cvxpy objective value:  -2.119588106628019e-10 \n",
                        "Cvxpy x:  [0.79880041 0.80132141 0.80077192 0.79880835 0.80029791]\n"
                    ]
                }
            ],
            "source": [
                "# formulate using cvxpy\n",
                "x_cvxpy = cp.Variable(n)\n",
                "t = cp.Variable()\n",
                "z = cp.Variable(n)\n",
                "y = cp.Variable((n,n))\n",
                "gam = cp.Variable(n)\n",
                "\n",
                "# formulate objective\n",
                "objective = cp.Minimize(t)\n",
                "\n",
                "# formulate constraints\n",
                "constraints = [cp.sum([cp.quad_over_lin(y[i]@P_inv[i],2*x_cvxpy[i]) for i in range(n)]) + 0.5*cp.norm(z,2) <= t]\n",
                "constraints += [cp.sum(y, axis = 1) == z]\n",
                "constraints += [cp.sum(x_cvxpy) == 4]\n",
                "constraints += [x_cvxpy >= 0.6, x_cvxpy <= 1]\n",
                "\n",
                "# formulate problem \n",
                "prob_cvxpy = cp.Problem(objective, constraints)\n",
                "prob_cvxpy.solve()\n",
                "print(\"Cvxpy objective value: \", prob_cvxpy.objective.value, \"\\nCvxpy x: \", x_cvxpy.value)\n",
                "\n",
                "# assert x values are equal\n",
                "npt.assert_allclose(x_r.value, x_cvxpy.value, rtol=RTOL, atol=ATOL)\n"
            ]
        },
        {
            "attachments": {},
            "cell_type": "markdown",
            "metadata": {},
            "source": [
                "#### Example 6: Max of affine uncertainty, ellipsoidal set, mean robust set\n",
                "We solve the problem\n",
                "$$\n",
                "\\begin{array}{ll}\n",
                "\t\t\\text{minimize} & \\tau \\\\\n",
                "\t\t\\text{subject to } & \\max\\{a^Tx - d^Tx, a^Tx - d^T(3u+3)\\} \\leq \\tau,\\\\\n",
                "\\end{array}\n",
                "$$\n",
                "where $a$ and $d$ are constants, and $u$ is the uncertain parameter from an ellipsoidal uncertainty set. "
            ]
        },
        {
            "cell_type": "code",
            "execution_count": 24,
            "metadata": {},
            "outputs": [
                {
                    "name": "stdout",
                    "output_type": "stream",
                    "text": [
                        "LRO objective value:  -24.204947337131998 \n",
                        "LRO x:  [1.66109909e-08 2.04794281e+01 7.49201439e-09 7.39865821e-09\n",
                        " 3.18003418e-08]\n"
                    ]
                }
            ],
            "source": [
                "# formulate uncertainty set\n",
                "n = 5\n",
                "u = lropt.UncertainParameter(n,\n",
                "                             uncertainty_set=lropt.Ellipsoidal(p=2, rho=1, b = -np.mean(data, axis = 0)))\n",
                "# formulate cvxpy variables\n",
                "x_r = cp.Variable(n)\n",
                "t = cp.Variable()\n",
                "\n",
                "# formulate constants\n",
                "a = npr.uniform(1,4,n)\n",
                "d = a + npr.uniform(2,5,n)\n",
                "\n",
                "# formulate objective\n",
                "objective = cp.Minimize(t)\n",
                "\n",
                "# formulate constraints \n",
                "constraints = [cp.maximum(a@x_r - d@x_r, a@x_r - d@(3*u+3)) <= t]\n",
                "constraints += [x_r >= 0]\n",
                "\n",
                "\n",
                "# formulate Robust Problem\n",
                "prob_robust = lropt.RobustProblem(objective, constraints)\n",
                "\n",
                "# solve\n",
                "prob_robust.solve()\n",
                "print(\"LRO objective value: \", prob_robust.objective.value, \"\\nLRO x: \", x_r.value)"
            ]
        },
        {
            "attachments": {},
            "cell_type": "markdown",
            "metadata": {},
            "source": [
                "We again note that this is equivalent to using the MRO uncertainty set with $K= 1$ and power = 1."
            ]
        },
        {
            "cell_type": "code",
            "execution_count": 25,
            "metadata": {},
            "outputs": [
                {
                    "name": "stdout",
                    "output_type": "stream",
                    "text": [
                        "MRO objective value:  -24.20494733865909 \n",
                        "MRO x:  [1.40071965e-08 2.04794281e+01 6.00534032e-09 5.88589368e-09\n",
                        " 2.58236577e-08]\n"
                    ]
                }
            ],
            "source": [
                "# formulate uncertainty set\n",
                "n = 5\n",
                "u = lropt.UncertainParameter(n,\n",
                "                             uncertainty_set=lropt.MRO(K = 1, data = data,p=2,\n",
                "                                                       rho=1, train = False))\n",
                "# formulate cvxpy variables\n",
                "x_m = cp.Variable(n)\n",
                "t = cp.Variable()\n",
                "\n",
                "# formulate objective\n",
                "objective = cp.Minimize(t)\n",
                "\n",
                "# formulate constraints \n",
                "constraints = [cp.maximum(a@x_m - d@x_m, a@x_m - d@(3*u+3)) <= t]\n",
                "constraints += [x_m >= 0]\n",
                "\n",
                "# formulate Robust Problem\n",
                "prob_robust = lropt.RobustProblem(objective, constraints)\n",
                "\n",
                "# solve\n",
                "prob_robust.solve()\n",
                "print(\"MRO objective value: \", prob_robust.objective.value, \"\\nMRO x: \", x_m.value)"
            ]
        },
        {
            "cell_type": "code",
            "execution_count": 22,
            "metadata": {},
            "outputs": [
                {
                    "name": "stdout",
                    "output_type": "stream",
                    "text": [
                        "Cvxpy objective value:  -30.79802922217572 \n",
                        "Cvxpy x:  [1.63082452e-09 6.21752185e-10 7.86787336e-10 1.85258181e+01\n",
                        " 2.87047513e-10]\n"
                    ]
                }
            ],
            "source": [
                "# formulate using cvxpy\n",
                "x_cvxpy = cp.Variable(n)\n",
                "t = cp.Variable()\n",
                "\n",
                "# formulate objective\n",
                "objective = cp.Minimize(t)\n",
                "\n",
                "# formulate constraints\n",
                "constraints = [a@x_cvxpy -d@x_cvxpy + cp.norm(3*d,2) <= t]\n",
                "constraints += [a@x_cvxpy -3*d@np.ones(n) + np.mean(data, axis = 0)@(-3*d) + cp.norm(3*d,2) <= t]\n",
                "constraints += [x_cvxpy >= 0]\n",
                "\n",
                "# formulate problem \n",
                "prob_cvxpy = cp.Problem(objective, constraints)\n",
                "prob_cvxpy.solve()\n",
                "print(\"Cvxpy objective value: \", prob_cvxpy.objective.value, \"\\nCvxpy x: \", x_cvxpy.value)\n",
                "\n",
                "# assert x values are equal\n",
                "npt.assert_allclose(x_r.value, x_cvxpy.value, rtol=RTOL, atol=ATOL)\n"
            ]
        }
    ],
    "metadata": {
        "kernelspec": {
            "display_name": "python-3.10.7",
            "language": "python",
            "name": "python3"
        },
        "language_info": {
            "codemirror_mode": {
                "name": "ipython",
                "version": 3
            },
            "file_extension": ".py",
            "mimetype": "text/x-python",
            "name": "python",
            "nbconvert_exporter": "python",
            "pygments_lexer": "ipython3",
            "version": "3.10.7"
        },
        "orig_nbformat": 4,
        "vscode": {
            "interpreter": {
                "hash": "5dee3fb9b434fa73af3e251f749c532df363394e13a7456280b146054649d603"
            }
        }
    },
    "nbformat": 4,
    "nbformat_minor": 2
}
