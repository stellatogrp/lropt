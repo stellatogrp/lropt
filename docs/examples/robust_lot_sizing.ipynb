{
 "cells": [
  {
   "cell_type": "markdown",
   "metadata": {},
   "source": [
    "# Robust Lot Sizing"
   ]
  },
  {
   "cell_type": "markdown",
   "metadata": {},
   "source": [
    "The Lot Sizing Problem (LSP) is a fundamental optimization challenge in operations management, that focuses on finding the best quantities to produce or order in each time period to meet demand while minimizing costs. Over a fixed planning horizon, the problem involves known product demand and associated costs like setup, production, inventory holding, and backorders. The primary goal is to devise a production plan that efficiently meets demand each time period. In its robust form, the problem considers uncertain production yields, fluctuating within a range defined by its nominal value and maximum deviation."
   ]
  },
  {
   "cell_type": "markdown",
   "metadata": {},
   "source": [
    "In this example, we aim to solve the Robust LSP provided Metzker et al. (2023) [1] in Section 3.3. Let us consider a single item multi period uncapacitated LSP with backorder and production yield that determine the quantity to produce in each time period of the finite planning horizon $T$. We are given the setup cost $s$, the inventory holding cost $h$, the backorder cost $b$ and the demand $d$ for each time period in $T$. The model contains the decision variables $X$, the lot size to be produced, and the setup decision $Y$. The strictly positive uncertain production yield is defined as $\\bar{p}$. $H$ is the total holding and backorder cost per period."
   ]
  },
  {
   "cell_type": "markdown",
   "metadata": {},
   "source": [
    "The robust problem can be optimization as follows:"
   ]
  },
  {
   "cell_type": "markdown",
   "metadata": {},
   "source": [
    "$$\n",
    "\\begin{array}{ll}\n",
    "\\text{minimize} & s^TY + v^TX + H \\\\\n",
    "\\text{subject to} & H_t \\geq h_t[ \\bar{p}^TX_t - d] \\\\\n",
    "                  & H_t \\geq -b_t[ \\bar{p}^TX_t - d] \\\\\n",
    "                  & X_t \\leq M_tY_t \\\\\n",
    "                  &  X_t \\geq 0\\\\\n",
    "                  & H_t \\geq 0\n",
    "\n",
    "\\end{array}\n",
    "$$"
   ]
  },
  {
   "cell_type": "markdown",
   "metadata": {},
   "source": [
    "To solve this problem, we first import the required packages."
   ]
  },
  {
   "cell_type": "code",
   "execution_count": 1,
   "metadata": {},
   "outputs": [],
   "source": [
    "import numpy as np\n",
    "import lropt\n",
    "import cvxpy as cp"
   ]
  },
  {
   "cell_type": "markdown",
   "metadata": {},
   "source": [
    "We start by defining the relevant constants and creating variables. "
   ]
  },
  {
   "cell_type": "code",
   "execution_count": 2,
   "metadata": {},
   "outputs": [],
   "source": [
    "np.random.seed(1)\n",
    "T = 5 \n",
    "s = np.random.rand(T)  \n",
    "v = np.random.rand(T)  \n",
    "h = np.random.rand(T)  \n",
    "b = np.random.rand(T)  \n",
    "d = np.random.randint(10, 20, size=T)  \n",
    "RHO = 2\n",
    "# Large positive number for setup constraint\n",
    "M = np.full(T, 1000)\n",
    "\n",
    "\n",
    "X = cp.Variable(T, nonneg=True)\n",
    "Y = cp.Variable(T, boolean=True)  \n",
    "H = cp.Variable(T, nonneg=True)  \n",
    "NUM_DEC = 3 \n"
   ]
  },
  {
   "cell_type": "markdown",
   "metadata": {},
   "source": [
    "In the following we define the parameter $p$ as an uncertain parameter that belongs a Budget Uncertainty set. The budget uncertainty is defined as:\n",
    "$$\n",
    "        \\mathcal{U}_{\\text{budget}} = \\{z \\ | \\ \\|z \\|_\\infty \\le \\rho_1,\n",
    "        \\|z \\|_1 \\leq \\rho_2\\}\n",
    "$$"
   ]
  },
  {
   "cell_type": "code",
   "execution_count": 3,
   "metadata": {},
   "outputs": [],
   "source": [
    "p = lropt.UncertainParameter(T, uncertainty_set = lropt.Budget(rho1 = RHO, rho2= RHO), nonneg = True)"
   ]
  },
  {
   "cell_type": "markdown",
   "metadata": {},
   "source": [
    "We define our objective and constraints. We solve the problem and get the optimal value. "
   ]
  },
  {
   "cell_type": "code",
   "execution_count": null,
   "metadata": {},
   "outputs": [],
   "source": [
    "objective = cp.Minimize(cp.sum(s @ Y + v @ X + H))\n",
    "constraints = [\n",
    "H >= h * cp.sum(p @ X - d),\n",
    "H >= (-b) * cp.sum(p @ X - d),\n",
    "X <= M@Y\n",
    "]"
   ]
  },
  {
   "cell_type": "code",
   "execution_count": 5,
   "metadata": {},
   "outputs": [
    {
     "name": "stderr",
     "output_type": "stream",
     "text": [
      "/Users/mj5676/Desktop/miniconda3/envs/lropt_v3/lib/python3.12/site-packages/scipy/sparse/_index.py:134: SparseEfficiencyWarning: Changing the sparsity structure of a csr_matrix is expensive. lil_matrix is more efficient.\n",
      "  self._set_arrayXarray_sparse(i, j, x)\n",
      "/Users/mj5676/Desktop/miniconda3/envs/lropt_v3/lib/python3.12/site-packages/cvxpy/utilities/torch_utils.py:61: UserWarning: torch.sparse.SparseTensor(indices, values, shape, *, device=) is deprecated.  Please use torch.sparse_coo_tensor(indices, values, shape, dtype=, device=). (Triggered internally at /Users/runner/work/pytorch/pytorch/pytorch/torch/csrc/utils/tensor_new.cpp:643.)\n",
      "  return torch.sparse.FloatTensor(i, v, torch.Size(value_coo.shape)).to(dtype)\n"
     ]
    }
   ],
   "source": [
    "prob = lropt.RobustProblem(objective, constraints)\n",
    "a = prob.solve()"
   ]
  },
  {
   "cell_type": "code",
   "execution_count": 6,
   "metadata": {},
   "outputs": [
    {
     "name": "stdout",
     "output_type": "stream",
     "text": [
      "The robust optimal values for the total cost using Budget uncertainty are [60.342 37.557 50.282 12.635 17.829]\n"
     ]
    }
   ],
   "source": [
    "print(f\"The robust optimal values for the total cost using Budget uncertainty are {np.array(H.value).round(3)}\")"
   ]
  },
  {
   "cell_type": "markdown",
   "metadata": {},
   "source": [
    "## References\n",
    "\n",
    "1. Metzker, P., Thevenin, S., Adulyasak, Y., & Dolgui, A. (2023). Robust optimization for lot-sizing problems under yield uncertainty. https://doi.org/10.1016/j.cor.2022.106025"
   ]
  }
 ],
 "metadata": {
  "kernelspec": {
   "display_name": "lropt_v1",
   "language": "python",
   "name": "python3"
  },
  "language_info": {
   "codemirror_mode": {
    "name": "ipython",
    "version": 3
   },
   "file_extension": ".py",
   "mimetype": "text/x-python",
   "name": "python",
   "nbconvert_exporter": "python",
   "pygments_lexer": "ipython3",
   "version": "3.12.4"
  }
 },
 "nbformat": 4,
 "nbformat_minor": 2
}
