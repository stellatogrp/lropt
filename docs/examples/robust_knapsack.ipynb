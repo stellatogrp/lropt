{
 "cells": [
  {
   "cell_type": "markdown",
   "metadata": {},
   "source": [
    "# Robust Knapsack"
   ]
  },
  {
   "cell_type": "markdown",
   "metadata": {},
   "source": [
    "This tutorial shows how to construct and solve the Robust Portfolio problem, introduced by Bertsimas and Sim 2004 [1] (https://pubsonline.informs.org/doi/abs/10.1287/opre.1030.0065)\n",
    "We show to how solve the robust knapsack problem (Section 6.1). Using the same formulation as in [1], the problem can be formulated as follows:\n",
    "\n",
    "$$\n",
    "\\begin{array}{ll}\n",
    "\\text{maximize} & \\mathbf{c}^T \\mathbf{x} \\\\\n",
    "\\text{subject to} & \\mathbf{w}^T\\mathbf{x} \\leq b \\quad \\forall w \\in \\mathcal{U}\\\\\n",
    "                  & \\mathbf{x}\\in\\left\\{ 0,1\\right\\}^n\n",
    "\\end{array}\n",
    "$$\n",
    "\n",
    "TODO: change intro\n",
    "\n",
    "$$\n",
    "\\mathcal{U} = \\{w \\mid \\bar{w} - \\delta \\le w \\le \\bar{w} + \\delta\\}\n",
    "$$\n",
    "\n",
    "where there are $n$ items, $\\mathbf{x}$ are the binary decision variables, their values are denoted by $\\mathbf{c}$, and their weights $\\mathbf{w}$ belong to a box uncertainty set, where the expected weights are denoted by $\\mathbf{w_e}$, and their uncertainties are captured by $\\pmb{\\delta}$."
   ]
  },
  {
   "cell_type": "code",
   "execution_count": 12,
   "metadata": {},
   "outputs": [],
   "source": [
    "import cvxpy as cp\n",
    "import numpy as np\n",
    "import lropt\n",
    "\n",
    "np.random.seed(seed=1234)"
   ]
  },
  {
   "cell_type": "markdown",
   "metadata": {},
   "source": [
    "We define the constants as shown below:"
   ]
  },
  {
   "cell_type": "code",
   "execution_count": 13,
   "metadata": {},
   "outputs": [],
   "source": [
    "n = 200 #Number of items\n",
    "b = 1000 #Capacity\n",
    "c = np.random.uniform(low=0., high=1., size=n) #Value of each item\n",
    "w_e = np.random.uniform(low=1., high=2, size=n) #Mean weight of each item\n",
    "delta = np.random.uniform(low=0., high=0.1, size=n) #Weights uncertainties\n",
    "NUM_DEC = 3"
   ]
  },
  {
   "cell_type": "markdown",
   "metadata": {},
   "source": [
    "The uncertain parameter $\\mathbf{p}$ is formulated using LROPT in the block below. We use the box uncertainty set, which is defined as follows:\n",
    "\n",
    "Box uncertainty: $\\{ u = Az+b \\mid\\| z\\|_\\infty \\leq \\rho  \\}$ \n",
    "\n",
    "- $A$ : np.array, optional\n",
    "  * Scaling matrix for u. Default identity matrix.\n",
    "- $b$ : np.array, optional\n",
    "  * Relocation vector for u. Default None.\n",
    "\n",
    "We define an uncertain parameter $\\mathbf{p}$ using the Box definition with $\\rho=1,\\mathbf{A}=\\text{diag}\\left( \\pmb{\\delta}\\right), \\mathbf{b}=\\mathbf{w_e}$."
   ]
  },
  {
   "cell_type": "code",
   "execution_count": 14,
   "metadata": {},
   "outputs": [
    {
     "ename": "SolverError",
     "evalue": "Problem is mixed-integer, but candidate QP/Conic solvers ([]) are not MIP-capable.",
     "output_type": "error",
     "traceback": [
      "\u001b[0;31m---------------------------------------------------------------------------\u001b[0m",
      "\u001b[0;31mSolverError\u001b[0m                               Traceback (most recent call last)",
      "Cell \u001b[0;32mIn[14], line 12\u001b[0m\n\u001b[1;32m      8\u001b[0m constraints \u001b[38;5;241m=\u001b[39m [\n\u001b[1;32m      9\u001b[0m                 w\u001b[38;5;129m@x\u001b[39m \u001b[38;5;241m<\u001b[39m\u001b[38;5;241m=\u001b[39m b,\n\u001b[1;32m     10\u001b[0m               ]\n\u001b[1;32m     11\u001b[0m prob \u001b[38;5;241m=\u001b[39m lropt\u001b[38;5;241m.\u001b[39mRobustProblem(objective\u001b[38;5;241m=\u001b[39mobjective, constraints\u001b[38;5;241m=\u001b[39mconstraints)\n\u001b[0;32m---> 12\u001b[0m \u001b[38;5;28mprint\u001b[39m(\u001b[38;5;28mround\u001b[39m(\u001b[43mprob\u001b[49m\u001b[38;5;241;43m.\u001b[39;49m\u001b[43msolve\u001b[49m\u001b[43m(\u001b[49m\u001b[43msolver\u001b[49m\u001b[43m \u001b[49m\u001b[38;5;241;43m=\u001b[39;49m\u001b[43m \u001b[49m\u001b[38;5;124;43m'\u001b[39;49m\u001b[38;5;124;43mMOSEK\u001b[39;49m\u001b[38;5;124;43m'\u001b[39;49m\u001b[43m)\u001b[49m, NUM_DEC))\n",
      "File \u001b[0;32m~/Desktop/lropt/lropt/robust_problem.py:1854\u001b[0m, in \u001b[0;36mRobustProblem.solve\u001b[0;34m(self, solver, warm_start, verbose, gp, qcp, requires_grad, enforce_dpp, ignore_dpp, canon_backend, **kwargs)\u001b[0m\n\u001b[1;32m   1851\u001b[0m \u001b[38;5;28;01mif\u001b[39;00m \u001b[38;5;28mself\u001b[39m\u001b[38;5;241m.\u001b[39mproblem_canon \u001b[38;5;129;01mis\u001b[39;00m \u001b[38;5;28;01mNone\u001b[39;00m:\n\u001b[1;32m   1852\u001b[0m     \u001b[38;5;66;03m# if no data is passed, no training is needed\u001b[39;00m\n\u001b[1;32m   1853\u001b[0m     \u001b[38;5;28;01mif\u001b[39;00m \u001b[38;5;28mself\u001b[39m\u001b[38;5;241m.\u001b[39muncertain_parameters()[\u001b[38;5;241m0\u001b[39m]\u001b[38;5;241m.\u001b[39muncertainty_set\u001b[38;5;241m.\u001b[39mdata \u001b[38;5;129;01mis\u001b[39;00m \u001b[38;5;28;01mNone\u001b[39;00m:\n\u001b[0;32m-> 1854\u001b[0m         \u001b[38;5;28;43mself\u001b[39;49m\u001b[38;5;241;43m.\u001b[39;49m\u001b[43mremove_uncertainty\u001b[49m\u001b[43m(\u001b[49m\u001b[43m)\u001b[49m\n\u001b[1;32m   1855\u001b[0m     \u001b[38;5;28;01melse\u001b[39;00m:\n\u001b[1;32m   1856\u001b[0m         \u001b[38;5;66;03m# if not MRO set and not trained\u001b[39;00m\n\u001b[1;32m   1857\u001b[0m         \u001b[38;5;28;01mif\u001b[39;00m \u001b[38;5;129;01mnot\u001b[39;00m \u001b[38;5;28misinstance\u001b[39m(\u001b[38;5;28mself\u001b[39m\u001b[38;5;241m.\u001b[39muncertain_parameters()[\u001b[38;5;241m0\u001b[39m]\u001b[38;5;241m.\u001b[39muncertainty_set, MRO):\n",
      "File \u001b[0;32m~/Desktop/lropt/lropt/robust_problem.py:1809\u001b[0m, in \u001b[0;36mRobustProblem.remove_uncertainty\u001b[0;34m(self, override)\u001b[0m\n\u001b[1;32m   1805\u001b[0m     \u001b[38;5;28;01mreturn\u001b[39;00m\n\u001b[1;32m   1806\u001b[0m \u001b[38;5;28;01mif\u001b[39;00m \u001b[38;5;28mself\u001b[39m\u001b[38;5;241m.\u001b[39muncertain_parameters():\n\u001b[1;32m   1807\u001b[0m     \u001b[38;5;66;03m#Uncertain Canonicalization\u001b[39;00m\n\u001b[1;32m   1808\u001b[0m     \u001b[38;5;28mself\u001b[39m\u001b[38;5;241m.\u001b[39mchain_canon, \u001b[38;5;28mself\u001b[39m\u001b[38;5;241m.\u001b[39mproblem_canon, \u001b[38;5;28mself\u001b[39m\u001b[38;5;241m.\u001b[39minverse_data_canon \u001b[38;5;241m=\u001b[39m \\\n\u001b[0;32m-> 1809\u001b[0m                                 \u001b[43m_uncertain_canonicalization\u001b[49m\u001b[43m(\u001b[49m\u001b[38;5;28;43mself\u001b[39;49m\u001b[43m)\u001b[49m\n\u001b[1;32m   1811\u001b[0m     \u001b[38;5;66;03m#Generating torch expressions and batchify\u001b[39;00m\n\u001b[1;32m   1812\u001b[0m     \u001b[38;5;28mself\u001b[39m\u001b[38;5;241m.\u001b[39mproblem_canon\u001b[38;5;241m.\u001b[39m_gen_all_torch_expressions()\n",
      "File \u001b[0;32m~/Desktop/lropt/lropt/robust_problem.py:1796\u001b[0m, in \u001b[0;36mRobustProblem.remove_uncertainty.<locals>._uncertain_canonicalization\u001b[0;34m(problem)\u001b[0m\n\u001b[1;32m   1794\u001b[0m     reductions_canon \u001b[38;5;241m+\u001b[39m\u001b[38;5;241m=\u001b[39m [FlipObjective()]\n\u001b[1;32m   1795\u001b[0m reductions_canon \u001b[38;5;241m+\u001b[39m\u001b[38;5;241m=\u001b[39m [RemoveSumOfMaxOfUncertain(), UncertainCanonicalization()]\n\u001b[0;32m-> 1796\u001b[0m chain_canon, problem_canon, inverse_data_canon \u001b[38;5;241m=\u001b[39m \u001b[43mgen_and_apply_chain\u001b[49m\u001b[43m(\u001b[49m\u001b[43mproblem\u001b[49m\u001b[38;5;241;43m=\u001b[39;49m\u001b[43mproblem\u001b[49m\u001b[43m,\u001b[49m\n\u001b[1;32m   1797\u001b[0m \u001b[43m                                                            \u001b[49m\u001b[43mreductions\u001b[49m\u001b[38;5;241;43m=\u001b[39;49m\u001b[43mreductions_canon\u001b[49m\u001b[43m)\u001b[49m\n\u001b[1;32m   1798\u001b[0m \u001b[38;5;66;03m# problem_canon.eval = problem.eval #The evaluation expression is not canonicalized\u001b[39;00m\n\u001b[1;32m   1799\u001b[0m \u001b[38;5;28;01mreturn\u001b[39;00m chain_canon, problem_canon, inverse_data_canon\n",
      "File \u001b[0;32m~/Desktop/lropt/lropt/utils.py:42\u001b[0m, in \u001b[0;36mgen_and_apply_chain\u001b[0;34m(problem, reductions)\u001b[0m\n\u001b[1;32m     40\u001b[0m chain \u001b[38;5;241m=\u001b[39m Chain(problem, reductions\u001b[38;5;241m=\u001b[39mreductions)\n\u001b[1;32m     41\u001b[0m chain\u001b[38;5;241m.\u001b[39maccepts(problem)\n\u001b[0;32m---> 42\u001b[0m new_problem, inverse_data \u001b[38;5;241m=\u001b[39m \u001b[43mchain\u001b[49m\u001b[38;5;241;43m.\u001b[39;49m\u001b[43mapply\u001b[49m\u001b[43m(\u001b[49m\u001b[43mproblem\u001b[49m\u001b[43m)\u001b[49m\n\u001b[1;32m     43\u001b[0m \u001b[38;5;28;01mreturn\u001b[39;00m chain, new_problem, inverse_data\n",
      "File \u001b[0;32m~/Desktop/miniconda3/envs/lropt_v3/lib/python3.12/site-packages/cvxpy/reductions/chain.py:76\u001b[0m, in \u001b[0;36mChain.apply\u001b[0;34m(self, problem, verbose)\u001b[0m\n\u001b[1;32m     74\u001b[0m     \u001b[38;5;28;01mif\u001b[39;00m verbose:\n\u001b[1;32m     75\u001b[0m         s\u001b[38;5;241m.\u001b[39mLOGGER\u001b[38;5;241m.\u001b[39minfo(\u001b[38;5;124m'\u001b[39m\u001b[38;5;124mApplying reduction \u001b[39m\u001b[38;5;132;01m%s\u001b[39;00m\u001b[38;5;124m'\u001b[39m, \u001b[38;5;28mtype\u001b[39m(r)\u001b[38;5;241m.\u001b[39m\u001b[38;5;18m__name__\u001b[39m)\n\u001b[0;32m---> 76\u001b[0m     problem, inv \u001b[38;5;241m=\u001b[39m \u001b[43mr\u001b[49m\u001b[38;5;241;43m.\u001b[39;49m\u001b[43mapply\u001b[49m\u001b[43m(\u001b[49m\u001b[43mproblem\u001b[49m\u001b[43m)\u001b[49m\n\u001b[1;32m     77\u001b[0m     inverse_data\u001b[38;5;241m.\u001b[39mappend(inv)\n\u001b[1;32m     78\u001b[0m \u001b[38;5;28;01mreturn\u001b[39;00m problem, inverse_data\n",
      "File \u001b[0;32m~/Desktop/lropt/lropt/uncertain_canon/uncertain_canonicalization.py:404\u001b[0m, in \u001b[0;36mUncertainCanonicalization.apply\u001b[0;34m(self, problem, solver)\u001b[0m\n\u001b[1;32m    401\u001b[0m     total_cons_number \u001b[38;5;241m+\u001b[39m\u001b[38;5;241m=\u001b[39m \u001b[38;5;28mlen\u001b[39m(dummy_constraints)\n\u001b[1;32m    402\u001b[0m \u001b[38;5;28;01melse\u001b[39;00m:\n\u001b[1;32m    403\u001b[0m     dummy_constraints, cons_data, total_cons_number \u001b[38;5;241m=\u001b[39m \\\n\u001b[0;32m--> 404\u001b[0m         \u001b[43m_gen_dummy_problem\u001b[49m\u001b[43m(\u001b[49m\u001b[43mobjective\u001b[49m\u001b[38;5;241;43m=\u001b[39;49m\u001b[43mproblem\u001b[49m\u001b[38;5;241;43m.\u001b[39;49m\u001b[43mobjective\u001b[49m\u001b[43m,\u001b[49m\n\u001b[1;32m    405\u001b[0m \u001b[43m                        \u001b[49m\u001b[43mconstraints\u001b[49m\u001b[38;5;241;43m=\u001b[39;49m\u001b[43mproblem\u001b[49m\u001b[38;5;241;43m.\u001b[39;49m\u001b[43mconstraints_by_type\u001b[49m\u001b[43m[\u001b[49m\u001b[38;5;28;43mid\u001b[39;49m\u001b[43m]\u001b[49m\u001b[43m,\u001b[49m\n\u001b[1;32m    406\u001b[0m \u001b[43m                        \u001b[49m\u001b[43mcons_data\u001b[49m\u001b[38;5;241;43m=\u001b[39;49m\u001b[43mcons_data\u001b[49m\u001b[43m,\u001b[49m\n\u001b[1;32m    407\u001b[0m \u001b[43m                        \u001b[49m\u001b[43minitial_index\u001b[49m\u001b[43m \u001b[49m\u001b[38;5;241;43m=\u001b[39;49m\u001b[43m \u001b[49m\u001b[43mtotal_cons_number\u001b[49m\u001b[43m)\u001b[49m\n\u001b[1;32m    408\u001b[0m new_constraints \u001b[38;5;241m+\u001b[39m\u001b[38;5;241m=\u001b[39m dummy_constraints\n\u001b[1;32m    409\u001b[0m constraints_by_type[\u001b[38;5;28mid\u001b[39m] \u001b[38;5;241m=\u001b[39m dummy_constraints\n",
      "File \u001b[0;32m~/Desktop/lropt/lropt/uncertain_canon/uncertain_canonicalization.py:375\u001b[0m, in \u001b[0;36mUncertainCanonicalization.apply.<locals>._gen_dummy_problem\u001b[0;34m(objective, constraints, cons_data, initial_index)\u001b[0m\n\u001b[1;32m    371\u001b[0m dummy_problem \u001b[38;5;241m=\u001b[39m RobustProblem(objective\u001b[38;5;241m=\u001b[39mobjective, constraints\u001b[38;5;241m=\u001b[39mconstraints, \\\n\u001b[1;32m    372\u001b[0m                                verify_y_parameters\u001b[38;5;241m=\u001b[39m\u001b[38;5;28;01mFalse\u001b[39;00m)\n\u001b[1;32m    373\u001b[0m \u001b[38;5;66;03m#Get A, b tensors (A separated to uncertain and certain parts).\u001b[39;00m\n\u001b[1;32m    374\u001b[0m A_certain, A_uncertain, b_certain, b_uncertain, cones,variables \\\n\u001b[0;32m--> 375\u001b[0m                                     \u001b[38;5;241m=\u001b[39m \u001b[43m_get_tensors\u001b[49m\u001b[43m(\u001b[49m\u001b[43mdummy_problem\u001b[49m\u001b[43m,\u001b[49m\u001b[43m \u001b[49m\u001b[43msolver\u001b[49m\u001b[38;5;241;43m=\u001b[39;49m\u001b[43msolver\u001b[49m\u001b[43m)\u001b[49m\n\u001b[1;32m    377\u001b[0m new_objective, new_constraints, cons_data_updated, total_cons_num \\\n\u001b[1;32m    378\u001b[0m     \u001b[38;5;241m=\u001b[39m _gen_canon_robust_problem(dummy_problem,\n\u001b[1;32m    379\u001b[0m                                         A_certain, A_uncertain,\n\u001b[1;32m    380\u001b[0m                                         b_certain,b_uncertain,\n\u001b[1;32m    381\u001b[0m                                         cones, variables,cons_data,\n\u001b[1;32m    382\u001b[0m                                         initial_index)\n\u001b[1;32m    383\u001b[0m \u001b[38;5;28;01mreturn\u001b[39;00m new_constraints, cons_data_updated, total_cons_num\n",
      "File \u001b[0;32m~/Desktop/lropt/lropt/uncertain_canon/uncertain_canonicalization.py:176\u001b[0m, in \u001b[0;36mUncertainCanonicalization.apply.<locals>._get_tensors\u001b[0;34m(problem, solver)\u001b[0m\n\u001b[1;32m    173\u001b[0m         b_list\u001b[38;5;241m.\u001b[39mappend(cur_T[\u001b[38;5;241m-\u001b[39m\u001b[38;5;241m1\u001b[39m,])\n\u001b[1;32m    174\u001b[0m     \u001b[38;5;28;01mreturn\u001b[39;00m A_list, b_list\n\u001b[0;32m--> 176\u001b[0m data \u001b[38;5;241m=\u001b[39m \u001b[43mproblem\u001b[49m\u001b[38;5;241;43m.\u001b[39;49m\u001b[43mget_problem_data\u001b[49m\u001b[43m(\u001b[49m\u001b[43msolver\u001b[49m\u001b[38;5;241;43m=\u001b[39;49m\u001b[43msolver\u001b[49m\u001b[43m)\u001b[49m\n\u001b[1;32m    177\u001b[0m param_prob \u001b[38;5;241m=\u001b[39m data[\u001b[38;5;241m0\u001b[39m][\u001b[38;5;124m\"\u001b[39m\u001b[38;5;124mparam_prob\u001b[39m\u001b[38;5;124m\"\u001b[39m]\n\u001b[1;32m    178\u001b[0m cones \u001b[38;5;241m=\u001b[39m data[\u001b[38;5;241m0\u001b[39m][\u001b[38;5;124m\"\u001b[39m\u001b[38;5;124mdims\u001b[39m\u001b[38;5;124m\"\u001b[39m]\n",
      "File \u001b[0;32m~/Desktop/miniconda3/envs/lropt_v3/lib/python3.12/site-packages/cvxpy/problems/problem.py:646\u001b[0m, in \u001b[0;36mProblem.get_problem_data\u001b[0;34m(self, solver, gp, enforce_dpp, ignore_dpp, verbose, canon_backend, solver_opts)\u001b[0m\n\u001b[1;32m    644\u001b[0m \u001b[38;5;28;01mif\u001b[39;00m key \u001b[38;5;241m!=\u001b[39m \u001b[38;5;28mself\u001b[39m\u001b[38;5;241m.\u001b[39m_cache\u001b[38;5;241m.\u001b[39mkey:\n\u001b[1;32m    645\u001b[0m     \u001b[38;5;28mself\u001b[39m\u001b[38;5;241m.\u001b[39m_cache\u001b[38;5;241m.\u001b[39minvalidate()\n\u001b[0;32m--> 646\u001b[0m     solving_chain \u001b[38;5;241m=\u001b[39m \u001b[38;5;28;43mself\u001b[39;49m\u001b[38;5;241;43m.\u001b[39;49m\u001b[43m_construct_chain\u001b[49m\u001b[43m(\u001b[49m\n\u001b[1;32m    647\u001b[0m \u001b[43m        \u001b[49m\u001b[43msolver\u001b[49m\u001b[38;5;241;43m=\u001b[39;49m\u001b[43msolver\u001b[49m\u001b[43m,\u001b[49m\u001b[43m \u001b[49m\u001b[43mgp\u001b[49m\u001b[38;5;241;43m=\u001b[39;49m\u001b[43mgp\u001b[49m\u001b[43m,\u001b[49m\n\u001b[1;32m    648\u001b[0m \u001b[43m        \u001b[49m\u001b[43menforce_dpp\u001b[49m\u001b[38;5;241;43m=\u001b[39;49m\u001b[43menforce_dpp\u001b[49m\u001b[43m,\u001b[49m\n\u001b[1;32m    649\u001b[0m \u001b[43m        \u001b[49m\u001b[43mignore_dpp\u001b[49m\u001b[38;5;241;43m=\u001b[39;49m\u001b[43mignore_dpp\u001b[49m\u001b[43m,\u001b[49m\n\u001b[1;32m    650\u001b[0m \u001b[43m        \u001b[49m\u001b[43mcanon_backend\u001b[49m\u001b[38;5;241;43m=\u001b[39;49m\u001b[43mcanon_backend\u001b[49m\u001b[43m,\u001b[49m\n\u001b[1;32m    651\u001b[0m \u001b[43m        \u001b[49m\u001b[43msolver_opts\u001b[49m\u001b[38;5;241;43m=\u001b[39;49m\u001b[43msolver_opts\u001b[49m\u001b[43m)\u001b[49m\n\u001b[1;32m    652\u001b[0m     \u001b[38;5;28mself\u001b[39m\u001b[38;5;241m.\u001b[39m_cache\u001b[38;5;241m.\u001b[39mkey \u001b[38;5;241m=\u001b[39m key\n\u001b[1;32m    653\u001b[0m     \u001b[38;5;28mself\u001b[39m\u001b[38;5;241m.\u001b[39m_cache\u001b[38;5;241m.\u001b[39msolving_chain \u001b[38;5;241m=\u001b[39m solving_chain\n",
      "File \u001b[0;32m~/Desktop/miniconda3/envs/lropt_v3/lib/python3.12/site-packages/cvxpy/problems/problem.py:896\u001b[0m, in \u001b[0;36mProblem._construct_chain\u001b[0;34m(self, solver, gp, enforce_dpp, ignore_dpp, canon_backend, solver_opts)\u001b[0m\n\u001b[1;32m    854\u001b[0m \u001b[38;5;28;01mdef\u001b[39;00m \u001b[38;5;21m_construct_chain\u001b[39m(\n\u001b[1;32m    855\u001b[0m         \u001b[38;5;28mself\u001b[39m,\n\u001b[1;32m    856\u001b[0m         solver: Optional[\u001b[38;5;28mstr\u001b[39m] \u001b[38;5;241m=\u001b[39m \u001b[38;5;28;01mNone\u001b[39;00m,\n\u001b[0;32m   (...)\u001b[0m\n\u001b[1;32m    861\u001b[0m         solver_opts: Optional[\u001b[38;5;28mdict\u001b[39m] \u001b[38;5;241m=\u001b[39m \u001b[38;5;28;01mNone\u001b[39;00m\n\u001b[1;32m    862\u001b[0m ) \u001b[38;5;241m-\u001b[39m\u001b[38;5;241m>\u001b[39m SolvingChain:\n\u001b[1;32m    863\u001b[0m \u001b[38;5;250m    \u001b[39m\u001b[38;5;124;03m\"\"\"\u001b[39;00m\n\u001b[1;32m    864\u001b[0m \u001b[38;5;124;03m    Construct the chains required to reformulate and solve the problem.\u001b[39;00m\n\u001b[1;32m    865\u001b[0m \n\u001b[0;32m   (...)\u001b[0m\n\u001b[1;32m    894\u001b[0m \u001b[38;5;124;03m    A solving chain\u001b[39;00m\n\u001b[1;32m    895\u001b[0m \u001b[38;5;124;03m    \"\"\"\u001b[39;00m\n\u001b[0;32m--> 896\u001b[0m     candidate_solvers \u001b[38;5;241m=\u001b[39m \u001b[38;5;28;43mself\u001b[39;49m\u001b[38;5;241;43m.\u001b[39;49m\u001b[43m_find_candidate_solvers\u001b[49m\u001b[43m(\u001b[49m\u001b[43msolver\u001b[49m\u001b[38;5;241;43m=\u001b[39;49m\u001b[43msolver\u001b[49m\u001b[43m,\u001b[49m\u001b[43m \u001b[49m\u001b[43mgp\u001b[49m\u001b[38;5;241;43m=\u001b[39;49m\u001b[43mgp\u001b[49m\u001b[43m)\u001b[49m\n\u001b[1;32m    897\u001b[0m     \u001b[38;5;28mself\u001b[39m\u001b[38;5;241m.\u001b[39m_sort_candidate_solvers(candidate_solvers)\n\u001b[1;32m    898\u001b[0m     \u001b[38;5;28;01mreturn\u001b[39;00m construct_solving_chain(\u001b[38;5;28mself\u001b[39m, candidate_solvers, gp\u001b[38;5;241m=\u001b[39mgp,\n\u001b[1;32m    899\u001b[0m                                    enforce_dpp\u001b[38;5;241m=\u001b[39menforce_dpp,\n\u001b[1;32m    900\u001b[0m                                    ignore_dpp\u001b[38;5;241m=\u001b[39mignore_dpp,\n\u001b[1;32m    901\u001b[0m                                    canon_backend\u001b[38;5;241m=\u001b[39mcanon_backend,\n\u001b[1;32m    902\u001b[0m                                    solver_opts\u001b[38;5;241m=\u001b[39msolver_opts,\n\u001b[1;32m    903\u001b[0m                                    specified_solver\u001b[38;5;241m=\u001b[39msolver)\n",
      "File \u001b[0;32m~/Desktop/miniconda3/envs/lropt_v3/lib/python3.12/site-packages/cvxpy/problems/problem.py:812\u001b[0m, in \u001b[0;36mProblem._find_candidate_solvers\u001b[0;34m(self, solver, gp)\u001b[0m\n\u001b[1;32m    807\u001b[0m     candidates[\u001b[38;5;124m'\u001b[39m\u001b[38;5;124mconic_solvers\u001b[39m\u001b[38;5;124m'\u001b[39m] \u001b[38;5;241m=\u001b[39m [\n\u001b[1;32m    808\u001b[0m         s \u001b[38;5;28;01mfor\u001b[39;00m s \u001b[38;5;129;01min\u001b[39;00m candidates[\u001b[38;5;124m'\u001b[39m\u001b[38;5;124mconic_solvers\u001b[39m\u001b[38;5;124m'\u001b[39m]\n\u001b[1;32m    809\u001b[0m         \u001b[38;5;28;01mif\u001b[39;00m slv_def\u001b[38;5;241m.\u001b[39mSOLVER_MAP_CONIC[s]\u001b[38;5;241m.\u001b[39mMIP_CAPABLE]\n\u001b[1;32m    810\u001b[0m     \u001b[38;5;28;01mif\u001b[39;00m \u001b[38;5;129;01mnot\u001b[39;00m candidates[\u001b[38;5;124m'\u001b[39m\u001b[38;5;124mconic_solvers\u001b[39m\u001b[38;5;124m'\u001b[39m] \u001b[38;5;129;01mand\u001b[39;00m \\\n\u001b[1;32m    811\u001b[0m             \u001b[38;5;129;01mnot\u001b[39;00m candidates[\u001b[38;5;124m'\u001b[39m\u001b[38;5;124mqp_solvers\u001b[39m\u001b[38;5;124m'\u001b[39m]:\n\u001b[0;32m--> 812\u001b[0m         \u001b[38;5;28;01mraise\u001b[39;00m error\u001b[38;5;241m.\u001b[39mSolverError(\n\u001b[1;32m    813\u001b[0m             \u001b[38;5;124m\"\u001b[39m\u001b[38;5;124mProblem is mixed-integer, but candidate \u001b[39m\u001b[38;5;124m\"\u001b[39m\n\u001b[1;32m    814\u001b[0m             \u001b[38;5;124m\"\u001b[39m\u001b[38;5;124mQP/Conic solvers (\u001b[39m\u001b[38;5;132;01m%s\u001b[39;00m\u001b[38;5;124m) are not MIP-capable.\u001b[39m\u001b[38;5;124m\"\u001b[39m \u001b[38;5;241m%\u001b[39m\n\u001b[1;32m    815\u001b[0m             (candidates[\u001b[38;5;124m'\u001b[39m\u001b[38;5;124mqp_solvers\u001b[39m\u001b[38;5;124m'\u001b[39m] \u001b[38;5;241m+\u001b[39m\n\u001b[1;32m    816\u001b[0m              candidates[\u001b[38;5;124m'\u001b[39m\u001b[38;5;124mconic_solvers\u001b[39m\u001b[38;5;124m'\u001b[39m]))\n\u001b[1;32m    818\u001b[0m \u001b[38;5;28;01mreturn\u001b[39;00m candidates\n",
      "\u001b[0;31mSolverError\u001b[0m: Problem is mixed-integer, but candidate QP/Conic solvers ([]) are not MIP-capable."
     ]
    }
   ],
   "source": [
    "#Define a helper uncertainty variable u\n",
    "uncertainty_set = lropt.Box(rho=1, a=np.diag(delta), b=w_e)\n",
    "w = lropt.UncertainParameter(n, uncertainty_set=uncertainty_set)\n",
    "x = cp.Variable(n, boolean=True) #Optimization variable\n",
    "\n",
    "#Define and solve the problem\n",
    "objective = cp.Maximize(c@x)\n",
    "constraints = [\n",
    "                w@x <= b,\n",
    "              ]\n",
    "prob = lropt.RobustProblem(objective=objective, constraints=constraints)\n",
    "print(round(prob.solve(solver = 'MOSEK'), NUM_DEC))"
   ]
  }
 ],
 "metadata": {
  "kernelspec": {
   "display_name": "Python 3 (ipykernel)",
   "language": "python",
   "name": "python3"
  },
  "language_info": {
   "codemirror_mode": {
    "name": "ipython",
    "version": 3
   },
   "file_extension": ".py",
   "mimetype": "text/x-python",
   "name": "python",
   "nbconvert_exporter": "python",
   "pygments_lexer": "ipython3",
   "version": "3.12.1"
  }
 },
 "nbformat": 4,
 "nbformat_minor": 4
}
