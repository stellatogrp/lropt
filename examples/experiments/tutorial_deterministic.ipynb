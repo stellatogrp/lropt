{
 "cells": [
  {
   "cell_type": "code",
   "execution_count": 14,
   "metadata": {},
   "outputs": [],
   "source": [
    "import cvxpy as cp\n",
    "import scipy as sc\n",
    "from sklearn import datasets\n",
    "import numpy as np\n",
    "import numpy.random as npr\n",
    "import torch\n",
    "import pandas as pd\n",
    "import lro\n",
    "import matplotlib.pyplot as plt\n",
    "import warnings\n",
    "warnings.filterwarnings(\"ignore\")\n",
    "plt.rcParams.update({\n",
    "    \"text.usetex\":True,\n",
    "    \"font.size\":18,\n",
    "    \"font.family\": \"serif\"\n",
    "})\n",
    "colors = [\"tab:blue\", \"tab:green\", \"tab:orange\", \n",
    "          \"tab:red\", \"tab:purple\", \"tab:brown\", \"tab:pink\", \"tab:grey\", \"tab:olive\"]"
   ]
  },
  {
   "cell_type": "markdown",
   "metadata": {},
   "source": [
    "# Deterministic Uncertainty Sets"
   ]
  },
  {
   "cell_type": "markdown",
   "metadata": {},
   "source": [
    "### Formulating the uncertainty set"
   ]
  },
  {
   "cell_type": "markdown",
   "metadata": {},
   "source": [
    "The first step is to formulate the uncertainty set. There are multiple options, with their associated input parameters. The uncertainty set can be formulated within the uncertain parameter, which takes in the size of the uncertainty and an uncertainty set as parameters.\n",
    "\n",
    "Box uncertainty: $\\{ u \\mid\\| u \\|_\\infty \\leq \\rho \\}$ \n",
    "- $\\rho$ : float, optional  \n",
    "  * Box scaling. Default 1.0.\n",
    "- center : np.array, optional  \n",
    "  * An array of dimension n, n the dimension of the uncertanty.\n",
    "        Translation of the center of the box. If lengths is passed but\n",
    "        not center it defaults to an array of zeros.\n",
    "- side : np.array, optional  \n",
    "  * An array of dimension n, n the dimension of the uncertanty.\n",
    "        Length of each side of the box. If center is passed but side not\n",
    "        it defaults to an array of 2.\n"
   ]
  },
  {
   "cell_type": "code",
   "execution_count": 2,
   "metadata": {},
   "outputs": [],
   "source": [
    "# size of uncertain parameter\n",
    "m = 5\n",
    "\n",
    "# Box uncertainty set example\n",
    "box_u = lro.UncertainParameter(m, \n",
    "                              uncertainty_set = lro.Box(center=np.zeros(m),\n",
    "                                                        side=np.ones(m), \n",
    "                                                        rho=2.))"
   ]
  },
  {
   "cell_type": "markdown",
   "metadata": {},
   "source": [
    "\n",
    "\n",
    "Ellipsoidal uncertainty: $\\{u \\mid \\| u \\|_p \\leq \\rho \\}$ \n",
    "- $\\rho$ : float, optional  \n",
    "  * Ellipsoid scaling. Default 1.0. \n",
    "- $p$ : integer, optional  \n",
    "  * Order of the norm. Default 2."
   ]
  },
  {
   "cell_type": "code",
   "execution_count": 3,
   "metadata": {},
   "outputs": [],
   "source": [
    "# Ellipsoidal uncertainty set example\n",
    "ellip_u = lro.UncertainParameter(m,\n",
    "                                uncertainty_set = lro.Ellipsoidal(p = 2, \n",
    "                                                                  rho=2.))"
   ]
  },
  {
   "cell_type": "markdown",
   "metadata": {},
   "source": [
    "Budget uncertainty: $\\{u \\mid \\| u \\|_\\infty \\leq \\rho_1, \\| u \\|_1 \\leq \\rho_2\\}$ \n",
    "- $\\rho_1$ : float, optional  \n",
    "  * Box scaling. Default 1.0. \n",
    "- $\\rho_2$ : float, optional\n",
    "  * 1-norm scaling. Default 1.0.\n",
    "\n"
   ]
  },
  {
   "cell_type": "code",
   "execution_count": 4,
   "metadata": {},
   "outputs": [],
   "source": [
    "# Budget uncertainty set example\n",
    "budget_u = lro.UncertainParameter(m, \n",
    "                                  uncertainty_set = lro.Budget(rho1=2., \n",
    "                                                               rho2 = 1.))"
   ]
  },
  {
   "cell_type": "markdown",
   "metadata": {},
   "source": [
    "\n",
    "Polyhedral uncertainty: $\\{ u \\mid Du \\leq d\\}$\n",
    "- $D$ : np.array  \n",
    "- $d$ : np.array  "
   ]
  },
  {
   "cell_type": "code",
   "execution_count": 5,
   "metadata": {},
   "outputs": [],
   "source": [
    "# Polyhedral uncertainty set example\n",
    "poly_u = lro.UncertainParameter(m, \n",
    "                                uncertainty_set = lro.Polyhedral(\n",
    "                                                        D = np.ones((3,m)), \n",
    "                                                        d = np.array([1,2,3])))"
   ]
  },
  {
   "cell_type": "markdown",
   "metadata": {},
   "source": [
    "###  Formulating the Robust Problem\n",
    "\n",
    "We can now fomulate the Robust Problem, treating the uncertain parameter as a regular parameter."
   ]
  },
  {
   "cell_type": "markdown",
   "metadata": {},
   "source": [
    "#### Example 1: Affine transformed LP, ellipsoidal uncertainty\n",
    "We solve the problem\n",
    "$$\n",
    "\\begin{array}{ll}\n",
    "\\text{minimize} & c^Tx\\\\\n",
    "\\text{subject to}  & (Pu+a)^Tx \\leq  10,\\\\\n",
    "\\end{array}\n",
    "$$\n",
    "where $c$, $P$, and $a$ are constants, and $u$ is the uncertain parameter from the ellipsoidal set above."
   ]
  },
  {
   "cell_type": "code",
   "execution_count": 6,
   "metadata": {},
   "outputs": [
    {
     "name": "stdout",
     "output_type": "stream",
     "text": [
      "LRO objective value:  -2.374499675812607 \n",
      "LRO x:  [-0.54633788 -0.89025808 -0.59611945 -1.20725722]\n"
     ]
    }
   ],
   "source": [
    "#restate the ellipsoidal set\n",
    "ellip_u = lro.UncertainParameter(m,\n",
    "                                uncertainty_set = lro.Ellipsoidal(p = 2, \n",
    "                                                                  rho=2., A = np.eye(m)))\n",
    "n = 4\n",
    "\n",
    "# formulate cvxpy variable\n",
    "x = cp.Variable(4)\n",
    "\n",
    "# formulate problem constants\n",
    "P = 3. * np.eye(m)[:n, :]\n",
    "a = 0.1 * np.random.rand(n)\n",
    "c = np.random.rand(n)\n",
    "\n",
    "# formulate objective\n",
    "objective = cp.Minimize(c@x)\n",
    "\n",
    "# formulate constraints\n",
    "constraints = [(P@ellip_u +a)@ x <= 10]\n",
    "\n",
    "# formulate Robust Problem\n",
    "prob_robust = lro.RobustProblem(objective, constraints)\n",
    "\n",
    "# solve\n",
    "new_prob = prob_robust.dualize()\n",
    "new_prob.solve()\n",
    "print(\"LRO objective value: \", new_prob.objective.value, \"\\nLRO x: \", x.value)\n"
   ]
  },
  {
   "cell_type": "markdown",
   "metadata": {},
   "source": [
    "We compare the above with its explicit reformulation and solution\n",
    "$$\n",
    "\\begin{array}{ll}\n",
    "\\text{minimize} & c^Tx\\\\\n",
    "\\text{subject to}  & a^Tx + \\rho\\|P^Tx\\|_2 \\leq  10,\\\\\n",
    "\\end{array}\n",
    "$$"
   ]
  },
  {
   "cell_type": "code",
   "execution_count": 7,
   "metadata": {},
   "outputs": [
    {
     "name": "stdout",
     "output_type": "stream",
     "text": [
      "Cvxpy objective value:  -2.374499670724283 \n",
      "Cvxpy x:  [-0.54633711 -0.89025879 -0.59612032 -1.20725663]\n"
     ]
    }
   ],
   "source": [
    "# formulate cvxpy variable\n",
    "x = cp.Variable(4)\n",
    "\n",
    "# formulate objective\n",
    "objective = cp.Minimize(c@x)\n",
    "\n",
    "# formulate constraints\n",
    "constraints = [a@x + 2*cp.norm(P.T@x,2) <= 10]\n",
    "\n",
    "# formulate problem\n",
    "prob_cvxpy = cp.Problem(objective, constraints)\n",
    "\n",
    "# solve\n",
    "prob_cvxpy.solve()\n",
    "\n",
    "print(\"Cvxpy objective value: \", prob_cvxpy.objective.value, \"\\nCvxpy x: \", x.value)\n"
   ]
  },
  {
   "cell_type": "markdown",
   "metadata": {},
   "source": [
    "We see that they provide the same solution."
   ]
  },
  {
   "cell_type": "markdown",
   "metadata": {},
   "source": [
    "#### Example 2: Multiple uncertain terms, box uncertainty\n",
    "We solve the problem\n",
    "$$\n",
    "\\begin{array}{ll}\n",
    "\\text{minimize} & c^Tx\\\\\n",
    "\\text{subject to}  & (Pu)^Tx  \\leq  10 + 2u^Tx,\\\\\n",
    "& x \\geq 0,\\quad x \\leq 1,\n",
    "\\end{array}\n",
    "$$\n",
    "where again $c$, $P$, and $a$ are constants, and $u$ is the uncertain parameter from a box uncertainty set. We note that the uncertain parameter can appear more than once in the uncertain constraint.  \n",
    "\n",
    "The box uncertainty set is indentical to an affine transformed ellipsoidal uncertainty set. If the center of the box is $b$, and side is $s$, formulating the box uncertainaty set is equivalent to formulating an ellipsoidal uncertainty set with $p = \\infty$ and an affine transform $\\tilde{u} = \\mathbf{diag}\\{1/2s\\}u + b = Au + b$.\n",
    "\n",
    "With ellipsoidal uncertainty, the above problem is then \n",
    "$$\n",
    "\\begin{array}{ll}\n",
    "\\text{minimize} & c^Tx\\\\\n",
    "\\text{subject to}  & (PAu+ Pb)^Tx  \\leq  10 + (2Au + 2b)^Tx\\\\\n",
    "& x \\geq 0,\\quad x \\leq 1,\n",
    "\\end{array}\n",
    "$$"
   ]
  },
  {
   "cell_type": "code",
   "execution_count": 8,
   "metadata": {},
   "outputs": [
    {
     "name": "stdout",
     "output_type": "stream",
     "text": [
      "Box objective value:  -3.0183862729206528 \n",
      "Box x:  [1.00000000e+00 5.21544514e-12 2.08928938e-01 1.00000000e+00\n",
      " 1.00000000e+00]\n",
      "Ellipsoidal objective value:  -3.0183862729206528 \n",
      "Ellipsoidal x:  [1.00000000e+00 5.21541110e-12 2.08928938e-01 1.00000000e+00\n",
      " 1.00000000e+00]\n"
     ]
    }
   ],
   "source": [
    "#formulate using the box set\n",
    "center = 0.5*np.ones(m)\n",
    "side = 0.1*np.array([1,2,3,4,5])\n",
    "box_u = lro.UncertainParameter(m, \n",
    "                              uncertainty_set = lro.Box(center=center,\n",
    "                                                        side=side, \n",
    "                                                        rho=2., A = np.eye(m)))\n",
    "n = 5\n",
    "\n",
    "# formulate cvxpy variable\n",
    "x = cp.Variable(n)\n",
    "\n",
    "# formulate problem constants\n",
    "P = 3*np.random.rand(n,m)\n",
    "c = np.random.rand(n)\n",
    "\n",
    "# formulate objective\n",
    "objective = cp.Minimize(-c@x)\n",
    "\n",
    "# formulate constraints\n",
    "constraints = [P@box_u@ x - 2*box_u@x <= 10 , x >=0, x<=1]\n",
    "\n",
    "# formulate Robust Problem\n",
    "prob_robust = lro.RobustProblem(objective, constraints)\n",
    "\n",
    "# solve\n",
    "newprob = prob_robust.dualize()\n",
    "newprob.solve()\n",
    "print(\"Box objective value: \", newprob.objective.value, \"\\nBox x: \", x.value)\n",
    "\n",
    "#formulate using the ellipsoidal set\n",
    "ellip_u = lro.UncertainParameter(m,\n",
    "                                uncertainty_set = lro.Ellipsoidal(p = np.inf, \n",
    "                                                                  rho=2.))\n",
    "n = 5\n",
    "\n",
    "# formulate cvxpy variable\n",
    "x = cp.Variable(n)\n",
    "\n",
    "# formulate problem constants\n",
    "A = np.diag(0.5*side)\n",
    "b = center\n",
    "\n",
    "# formulate objective\n",
    "objective = cp.Minimize(-c@x)\n",
    "\n",
    "# formulate constraints\n",
    "constraints = [(P@A@ellip_u + P@b)@ x  <= 10+(2*A@ellip_u+ 2*b)@x, x >=0, x<=1]\n",
    "\n",
    "# formulate Robust Problem\n",
    "prob_robust = lro.RobustProblem(objective, constraints)\n",
    "\n",
    "# solve\n",
    "newprob = prob_robust.dualize()\n",
    "newprob.solve()\n",
    "\n",
    "print(\"Ellipsoidal objective value: \", newprob.objective.value, \"\\nEllipsoidal x: \", x.value)\n"
   ]
  },
  {
   "cell_type": "markdown",
   "metadata": {},
   "source": [
    "We compare the above with its explicit reformulation and solution\n",
    "$$\n",
    "\\begin{array}{ll}\n",
    "\\text{minimize} & c^Tx\\\\\n",
    "\\text{subject to}  & (Pb)^Tx - 2b^Tx + \\rho\\|A^TP^Tx - 2A^Tx\\|_1 \\leq  10,\\\\\n",
    "\\end{array}\n",
    "$$"
   ]
  },
  {
   "cell_type": "code",
   "execution_count": 9,
   "metadata": {},
   "outputs": [
    {
     "name": "stdout",
     "output_type": "stream",
     "text": [
      "Cvxpy objective value:  -3.0183862729291984 \n",
      "Cvxpy x:  [1.00000000e+00 2.37934591e-12 2.08928938e-01 1.00000000e+00\n",
      " 1.00000000e+00]\n"
     ]
    }
   ],
   "source": [
    "# formulate using cvxpy\n",
    "x = cp.Variable(5)\n",
    "# formulate objective\n",
    "objective = cp.Minimize(-c@x)\n",
    "\n",
    "# formulate constraints\n",
    "constraints = [(P@b)@x - 2*b@x + 2*cp.norm((P@A).T@x - 2*A.T@x,p=1)<= 10, x>=0, x<=1]\n",
    "\n",
    "# formulate problem\n",
    "prob_cvxpy = cp.Problem(objective, constraints)\n",
    "\n",
    "# solve\n",
    "prob_cvxpy.solve()\n",
    "\n",
    "print(\"Cvxpy objective value: \", prob_cvxpy.objective.value, \"\\nCvxpy x: \", x.value)\n"
   ]
  },
  {
   "cell_type": "markdown",
   "metadata": {},
   "source": [
    "#### Example 3: Multiple uncertain constraints, polyhedral uncertainty\n",
    "We solve the problem\n",
    "$$\n",
    "\\begin{array}{ll}\n",
    "\\text{minimize} & c^Tx\\\\\n",
    "\\text{subject to}  & (P_1u + a)^Tx  \\leq  10\\\\\n",
    "& (P_2u)^Tx  \\leq  5\\\\\n",
    "& x \\leq 5,\n",
    "\\end{array}\n",
    "$$\n",
    "where $c$, $P_1$, $P_2$, and $a$ are constants, and $u$ is the uncertain parameter from a polyhedral uncertainty set"
   ]
  },
  {
   "cell_type": "code",
   "execution_count": 53,
   "metadata": {},
   "outputs": [
    {
     "name": "stdout",
     "output_type": "stream",
     "text": [
      "LRO objective value:  -9.345357399838553 \n",
      "LRO x:  [  5.         -11.01853896   5.           5.        ]\n"
     ]
    }
   ],
   "source": [
    "#restate the ellipsoidal set \n",
    "D =  np.vstack((np.eye(m), -2*np.eye(m)))\n",
    "d = np.concatenate((0.1*np.ones(m), 0.1*np.ones(m)))\n",
    "poly_u = lro.UncertainParameter(m, \n",
    "                                uncertainty_set = lro.Polyhedral(\n",
    "                                                        D = D, \n",
    "                                                        d = d))\n",
    "n = 4\n",
    "# formulate cvxpy variable\n",
    "x = cp.Variable(n)\n",
    "\n",
    "# formulate problem constants\n",
    "P1 = 0.5 * np.eye(m)[:n, :]\n",
    "P2 = 3*np.random.rand(n,m)\n",
    "a = 0.1 * np.random.rand(n)\n",
    "c = np.random.rand(n)\n",
    "\n",
    "# formulate objective\n",
    "objective = cp.Minimize(-c@x)\n",
    "\n",
    "# formulate constraints\n",
    "constraints = [(P1@poly_u +a)@ x <=10, x<=5]\n",
    "constraints += [(P2@poly_u)@ x <= 5]\n",
    "\n",
    "# formulate Robust Problem\n",
    "prob_robust = lro.RobustProblem(objective, constraints)\n",
    "\n",
    "# solve\n",
    "\n",
    "new_prob = prob_robust.dualize()\n",
    "new_prob.solve()\n",
    "print(\"LRO objective value: \", new_prob.objective.value, \"\\nLRO x: \", x.value)\n",
    "\n"
   ]
  },
  {
   "cell_type": "markdown",
   "metadata": {},
   "source": [
    "We compare it with its direct reformulation, where each uncertain constraint is treated independently,\n",
    "$$\n",
    "\\begin{array}{ll}\n",
    "\\text{minimize} & c^Tx\\\\\n",
    "\\text{subject to}  & a^Tx + w_1^Td  \\leq  10\\\\\n",
    "& w_1^TD = P_1^Tx\\\\\n",
    "& w_2^Td  \\leq  5\\\\\n",
    "& w_2^TD = P_2^Tx\\\\\n",
    "& w_1, w_2 \\geq 0\\\\\n",
    "& x \\leq 5,\n",
    "\\end{array}\n",
    "$$\n",
    "where $w_1$, $w_2$ are new variables introduced."
   ]
  },
  {
   "cell_type": "code",
   "execution_count": 54,
   "metadata": {},
   "outputs": [
    {
     "name": "stdout",
     "output_type": "stream",
     "text": [
      "Cvxpy objective value:  -9.34535739966449 \n",
      "Cvxpy x:  [  5.         -11.01853896   5.           5.        ]\n"
     ]
    }
   ],
   "source": [
    "# formulate using cvxpy\n",
    "x = cp.Variable(n)\n",
    "w1 = cp.Variable(2*m)\n",
    "w2 = cp.Variable(2*m)\n",
    "# formulate objective\n",
    "objective = cp.Minimize(-c@x)\n",
    "\n",
    "# formulate constraints\n",
    "constraints = [a@x + w1@d <= 10]\n",
    "constraints += [w1@D == P1.T@x]\n",
    "constraints += [w2@d <= 5]\n",
    "constraints += [w2@D == P2.T@x]\n",
    "constraints += [w1>=0, w2 >= 0, x <=5]\n",
    "# formulate Robust Problem\n",
    "prob_cvxpy = cp.Problem(objective, constraints)\n",
    "\n",
    "# solve\n",
    "prob_cvxpy.solve()\n",
    "print(\"Cvxpy objective value: \", prob_cvxpy.objective.value, \"\\nCvxpy x: \", x.value)"
   ]
  },
  {
   "cell_type": "markdown",
   "metadata": {},
   "source": [
    "#### Example 4: Direct comparison constraints, budget uncertainty\n",
    "We solve the problem\n",
    "$$\n",
    "\\begin{array}{ll}\n",
    "\\text{minimize} & c^Tx\\\\\n",
    "\\text{subject to}  & (Pu + a)^Tx  \\leq  10\\\\\n",
    "& x \\geq P_1u,\n",
    "\\end{array}\n",
    "$$\n",
    "where $c$, $P$,and $a$ are constants, and $u$ is the uncertain parameter from a budet uncertainty set. \n",
    "We can include constraints that relates directly the values of $x$ and $u$, as in the second constraint."
   ]
  },
  {
   "cell_type": "code",
   "execution_count": 57,
   "metadata": {},
   "outputs": [
    {
     "name": "stdout",
     "output_type": "stream",
     "text": [
      "LRO objective value:  6.727711091160589 \n",
      "LRO x:  [2.89132115 2.96117293 2.59768808 2.57108353]\n"
     ]
    }
   ],
   "source": [
    "#restate the ellipsoidal set\n",
    "budget_u = lro.UncertainParameter(m, \n",
    "                                  uncertainty_set = lro.Budget(rho1=2., \n",
    "                                                               rho2 = 1., A1 = np.eye(m), A2 = np.eye(m)))\n",
    "n = 4\n",
    "# formulate cvxpy variable\n",
    "x = cp.Variable(n)\n",
    "\n",
    "# formulate problem constants\n",
    "P = 3. * np.eye(m)[:n, :]\n",
    "P1 = 3*np.random.rand(n,m)\n",
    "a = 0.1 * np.random.rand(n)\n",
    "c = np.random.rand(n)\n",
    "\n",
    "# formulate objective\n",
    "objective = cp.Minimize(c@x)\n",
    "\n",
    "# formulate constraints\n",
    "constraints = [(P@budget_u +a)@ x <= 10]\n",
    "constraints += [x >= P1@budget_u]\n",
    "\n",
    "# formulate Robust Problem\n",
    "prob_robust = lro.RobustProblem(objective, constraints)\n",
    "\n",
    "# solve\n",
    "new_prob = prob_robust.dualize()\n",
    "new_prob.solve()\n",
    "print(\"LRO objective value: \", new_prob.objective.value, \"\\nLRO x: \", x.value)\n"
   ]
  },
  {
   "cell_type": "markdown",
   "metadata": {},
   "source": [
    "We compare this with its direct reformulation,\n",
    "$$\n",
    "\\begin{array}{ll}\n",
    "\\text{minimize} & c^Tx\\\\\n",
    "\\text{subject to}  & a^Tx + \\rho_1\\|y\\|_1 + \\rho_2\\|P^Tx - y\\|_\\infty  \\leq  10\\\\\n",
    "& -x_i + \\rho_1\\|z_i\\|_1 + \\rho_2\\|(P_1^T)_i - z_i\\|_\\infty \\leq 0, \\quad i = 1,\\dots,n\n",
    "\\end{array}\n",
    "$$\n",
    "where $(P_1^T)_i$ is the $i$'th row of $P_1$."
   ]
  },
  {
   "cell_type": "code",
   "execution_count": 58,
   "metadata": {},
   "outputs": [
    {
     "name": "stdout",
     "output_type": "stream",
     "text": [
      "Cvxpy objective value:  6.727711090714715 \n",
      "Cvxpy x:  [2.89132115 2.96117293 2.59768808 2.57108353]\n"
     ]
    }
   ],
   "source": [
    "# formulate cvxpy variables\n",
    "x = cp.Variable(n)\n",
    "y = cp.Variable(m)\n",
    "z = cp.Variable((n,m))\n",
    "\n",
    "# formulate objective\n",
    "objective = cp.Minimize(c@x)\n",
    "\n",
    "# formulate constraints\n",
    "constraints = [a@x + 2*cp.norm(y,1) + cp.norm(P.T@x-y,np.inf) <= 10]\n",
    "for i in range(n):\n",
    "  constraints += [-x[i] + 2*cp.norm(z[i],1) + cp.norm(P1.T@(np.eye(n)[i]) - z[i],np.inf) <= 0]\n",
    "\n",
    "# formulate Robust Problem\n",
    "prob_cvxpy = cp.Problem(objective, constraints)\n",
    "\n",
    "# solve\n",
    "prob_cvxpy.solve()\n",
    "print(\"Cvxpy objective value: \", prob_cvxpy.objective.value, \"\\nCvxpy x: \", x.value)"
   ]
  },
  {
   "cell_type": "markdown",
   "metadata": {},
   "source": [
    "#### Example 5: Quadratic uncertainty, ellipsoidal set\n",
    "We solve the problem\n",
    "$$\n",
    "\\begin{array}{ll}\n",
    "\\text{minimize} & \\tau\\\\\n",
    "\\text{subject to}  & -(1/2)\\sum_{i=1}^n (u^TP_iu)x_i  \\leq  \\tau\\\\\n",
    "& \\mathbf{1}^Tx = 3\\\\\n",
    "& x \\geq 0, \\quad x \\leq 1\n",
    "\\end{array}\n",
    "$$\n",
    "where each $P_i\\in \\mathbf{R}^{n\\times n}$ is a symmetric positive definite matrix, and $u$ is the uncertain parameter from an ellipsoidal uncertainty set. "
   ]
  },
  {
   "cell_type": "code",
   "execution_count": 64,
   "metadata": {},
   "outputs": [
    {
     "name": "stdout",
     "output_type": "stream",
     "text": [
      "LRO objective value:  -2.0112953979060528e-10 \n",
      "LRO x:  [0.59924155 0.60078786 0.60049851 0.59924718 0.60022489]\n"
     ]
    }
   ],
   "source": [
    "# formulate uncertainty set\n",
    "n = 5\n",
    "u = lro.UncertainParameter(n,\n",
    "                        uncertainty_set=lro.Ellipsoidal(p=2,\n",
    "                                                    rho=0.5))\n",
    "# formulate cvxpy variables\n",
    "x = cp.Variable(n)\n",
    "t = cp.Variable()\n",
    "\n",
    "# formulate problem constants\n",
    "P = {}\n",
    "P_inv = {}\n",
    "for i in range(n):\n",
    "    P[i] = datasets.make_spd_matrix(n, random_state=i)\n",
    "    P_inv[i] = sc.linalg.sqrtm(np.linalg.inv(P[i]))\n",
    "\n",
    "# formulate objective\n",
    "objective = cp.Minimize(t)\n",
    "\n",
    "# formulate constraints \n",
    "constraints = [cp.sum([-0.5*lro.uncertain_atoms.quad_form.quad_form(u, P[i]*x[i]) for i in range(n)]) <= t]\n",
    "constraints += [cp.sum(x)==3]\n",
    "constraints += [x >= 0, x <= 1]\n",
    "\n",
    "# formulate Robust Problem\n",
    "prob_robust = lro.RobustProblem(objective, constraints)\n",
    "\n",
    "new_prob = prob_robust.dualize()\n",
    "new_prob.solve()\n",
    "print(\"LRO objective value: \", new_prob.objective.value, \"\\nLRO x: \", x.value)"
   ]
  },
  {
   "cell_type": "markdown",
   "metadata": {},
   "source": [
    "We compare this with the direct reformulation,\n",
    "\\begin{equation}\n",
    "\t\\begin{array}{lll}\n",
    "\t\t&\\text{minimize} & f(x)\\\\\n",
    "\t\t&\\text{subject to} & (1/2)\\sum_{i=1}^n (z_i^TP_i^{-1}z_i)/x_i + \\rho\\|z\\|_2 \\le 0\\\\\n",
    "\t\t&& \\sum_{i=1}^n z_i = z,\\\\\n",
    "&& \\mathbf{1}^Tx = 3\\\\\n",
    "&& x \\geq 0, \\quad x \\leq 1\n",
    "\t\\end{array}\n",
    "\\end{equation}\n",
    "where we have $\\gamma \\in \\mathbf{R}^m, z \\in \\mathbf{R}^n, z_i \\in \\mathbf{R}^n$, $i = 1,\\dots,n$, as auxiliary variables. "
   ]
  },
  {
   "cell_type": "code",
   "execution_count": 65,
   "metadata": {},
   "outputs": [
    {
     "name": "stdout",
     "output_type": "stream",
     "text": [
      "Cvxpy objective value:  -2.1503648051128625e-10 \n",
      "Cvxpy x:  [0.59941355 0.6005882  0.60039012 0.59941816 0.60018998]\n"
     ]
    }
   ],
   "source": [
    "# formulate using cvxpy\n",
    "x = cp.Variable(n)\n",
    "t = cp.Variable()\n",
    "z = cp.Variable(n)\n",
    "y = cp.Variable((n,n))\n",
    "gam = cp.Variable(n)\n",
    "\n",
    "# formulate objective\n",
    "objective = t\n",
    "\n",
    "# formulate constraints\n",
    "constraints = [cp.sum([cp.quad_over_lin(y[i]@P_inv[i],2*x[i]) for i in range(n)]) + 0.5*cp.norm(z,2) <= t]\n",
    "constraints += [cp.sum(y, axis = 1) == z]\n",
    "constraints += [cp.sum(x) == 3]\n",
    "constraints += [x >= 0, x <= 1]\n",
    "\n",
    "# formulate problem \n",
    "prob_cvxpy = cp.Problem(cp.Minimize(objective), constraints)\n",
    "prob_cvxpy.solve()\n",
    "print(\"Cvxpy objective value: \", prob_cvxpy.objective.value, \"\\nCvxpy x: \", x.value)"
   ]
  }
 ],
 "metadata": {
  "kernelspec": {
   "display_name": "Python 3.10.6 ('lro')",
   "language": "python",
   "name": "python3"
  },
  "language_info": {
   "codemirror_mode": {
    "name": "ipython",
    "version": 3
   },
   "file_extension": ".py",
   "mimetype": "text/x-python",
   "name": "python",
   "nbconvert_exporter": "python",
   "pygments_lexer": "ipython3",
   "version": "3.10.6"
  },
  "vscode": {
   "interpreter": {
    "hash": "e3ed6dde042e78d86e091991aef4e6276872e8fbcb7e1edcb6e9eacd7157f213"
   }
  }
 },
 "nbformat": 4,
 "nbformat_minor": 2
}
