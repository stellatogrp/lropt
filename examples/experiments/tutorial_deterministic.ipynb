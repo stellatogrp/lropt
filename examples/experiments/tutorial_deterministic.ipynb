{
 "cells": [
  {
   "cell_type": "markdown",
   "metadata": {},
   "source": [
    "# Deterministic Uncertainty Sets"
   ]
  },
  {
   "cell_type": "code",
   "execution_count": 1,
   "metadata": {},
   "outputs": [],
   "source": [
    "import cvxpy as cp\n",
    "import scipy as sc\n",
    "from sklearn import datasets\n",
    "import numpy as np\n",
    "import numpy.random as npr\n",
    "import numpy.testing as npt\n",
    "import torch\n",
    "import pandas as pd\n",
    "import lro\n",
    "import matplotlib.pyplot as plt\n",
    "RTOL = 1e-04\n",
    "ATOL = 1e-04\n",
    "import warnings\n",
    "warnings.filterwarnings(\"ignore\")\n",
    "plt.rcParams.update({\n",
    "    \"text.usetex\":True,\n",
    "    \"font.size\":18,\n",
    "    \"font.family\": \"serif\"\n",
    "})\n",
    "colors = [\"tab:blue\", \"tab:green\", \"tab:orange\", \n",
    "          \"tab:red\", \"tab:purple\", \"tab:brown\", \"tab:pink\", \"tab:grey\", \"tab:olive\"]"
   ]
  },
  {
   "cell_type": "markdown",
   "metadata": {},
   "source": [
    "### Formulating the uncertainty set"
   ]
  },
  {
   "cell_type": "markdown",
   "metadata": {},
   "source": [
    "The first step is to formulate the uncertainty set. There are multiple options, with their associated input parameters. The uncertainty set can be formulated within the uncertain parameter, which takes in the size of the uncertainty and an uncertainty set as parameters.\n",
    "\n",
    "Box uncertainty: $\\{ u \\mid\\| u \\|_\\infty \\leq \\rho \\}$ \n",
    "\n",
    "- $\\rho$ : float, optional  \n",
    "  * Box scaling. Default 1.0.\n"
   ]
  },
  {
   "cell_type": "code",
   "execution_count": 2,
   "metadata": {},
   "outputs": [],
   "source": [
    "# size of uncertain parameter\n",
    "m = 5\n",
    "\n",
    "# Box uncertainty set example\n",
    "box_u = lro.UncertainParameter(m, \n",
    "                              uncertainty_set = lro.Box(rho=2.))"
   ]
  },
  {
   "cell_type": "markdown",
   "metadata": {},
   "source": [
    "\n",
    "\n",
    "Ellipsoidal uncertainty: $\\{u \\mid \\| u \\|_p \\leq \\rho \\}$ \n",
    "- $\\rho$ : float, optional  \n",
    "  * Ellipsoid scaling. Default 1.0. \n",
    "- $p$ : integer, optional  \n",
    "  * Order of the norm. Default 2."
   ]
  },
  {
   "cell_type": "code",
   "execution_count": 3,
   "metadata": {},
   "outputs": [],
   "source": [
    "# Ellipsoidal uncertainty set example\n",
    "ellip_u = lro.UncertainParameter(m,\n",
    "                                uncertainty_set = lro.Ellipsoidal(p = 2, \n",
    "                                                                  rho=2.))"
   ]
  },
  {
   "cell_type": "markdown",
   "metadata": {},
   "source": [
    "Budget uncertainty: $\\{u \\mid \\| u \\|_\\infty \\leq \\rho_1, \\| u \\|_1 \\leq \\rho_2\\}$ \n",
    "\n",
    "- $\\rho_1$ : float, optional  \n",
    "  * Box scaling. Default 1.0. \n",
    "- $\\rho_2$ : float, optional\n",
    "  * 1-norm scaling. Default 1.0.\n",
    "\n"
   ]
  },
  {
   "cell_type": "code",
   "execution_count": 4,
   "metadata": {},
   "outputs": [],
   "source": [
    "# Budget uncertainty set example\n",
    "budget_u = lro.UncertainParameter(m, \n",
    "                                  uncertainty_set = lro.Budget(rho1=2., \n",
    "                                                               rho2 = 1.))"
   ]
  },
  {
   "cell_type": "markdown",
   "metadata": {},
   "source": [
    "Polyhedral uncertainty: $\\{ u \\mid Du \\leq d\\}$\n",
    "\n",
    "- $D$ : np.array  \n",
    "- $d$ : np.array  "
   ]
  },
  {
   "cell_type": "code",
   "execution_count": 5,
   "metadata": {},
   "outputs": [],
   "source": [
    "# Polyhedral uncertainty set example\n",
    "poly_u = lro.UncertainParameter(m, \n",
    "                                uncertainty_set = lro.Polyhedral(\n",
    "                                                        D = np.ones((3,m)), \n",
    "                                                        d = np.array([1,2,3])))"
   ]
  },
  {
   "cell_type": "markdown",
   "metadata": {},
   "source": [
    "###  Formulating the Robust Problem\n",
    "\n",
    "We can now fomulate the Robust Problem, treating the uncertain parameter as a regular parameter."
   ]
  },
  {
   "cell_type": "markdown",
   "metadata": {},
   "source": [
    "#### Example 1: Affine transformed LP, ellipsoidal uncertainty\n",
    "We solve the problem\n",
    "$$\n",
    "\\begin{array}{ll}\n",
    "\\text{minimize} & c^Tx\\\\\n",
    "\\text{subject to}  & (Pu+a)^Tx \\leq  10,\\\\\n",
    "\\end{array}\n",
    "$$\n",
    "where $c$, $P$, and $a$ are constants, and $u$ is the uncertain parameter from the ellipsoidal set above."
   ]
  },
  {
   "cell_type": "code",
   "execution_count": 7,
   "metadata": {},
   "outputs": [
    {
     "name": "stdout",
     "output_type": "stream",
     "text": [
      "LRO objective value:  -1.158467103015561 \n",
      "LRO x:  [-0.24384259 -0.94875762 -0.90656552 -1.03743563]\n"
     ]
    }
   ],
   "source": [
    "#restate the ellipsoidal set\n",
    "ellip_u = lro.UncertainParameter(m,\n",
    "                                uncertainty_set = lro.Ellipsoidal(p = 2, \n",
    "                                                                  rho=2., A = np.eye(m)))\n",
    "n = 4\n",
    "\n",
    "# formulate cvxpy variable\n",
    "x_r = cp.Variable(4)\n",
    "\n",
    "# formulate problem constants\n",
    "P = 3. * np.eye(m)[:n, :]\n",
    "a = 0.1 * np.random.rand(n)\n",
    "c = np.random.rand(n)\n",
    "\n",
    "# formulate objective\n",
    "objective = cp.Minimize(c@x_r)\n",
    "\n",
    "# formulate constraints\n",
    "constraints = [(P@ellip_u +a)@ x_r <= 10]\n",
    "\n",
    "# formulate Robust Problem\n",
    "prob_robust = lro.RobustProblem(objective, constraints)\n",
    "\n",
    "# solve\n",
    "prob_robust.solve()\n",
    "print(\"LRO objective value: \", prob_robust.objective.value, \"\\nLRO x: \", x_r.value)\n"
   ]
  },
  {
   "cell_type": "markdown",
   "metadata": {},
   "source": [
    "We compare the above with its explicit reformulation and solution\n",
    "$$\n",
    "\\begin{array}{ll}\n",
    "\\text{minimize} & c^Tx\\\\\n",
    "\\text{subject to}  & a^Tx + \\rho\\|P^Tx\\|_2 \\leq  10,\\\\\n",
    "\\end{array}\n",
    "$$"
   ]
  },
  {
   "cell_type": "code",
   "execution_count": 8,
   "metadata": {},
   "outputs": [
    {
     "name": "stdout",
     "output_type": "stream",
     "text": [
      "Cvxpy objective value:  -1.1584671034087004 \n",
      "Cvxpy x:  [-0.24387186 -0.94874817 -0.90658389 -1.03742203]\n"
     ]
    }
   ],
   "source": [
    "# formulate cvxpy variable\n",
    "x = cp.Variable(4)\n",
    "\n",
    "# formulate objective\n",
    "objective = cp.Minimize(c@x)\n",
    "\n",
    "# formulate constraints\n",
    "constraints = [a@x + 2*cp.norm(P.T@x,2) <= 10]\n",
    "\n",
    "# formulate problem\n",
    "prob_cvxpy = cp.Problem(objective, constraints)\n",
    "\n",
    "# solve\n",
    "prob_cvxpy.solve()\n",
    "\n",
    "print(\"Cvxpy objective value: \", prob_cvxpy.objective.value, \"\\nCvxpy x: \", x.value)\n",
    "\n",
    "# assert x values are equal\n",
    "npt.assert_allclose(x_r.value, x.value, rtol=RTOL, atol=ATOL)\n"
   ]
  },
  {
   "cell_type": "markdown",
   "metadata": {},
   "source": [
    "We see that they provide the same solution."
   ]
  },
  {
   "cell_type": "markdown",
   "metadata": {},
   "source": [
    "#### Example 2: Multiple uncertain terms, box uncertainty\n",
    "We solve the problem\n",
    "$$\n",
    "\\begin{array}{ll}\n",
    "\\text{minimize} & c^Tx\\\\\n",
    "\\text{subject to}  & P(Au+ b)^Tx  \\leq  10 + 2(Au + b)^Tx\\\\\n",
    "& x \\geq 0,\\quad x \\leq 1,\n",
    "\\end{array}\n",
    "$$\n",
    "where again $c$, $P$, and $a$ are constants, and $u$ is the uncertain parameter from a box uncertainty set. We note that the uncertain parameter can appear more than once in the uncertain constraint. \n",
    "\n",
    "Note that using the box uncertainty set is equivalent to using the ellipsoidal uncertainty set with $p = \\infty$"
   ]
  },
  {
   "cell_type": "code",
   "execution_count": 9,
   "metadata": {},
   "outputs": [
    {
     "name": "stdout",
     "output_type": "stream",
     "text": [
      "Box objective value:  -1.7811554152050642 \n",
      "Box x:  [1.00000000e+00 1.00000000e+00 7.00510516e-10 5.23099509e-01\n",
      " 4.40267324e-11]\n",
      "Ellipsoidal objective value:  -1.7811554152050642 \n",
      "Ellipsoidal x:  [1.00000000e+00 1.00000000e+00 7.00510516e-10 5.23099509e-01\n",
      " 4.40267324e-11]\n"
     ]
    }
   ],
   "source": [
    "#formulate using the box set\n",
    "box_u = lro.UncertainParameter(m, \n",
    "                              uncertainty_set = lro.Box(rho=2.))\n",
    "n = 5\n",
    "\n",
    "# formulate cvxpy variable\n",
    "x_box = cp.Variable(n)\n",
    "\n",
    "# formulate problem constants\n",
    "P = 3*np.random.rand(n,m)\n",
    "c = np.random.rand(n)\n",
    "center = 0.5*np.ones(m)\n",
    "side = 0.1*np.array([1,2,3,4,5])\n",
    "A = np.diag(0.5*side)\n",
    "b = center\n",
    "\n",
    "# formulate objective\n",
    "objective = cp.Minimize(-c@x_box)\n",
    "\n",
    "# formulate constraints\n",
    "constraints = [(P@A@box_u+ P@b)@ x_box - 2*(A@box_u + b)@x_box <= 10 , x_box >=0, x_box<=1]\n",
    "\n",
    "# formulate Robust Problem\n",
    "prob_robust = lro.RobustProblem(objective, constraints)\n",
    "\n",
    "# solve\n",
    "newprob = prob_robust.dualize_constraints()\n",
    "newprob.solve()\n",
    "print(\"Box objective value: \", newprob.objective.value, \"\\nBox x: \", x_box.value)\n",
    "\n",
    "#formulate using the ellipsoidal set\n",
    "ellip_u = lro.UncertainParameter(m,\n",
    "                                uncertainty_set = lro.Ellipsoidal(p = np.inf, \n",
    "                                                                  rho=2.))\n",
    "n = 5\n",
    "\n",
    "# formulate cvxpy variable\n",
    "x_el = cp.Variable(n)\n",
    "\n",
    "# formulate objective\n",
    "objective = cp.Minimize(-c@x_el)\n",
    "\n",
    "# formulate constraints\n",
    "constraints = [P@(A@ellip_u + b)@ x_el  <= 10+(2*A@ellip_u+ 2*b)@x_el, x_el >=0, x_el<=1]\n",
    "\n",
    "# formulate Robust Problem\n",
    "prob_robust = lro.RobustProblem(objective, constraints)\n",
    "\n",
    "# solve\n",
    "prob_robust.solve()\n",
    "\n",
    "print(\"Ellipsoidal objective value: \", prob_robust.objective.value, \"\\nEllipsoidal x: \", x_el.value)\n",
    "\n",
    "# assert x values are equal\n",
    "npt.assert_allclose(x_box.value, x_el.value, rtol=RTOL, atol=ATOL)\n"
   ]
  },
  {
   "cell_type": "markdown",
   "metadata": {},
   "source": [
    "We compare the above with its explicit reformulation and solution\n",
    "$$\n",
    "\\begin{array}{ll}\n",
    "\\text{minimize} & c^Tx\\\\\n",
    "\\text{subject to}  & (Pb)^Tx - 2b^Tx + \\rho\\|A^TP^Tx - 2A^Tx\\|_1 \\leq  10,\\\\\n",
    "\\end{array}\n",
    "$$"
   ]
  },
  {
   "cell_type": "code",
   "execution_count": 10,
   "metadata": {},
   "outputs": [
    {
     "name": "stdout",
     "output_type": "stream",
     "text": [
      "Cvxpy objective value:  -1.7811554152439186 \n",
      "Cvxpy x:  [1.00000000e+00 1.00000000e+00 1.50589518e-10 5.23099510e-01\n",
      " 1.35420928e-11]\n"
     ]
    }
   ],
   "source": [
    "# formulate using cvxpy\n",
    "x_cvxpy = cp.Variable(5)\n",
    "# formulate objective\n",
    "objective = cp.Minimize(-c@x_cvxpy)\n",
    "\n",
    "# formulate constraints\n",
    "constraints = [(P@b)@x_cvxpy - 2*b@x_cvxpy + 2*cp.norm((P@A).T@x_cvxpy - 2*A.T@x_cvxpy,p=1)<= 10, x_cvxpy>=0, x_cvxpy<=1]\n",
    "\n",
    "# formulate problem\n",
    "prob_cvxpy = cp.Problem(objective, constraints)\n",
    "\n",
    "# solve\n",
    "prob_cvxpy.solve()\n",
    "\n",
    "print(\"Cvxpy objective value: \", prob_cvxpy.objective.value, \"\\nCvxpy x: \", x_cvxpy.value)\n",
    "\n",
    "# assert x values are equal\n",
    "npt.assert_allclose(x_box.value, x_cvxpy.value, rtol=RTOL, atol=ATOL)\n"
   ]
  },
  {
   "cell_type": "markdown",
   "metadata": {},
   "source": [
    "#### Example 3: Multiple uncertain constraints, polyhedral uncertainty\n",
    "We solve the problem\n",
    "$$\n",
    "\\begin{array}{ll}\n",
    "\\text{minimize} & c^Tx\\\\\n",
    "\\text{subject to}  & (P_1u + a)^Tx  \\leq  10\\\\\n",
    "& (P_2u)^Tx  \\leq  5\\\\\n",
    "& x \\leq 5,\n",
    "\\end{array}\n",
    "$$\n",
    "where $c$, $P_1$, $P_2$, and $a$ are constants, and $u$ is the uncertain parameter from a polyhedral uncertainty set"
   ]
  },
  {
   "cell_type": "code",
   "execution_count": 11,
   "metadata": {},
   "outputs": [
    {
     "name": "stdout",
     "output_type": "stream",
     "text": [
      "LRO objective value:  -8.205693129508091 \n",
      "LRO x:  [  5.           5.           4.24189032 -16.76091997]\n"
     ]
    }
   ],
   "source": [
    "#restate the ellipsoidal set \n",
    "D =  np.vstack((np.eye(m), -2*np.eye(m)))\n",
    "d = np.concatenate((0.1*np.ones(m), 0.1*np.ones(m)))\n",
    "poly_u = lro.UncertainParameter(m, \n",
    "                                uncertainty_set = lro.Polyhedral(\n",
    "                                                        D = D, \n",
    "                                                        d = d))\n",
    "n = 4\n",
    "# formulate cvxpy variable\n",
    "x_r = cp.Variable(n)\n",
    "\n",
    "# formulate problem constants\n",
    "P1 = 0.5 * np.eye(m)[:n, :]\n",
    "P2 = 3*np.random.rand(n,m)\n",
    "a = 0.1 * np.random.rand(n)\n",
    "c = np.random.rand(n)\n",
    "\n",
    "# formulate objective\n",
    "objective = cp.Minimize(-c@x_r)\n",
    "\n",
    "# formulate constraints\n",
    "constraints = [(P1@poly_u +a)@ x_r <=10, x_r<=5]\n",
    "constraints += [(P2@poly_u)@ x_r <= 5]\n",
    "\n",
    "# formulate Robust Problem\n",
    "prob_robust = lro.RobustProblem(objective, constraints)\n",
    "\n",
    "# solve\n",
    "\n",
    "# solve\n",
    "prob_robust.solve()\n",
    "print(\"LRO objective value: \", prob_robust.objective.value, \"\\nLRO x: \", x_r.value)"
   ]
  },
  {
   "cell_type": "markdown",
   "metadata": {},
   "source": [
    "We compare it with its direct reformulation, where each uncertain constraint is treated independently,\n",
    "$$\n",
    "\\begin{array}{ll}\n",
    "\\text{minimize} & c^Tx\\\\\n",
    "\\text{subject to}  & a^Tx + w_1^Td  \\leq  10\\\\\n",
    "& w_1^TD = P_1^Tx\\\\\n",
    "& w_2^Td  \\leq  5\\\\\n",
    "& w_2^TD = P_2^Tx\\\\\n",
    "& w_1, w_2 \\geq 0\\\\\n",
    "& x \\leq 5,\n",
    "\\end{array}\n",
    "$$\n",
    "where $w_1$, $w_2$ are new variables introduced."
   ]
  },
  {
   "cell_type": "code",
   "execution_count": 12,
   "metadata": {},
   "outputs": [
    {
     "name": "stdout",
     "output_type": "stream",
     "text": [
      "Cvxpy objective value:  -8.205693129519124 \n",
      "Cvxpy x:  [  5.           5.           4.24189032 -16.76091997]\n"
     ]
    }
   ],
   "source": [
    "# formulate using cvxpy\n",
    "x_cvxpy = cp.Variable(n)\n",
    "w1 = cp.Variable(2*m)\n",
    "w2 = cp.Variable(2*m)\n",
    "# formulate objective\n",
    "objective = cp.Minimize(-c@x_cvxpy)\n",
    "\n",
    "# formulate constraints\n",
    "constraints = [a@x_cvxpy + w1@d <= 10]\n",
    "constraints += [w1@D == P1.T@x_cvxpy]\n",
    "constraints += [w2@d <= 5]\n",
    "constraints += [w2@D == P2.T@x_cvxpy]\n",
    "constraints += [w1>=0, w2 >= 0, x_cvxpy <=5]\n",
    "# formulate Robust Problem\n",
    "prob_cvxpy = cp.Problem(objective, constraints)\n",
    "\n",
    "# solve\n",
    "prob_cvxpy.solve()\n",
    "print(\"Cvxpy objective value: \", prob_cvxpy.objective.value, \"\\nCvxpy x: \", x_cvxpy.value)\n",
    "\n",
    "# assert x values are equal\n",
    "npt.assert_allclose(x_r.value, x_cvxpy.value, rtol=RTOL, atol=ATOL)"
   ]
  },
  {
   "cell_type": "markdown",
   "metadata": {},
   "source": [
    "#### Example 4: Direct comparison constraints, budget uncertainty\n",
    "We solve the problem\n",
    "$$\n",
    "\\begin{array}{ll}\n",
    "\\text{minimize} & c^Tx\\\\\n",
    "\\text{subject to}  & (Pu + a)^Tx  \\leq  10\\\\\n",
    "& x \\geq P_1u,\n",
    "\\end{array}\n",
    "$$\n",
    "where $c$, $P$,and $a$ are constants, and $u$ is the uncertain parameter from a budet uncertainty set. \n",
    "We can include constraints that relates directly the values of $x$ and $u$, as in the second constraint."
   ]
  },
  {
   "cell_type": "code",
   "execution_count": 13,
   "metadata": {},
   "outputs": [
    {
     "name": "stdout",
     "output_type": "stream",
     "text": [
      "LRO objective value:  5.9025048550504655 \n",
      "LRO x:  [2.95129634 2.61893308 2.80418139 2.82269582]\n"
     ]
    }
   ],
   "source": [
    "#restate the ellipsoidal set\n",
    "budget_u = lro.UncertainParameter(m, \n",
    "                                  uncertainty_set = lro.Budget(rho1=2., \n",
    "                                                               rho2 = 1., A1 = np.eye(m), A2 = np.eye(m)))\n",
    "n = 4\n",
    "# formulate cvxpy variable\n",
    "x_r = cp.Variable(n)\n",
    "\n",
    "# formulate problem constants\n",
    "P = 3. * np.eye(m)[:n, :]\n",
    "P1 = 3*np.random.rand(n,m)\n",
    "a = 0.1 * np.random.rand(n)\n",
    "c = np.random.rand(n)\n",
    "\n",
    "# formulate objective\n",
    "objective = cp.Minimize(c@x_r)\n",
    "\n",
    "# formulate constraints\n",
    "constraints = [(P@budget_u +a)@ x_r <= 10]\n",
    "constraints += [x_r >= P1@budget_u]\n",
    "\n",
    "# formulate Robust Problem\n",
    "prob_robust = lro.RobustProblem(objective, constraints)\n",
    "\n",
    "# solve\n",
    "prob_robust.solve()\n",
    "print(\"LRO objective value: \", prob_robust.objective.value, \"\\nLRO x: \", x_r.value)\n"
   ]
  },
  {
   "cell_type": "markdown",
   "metadata": {},
   "source": [
    "We compare this with its direct reformulation,\n",
    "$$\n",
    "\\begin{array}{ll}\n",
    "\\text{minimize} & c^Tx\\\\\n",
    "\\text{subject to}  & a^Tx + \\rho_1\\|y\\|_1 + \\rho_2\\|P^Tx - y\\|_\\infty  \\leq  10\\\\\n",
    "& -x_i + \\rho_1\\|z_i\\|_1 + \\rho_2\\|(P_1^T)_i - z_i\\|_\\infty \\leq 0, \\quad i = 1,\\dots,n\n",
    "\\end{array}\n",
    "$$\n",
    "where $(P_1^T)_i$ is the $i$'th row of $P_1$."
   ]
  },
  {
   "cell_type": "code",
   "execution_count": 14,
   "metadata": {},
   "outputs": [
    {
     "name": "stdout",
     "output_type": "stream",
     "text": [
      "Cvxpy objective value:  5.902504854554975 \n",
      "Cvxpy x:  [2.95129634 2.61893308 2.80418139 2.82269581]\n"
     ]
    }
   ],
   "source": [
    "# formulate cvxpy variables\n",
    "x_cvxpy = cp.Variable(n)\n",
    "y = cp.Variable(m)\n",
    "z = cp.Variable((n,m))\n",
    "\n",
    "# formulate objective\n",
    "objective = cp.Minimize(c@x_cvxpy)\n",
    "\n",
    "# formulate constraints\n",
    "constraints = [a@x_cvxpy + 2*cp.norm(y,1) + cp.norm(P.T@x_cvxpy-y,np.inf) <= 10]\n",
    "for i in range(n):\n",
    "  constraints += [-x_cvxpy[i] + 2*cp.norm(z[i],1) + cp.norm(P1.T@(np.eye(n)[i]) - z[i],np.inf) <= 0]\n",
    "\n",
    "# formulate Robust Problem\n",
    "prob_cvxpy = cp.Problem(objective, constraints)\n",
    "\n",
    "# solve\n",
    "prob_cvxpy.solve()\n",
    "print(\"Cvxpy objective value: \", prob_cvxpy.objective.value, \"\\nCvxpy x: \", x_cvxpy.value)\n",
    "\n",
    "# assert x values are equal\n",
    "npt.assert_allclose(x_r.value, x_cvxpy.value, rtol=RTOL, atol=ATOL)\n"
   ]
  },
  {
   "cell_type": "markdown",
   "metadata": {},
   "source": [
    "#### Example 5: Quadratic uncertainty, ellipsoidal set\n",
    "We solve the problem\n",
    "$$\n",
    "\\begin{array}{ll}\n",
    "\\text{minimize} & \\tau\\\\\n",
    "\\text{subject to}  & -(1/2)\\sum_{i=1}^n (u^TP_iu)x_i  \\leq  \\tau\\\\\n",
    "& \\mathbf{1}^Tx = 3\\\\\n",
    "& x \\geq 0, \\quad x \\leq 1\n",
    "\\end{array}\n",
    "$$\n",
    "where each $P_i\\in \\mathbf{R}^{n\\times n}$ is a symmetric positive definite matrix, and $u$ is the uncertain parameter from an ellipsoidal uncertainty set. "
   ]
  },
  {
   "cell_type": "code",
   "execution_count": 15,
   "metadata": {},
   "outputs": [
    {
     "name": "stdout",
     "output_type": "stream",
     "text": [
      "LRO objective value:  -2.001521732684513e-10 \n",
      "LRO x:  [0.79877228 0.80135493 0.80078944 0.79878038 0.80030297]\n"
     ]
    }
   ],
   "source": [
    "# formulate uncertainty set\n",
    "n = 5\n",
    "u = lro.UncertainParameter(n,\n",
    "                        uncertainty_set=lro.Ellipsoidal(p=2,\n",
    "                                                    rho=0.5))\n",
    "# formulate cvxpy variables\n",
    "x_r = cp.Variable(n)\n",
    "t = cp.Variable()\n",
    "\n",
    "# formulate problem constants\n",
    "P = {}\n",
    "P_inv = {}\n",
    "for i in range(n):\n",
    "    P[i] = datasets.make_spd_matrix(n, random_state=i)\n",
    "    P_inv[i] = sc.linalg.sqrtm(np.linalg.inv(P[i]))\n",
    "\n",
    "# formulate objective\n",
    "objective = cp.Minimize(t)\n",
    "\n",
    "# formulate constraints \n",
    "constraints = [cp.sum([-0.5*lro.quad_form(u, P[i]*x_r[i]) for i in range(n)]) <= t]\n",
    "constraints += [cp.sum(x_r)==4]\n",
    "constraints += [x_r >= 0.6, x_r <= 1]\n",
    "\n",
    "# formulate Robust Problem\n",
    "prob_robust = lro.RobustProblem(objective, constraints)\n",
    "\n",
    "# solve\n",
    "prob_robust.solve()\n",
    "print(\"LRO objective value: \", prob_robust.objective.value, \"\\nLRO x: \", x_r.value)"
   ]
  },
  {
   "cell_type": "markdown",
   "metadata": {},
   "source": [
    "We compare this with the direct reformulation,\n",
    "\\begin{equation}\n",
    "\t\\begin{array}{lll}\n",
    "\t\t&\\text{minimize} & \\tau \\\\\n",
    "\t\t&\\text{subject to} & (1/2)\\sum_{i=1}^n (z_i^TP_i^{-1}z_i)/x_i + \\rho\\|z\\|_2 \\le \\tau\\\\\n",
    "\t\t&& \\sum_{i=1}^n z_i = z,\\\\\n",
    "&& \\mathbf{1}^Tx = 3\\\\\n",
    "&& x \\geq 0, \\quad x \\leq 1\n",
    "\t\\end{array}\n",
    "\\end{equation}\n",
    "where we have $\\gamma \\in \\mathbf{R}^m, z \\in \\mathbf{R}^n, z_i \\in \\mathbf{R}^n$, $i = 1,\\dots,n$, as auxiliary variables. "
   ]
  },
  {
   "cell_type": "code",
   "execution_count": 16,
   "metadata": {},
   "outputs": [
    {
     "name": "stdout",
     "output_type": "stream",
     "text": [
      "Cvxpy objective value:  -2.1195914161480326e-10 \n",
      "Cvxpy x:  [0.79880041 0.80132141 0.80077192 0.79880835 0.80029791]\n"
     ]
    }
   ],
   "source": [
    "# formulate using cvxpy\n",
    "x_cvxpy = cp.Variable(n)\n",
    "t = cp.Variable()\n",
    "z = cp.Variable(n)\n",
    "y = cp.Variable((n,n))\n",
    "gam = cp.Variable(n)\n",
    "\n",
    "# formulate objective\n",
    "objective = cp.Minimize(t)\n",
    "\n",
    "# formulate constraints\n",
    "constraints = [cp.sum([cp.quad_over_lin(y[i]@P_inv[i],2*x_cvxpy[i]) for i in range(n)]) + 0.5*cp.norm(z,2) <= t]\n",
    "constraints += [cp.sum(y, axis = 1) == z]\n",
    "constraints += [cp.sum(x_cvxpy) == 4]\n",
    "constraints += [x_cvxpy >= 0.6, x_cvxpy <= 1]\n",
    "\n",
    "# formulate problem \n",
    "prob_cvxpy = cp.Problem(objective, constraints)\n",
    "prob_cvxpy.solve()\n",
    "print(\"Cvxpy objective value: \", prob_cvxpy.objective.value, \"\\nCvxpy x: \", x_cvxpy.value)\n",
    "\n",
    "# assert x values are equal\n",
    "npt.assert_allclose(x_r.value, x_cvxpy.value, rtol=RTOL, atol=ATOL)\n"
   ]
  },
  {
   "cell_type": "markdown",
   "metadata": {},
   "source": [
    "#### Example 6: Max of affine uncertainty, ellipsoidal set\n",
    "We solve the problem\n",
    "$$\n",
    "\\begin{array}{ll}\n",
    "\t\t\\text{minimize} & \\tau \\\\\n",
    "\t\t\\text{subject to } & \\max\\{a^Tx - d^Tx, a^Tx - d^T(3u+3)\\} \\leq \\tau,\\\\\n",
    "\\end{array}\n",
    "$$\n",
    "where $a$ and $d$ are constants, and $u$ is the uncertain parameter from an ellipsoidal uncertainty set. "
   ]
  },
  {
   "cell_type": "code",
   "execution_count": 17,
   "metadata": {},
   "outputs": [
    {
     "name": "stdout",
     "output_type": "stream",
     "text": [
      "LRO objective value:  -19.854671618524435 \n",
      "LRO x:  [3.43133489e-09 5.77490507e-09 5.04526768e-09 2.19335235e+01\n",
      " 3.90264379e-09]\n"
     ]
    }
   ],
   "source": [
    "# formulate uncertainty set\n",
    "n = 5\n",
    "u = lro.UncertainParameter(n,\n",
    "                        uncertainty_set=lro.Ellipsoidal(p=2,\n",
    "                                                    rho=1))\n",
    "# formulate cvxpy variables\n",
    "x_r = cp.Variable(n)\n",
    "t = cp.Variable()\n",
    "\n",
    "# formulate constants\n",
    "a = npr.uniform(1,4,n)\n",
    "d = a + npr.uniform(2,5,n)\n",
    "\n",
    "# formulate objective\n",
    "objective = cp.Minimize(t)\n",
    "\n",
    "# formulate constraints \n",
    "constraints = [cp.maximum(a@x_r - d@x_r, a@x_r - d@(3*u+3)) <= t]\n",
    "constraints += [x_r >= 0]\n",
    "\n",
    "\n",
    "# formulate Robust Problem\n",
    "prob_robust = lro.RobustProblem(objective, constraints)\n",
    "\n",
    "# solve\n",
    "prob_robust.solve()\n",
    "print(\"LRO objective value: \", prob_robust.objective.value, \"\\nLRO x: \", x_r.value)"
   ]
  },
  {
   "cell_type": "code",
   "execution_count": 18,
   "metadata": {},
   "outputs": [
    {
     "name": "stdout",
     "output_type": "stream",
     "text": [
      "Cvxpy objective value:  -19.85467161856472 \n",
      "Cvxpy x:  [ 6.32813757e-10  7.01836559e-11 -9.33471892e-10  2.19335236e+01\n",
      "  2.39519659e-09]\n"
     ]
    }
   ],
   "source": [
    "# formulate using cvxpy\n",
    "x_cvxpy = cp.Variable(n)\n",
    "t = cp.Variable()\n",
    "\n",
    "# formulate objective\n",
    "objective = cp.Minimize(t)\n",
    "\n",
    "# formulate constraints\n",
    "constraints = [a@x_cvxpy -d@x_cvxpy + cp.norm(3*d,2) <= t]\n",
    "constraints += [a@x_cvxpy -3*d@np.ones(n) + cp.norm(3*d,2) <= t]\n",
    "constraints += [x_cvxpy >= 0]\n",
    "\n",
    "# formulate problem \n",
    "prob_cvxpy = cp.Problem(objective, constraints)\n",
    "prob_cvxpy.solve()\n",
    "print(\"Cvxpy objective value: \", prob_cvxpy.objective.value, \"\\nCvxpy x: \", x_cvxpy.value)\n",
    "\n",
    "# assert x values are equal\n",
    "npt.assert_allclose(x_r.value, x_cvxpy.value, rtol=RTOL, atol=ATOL)\n"
   ]
  },
  {
   "cell_type": "code",
   "execution_count": null,
   "metadata": {},
   "outputs": [],
   "source": []
  }
 ],
 "metadata": {
  "kernelspec": {
   "display_name": "Python 3.10.6 ('lro')",
   "language": "python",
   "name": "python3"
  },
  "language_info": {
   "codemirror_mode": {
    "name": "ipython",
    "version": 3
   },
   "file_extension": ".py",
   "mimetype": "text/x-python",
   "name": "python",
   "nbconvert_exporter": "python",
   "pygments_lexer": "ipython3",
   "version": "3.10.6"
  },
  "vscode": {
   "interpreter": {
    "hash": "e3ed6dde042e78d86e091991aef4e6276872e8fbcb7e1edcb6e9eacd7157f213"
   }
  }
 },
 "nbformat": 4,
 "nbformat_minor": 2
}
