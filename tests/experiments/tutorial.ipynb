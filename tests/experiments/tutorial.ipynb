{
 "cells": [
  {
   "cell_type": "code",
   "execution_count": 1,
   "metadata": {},
   "outputs": [],
   "source": [
    "import cvxpy as cp\n",
    "import numpy as np\n",
    "import numpy.random as npr\n",
    "import torch\n",
    "import pandas as pd\n",
    "import lro\n",
    "import matplotlib.pyplot as plt\n",
    "import warnings\n",
    "warnings.filterwarnings(\"ignore\")\n",
    "plt.rcParams.update({\n",
    "    \"text.usetex\":True,\n",
    "    \n",
    "    \"font.size\":18,\n",
    "    \"font.family\": \"serif\"\n",
    "})\n",
    "colors = [\"tab:blue\", \"tab:green\", \"tab:orange\", \n",
    "          \"tab:red\", \"tab:purple\", \"tab:brown\", \"tab:pink\", \"tab:grey\", \"tab:olive\"]"
   ]
  },
  {
   "cell_type": "markdown",
   "metadata": {},
   "source": [
    "# Deterministic Uncertainty Sets"
   ]
  },
  {
   "cell_type": "markdown",
   "metadata": {},
   "source": [
    "### Formulating the uncertainty set"
   ]
  },
  {
   "cell_type": "markdown",
   "metadata": {},
   "source": [
    "The first step is to formulate the uncertainty set. There are multiple options, with their associated input parameters\n",
    "\n",
    "Box uncertainty: $ \\{ u \\mid\\| u \\|_\\infty \\leq \\rho \\}$ \n",
    "- $\\rho$ : float, optional  \n",
    "  * Box scaling. Default 1.0.\n",
    "- center : np.array, optional  \n",
    "  * An array of dimension n, n the dimension of the uncertanty.\n",
    "        Translation of the center of the box. If lengths is passed but\n",
    "        not center it defaults to an array of zeros.\n",
    "- side : np.array, optional  \n",
    "  * An array of dimension n, n the dimension of the uncertanty.\n",
    "        Length of each side of the box. If center is passed but side not\n",
    "        it defaults to an array of 2.\n",
    "\n",
    "\n",
    "Ellipsoidal uncertainty: $\\{u \\mid \\| u \\|_p \\leq \\rho \\}$ \n",
    "- $\\rho$ : float, optional  \n",
    "  * Box scaling. Default 1.0. \n",
    "- $p$ : integer, optional  \n",
    "  * Order of the norm. Default 2.\n",
    "\n",
    "Budget uncertainty: $\\{u \\mid \\| u \\|_\\infty \\leq \\rho_1, \\| u \\|_1 \\leq \\rho_2\\}$ \n",
    "- $\\rho_1$ : float, optional  \n",
    "  * Box scaling. Default 1.0. \n",
    "- $\\rho_2$ : float, optional\n",
    "  * 1-norm scaling. Default 1.0.\n",
    "\n",
    "\n",
    "Polyhedral uncertainty: $\\{ u \\mid Du \\leq d\\}$\n",
    "- $D$ : np.array  \n",
    "- $d$ : np.array  \n"
   ]
  },
  {
   "cell_type": "code",
   "execution_count": 2,
   "metadata": {},
   "outputs": [],
   "source": [
    "# size of uncertain parameter\n",
    "m = 5\n",
    "\n",
    "# Box uncertainty set example\n",
    "box_unc = lro.Box(center=np.zeros(m), side = np.ones(m), rho=2.)\n",
    "\n",
    "# Ellipsoildat uncertainty set example\n",
    "ellip_unc = lro.Ellipsoidal(p = 2, rho=2.)\n",
    "\n",
    "# Budget uncertainty set example\n",
    "budget_unc = lro.Budget(rho1=2., rho2 = 1.)\n",
    "\n",
    "# Polyhedral uncertainty set example\n",
    "poly_unc = lro.Polyhedral(D = np.ones((3,5)), d = np.array([1,2,3]))"
   ]
  },
  {
   "cell_type": "markdown",
   "metadata": {},
   "source": [
    "### Formulating the uncertain parameter"
   ]
  },
  {
   "cell_type": "markdown",
   "metadata": {},
   "source": [
    "Next, we formulate the uncertain parameter, which takes in the size of the uncertainty and an uncertainty set as parameters."
   ]
  },
  {
   "cell_type": "code",
   "execution_count": 3,
   "metadata": {},
   "outputs": [],
   "source": [
    "# Box uncertainty set example\n",
    "box_u = lro.UncertainParameter(m, \n",
    "                              uncertainty_set = lro.Box(center=np.zeros(m),\n",
    "                                                        side=np.ones(m), \n",
    "                                                        rho=2.))\n",
    "\n",
    "# Ellipsoidal uncertainty set example\n",
    "ellip_u = lro.UncertainParameter(m, uncertainty_set = ellip_unc)\n",
    "\n",
    "# Budget uncertainty set example\n",
    "budget_u = lro.UncertainParameter(m, uncertainty_set = budget_unc)\n",
    "\n",
    "# Polyhedral uncertainty set example\n",
    "poly_u = lro.UncertainParameter(m, uncertainty_set = poly_unc)"
   ]
  },
  {
   "cell_type": "markdown",
   "metadata": {},
   "source": [
    "###  Formulating the Robust Problem\n",
    "\n",
    "We can now fomulate the Robust Problem, treating the uncertain parameter as a regular parameter."
   ]
  },
  {
   "cell_type": "markdown",
   "metadata": {},
   "source": [
    "formlate in markdown"
   ]
  },
  {
   "cell_type": "code",
   "execution_count": 4,
   "metadata": {},
   "outputs": [
    {
     "data": {
      "text/plain": [
       "-1.214858638262725"
      ]
     },
     "execution_count": 4,
     "metadata": {},
     "output_type": "execute_result"
    }
   ],
   "source": [
    "# A simple example\n",
    "n = 4\n",
    "\n",
    "# formulate cvxpy variable\n",
    "x = cp.Variable(4)\n",
    "\n",
    "# formulate problem constants\n",
    "P = 3. * np.eye(m)[:n, :]\n",
    "a = 0.1 * np.random.rand(n)\n",
    "c = np.random.rand(n)\n",
    "\n",
    "# formulate objective\n",
    "objective = cp.Minimize(c@x)\n",
    "\n",
    "# formulate constraints\n",
    "constraints = [(P@ellip_u +a)@ x <= 10]\n",
    "\n",
    "# formulate Robust Problem\n",
    "prob_robust = lro.RobustProblem(objective, constraints)\n",
    "\n",
    "# solve\n",
    "prob_robust.solve()"
   ]
  },
  {
   "cell_type": "markdown",
   "metadata": {},
   "source": [
    "# Learned Uncertainty Sets"
   ]
  },
  {
   "cell_type": "markdown",
   "metadata": {},
   "source": [
    "### Formulating the uncertainty set"
   ]
  },
  {
   "cell_type": "markdown",
   "metadata": {},
   "source": [
    "We now formulate the uncertainty set slightly differently, where data and a loss function is passed as parameters instead of the uncertainty set parameters. The new parameters for the uncertainty set, $A$ and $b$, will be trained through differentiable optimization. \n",
    "\n",
    "Box uncertainty: $ \\{ u \\mid\\| Au - b \\|_\\infty \\leq 1 \\}$ \n",
    "- data : np.array  \n",
    "  * An array of uncertainty realizations, where each row is one realization.\n",
    "- loss : function\n",
    "  * The loss function used to train the uncertainty set. \n",
    "\n",
    "Ellipsoidal uncertainty: $\\{u \\mid \\| Au - b \\|_p \\leq 1 \\}$ \n",
    "- $p$ : integer, optional  \n",
    "  * Order of the norm. Default 2.\n",
    "- data : np.array  \n",
    "  * An array of uncertainty realizations, where each row is one realization.\n",
    "- loss : function\n",
    "  * The loss function used to train the uncertainty set. \n",
    "\n",
    "\n",
    "Budget uncertainty: \n",
    "1. train the box portion only:  $\\{u \\mid \\| Au - b \\|_\\infty \\leq 1, \\| u \\|_1 \\leq \\rho_2\\}$ \n",
    "2. train the 1-norm portion only: $\\{u \\mid \\| u \\|_\\infty \\leq \\rho_1, \\| Au - b \\|_1 \\leq 1\\}$ \n",
    "- train_box: boolean, optional\n",
    "  * If True, train the box portion only. Default True. \n",
    "- $\\rho_1$ : float, optional\n",
    "  * Box scaling. Default 1.0.\n",
    "- $\\rho_2$ : float, optional\n",
    "  * 1-norm scaling. Default 1.0.\n",
    "- data : np.array  \n",
    "  * An array of uncertainty realizations, where each row is one realization.\n",
    "- loss : function\n",
    "  * The loss function used to train the uncertainty set. \n"
   ]
  },
  {
   "cell_type": "markdown",
   "metadata": {},
   "source": [
    "### Formulating the loss function"
   ]
  },
  {
   "cell_type": "markdown",
   "metadata": {},
   "source": [
    "The loss function passed into the uncertainty set must be a function that returns torch tensors with gradient information. The function must take in as inputs all the variables defined in the Robust Problem, as well as the data used to evaluate the loss. There may also be other inputs to the function, depending on the type of loss.  \n",
    "- Violation loss  \n",
    "  * inputs: \n",
    "    * *vars: all the variables of the Robust Problem.\n",
    "    * data: np.array.\n",
    "    * lmbda: float, the scale for the constraint violations.\n",
    "  * outputs:\n",
    "    * the violation loss as a torch tensor: the Robust Problem's objective function + the sum of constraint violations, scaled by lmbda.\n",
    "    * the Robust Problem's objective function as a torch tensor."
   ]
  },
  {
   "cell_type": "markdown",
   "metadata": {},
   "source": [
    "### Training the uncertainty set\n",
    "\n",
    "To train the uncertainty set, after setting up the robust problem, call `problem.train()`, with parameters specified below:\n",
    "\n",
    "* eps: boolean, optional  \n",
    "  * If True, train only $\\epsilon$, where $A = \\epsilon I, b = \\epsilon \\bar{d}$, where $\\bar{d}$ is the centroid of the training data. Default False. \n",
    "* step: integer, optional  \n",
    "  * The total number of gradient steps performed. Default 45.\n",
    "* lr: float, optional\n",
    "  * The learning rate of gradient descent. Default 0.01. \n",
    "* momentum: float between 0 and 1, optional  \n",
    "  * The momentum for gradient descent. Default 0.8.\n",
    "* optimizer: str, optional  \n",
    "  * The optimizer to use tor the descent algorithm. Default \"SGD\".\n",
    "* initeps: float, optional\n",
    "  * The $\\epsilon$ to initialize $A$ and $b$, if passed. If not passed, $A$ will be initialized as the inverse square root of the covariance of the data, and $b$ will be initialized as $\\bar{d}$.\n",
    "\n",
    "The function will output a pandas DataFrame, with a row for each iteration. The columns are:\n",
    "* \"step\": integer  \n",
    "  * The iteration number\n",
    "* \"Opt_val\": float  \n",
    "  * The objective value of the Robust Problem\n",
    "* \"Loss_val\": float  \n",
    "  * The value of the loss function applied to the training data\n",
    "* \"Eval_val\": float  \n",
    "  * The value of the loss function applied to the evaluation data\n",
    "* \"A_norm\": float  \n",
    "  * When eps = False, the 2-norm of the $A$ matrix. When eps = True, the $\\epsilon$ value."
   ]
  },
  {
   "cell_type": "markdown",
   "metadata": {},
   "source": [
    "#### Simple Portfolio Example"
   ]
  },
  {
   "cell_type": "markdown",
   "metadata": {},
   "source": [
    "Consider the simple portfolio problem where we want to select a portfolio of stocks that maximizes returns. The Robust Problem is formulated as\n",
    "$$\n",
    "\\begin{array}{ll}\n",
    "\\text{minimize} & \\tau\\\\\n",
    "\\text{subject to}  & -u^Tx \\leq  \\tau\\\\\n",
    "& \\mathbf{1}^Tx = 1, x \\geq 0, x \\leq 1,\n",
    "\\end{array}\n",
    "$$\n",
    "where $u$ is the uncertain parameter. \n",
    "\n",
    "We train an ellipsoidal uncertainty set with $p = 2$, and consider the violation loss $\\tau + \\lambda(-u^Tx - \\tau)$, where $\\lambda = 1$ is the scaling for the sum of violations. "
   ]
  },
  {
   "cell_type": "code",
   "execution_count": 5,
   "metadata": {},
   "outputs": [],
   "source": [
    "# The violation loss function, in torch tensors\n",
    "def violation_loss(t_soln, x_soln, data, lmbda=1):\n",
    "    return t_soln + lmbda * torch.mean(\n",
    "        torch.maximum(-data @ x_soln - t_soln, torch.tensor(0., requires_grad=True))), t_soln"
   ]
  },
  {
   "cell_type": "code",
   "execution_count": 6,
   "metadata": {},
   "outputs": [],
   "source": [
    "# Setup the problem data\n",
    "torch.seed()\n",
    "sp500 = pd.read_csv('stock_data/prices_sp500.csv').to_numpy()\n",
    "num_stocks = 100\n",
    "num_rets = 500\n",
    "npr.seed(1)\n",
    "stock_idxs = np.random.choice(sp500.shape[1], num_stocks, replace=False)\n",
    "sp_prices = sp500[:num_rets+1, stock_idxs]\n",
    "sp_rets = (sp_prices[1:, :] - sp_prices[:-1, :])/sp_prices[1:, :]\n",
    "sp_rets = sp_rets + 0.05"
   ]
  },
  {
   "cell_type": "code",
   "execution_count": 7,
   "metadata": {},
   "outputs": [],
   "source": [
    "def normal_returns(m, N):\n",
    "    R = np.vstack([np.random.normal(\n",
    "        i*0.03, np.sqrt((0.02**2+(i*0.025)**2)), N) for i in range(1, m+1)])\n",
    "    return (R.transpose())\n",
    "def normal_returns1(m, N):\n",
    "    R = np.vstack([np.random.normal(\n",
    "        i*0.05, np.sqrt((0.01**2+(i*0.035)**2)), N) for i in range(1, m+1)])\n",
    "    return (R.transpose())\n",
    "d1 = normal_returns(100,250)\n",
    "d2 = normal_returns1(100,250)\n",
    "data = np.concatenate((d1,d2))"
   ]
  },
  {
   "cell_type": "code",
   "execution_count": 11,
   "metadata": {},
   "outputs": [
    {
     "data": {
      "image/png": "[encoded data removed]",
      "text/plain": [
       "<Figure size 900x500 with 1 Axes>"
      ]
     },
     "metadata": {},
     "output_type": "display_data"
    }
   ],
   "source": [
    "# Formulate the uncertainty set and uncertain parameter\n",
    "unc_set = lro.Ellipsoidal(data=data, loss=violation_loss)\n",
    "u = lro.UncertainParameter(num_stocks, uncertainty_set=unc_set)\n",
    "\n",
    "# Formulate the Robust Problem\n",
    "x = cp.Variable(num_stocks)\n",
    "t = cp.Variable()\n",
    "\n",
    "objective = cp.Minimize(t)\n",
    "cons = [-u @ x <= t]\n",
    "cons += [cp.sum(x) == 1, x >= 0]\n",
    "\n",
    "prob_robust = lro.RobustProblem(objective, cons)\n",
    "\n",
    "# Train only epsilon\n",
    "df = prob_robust.train(eps=True, lr=0.1, step=100, momentum = 0.8, optimizer = \"SGD\", initeps = 1)\n",
    "\n",
    "# Train A and b\n",
    "df1= prob_robust.train(lr=0.8, step=100, momentum = 0.8, optimizer = \"SGD\")\n",
    "\n",
    "# Grid search epsilno\n",
    "dfgrid= prob_robust.grid(epslst = np.linspace(0.1, 5, 20))\n",
    "\n",
    "# Plot results\n",
    "df.to_csv('df_eps.csv')\n",
    "df1.to_csv('df_R.csv')\n",
    "dfgrid.to_csv('df_grid.csv')\n",
    "plt.figure(figsize=(9, 5))\n",
    "plt.plot(df['step'], df['Loss_val'], color=\"tab:blue\", label=r\"$\\epsilon$ training\")\n",
    "plt.plot(df['step'], df['Eval_val'], linestyle='--', color=\"tab:blue\", label=r\"$\\epsilon$ testing\")\n",
    "plt.plot(df1['step'], df1['Loss_val'], color=\"tab:orange\", label=\"Reshape training\")\n",
    "plt.plot(df1['step'], df1['Eval_val'], linestyle='--', color=\"tab:orange\", label=\"Reshape testing\")\n",
    "plt.legend()\n",
    "plt.xlabel(\"Iterations\")\n",
    "plt.ylabel(\"Training and Testing Loss\")\n",
    "plt.savefig(\"plot.pdf\")\n"
   ]
  },
  {
   "cell_type": "code",
   "execution_count": 12,
   "metadata": {},
   "outputs": [
    {
     "data": {
      "image/png": "[encoded data removed]",
      "text/plain": [
       "<Figure size 900x500 with 1 Axes>"
      ]
     },
     "metadata": {},
     "output_type": "display_data"
    }
   ],
   "source": [
    "plt.figure(figsize=(9, 5))\n",
    "\n",
    "styles = [\"s\",'o',\"^\",\"v\",\"<\",\">\",\"o\",'s',\"^\",\"v\",\"<\",\">\"]\n",
    "j=0\n",
    "plt.plot(dfgrid[\"Eps\"], dfgrid[\"Eval_val\"], color = colors[j], linestyle='--',label=\"$\\epsilon$ grid\")\n",
    "plt.plot(df[\"A_norm\"],df[\"Eval_val\"], linestyle='-', marker=styles[j], color = \"blue\", label=\"$\\epsilon$ SGD\",alpha = 0.7)\n",
    "plt.hlines( xmin = 0.1, xmax = 5, y = np.min(df1[\"Eval_val\"]), label = \"$R$ best\", color= \"red\")\n",
    "    \n",
    "plt.xlabel(\"$\\epsilon$\")\n",
    "plt.title(\"Testing loss\")\n",
    "plt.legend(bbox_to_anchor=(1, 0.8))\n",
    "plt.savefig(\"loss_compare.pdf\")\n",
    "plt.show()"
   ]
  },
  {
   "cell_type": "code",
   "execution_count": 13,
   "metadata": {},
   "outputs": [
    {
     "data": {
      "text/html": [
       "<div>\n",
       "<style scoped>\n",
       "    .dataframe tbody tr th:only-of-type {\n",
       "        vertical-align: middle;\n",
       "    }\n",
       "\n",
       "    .dataframe tbody tr th {\n",
       "        vertical-align: top;\n",
       "    }\n",
       "\n",
       "    .dataframe thead th {\n",
       "        text-align: right;\n",
       "    }\n",
       "</style>\n",
       "<table border=\"1\" class=\"dataframe\">\n",
       "  <thead>\n",
       "    <tr style=\"text-align: right;\">\n",
       "      <th></th>\n",
       "      <th>step</th>\n",
       "      <th>Opt_val</th>\n",
       "      <th>Eval_val</th>\n",
       "      <th>Loss_val</th>\n",
       "      <th>A_norm</th>\n",
       "    </tr>\n",
       "  </thead>\n",
       "  <tbody>\n",
       "    <tr>\n",
       "      <th>0</th>\n",
       "      <td>0</td>\n",
       "      <td>-3.497303</td>\n",
       "      <td>-3.109004</td>\n",
       "      <td>-3.1269</td>\n",
       "      <td>1.0</td>\n",
       "    </tr>\n",
       "    <tr>\n",
       "      <th>1</th>\n",
       "      <td>1</td>\n",
       "      <td>-4.401766</td>\n",
       "      <td>-3.491702</td>\n",
       "      <td>-3.50553</td>\n",
       "      <td>1.2209296</td>\n",
       "    </tr>\n",
       "    <tr>\n",
       "      <th>2</th>\n",
       "      <td>2</td>\n",
       "      <td>-5.628721</td>\n",
       "      <td>-3.779345</td>\n",
       "      <td>-3.760773</td>\n",
       "      <td>1.522933</td>\n",
       "    </tr>\n",
       "    <tr>\n",
       "      <th>3</th>\n",
       "      <td>3</td>\n",
       "      <td>-6.804139</td>\n",
       "      <td>-3.880533</td>\n",
       "      <td>-3.856316</td>\n",
       "      <td>1.8150833</td>\n",
       "    </tr>\n",
       "    <tr>\n",
       "      <th>4</th>\n",
       "      <td>4</td>\n",
       "      <td>-7.805257</td>\n",
       "      <td>-3.90838</td>\n",
       "      <td>-3.875616</td>\n",
       "      <td>2.0661862</td>\n",
       "    </tr>\n",
       "    <tr>\n",
       "      <th>...</th>\n",
       "      <td>...</td>\n",
       "      <td>...</td>\n",
       "      <td>...</td>\n",
       "      <td>...</td>\n",
       "      <td>...</td>\n",
       "    </tr>\n",
       "    <tr>\n",
       "      <th>95</th>\n",
       "      <td>95</td>\n",
       "      <td>-14.379596</td>\n",
       "      <td>-4.005046</td>\n",
       "      <td>-3.895698</td>\n",
       "      <td>3.732837</td>\n",
       "    </tr>\n",
       "    <tr>\n",
       "      <th>96</th>\n",
       "      <td>96</td>\n",
       "      <td>-14.40106</td>\n",
       "      <td>-4.005083</td>\n",
       "      <td>-3.895758</td>\n",
       "      <td>3.738286</td>\n",
       "    </tr>\n",
       "    <tr>\n",
       "      <th>97</th>\n",
       "      <td>97</td>\n",
       "      <td>-14.422573</td>\n",
       "      <td>-4.005121</td>\n",
       "      <td>-3.895819</td>\n",
       "      <td>3.7437472</td>\n",
       "    </tr>\n",
       "    <tr>\n",
       "      <th>98</th>\n",
       "      <td>98</td>\n",
       "      <td>-14.44415</td>\n",
       "      <td>-4.005157</td>\n",
       "      <td>-3.89588</td>\n",
       "      <td>3.7492247</td>\n",
       "    </tr>\n",
       "    <tr>\n",
       "      <th>99</th>\n",
       "      <td>99</td>\n",
       "      <td>-14.465802</td>\n",
       "      <td>-4.00519</td>\n",
       "      <td>-3.89594</td>\n",
       "      <td>3.7547212</td>\n",
       "    </tr>\n",
       "  </tbody>\n",
       "</table>\n",
       "<p>100 rows × 5 columns</p>\n",
       "</div>"
      ],
      "text/plain": [
       "   step    Opt_val  Eval_val  Loss_val     A_norm\n",
       "0     0  -3.497303 -3.109004   -3.1269        1.0\n",
       "1     1  -4.401766 -3.491702  -3.50553  1.2209296\n",
       "2     2  -5.628721 -3.779345 -3.760773   1.522933\n",
       "3     3  -6.804139 -3.880533 -3.856316  1.8150833\n",
       "4     4  -7.805257  -3.90838 -3.875616  2.0661862\n",
       "..  ...        ...       ...       ...        ...\n",
       "95   95 -14.379596 -4.005046 -3.895698   3.732837\n",
       "96   96  -14.40106 -4.005083 -3.895758   3.738286\n",
       "97   97 -14.422573 -4.005121 -3.895819  3.7437472\n",
       "98   98  -14.44415 -4.005157  -3.89588  3.7492247\n",
       "99   99 -14.465802  -4.00519  -3.89594  3.7547212\n",
       "\n",
       "[100 rows x 5 columns]"
      ]
     },
     "execution_count": 13,
     "metadata": {},
     "output_type": "execute_result"
    }
   ],
   "source": [
    "df"
   ]
  },
  {
   "cell_type": "code",
   "execution_count": null,
   "metadata": {},
   "outputs": [],
   "source": []
  }
 ],
 "metadata": {
  "interpreter": {
   "hash": "12db33b28298ca6799bcb1942ca20f6d466e8bb87ce3b49baf0601ce92209ddf"
  },
  "kernelspec": {
   "display_name": "Python 3.9.13",
   "language": "python",
   "name": "python3"
  },
  "language_info": {
   "codemirror_mode": {
    "name": "ipython",
    "version": 3
   },
   "file_extension": ".py",
   "mimetype": "text/x-python",
   "name": "python",
   "nbconvert_exporter": "python",
   "pygments_lexer": "ipython3",
   "version": "3.9.13"
  },
  "orig_nbformat": 4
 },
 "nbformat": 4,
 "nbformat_minor": 2
}
