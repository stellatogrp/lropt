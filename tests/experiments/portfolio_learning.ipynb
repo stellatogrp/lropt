{
 "cells": [
  {
   "cell_type": "code",
   "execution_count": 45,
   "id": "endless-bunch",
   "metadata": {},
   "outputs": [],
   "source": [
    "import cvxpy as cp\n",
    "import numpy as np\n",
    "import numpy.random as npr\n",
    "import torch\n",
    "import pandas as pd\n"
   ]
  },
  {
   "cell_type": "markdown",
   "id": "cardiac-turning",
   "metadata": {},
   "source": [
    "### Import Dataset and choose random stocks"
   ]
  },
  {
   "cell_type": "code",
   "execution_count": 26,
   "id": "smaller-motivation",
   "metadata": {},
   "outputs": [],
   "source": [
    "sp500 = pd.read_csv('stock_data/prices_sp500.csv').to_numpy()\n",
    "sp500_synthetic_returns = pd.read_csv('stock_data/sp500_synthetic_returns.csv').to_numpy()[:,1:]\n",
    "\n",
    "num_stocks = 100\n",
    "num_rets = 500"
   ]
  },
  {
   "cell_type": "code",
   "execution_count": 54,
   "id": "micro-visitor",
   "metadata": {},
   "outputs": [],
   "source": [
    "npr.seed(1)\n",
    "stock_idxs = np.random.choice(sp500.shape[1], num_stocks, replace=False)\n",
    "\n",
    "sp_prices = sp500[:num_rets+1, stock_idxs]\n",
    "sp_rets = (sp_prices[1:,:] - sp_prices[:-1,:])/sp_prices[1:,:]"
   ]
  },
  {
   "cell_type": "code",
   "execution_count": 56,
   "id": "southern-ceiling",
   "metadata": {},
   "outputs": [
    {
     "data": {
      "text/plain": [
       "(500, 100)"
      ]
     },
     "execution_count": 56,
     "metadata": {},
     "output_type": "execute_result"
    }
   ],
   "source": [
    "sp_rets.shape"
   ]
  },
  {
   "cell_type": "markdown",
   "id": "about-greek",
   "metadata": {},
   "source": [
    "### Create LRO problem"
   ]
  },
  {
   "cell_type": "code",
   "execution_count": 57,
   "id": "prostate-range",
   "metadata": {},
   "outputs": [
    {
     "ename": "SyntaxError",
     "evalue": "invalid syntax (1538525305.py, line 5)",
     "output_type": "error",
     "traceback": [
      "\u001b[0;36m  Input \u001b[0;32mIn [57]\u001b[0;36m\u001b[0m\n\u001b[0;31m    return  @ x_soln + lmbda * torch.mean(torch.maximum(data @ x_soln - , torch.zeros(data_dim)))\u001b[0m\n\u001b[0m            ^\u001b[0m\n\u001b[0;31mSyntaxError\u001b[0m\u001b[0;31m:\u001b[0m invalid syntax\n"
     ]
    }
   ],
   "source": [
    "torch.seed()\n",
    "\n",
    "def violation_loss(x_soln, data, lmbda=1):\n",
    "    npt.assert_equal(x_soln.shape[0], data.shape[1])\n",
    "    return  @ x_soln + lmbda * torch.mean(torch.maximum(data @ x_soln - , torch.zeros(data_dim)))\n",
    "\n",
    "unc_set = Ellipsoidal()\n",
    "u = UncertainParameter(data_dim, uncertainty_set=unc_set, data=X, loss=violation_loss)\n",
    "x = cp.Variable()\n",
    "\n",
    "objective = c @ x\n",
    "constraints = [u @ x <= b]\n",
    "\n",
    "prob_robust = RobustProblem(objective, constraints)\n",
    "prob_robust.solve(solver=SOLVER)"
   ]
  },
  {
   "cell_type": "code",
   "execution_count": 48,
   "id": "hollywood-enhancement",
   "metadata": {},
   "outputs": [],
   "source": []
  },
  {
   "cell_type": "code",
   "execution_count": 51,
   "id": "alone-register",
   "metadata": {},
   "outputs": [
    {
     "data": {
      "text/plain": [
       "torch.Size([100, 10])"
      ]
     },
     "execution_count": 51,
     "metadata": {},
     "output_type": "execute_result"
    }
   ],
   "source": []
  },
  {
   "cell_type": "code",
   "execution_count": null,
   "id": "coupled-liberty",
   "metadata": {},
   "outputs": [],
   "source": []
  }
 ],
 "metadata": {
  "kernelspec": {
   "display_name": "Python 3 (ipykernel)",
   "language": "python",
   "name": "python3"
  },
  "language_info": {
   "codemirror_mode": {
    "name": "ipython",
    "version": 3
   },
   "file_extension": ".py",
   "mimetype": "text/x-python",
   "name": "python",
   "nbconvert_exporter": "python",
   "pygments_lexer": "ipython3",
   "version": "3.9.5"
  }
 },
 "nbformat": 4,
 "nbformat_minor": 5
}
