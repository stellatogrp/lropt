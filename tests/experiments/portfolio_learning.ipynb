{
 "cells": [
  {
   "cell_type": "code",
   "execution_count": 7,
   "id": "endless-bunch",
   "metadata": {},
   "outputs": [],
   "source": [
    "import cvxpy as cp\n",
    "import numpy as np\n",
    "import numpy.random as npr\n",
    "import torch\n",
    "import pandas as pd\n",
    "import lro"
   ]
  },
  {
   "cell_type": "markdown",
   "id": "cardiac-turning",
   "metadata": {},
   "source": [
    "### Import Dataset and choose random stocks"
   ]
  },
  {
   "cell_type": "code",
   "execution_count": 3,
   "id": "smaller-motivation",
   "metadata": {},
   "outputs": [],
   "source": [
    "sp500 = pd.read_csv('stock_data/prices_sp500.csv').to_numpy()\n",
    "sp500_synthetic_returns = pd.read_csv('stock_data/sp500_synthetic_returns.csv').to_numpy()[:,1:]\n",
    "\n",
    "num_stocks = 100\n",
    "num_rets = 500"
   ]
  },
  {
   "cell_type": "code",
   "execution_count": 4,
   "id": "micro-visitor",
   "metadata": {},
   "outputs": [],
   "source": [
    "npr.seed(1)\n",
    "stock_idxs = np.random.choice(sp500.shape[1], num_stocks, replace=False)\n",
    "\n",
    "sp_prices = sp500[:num_rets+1, stock_idxs]\n",
    "sp_rets = (sp_prices[1:,:] - sp_prices[:-1,:])/sp_prices[1:,:]"
   ]
  },
  {
   "cell_type": "code",
   "execution_count": 5,
   "id": "southern-ceiling",
   "metadata": {},
   "outputs": [
    {
     "data": {
      "text/plain": [
       "(500, 100)"
      ]
     },
     "execution_count": 5,
     "metadata": {},
     "output_type": "execute_result"
    }
   ],
   "source": [
    "sp_rets.shape"
   ]
  },
  {
   "cell_type": "markdown",
   "id": "about-greek",
   "metadata": {},
   "source": [
    "### Create LRO problem"
   ]
  },
  {
   "cell_type": "code",
   "execution_count": 8,
   "id": "prostate-range",
   "metadata": {},
   "outputs": [
    {
     "ename": "NameError",
     "evalue": "name 'Ellipsoidal' is not defined",
     "output_type": "error",
     "traceback": [
      "\u001b[0;31m---------------------------------------------------------------------------\u001b[0m",
      "\u001b[0;31mNameError\u001b[0m                                 Traceback (most recent call last)",
      "Cell \u001b[0;32mIn [8], line 6\u001b[0m\n\u001b[1;32m      3\u001b[0m     npt\u001b[38;5;241m.\u001b[39massert_equal(x_soln\u001b[38;5;241m.\u001b[39mshape[\u001b[38;5;241m0\u001b[39m], data\u001b[38;5;241m.\u001b[39mshape[\u001b[38;5;241m1\u001b[39m])\n\u001b[1;32m      4\u001b[0m     \u001b[38;5;28;01mreturn\u001b[39;00m  t_soln \u001b[38;5;241m+\u001b[39m lmbda \u001b[38;5;241m*\u001b[39m torch\u001b[38;5;241m.\u001b[39mmean(torch\u001b[38;5;241m.\u001b[39mmaximum(\u001b[38;5;241m-\u001b[39mdata \u001b[38;5;241m@\u001b[39m x_soln \u001b[38;5;241m-\u001b[39m t, torch\u001b[38;5;241m.\u001b[39mzeros(data_dim))), t_soln\n\u001b[0;32m----> 6\u001b[0m unc_set \u001b[38;5;241m=\u001b[39m \u001b[43mEllipsoidal\u001b[49m(data\u001b[38;5;241m=\u001b[39msp_rets, loss\u001b[38;5;241m=\u001b[39mviolation_loss)\n\u001b[1;32m      7\u001b[0m u \u001b[38;5;241m=\u001b[39m UncertainParameter(num_stocks, uncertainty_set\u001b[38;5;241m=\u001b[39munc_set)\n\u001b[1;32m      9\u001b[0m x \u001b[38;5;241m=\u001b[39m cp\u001b[38;5;241m.\u001b[39mVariable(num_stocks)\n",
      "\u001b[0;31mNameError\u001b[0m: name 'Ellipsoidal' is not defined"
     ]
    }
   ],
   "source": [
    "def violation_loss(x_soln, t_soln, data, lmbda=1):\n",
    "    print(x_soln.shape)\n",
    "    npt.assert_equal(x_soln.shape[0], data.shape[1])\n",
    "    return  t_soln + lmbda * torch.mean(torch.maximum(-data @ x_soln - t, torch.zeros(data_dim))), t_soln\n",
    "\n",
    "unc_set = Ellipsoidal(data=sp_rets, loss=violation_loss)\n",
    "u = UncertainParameter(num_stocks, uncertainty_set=unc_set)\n",
    "\n",
    "x = cp.Variable(num_stocks)\n",
    "t = cp.Variable()\n",
    "\n",
    "objective = cp.Minimize(t)\n",
    "cons = [-u @ x <= t]\n",
    "cons += [cp.sum(x) == 1, x >= 0]\n",
    "\n",
    "prob_robust = RobustProblem(objective, cons)\n",
    "df = prob_robust.train()\n",
    "prob_robust.solve(solver=SOLVER)"
   ]
  },
  {
   "cell_type": "code",
   "execution_count": 48,
   "id": "hollywood-enhancement",
   "metadata": {},
   "outputs": [],
   "source": []
  },
  {
   "cell_type": "code",
   "execution_count": 51,
   "id": "alone-register",
   "metadata": {},
   "outputs": [
    {
     "data": {
      "text/plain": [
       "torch.Size([100, 10])"
      ]
     },
     "execution_count": 51,
     "metadata": {},
     "output_type": "execute_result"
    }
   ],
   "source": []
  },
  {
   "cell_type": "code",
   "execution_count": null,
   "id": "coupled-liberty",
   "metadata": {},
   "outputs": [],
   "source": []
  }
 ],
 "metadata": {
  "kernelspec": {
   "display_name": "Python 3 (ipykernel)",
   "language": "python",
   "name": "python3"
  },
  "language_info": {
   "codemirror_mode": {
    "name": "ipython",
    "version": 3
   },
   "file_extension": ".py",
   "mimetype": "text/x-python",
   "name": "python",
   "nbconvert_exporter": "python",
   "pygments_lexer": "ipython3",
   "version": "3.9.13"
  }
 },
 "nbformat": 4,
 "nbformat_minor": 5
}
