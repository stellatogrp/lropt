{
 "cells": [
  {
   "cell_type": "code",
   "execution_count": 1,
   "metadata": {},
   "outputs": [],
   "source": [
    "import cvxpy as cp\n",
    "import numpy as np\n",
    "import numpy.random as npr\n",
    "import torch\n",
    "import pandas as pd\n",
    "import lro\n",
    "import matplotlib.pyplot as plt\n",
    "import warnings\n",
    "warnings.filterwarnings(\"ignore\")\n",
    "plt.rcParams.update({\n",
    "    \"text.usetex\":True,\n",
    "    \n",
    "    \"font.size\":18,\n",
    "    \"font.family\": \"serif\"\n",
    "})\n",
    "colors = [\"tab:blue\", \"tab:green\", \"tab:orange\", \n",
    "          \"tab:red\", \"tab:purple\", \"tab:brown\", \"tab:pink\", \"tab:grey\", \"tab:olive\"]"
   ]
  },
  {
   "cell_type": "markdown",
   "metadata": {},
   "source": [
    "# Deterministic Uncertainty Sets"
   ]
  },
  {
   "cell_type": "markdown",
   "metadata": {},
   "source": [
    "### Formulating the uncertainty set"
   ]
  },
  {
   "cell_type": "markdown",
   "metadata": {},
   "source": [
    "The first step is to formulate the uncertainty set. There are multiple options, with their associated input parameters\n",
    "\n",
    "Box uncertainty: $ \\{ u \\mid\\| u \\|_\\infty \\leq \\rho \\}$ \n",
    "- $\\rho$ : float, optional  \n",
    "  * Box scaling. Default 1.0.\n",
    "- center : np.array, optional  \n",
    "  * An array of dimension n, n the dimension of the uncertanty.\n",
    "        Translation of the center of the box. If lengths is passed but\n",
    "        not center it defaults to an array of zeros.\n",
    "- side : np.array, optional  \n",
    "  * An array of dimension n, n the dimension of the uncertanty.\n",
    "        Length of each side of the box. If center is passed but side not\n",
    "        it defaults to an array of 2.\n",
    "\n",
    "\n",
    "Ellipsoidal uncertainty: $\\{u \\mid \\| u \\|_p \\leq \\rho \\}$ \n",
    "- $\\rho$ : float, optional  \n",
    "  * Ellipsoid scaling. Default 1.0. \n",
    "- $p$ : integer, optional  \n",
    "  * Order of the norm. Default 2.\n",
    "\n",
    "Budget uncertainty: $\\{u \\mid \\| u \\|_\\infty \\leq \\rho_1, \\| u \\|_1 \\leq \\rho_2\\}$ \n",
    "- $\\rho_1$ : float, optional  \n",
    "  * Box scaling. Default 1.0. \n",
    "- $\\rho_2$ : float, optional\n",
    "  * 1-norm scaling. Default 1.0.\n",
    "\n",
    "\n",
    "Polyhedral uncertainty: $\\{ u \\mid Du \\leq d\\}$\n",
    "- $D$ : np.array  \n",
    "- $d$ : np.array  \n",
    "\n",
    "\n",
    "The uncertainty set can be formulated within the uncertain parameter, which takes in the size of the uncertainty and an uncertainty set as parameters."
   ]
  },
  {
   "cell_type": "code",
   "execution_count": 2,
   "metadata": {},
   "outputs": [],
   "source": [
    "# size of uncertain parameter\n",
    "m = 5\n",
    "\n",
    "# Box uncertainty set example\n",
    "box_u = lro.UncertainParameter(m, \n",
    "                              uncertainty_set = lro.Box(center=np.zeros(m),\n",
    "                                                        side=np.ones(m), \n",
    "                                                        rho=2.))\n",
    "\n",
    "# Ellipsoidal uncertainty set example\n",
    "ellip_u = lro.UncertainParameter(m,\n",
    "                                uncertainty_set = lro.Ellipsoidal(p = 2, \n",
    "                                                                  rho=2.))\n",
    "\n",
    "# Budget uncertainty set example\n",
    "budget_u = lro.UncertainParameter(m, \n",
    "                                  uncertainty_set = lro.Budget(rho1=2., \n",
    "                                                               rho2 = 1.))\n",
    "\n",
    "# Polyhedral uncertainty set example\n",
    "poly_u = lro.UncertainParameter(m, \n",
    "                                uncertainty_set = lro.Polyhedral(\n",
    "                                                        D = np.ones((3,m)), \n",
    "                                                        d = np.array([1,2,3])))"
   ]
  },
  {
   "cell_type": "markdown",
   "metadata": {},
   "source": [
    "###  Formulating the Robust Problem\n",
    "\n",
    "We can now fomulate the Robust Problem, treating the uncertain parameter as a regular parameter."
   ]
  },
  {
   "cell_type": "markdown",
   "metadata": {},
   "source": [
    "#### Example 1: Affine transformed LP, ellipsoidal uncertainty\n",
    "We solve the problem\n",
    "$$\n",
    "\\begin{array}{ll}\n",
    "\\text{minimize} & c^Tx\\\\\n",
    "\\text{subject to}  & (Pu+a)^Tx \\leq  10,\\\\\n",
    "\\end{array}\n",
    "$$\n",
    "where $c$, $P$, and $a$ are constants, and $u$ is the uncertain parameter from the ellipsoidal set above."
   ]
  },
  {
   "cell_type": "code",
   "execution_count": 3,
   "metadata": {},
   "outputs": [
    {
     "name": "stdout",
     "output_type": "stream",
     "text": [
      "LRO objective value:  -2.007530607730419 \n",
      "LRO x:  [-0.06517727 -0.18582334 -1.12912827 -1.24354975]\n"
     ]
    }
   ],
   "source": [
    "#restate the ellipsoidal set\n",
    "ellip_u = lro.UncertainParameter(m,\n",
    "                                uncertainty_set = lro.Ellipsoidal(p = 2, \n",
    "                                                                  rho=2.))\n",
    "n = 4\n",
    "\n",
    "# formulate cvxpy variable\n",
    "x = cp.Variable(4)\n",
    "\n",
    "# formulate problem constants\n",
    "P = 3. * np.eye(m)[:n, :]\n",
    "a = 0.1 * np.random.rand(n)\n",
    "c = np.random.rand(n)\n",
    "\n",
    "# formulate objective\n",
    "objective = cp.Minimize(c@x)\n",
    "\n",
    "# formulate constraints\n",
    "constraints = [(P@ellip_u +a)@ x <= 10]\n",
    "\n",
    "# formulate Robust Problem\n",
    "prob_robust = lro.RobustProblem(objective, constraints)\n",
    "\n",
    "# solve\n",
    "prob_robust.solve()\n",
    "\n",
    "print(\"LRO objective value: \", prob_robust.objective.value, \"\\nLRO x: \", x.value)\n"
   ]
  },
  {
   "cell_type": "markdown",
   "metadata": {},
   "source": [
    "We compare the above with its explicit reformulation and solution\n",
    "$$\n",
    "\\begin{array}{ll}\n",
    "\\text{minimize} & c^Tx\\\\\n",
    "\\text{subject to}  & a^Tx + \\rho\\|P^Tx\\|_2 \\leq  10,\\\\\n",
    "\\end{array}\n",
    "$$"
   ]
  },
  {
   "cell_type": "code",
   "execution_count": 4,
   "metadata": {},
   "outputs": [
    {
     "name": "stdout",
     "output_type": "stream",
     "text": [
      "Cvxpy objective value:  -2.007530600525304 \n",
      "Cvxpy x:  [-0.06514715 -0.1858137  -1.12914527 -1.24353695]\n"
     ]
    }
   ],
   "source": [
    "# formulate cvxpy variable\n",
    "x = cp.Variable(4)\n",
    "\n",
    "# formulate objective\n",
    "objective = cp.Minimize(c@x)\n",
    "\n",
    "# formulate constraints\n",
    "constraints = [a@x + 2*cp.norm(P.T@x,2) <= 10]\n",
    "\n",
    "# formulate Robust Problem\n",
    "prob_cvxpy = cp.Problem(objective, constraints)\n",
    "\n",
    "# solve\n",
    "prob_cvxpy.solve()\n",
    "\n",
    "print(\"Cvxpy objective value: \", prob_cvxpy.objective.value, \"\\nCvxpy x: \", x.value)\n"
   ]
  },
  {
   "cell_type": "markdown",
   "metadata": {},
   "source": [
    "We see that they provide the same solution."
   ]
  },
  {
   "cell_type": "markdown",
   "metadata": {},
   "source": [
    "#### Example 2: Multiple uncertain terms, box uncertainty\n",
    "We solve the problem\n",
    "$$\n",
    "\\begin{array}{ll}\n",
    "\\text{minimize} & c^Tx\\\\\n",
    "\\text{subject to}  & (Pu)^Tx  \\leq  10 + 2u^Tx,\\\\\n",
    "& x \\geq 0,\\quad x \\leq 1,\n",
    "\\end{array}\n",
    "$$\n",
    "where again $c$, $P$, and $a$ are constants, and $u$ is the uncertain parameter from a box uncertainty set. We note that the uncertain parameter can appear more than once in the uncertain constraint.  \n",
    "\n",
    "The box uncertainty set is indentical to an affine transformed ellipsoidal uncertainty set. If the center of the box is $b$, and side is $s$, formulating the box uncertainaty set is equivalent to formulating an ellipsoidal uncertainty set with $p = \\infty$ and an affine transform $\\tilde{u} = \\mathbf{diag}\\{1/2s\\}u + b = Au + b$.\n",
    "\n",
    "With ellipsoidal uncertainty, the above problem is then \n",
    "$$\n",
    "\\begin{array}{ll}\n",
    "\\text{minimize} & c^Tx\\\\\n",
    "\\text{subject to}  & (PAu+ Pb)^Tx  \\leq  10 + (2Au + 2b)^Tx\\\\\n",
    "& x \\geq 0,\\quad x \\leq 1,\n",
    "\\end{array}\n",
    "$$"
   ]
  },
  {
   "cell_type": "code",
   "execution_count": 13,
   "metadata": {},
   "outputs": [
    {
     "name": "stdout",
     "output_type": "stream",
     "text": [
      "Box objective value:  -1.5558083078547698 \n",
      "Box x:  [1.36960613e-10 8.09996964e-11 1.00000000e+00 1.00000000e+00\n",
      " 5.83836075e-01]\n",
      "Ellipsoidal objective value:  -1.5558083078547698 \n",
      "Ellipsoidal x:  [1.36960613e-10 8.09996964e-11 1.00000000e+00 1.00000000e+00\n",
      " 5.83836075e-01]\n"
     ]
    }
   ],
   "source": [
    "#formulate using the box set\n",
    "center = 0.5*np.ones(m)\n",
    "side = 0.1*np.array([1,2,3,4,5])\n",
    "box_u = lro.UncertainParameter(m, \n",
    "                              uncertainty_set = lro.Box(center=center,\n",
    "                                                        side=side, \n",
    "                                                        rho=2.))\n",
    "n = 5\n",
    "\n",
    "# formulate cvxpy variable\n",
    "x = cp.Variable(n)\n",
    "\n",
    "# formulate problem constants\n",
    "P = 3*np.random.rand(n,m)\n",
    "c = np.random.rand(n)\n",
    "\n",
    "# formulate objective\n",
    "objective = cp.Minimize(-c@x)\n",
    "\n",
    "# formulate constraints\n",
    "constraints = [P@box_u@ x - 2*box_u@x <= 10 , x >=0, x<=1]\n",
    "\n",
    "# formulate Robust Problem\n",
    "prob_robust = lro.RobustProblem(objective, constraints)\n",
    "\n",
    "# solve\n",
    "prob_robust.solve()\n",
    "\n",
    "print(\"Box objective value: \", prob_robust.objective.value, \"\\nBox x: \", x.value)\n",
    "\n",
    "#formulate using the ellipsoidal set\n",
    "ellip_u = lro.UncertainParameter(m,\n",
    "                                uncertainty_set = lro.Ellipsoidal(p = np.inf, \n",
    "                                                                  rho=2.))\n",
    "n = 5\n",
    "\n",
    "# formulate cvxpy variable\n",
    "x = cp.Variable(n)\n",
    "\n",
    "# formulate problem constants\n",
    "A = np.diag(0.5*side)\n",
    "b = center\n",
    "\n",
    "# formulate objective\n",
    "objective = cp.Minimize(-c@x)\n",
    "\n",
    "# formulate constraints\n",
    "constraints = [(P@A@ellip_u + P@b)@ x  <= 10+(2*A@ellip_u+ 2*b)@x, x >=0, x<=1]\n",
    "\n",
    "# formulate Robust Problem\n",
    "prob_robust = lro.RobustProblem(objective, constraints)\n",
    "\n",
    "# solve\n",
    "prob_robust.solve()\n",
    "\n",
    "print(\"Ellipsoidal objective value: \", prob_robust.objective.value, \"\\nEllipsoidal x: \", x.value)\n"
   ]
  },
  {
   "cell_type": "markdown",
   "metadata": {},
   "source": [
    "We compare the above with its explicit reformulation and solution\n",
    "$$\n",
    "\\begin{array}{ll}\n",
    "\\text{minimize} & c^Tx\\\\\n",
    "\\text{subject to}  & (Pb)^Tx - 2b^Tx + \\rho\\|A^TP^Tx - 2A^Tx\\|_1 \\leq  10,\\\\\n",
    "\\end{array}\n",
    "$$"
   ]
  },
  {
   "cell_type": "code",
   "execution_count": 14,
   "metadata": {},
   "outputs": [
    {
     "name": "stdout",
     "output_type": "stream",
     "text": [
      "Cvxpy objective value:  -1.5558083076253744 \n",
      "Cvxpy x:  [6.39495526e-09 1.70862932e-09 1.00000000e+00 1.00000000e+00\n",
      " 5.83836068e-01]\n"
     ]
    }
   ],
   "source": [
    "# formulate using cvxpy\n",
    "x = cp.Variable(5)\n",
    "# formulate objective\n",
    "objective = cp.Minimize(-c@x)\n",
    "\n",
    "# formulate constraints\n",
    "constraints = [(P@b)@x - 2*b@x + 2*cp.norm((P@A).T@x - 2*A.T@x,p=1)<= 10, x>=0, x<=1]\n",
    "\n",
    "# formulate Robust Problem\n",
    "prob_cvxpy = cp.Problem(objective, constraints)\n",
    "\n",
    "# solve\n",
    "prob_cvxpy.solve()\n",
    "\n",
    "print(\"Cvxpy objective value: \", prob_cvxpy.objective.value, \"\\nCvxpy x: \", x.value)\n"
   ]
  },
  {
   "cell_type": "markdown",
   "metadata": {},
   "source": [
    "#### Example 3: Multiple uncertain constraints, polyhedral uncertainty\n",
    "We solve the problem\n",
    "$$\n",
    "\\begin{array}{ll}\n",
    "\\text{minimize} & c^Tx\\\\\n",
    "\\text{subject to}  & (P_1u + a)^Tx  \\leq  10\\\\\n",
    "& (P_2u)^Tx  \\leq  5\\\\\n",
    "& x \\leq 5,\n",
    "\\end{array}\n",
    "$$\n",
    "where $c$, $P_1$, $P_2$, and $a$ are constants, and $u$ is the uncertain parameter from a polyhedral uncertainty set"
   ]
  },
  {
   "cell_type": "code",
   "execution_count": 15,
   "metadata": {},
   "outputs": [
    {
     "name": "stdout",
     "output_type": "stream",
     "text": [
      "LRO objective value:  -4.382507115774927 \n",
      "LRO x:  [ 5.         5.         3.5452386 -8.0850094]\n"
     ]
    }
   ],
   "source": [
    "#restate the ellipsoidal set \n",
    "D =  np.vstack((np.eye(m), -2*np.eye(m)))\n",
    "d = np.concatenate((0.1*np.ones(m), 0.1*np.ones(m)))\n",
    "poly_u = lro.UncertainParameter(m, \n",
    "                                uncertainty_set = lro.Polyhedral(\n",
    "                                                        D = D, \n",
    "                                                        d = d))\n",
    "n = 4\n",
    "# formulate cvxpy variable\n",
    "x = cp.Variable(n)\n",
    "\n",
    "# formulate problem constants\n",
    "P1 = 0.5 * np.eye(m)[:n, :]\n",
    "P2 = 3*np.random.rand(n,m)\n",
    "a = 0.1 * np.random.rand(n)\n",
    "c = np.random.rand(n)\n",
    "\n",
    "# formulate objective\n",
    "objective = cp.Minimize(-c@x)\n",
    "\n",
    "# formulate constraints\n",
    "constraints = [(P1@poly_u +a)@ x <=10, x<=5]\n",
    "constraints += [(P2@poly_u)@ x <= 5]\n",
    "\n",
    "# formulate Robust Problem\n",
    "prob_robust = lro.RobustProblem(objective, constraints)\n",
    "\n",
    "# solve\n",
    "prob_robust.solve()\n",
    "print(\"LRO objective value: \", prob_robust.objective.value, \"\\nLRO x: \", x.value)\n"
   ]
  },
  {
   "cell_type": "markdown",
   "metadata": {},
   "source": [
    "We compare it with its direct reformulation, where each uncertain constraint is treated independently,\n",
    "$$\n",
    "\\begin{array}{ll}\n",
    "\\text{minimize} & c^Tx\\\\\n",
    "\\text{subject to}  & a^Tx + w_1^Td  \\leq  10\\\\\n",
    "& w_1^TD = P_1^Tx\\\\\n",
    "& w_2^Td  \\leq  5\\\\\n",
    "& w_2^TD = P_2^Tx\\\\\n",
    "& w_1, w_2 \\geq 0\\\\\n",
    "& x \\leq 5,\n",
    "\\end{array}\n",
    "$$\n",
    "where $w_1$, $w_2$ are new variables introduced."
   ]
  },
  {
   "cell_type": "code",
   "execution_count": 16,
   "metadata": {},
   "outputs": [
    {
     "name": "stdout",
     "output_type": "stream",
     "text": [
      "Cvxpy objective value:  -4.382507115791347 \n",
      "Cvxpy x:  [ 5.         5.         3.5452386 -8.0850094]\n"
     ]
    }
   ],
   "source": [
    "# formulate using cvxpy\n",
    "x = cp.Variable(n)\n",
    "w1 = cp.Variable(2*m)\n",
    "w2 = cp.Variable(2*m)\n",
    "# formulate objective\n",
    "objective = cp.Minimize(-c@x)\n",
    "\n",
    "# formulate constraints\n",
    "constraints = [a@x + w1@d <= 10]\n",
    "constraints += [w1@D == P1.T@x]\n",
    "constraints += [w2@d <= 5]\n",
    "constraints += [w2@D == P2.T@x]\n",
    "constraints += [w1>=0, w2 >= 0, x <=5]\n",
    "# formulate Robust Problem\n",
    "prob_cvxpy = cp.Problem(objective, constraints)\n",
    "\n",
    "# solve\n",
    "prob_cvxpy.solve()\n",
    "print(\"Cvxpy objective value: \", prob_cvxpy.objective.value, \"\\nCvxpy x: \", x.value)"
   ]
  },
  {
   "cell_type": "markdown",
   "metadata": {},
   "source": [
    "#### Example 4: Direct comparison constraints, budget uncertainty\n",
    "We solve the problem\n",
    "$$\n",
    "\\begin{array}{ll}\n",
    "\\text{minimize} & c^Tx\\\\\n",
    "\\text{subject to}  & (Pu + a)^Tx  \\leq  10\\\\\n",
    "& x \\geq P_1u,\n",
    "\\end{array}\n",
    "$$\n",
    "where $c$, $P$,and $a$ are constants, and $u$ is the uncertain parameter from a budet uncertainty set. \n",
    "We can include constraints that relates directly the values of $x$ and $u$, as in the second constraint."
   ]
  },
  {
   "cell_type": "code",
   "execution_count": 17,
   "metadata": {},
   "outputs": [
    {
     "name": "stdout",
     "output_type": "stream",
     "text": [
      "LRO objective value:  10.805361519926496 \n",
      "LRO x:  [2.64048752 2.77754981 2.86105771 2.67588584 2.74835411]\n"
     ]
    }
   ],
   "source": [
    "#restate the ellipsoidal set\n",
    "budget_u = lro.UncertainParameter(m, \n",
    "                                  uncertainty_set = lro.Budget(rho1=2., \n",
    "                                                               rho2 = 1.))\n",
    "n = 5\n",
    "# formulate cvxpy variable\n",
    "x = cp.Variable(n)\n",
    "\n",
    "# formulate problem constants\n",
    "P = 3. * np.eye(m)[:n, :]\n",
    "P1 = 3*np.random.rand(n,m)\n",
    "a = 0.1 * np.random.rand(n)\n",
    "c = np.random.rand(n)\n",
    "\n",
    "# formulate objective\n",
    "objective = cp.Minimize(c@x)\n",
    "\n",
    "# formulate constraints\n",
    "constraints = [(P@budget_u +a)@ x <= 10]\n",
    "constraints += [x >= P1@budget_u]\n",
    "\n",
    "# formulate Robust Problem\n",
    "prob_robust = lro.RobustProblem(objective, constraints)\n",
    "\n",
    "# solve\n",
    "prob_robust.solve()\n",
    "\n",
    "print(\"LRO objective value: \", prob_robust.objective.value, \"\\nLRO x: \", x.value)\n"
   ]
  },
  {
   "cell_type": "markdown",
   "metadata": {},
   "source": [
    "We compare this with its direct reformulation,\n",
    "$$\n",
    "\\begin{array}{ll}\n",
    "\\text{minimize} & c^Tx\\\\\n",
    "\\text{subject to}  & a^Tx + \\rho_1\\|y\\|_1 + \\rho_2\\|P^Tx - y\\|_\\infty  \\leq  10\\\\\n",
    "& -x_i + \\rho_1\\|z_i\\|_1 + \\rho_2\\|(P_1^T)_i - z_i\\|_\\infty \\leq 0, \\quad i = 1,\\dots,n\n",
    "\\end{array}\n",
    "$$\n",
    "where $(P_1^T)_i$ is the $i$'th row of $P_1$."
   ]
  },
  {
   "cell_type": "code",
   "execution_count": 18,
   "metadata": {},
   "outputs": [
    {
     "name": "stdout",
     "output_type": "stream",
     "text": [
      "Cvxpy objective value:  10.805361527616576 \n",
      "Cvxpy x:  [2.64048752 2.77754981 2.86105771 2.67588584 2.74835411]\n"
     ]
    }
   ],
   "source": [
    "# formulate using cvxpy\n",
    "x = cp.Variable(n)\n",
    "y = cp.Variable(m)\n",
    "z = cp.Variable((n,m))\n",
    "\n",
    "# formulate objective\n",
    "objective = cp.Minimize(c@x)\n",
    "\n",
    "# formulate constraints\n",
    "constraints = [a@x + 2*cp.norm(y,1) + cp.norm(P.T@x-y,np.inf) <= 10]\n",
    "for i in range(n):\n",
    "  constraints += [-x[i] + 2*cp.norm(z[i],1) + cp.norm(P1.T@(np.eye(m)[i]) - z[i],np.inf) <= 0]\n",
    "# formulate Robust Problem\n",
    "prob_cvxpy = cp.Problem(objective, constraints)\n",
    "\n",
    "# solve\n",
    "prob_cvxpy.solve()\n",
    "print(\"Cvxpy objective value: \", prob_cvxpy.objective.value, \"\\nCvxpy x: \", x.value)"
   ]
  },
  {
   "cell_type": "code",
   "execution_count": 17,
   "metadata": {},
   "outputs": [
    {
     "data": {
      "text/html": [
       "<div>\n",
       "<style scoped>\n",
       "    .dataframe tbody tr th:only-of-type {\n",
       "        vertical-align: middle;\n",
       "    }\n",
       "\n",
       "    .dataframe tbody tr th {\n",
       "        vertical-align: top;\n",
       "    }\n",
       "\n",
       "    .dataframe thead th {\n",
       "        text-align: right;\n",
       "    }\n",
       "</style>\n",
       "<table border=\"1\" class=\"dataframe\">\n",
       "  <thead>\n",
       "    <tr style=\"text-align: right;\">\n",
       "      <th></th>\n",
       "      <th>step</th>\n",
       "      <th>Opt_val</th>\n",
       "      <th>Eval_val</th>\n",
       "      <th>Loss_val</th>\n",
       "      <th>A_norm</th>\n",
       "    </tr>\n",
       "  </thead>\n",
       "  <tbody>\n",
       "    <tr>\n",
       "      <th>0</th>\n",
       "      <td>0</td>\n",
       "      <td>-3.499268</td>\n",
       "      <td>-3.102079</td>\n",
       "      <td>-3.138209</td>\n",
       "      <td>1.0</td>\n",
       "    </tr>\n",
       "    <tr>\n",
       "      <th>1</th>\n",
       "      <td>1</td>\n",
       "      <td>-4.402934</td>\n",
       "      <td>-3.428694</td>\n",
       "      <td>-3.517094</td>\n",
       "      <td>1.2205309</td>\n",
       "    </tr>\n",
       "    <tr>\n",
       "      <th>2</th>\n",
       "      <td>2</td>\n",
       "      <td>-5.631884</td>\n",
       "      <td>-3.683755</td>\n",
       "      <td>-3.774968</td>\n",
       "      <td>1.5240312</td>\n",
       "    </tr>\n",
       "    <tr>\n",
       "      <th>3</th>\n",
       "      <td>3</td>\n",
       "      <td>-6.806759</td>\n",
       "      <td>-3.759098</td>\n",
       "      <td>-3.861156</td>\n",
       "      <td>1.8163142</td>\n",
       "    </tr>\n",
       "    <tr>\n",
       "      <th>4</th>\n",
       "      <td>4</td>\n",
       "      <td>-7.796053</td>\n",
       "      <td>-3.740569</td>\n",
       "      <td>-3.882948</td>\n",
       "      <td>2.0636451</td>\n",
       "    </tr>\n",
       "    <tr>\n",
       "      <th>...</th>\n",
       "      <td>...</td>\n",
       "      <td>...</td>\n",
       "      <td>...</td>\n",
       "      <td>...</td>\n",
       "      <td>...</td>\n",
       "    </tr>\n",
       "    <tr>\n",
       "      <th>95</th>\n",
       "      <td>95</td>\n",
       "      <td>-13.5421</td>\n",
       "      <td>-3.412642</td>\n",
       "      <td>-3.923714</td>\n",
       "      <td>3.504712</td>\n",
       "    </tr>\n",
       "    <tr>\n",
       "      <th>96</th>\n",
       "      <td>96</td>\n",
       "      <td>-13.547321</td>\n",
       "      <td>-3.412688</td>\n",
       "      <td>-3.923717</td>\n",
       "      <td>3.506023</td>\n",
       "    </tr>\n",
       "    <tr>\n",
       "      <th>97</th>\n",
       "      <td>97</td>\n",
       "      <td>-13.552546</td>\n",
       "      <td>-3.412733</td>\n",
       "      <td>-3.923721</td>\n",
       "      <td>3.5073345</td>\n",
       "    </tr>\n",
       "    <tr>\n",
       "      <th>98</th>\n",
       "      <td>98</td>\n",
       "      <td>-13.557773</td>\n",
       "      <td>-3.412779</td>\n",
       "      <td>-3.923724</td>\n",
       "      <td>3.5086467</td>\n",
       "    </tr>\n",
       "    <tr>\n",
       "      <th>99</th>\n",
       "      <td>99</td>\n",
       "      <td>-13.563003</td>\n",
       "      <td>-3.412824</td>\n",
       "      <td>-3.923728</td>\n",
       "      <td>3.5099597</td>\n",
       "    </tr>\n",
       "  </tbody>\n",
       "</table>\n",
       "<p>100 rows × 5 columns</p>\n",
       "</div>"
      ],
      "text/plain": [
       "   step    Opt_val  Eval_val  Loss_val     A_norm\n",
       "0     0  -3.499268 -3.102079 -3.138209        1.0\n",
       "1     1  -4.402934 -3.428694 -3.517094  1.2205309\n",
       "2     2  -5.631884 -3.683755 -3.774968  1.5240312\n",
       "3     3  -6.806759 -3.759098 -3.861156  1.8163142\n",
       "4     4  -7.796053 -3.740569 -3.882948  2.0636451\n",
       "..  ...        ...       ...       ...        ...\n",
       "95   95   -13.5421 -3.412642 -3.923714   3.504712\n",
       "96   96 -13.547321 -3.412688 -3.923717   3.506023\n",
       "97   97 -13.552546 -3.412733 -3.923721  3.5073345\n",
       "98   98 -13.557773 -3.412779 -3.923724  3.5086467\n",
       "99   99 -13.563003 -3.412824 -3.923728  3.5099597\n",
       "\n",
       "[100 rows x 5 columns]"
      ]
     },
     "execution_count": 17,
     "metadata": {},
     "output_type": "execute_result"
    }
   ],
   "source": [
    "df"
   ]
  },
  {
   "cell_type": "code",
   "execution_count": null,
   "metadata": {},
   "outputs": [],
   "source": []
  }
 ],
 "metadata": {
  "interpreter": {
   "hash": "12db33b28298ca6799bcb1942ca20f6d466e8bb87ce3b49baf0601ce92209ddf"
  },
  "kernelspec": {
   "display_name": "Python 3.9.13",
   "language": "python",
   "name": "python3"
  },
  "language_info": {
   "codemirror_mode": {
    "name": "ipython",
    "version": 3
   },
   "file_extension": ".py",
   "mimetype": "text/x-python",
   "name": "python",
   "nbconvert_exporter": "python",
   "pygments_lexer": "ipython3",
   "version": "3.9.13"
  },
  "orig_nbformat": 4
 },
 "nbformat": 4,
 "nbformat_minor": 2
}
