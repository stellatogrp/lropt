{
 "cells": [
  {
   "cell_type": "code",
   "execution_count": 17,
   "metadata": {},
   "outputs": [],
   "source": [
    "import cvxpy as cp\n",
    "import numpy as np\n",
    "import numpy.random as npr\n",
    "import torch\n",
    "import pandas as pd\n",
    "import lro\n",
    "import matplotlib.pyplot as plt\n",
    "import warnings\n",
    "warnings.filterwarnings(\"ignore\")\n",
    "plt.rcParams.update({\n",
    "    \"text.usetex\":True,\n",
    "    \n",
    "    \"font.size\":18,\n",
    "    \"font.family\": \"serif\"\n",
    "})\n",
    "colors = [\"tab:blue\", \"tab:green\", \"tab:orange\", \n",
    "          \"tab:red\", \"tab:purple\", \"tab:brown\", \"tab:pink\", \"tab:grey\", \"tab:olive\"]"
   ]
  },
  {
   "cell_type": "markdown",
   "metadata": {},
   "source": [
    "# Deterministic Uncertainty Sets"
   ]
  },
  {
   "cell_type": "markdown",
   "metadata": {},
   "source": [
    "### Formulating the uncertainty set"
   ]
  },
  {
   "cell_type": "markdown",
   "metadata": {},
   "source": [
    "The first step is to formulate the uncertainty set. There are multiple options, with their associated input parameters. The uncertainty set can be formulated within the uncertain parameter, which takes in the size of the uncertainty and an uncertainty set as parameters.\n",
    "\n",
    "Box uncertainty: $ \\{ u \\mid\\| u \\|_\\infty \\leq \\rho \\}$ \n",
    "- $\\rho$ : float, optional  \n",
    "  * Box scaling. Default 1.0.\n",
    "- center : np.array, optional  \n",
    "  * An array of dimension n, n the dimension of the uncertanty.\n",
    "        Translation of the center of the box. If lengths is passed but\n",
    "        not center it defaults to an array of zeros.\n",
    "- side : np.array, optional  \n",
    "  * An array of dimension n, n the dimension of the uncertanty.\n",
    "        Length of each side of the box. If center is passed but side not\n",
    "        it defaults to an array of 2.\n"
   ]
  },
  {
   "cell_type": "code",
   "execution_count": 18,
   "metadata": {},
   "outputs": [],
   "source": [
    "# size of uncertain parameter\n",
    "m = 5\n",
    "\n",
    "# Box uncertainty set example\n",
    "box_u = lro.UncertainParameter(m, \n",
    "                              uncertainty_set = lro.Box(center=np.zeros(m),\n",
    "                                                        side=np.ones(m), \n",
    "                                                        rho=2.))"
   ]
  },
  {
   "cell_type": "markdown",
   "metadata": {},
   "source": [
    "\n",
    "\n",
    "Ellipsoidal uncertainty: $\\{u \\mid \\| u \\|_p \\leq \\rho \\}$ \n",
    "- $\\rho$ : float, optional  \n",
    "  * Ellipsoid scaling. Default 1.0. \n",
    "- $p$ : integer, optional  \n",
    "  * Order of the norm. Default 2."
   ]
  },
  {
   "cell_type": "code",
   "execution_count": 19,
   "metadata": {},
   "outputs": [],
   "source": [
    "# Ellipsoidal uncertainty set example\n",
    "ellip_u = lro.UncertainParameter(m,\n",
    "                                uncertainty_set = lro.Ellipsoidal(p = 2, \n",
    "                                                                  rho=2.))"
   ]
  },
  {
   "cell_type": "markdown",
   "metadata": {},
   "source": [
    "Budget uncertainty: $\\{u \\mid \\| u \\|_\\infty \\leq \\rho_1, \\| u \\|_1 \\leq \\rho_2\\}$ \n",
    "- $\\rho_1$ : float, optional  \n",
    "  * Box scaling. Default 1.0. \n",
    "- $\\rho_2$ : float, optional\n",
    "  * 1-norm scaling. Default 1.0.\n",
    "\n"
   ]
  },
  {
   "cell_type": "code",
   "execution_count": 20,
   "metadata": {},
   "outputs": [],
   "source": [
    "# Budget uncertainty set example\n",
    "budget_u = lro.UncertainParameter(m, \n",
    "                                  uncertainty_set = lro.Budget(rho1=2., \n",
    "                                                               rho2 = 1.))"
   ]
  },
  {
   "cell_type": "markdown",
   "metadata": {},
   "source": [
    "\n",
    "Polyhedral uncertainty: $\\{ u \\mid Du \\leq d\\}$\n",
    "- $D$ : np.array  \n",
    "- $d$ : np.array  "
   ]
  },
  {
   "cell_type": "code",
   "execution_count": 21,
   "metadata": {},
   "outputs": [],
   "source": [
    "# Polyhedral uncertainty set example\n",
    "poly_u = lro.UncertainParameter(m, \n",
    "                                uncertainty_set = lro.Polyhedral(\n",
    "                                                        D = np.ones((3,m)), \n",
    "                                                        d = np.array([1,2,3])))"
   ]
  },
  {
   "cell_type": "markdown",
   "metadata": {},
   "source": [
    "###  Formulating the Robust Problem\n",
    "\n",
    "We can now fomulate the Robust Problem, treating the uncertain parameter as a regular parameter."
   ]
  },
  {
   "cell_type": "markdown",
   "metadata": {},
   "source": [
    "#### Example 1: Affine transformed LP, ellipsoidal uncertainty\n",
    "We solve the problem\n",
    "$$\n",
    "\\begin{array}{ll}\n",
    "\\text{minimize} & c^Tx\\\\\n",
    "\\text{subject to}  & (Pu+a)^Tx \\leq  10,\\\\\n",
    "\\end{array}\n",
    "$$\n",
    "where $c$, $P$, and $a$ are constants, and $u$ is the uncertain parameter from the ellipsoidal set above."
   ]
  },
  {
   "cell_type": "code",
   "execution_count": 3,
   "metadata": {},
   "outputs": [
    {
     "name": "stdout",
     "output_type": "stream",
     "text": [
      "LRO objective value:  -1.605248342128033 \n",
      "LRO x:  [-0.04025229 -0.92272464 -0.58919502 -1.29007898]\n"
     ]
    }
   ],
   "source": [
    "#restate the ellipsoidal set\n",
    "ellip_u = lro.UncertainParameter(m,\n",
    "                                uncertainty_set = lro.Ellipsoidal(p = 2, \n",
    "                                                                  rho=2.))\n",
    "n = 4\n",
    "\n",
    "# formulate cvxpy variable\n",
    "x = cp.Variable(4)\n",
    "\n",
    "# formulate problem constants\n",
    "P = 3. * np.eye(m)[:n, :]\n",
    "a = 0.1 * np.random.rand(n)\n",
    "c = np.random.rand(n)\n",
    "\n",
    "# formulate objective\n",
    "objective = cp.Minimize(c@x)\n",
    "\n",
    "# formulate constraints\n",
    "constraints = [(P@ellip_u +a)@ x <= 10]\n",
    "\n",
    "# formulate Robust Problem\n",
    "prob_robust = lro.RobustProblem(objective, constraints)\n",
    "\n",
    "# solve\n",
    "prob_robust.solve()\n",
    "\n",
    "print(\"LRO objective value: \", prob_robust.objective.value, \"\\nLRO x: \", x.value)\n"
   ]
  },
  {
   "cell_type": "markdown",
   "metadata": {},
   "source": [
    "We compare the above with its explicit reformulation and solution\n",
    "$$\n",
    "\\begin{array}{ll}\n",
    "\\text{minimize} & c^Tx\\\\\n",
    "\\text{subject to}  & a^Tx + \\rho\\|P^Tx\\|_2 \\leq  10,\\\\\n",
    "\\end{array}\n",
    "$$"
   ]
  },
  {
   "cell_type": "code",
   "execution_count": 4,
   "metadata": {},
   "outputs": [
    {
     "name": "stdout",
     "output_type": "stream",
     "text": [
      "Cvxpy objective value:  -1.6052483481202044 \n",
      "Cvxpy x:  [-0.04023457 -0.92272019 -0.5891926  -1.29008361]\n"
     ]
    }
   ],
   "source": [
    "# formulate cvxpy variable\n",
    "x = cp.Variable(4)\n",
    "\n",
    "# formulate objective\n",
    "objective = cp.Minimize(c@x)\n",
    "\n",
    "# formulate constraints\n",
    "constraints = [a@x + 2*cp.norm(P.T@x,2) <= 10]\n",
    "\n",
    "# formulate Robust Problem\n",
    "prob_cvxpy = cp.Problem(objective, constraints)\n",
    "\n",
    "# solve\n",
    "prob_cvxpy.solve()\n",
    "\n",
    "print(\"Cvxpy objective value: \", prob_cvxpy.objective.value, \"\\nCvxpy x: \", x.value)\n"
   ]
  },
  {
   "cell_type": "markdown",
   "metadata": {},
   "source": [
    "We see that they provide the same solution."
   ]
  },
  {
   "cell_type": "markdown",
   "metadata": {},
   "source": [
    "#### Example 2: Multiple uncertain terms, box uncertainty\n",
    "We solve the problem\n",
    "$$\n",
    "\\begin{array}{ll}\n",
    "\\text{minimize} & c^Tx\\\\\n",
    "\\text{subject to}  & (Pu)^Tx  \\leq  10 + 2u^Tx,\\\\\n",
    "& x \\geq 0,\\quad x \\leq 1,\n",
    "\\end{array}\n",
    "$$\n",
    "where again $c$, $P$, and $a$ are constants, and $u$ is the uncertain parameter from a box uncertainty set. We note that the uncertain parameter can appear more than once in the uncertain constraint.  \n",
    "\n",
    "The box uncertainty set is indentical to an affine transformed ellipsoidal uncertainty set. If the center of the box is $b$, and side is $s$, formulating the box uncertainaty set is equivalent to formulating an ellipsoidal uncertainty set with $p = \\infty$ and an affine transform $\\tilde{u} = \\mathbf{diag}\\{1/2s\\}u + b = Au + b$.\n",
    "\n",
    "With ellipsoidal uncertainty, the above problem is then \n",
    "$$\n",
    "\\begin{array}{ll}\n",
    "\\text{minimize} & c^Tx\\\\\n",
    "\\text{subject to}  & (PAu+ Pb)^Tx  \\leq  10 + (2Au + 2b)^Tx\\\\\n",
    "& x \\geq 0,\\quad x \\leq 1,\n",
    "\\end{array}\n",
    "$$"
   ]
  },
  {
   "cell_type": "code",
   "execution_count": 5,
   "metadata": {},
   "outputs": [
    {
     "name": "stdout",
     "output_type": "stream",
     "text": [
      "Box objective value:  -2.0632850368185394 \n",
      "Box x:  [8.36989663e-01 6.18907224e-12 1.00000000e+00 1.86572218e-10\n",
      " 1.00000000e+00]\n",
      "Ellipsoidal objective value:  -2.0632850368185394 \n",
      "Ellipsoidal x:  [8.36989663e-01 6.18907224e-12 1.00000000e+00 1.86572218e-10\n",
      " 1.00000000e+00]\n"
     ]
    }
   ],
   "source": [
    "#formulate using the box set\n",
    "center = 0.5*np.ones(m)\n",
    "side = 0.1*np.array([1,2,3,4,5])\n",
    "box_u = lro.UncertainParameter(m, \n",
    "                              uncertainty_set = lro.Box(center=center,\n",
    "                                                        side=side, \n",
    "                                                        rho=2.))\n",
    "n = 5\n",
    "\n",
    "# formulate cvxpy variable\n",
    "x = cp.Variable(n)\n",
    "\n",
    "# formulate problem constants\n",
    "P = 3*np.random.rand(n,m)\n",
    "c = np.random.rand(n)\n",
    "\n",
    "# formulate objective\n",
    "objective = cp.Minimize(-c@x)\n",
    "\n",
    "# formulate constraints\n",
    "constraints = [P@box_u@ x - 2*box_u@x <= 10 , x >=0, x<=1]\n",
    "\n",
    "# formulate Robust Problem\n",
    "prob_robust = lro.RobustProblem(objective, constraints)\n",
    "\n",
    "# solve\n",
    "prob_robust.solve()\n",
    "\n",
    "print(\"Box objective value: \", prob_robust.objective.value, \"\\nBox x: \", x.value)\n",
    "\n",
    "#formulate using the ellipsoidal set\n",
    "ellip_u = lro.UncertainParameter(m,\n",
    "                                uncertainty_set = lro.Ellipsoidal(p = np.inf, \n",
    "                                                                  rho=2.))\n",
    "n = 5\n",
    "\n",
    "# formulate cvxpy variable\n",
    "x = cp.Variable(n)\n",
    "\n",
    "# formulate problem constants\n",
    "A = np.diag(0.5*side)\n",
    "b = center\n",
    "\n",
    "# formulate objective\n",
    "objective = cp.Minimize(-c@x)\n",
    "\n",
    "# formulate constraints\n",
    "constraints = [(P@A@ellip_u + P@b)@ x  <= 10+(2*A@ellip_u+ 2*b)@x, x >=0, x<=1]\n",
    "\n",
    "# formulate Robust Problem\n",
    "prob_robust = lro.RobustProblem(objective, constraints)\n",
    "\n",
    "# solve\n",
    "prob_robust.solve()\n",
    "\n",
    "print(\"Ellipsoidal objective value: \", prob_robust.objective.value, \"\\nEllipsoidal x: \", x.value)\n"
   ]
  },
  {
   "cell_type": "markdown",
   "metadata": {},
   "source": [
    "We compare the above with its explicit reformulation and solution\n",
    "$$\n",
    "\\begin{array}{ll}\n",
    "\\text{minimize} & c^Tx\\\\\n",
    "\\text{subject to}  & (Pb)^Tx - 2b^Tx + \\rho\\|A^TP^Tx - 2A^Tx\\|_1 \\leq  10,\\\\\n",
    "\\end{array}\n",
    "$$"
   ]
  },
  {
   "cell_type": "code",
   "execution_count": 6,
   "metadata": {},
   "outputs": [
    {
     "name": "stdout",
     "output_type": "stream",
     "text": [
      "Cvxpy objective value:  -2.063285036828997 \n",
      "Cvxpy x:  [8.36989663e-01 5.81510357e-13 1.00000000e+00 1.09806422e-10\n",
      " 1.00000000e+00]\n"
     ]
    }
   ],
   "source": [
    "# formulate using cvxpy\n",
    "x = cp.Variable(5)\n",
    "# formulate objective\n",
    "objective = cp.Minimize(-c@x)\n",
    "\n",
    "# formulate constraints\n",
    "constraints = [(P@b)@x - 2*b@x + 2*cp.norm((P@A).T@x - 2*A.T@x,p=1)<= 10, x>=0, x<=1]\n",
    "\n",
    "# formulate Robust Problem\n",
    "prob_cvxpy = cp.Problem(objective, constraints)\n",
    "\n",
    "# solve\n",
    "prob_cvxpy.solve()\n",
    "\n",
    "print(\"Cvxpy objective value: \", prob_cvxpy.objective.value, \"\\nCvxpy x: \", x.value)\n"
   ]
  },
  {
   "cell_type": "markdown",
   "metadata": {},
   "source": [
    "#### Example 3: Multiple uncertain constraints, polyhedral uncertainty\n",
    "We solve the problem\n",
    "$$\n",
    "\\begin{array}{ll}\n",
    "\\text{minimize} & c^Tx\\\\\n",
    "\\text{subject to}  & (P_1u + a)^Tx  \\leq  10\\\\\n",
    "& (P_2u)^Tx  \\leq  5\\\\\n",
    "& x \\leq 5,\n",
    "\\end{array}\n",
    "$$\n",
    "where $c$, $P_1$, $P_2$, and $a$ are constants, and $u$ is the uncertain parameter from a polyhedral uncertainty set"
   ]
  },
  {
   "cell_type": "code",
   "execution_count": 7,
   "metadata": {},
   "outputs": [
    {
     "name": "stdout",
     "output_type": "stream",
     "text": [
      "LRO objective value:  -7.405980464790736 \n",
      "LRO x:  [-10.97547718   5.           5.           4.97149827]\n"
     ]
    }
   ],
   "source": [
    "#restate the ellipsoidal set \n",
    "D =  np.vstack((np.eye(m), -2*np.eye(m)))\n",
    "d = np.concatenate((0.1*np.ones(m), 0.1*np.ones(m)))\n",
    "poly_u = lro.UncertainParameter(m, \n",
    "                                uncertainty_set = lro.Polyhedral(\n",
    "                                                        D = D, \n",
    "                                                        d = d))\n",
    "n = 4\n",
    "# formulate cvxpy variable\n",
    "x = cp.Variable(n)\n",
    "\n",
    "# formulate problem constants\n",
    "P1 = 0.5 * np.eye(m)[:n, :]\n",
    "P2 = 3*np.random.rand(n,m)\n",
    "a = 0.1 * np.random.rand(n)\n",
    "c = np.random.rand(n)\n",
    "\n",
    "# formulate objective\n",
    "objective = cp.Minimize(-c@x)\n",
    "\n",
    "# formulate constraints\n",
    "constraints = [(P1@poly_u +a)@ x <=10, x<=5]\n",
    "constraints += [(P2@poly_u)@ x <= 5]\n",
    "\n",
    "# formulate Robust Problem\n",
    "prob_robust = lro.RobustProblem(objective, constraints)\n",
    "\n",
    "# solve\n",
    "prob_robust.solve()\n",
    "print(\"LRO objective value: \", prob_robust.objective.value, \"\\nLRO x: \", x.value)\n"
   ]
  },
  {
   "cell_type": "markdown",
   "metadata": {},
   "source": [
    "We compare it with its direct reformulation, where each uncertain constraint is treated independently,\n",
    "$$\n",
    "\\begin{array}{ll}\n",
    "\\text{minimize} & c^Tx\\\\\n",
    "\\text{subject to}  & a^Tx + w_1^Td  \\leq  10\\\\\n",
    "& w_1^TD = P_1^Tx\\\\\n",
    "& w_2^Td  \\leq  5\\\\\n",
    "& w_2^TD = P_2^Tx\\\\\n",
    "& w_1, w_2 \\geq 0\\\\\n",
    "& x \\leq 5,\n",
    "\\end{array}\n",
    "$$\n",
    "where $w_1$, $w_2$ are new variables introduced."
   ]
  },
  {
   "cell_type": "code",
   "execution_count": 8,
   "metadata": {},
   "outputs": [
    {
     "name": "stdout",
     "output_type": "stream",
     "text": [
      "Cvxpy objective value:  -7.405980464754247 \n",
      "Cvxpy x:  [-10.97547718   5.           5.           4.97149827]\n"
     ]
    }
   ],
   "source": [
    "# formulate using cvxpy\n",
    "x = cp.Variable(n)\n",
    "w1 = cp.Variable(2*m)\n",
    "w2 = cp.Variable(2*m)\n",
    "# formulate objective\n",
    "objective = cp.Minimize(-c@x)\n",
    "\n",
    "# formulate constraints\n",
    "constraints = [a@x + w1@d <= 10]\n",
    "constraints += [w1@D == P1.T@x]\n",
    "constraints += [w2@d <= 5]\n",
    "constraints += [w2@D == P2.T@x]\n",
    "constraints += [w1>=0, w2 >= 0, x <=5]\n",
    "# formulate Robust Problem\n",
    "prob_cvxpy = cp.Problem(objective, constraints)\n",
    "\n",
    "# solve\n",
    "prob_cvxpy.solve()\n",
    "print(\"Cvxpy objective value: \", prob_cvxpy.objective.value, \"\\nCvxpy x: \", x.value)"
   ]
  },
  {
   "cell_type": "markdown",
   "metadata": {},
   "source": [
    "#### Example 4: Direct comparison constraints, budget uncertainty\n",
    "We solve the problem\n",
    "$$\n",
    "\\begin{array}{ll}\n",
    "\\text{minimize} & c^Tx\\\\\n",
    "\\text{subject to}  & (Pu + a)^Tx  \\leq  10\\\\\n",
    "& x \\geq P_1u,\n",
    "\\end{array}\n",
    "$$\n",
    "where $c$, $P$,and $a$ are constants, and $u$ is the uncertain parameter from a budet uncertainty set. \n",
    "We can include constraints that relates directly the values of $x$ and $u$, as in the second constraint."
   ]
  },
  {
   "cell_type": "code",
   "execution_count": 15,
   "metadata": {},
   "outputs": [
    {
     "name": "stdout",
     "output_type": "stream",
     "text": [
      "LRO objective value:  5.51385853825704 \n",
      "LRO x:  [1.40030234 2.59399093 2.74036352 2.62214987]\n"
     ]
    }
   ],
   "source": [
    "#restate the ellipsoidal set\n",
    "budget_u = lro.UncertainParameter(m, \n",
    "                                  uncertainty_set = lro.Budget(rho1=2., \n",
    "                                                               rho2 = 1.))\n",
    "n = 4\n",
    "# formulate cvxpy variable\n",
    "x = cp.Variable(n)\n",
    "\n",
    "# formulate problem constants\n",
    "P = 3. * np.eye(m)[:n, :]\n",
    "P1 = 3*np.random.rand(n,m)\n",
    "a = 0.1 * np.random.rand(n)\n",
    "c = np.random.rand(n)\n",
    "\n",
    "# formulate objective\n",
    "objective = cp.Minimize(c@x)\n",
    "\n",
    "# formulate constraints\n",
    "constraints = [(P@budget_u +a)@ x <= 10]\n",
    "constraints += [x >= P1@budget_u]\n",
    "\n",
    "# formulate Robust Problem\n",
    "prob_robust = lro.RobustProblem(objective, constraints)\n",
    "\n",
    "# solve\n",
    "prob_robust.solve()\n",
    "\n",
    "print(\"LRO objective value: \", prob_robust.objective.value, \"\\nLRO x: \", x.value)\n"
   ]
  },
  {
   "cell_type": "markdown",
   "metadata": {},
   "source": [
    "We compare this with its direct reformulation,\n",
    "$$\n",
    "\\begin{array}{ll}\n",
    "\\text{minimize} & c^Tx\\\\\n",
    "\\text{subject to}  & a^Tx + \\rho_1\\|y\\|_1 + \\rho_2\\|P^Tx - y\\|_\\infty  \\leq  10\\\\\n",
    "& -x_i + \\rho_1\\|z_i\\|_1 + \\rho_2\\|(P_1^T)_i - z_i\\|_\\infty \\leq 0, \\quad i = 1,\\dots,n\n",
    "\\end{array}\n",
    "$$\n",
    "where $(P_1^T)_i$ is the $i$'th row of $P_1$."
   ]
  },
  {
   "cell_type": "code",
   "execution_count": 16,
   "metadata": {},
   "outputs": [
    {
     "name": "stdout",
     "output_type": "stream",
     "text": [
      "Cvxpy objective value:  5.5138585389233405 \n",
      "Cvxpy x:  [1.40030234 2.59399093 2.74036352 2.62214987]\n"
     ]
    }
   ],
   "source": [
    "# formulate using cvxpy\n",
    "x = cp.Variable(n)\n",
    "y = cp.Variable(m)\n",
    "z = cp.Variable((n,m))\n",
    "\n",
    "# formulate objective\n",
    "objective = cp.Minimize(c@x)\n",
    "\n",
    "# formulate constraints\n",
    "constraints = [a@x + 2*cp.norm(y,1) + cp.norm(P.T@x-y,np.inf) <= 10]\n",
    "for i in range(n):\n",
    "  constraints += [-x[i] + 2*cp.norm(z[i],1) + cp.norm(P1.T@(np.eye(n)[i]) - z[i],np.inf) <= 0]\n",
    "# formulate Robust Problem\n",
    "prob_cvxpy = cp.Problem(objective, constraints)\n",
    "\n",
    "# solve\n",
    "prob_cvxpy.solve()\n",
    "print(\"Cvxpy objective value: \", prob_cvxpy.objective.value, \"\\nCvxpy x: \", x.value)"
   ]
  },
  {
   "cell_type": "code",
   "execution_count": null,
   "metadata": {},
   "outputs": [],
   "source": []
  }
 ],
 "metadata": {
  "interpreter": {
   "hash": "12db33b28298ca6799bcb1942ca20f6d466e8bb87ce3b49baf0601ce92209ddf"
  },
  "kernelspec": {
   "display_name": "Python 3.9.13",
   "language": "python",
   "name": "python3"
  },
  "language_info": {
   "codemirror_mode": {
    "name": "ipython",
    "version": 3
   },
   "file_extension": ".py",
   "mimetype": "text/x-python",
   "name": "python",
   "nbconvert_exporter": "python",
   "pygments_lexer": "ipython3",
   "version": "3.9.13"
  },
  "orig_nbformat": 4
 },
 "nbformat": 4,
 "nbformat_minor": 2
}
