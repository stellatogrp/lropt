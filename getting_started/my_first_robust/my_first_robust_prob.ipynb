{
 "cells": [
  {
   "attachments": {},
   "cell_type": "markdown",
   "metadata": {},
   "source": [
    "## My First Robust Problem"
   ]
  },
  {
   "cell_type": "code",
   "execution_count": 5,
   "metadata": {},
   "outputs": [],
   "source": [
    "import cvxpy as cp\n",
    "import numpy as np\n",
    "import lro\n",
    "warnings.filterwarnings(\"ignore\")"
   ]
  },
  {
   "cell_type": "code",
   "execution_count": 24,
   "metadata": {},
   "outputs": [],
   "source": [
    "n = 2\n",
    "P = np.array([[1.,2.],[1.,0.]])\n",
    "A = np.eye(2)\n",
    "b = np.zeros(2)\n",
    "c = np.array([2,4])\n",
    "d = np.array([1,0.5])\n",
    "\n",
    "u = lro.UncertainParameter(n,\n",
    "                            uncertainty_set=lro.Ellipsoidal(p=2, A= A, b = b))\n",
    "\n",
    "x = cp.Variable(n)\n",
    "\n",
    "objective = cp.Minimize(c @ x)\n",
    "constraints = [x @ P @ u + d @ u <= 0]\n",
    "\n",
    "prob = lro.RobustProblem(objective, constraints)\n"
   ]
  },
  {
   "cell_type": "code",
   "execution_count": 25,
   "metadata": {},
   "outputs": [
    {
     "name": "stdout",
     "output_type": "stream",
     "text": [
      "optimal value =  -3.5000000001226663\n",
      "optimal solution =  [-0.25 -0.75]\n"
     ]
    }
   ],
   "source": [
    "prob.solve()\n",
    "print(\"optimal value = \", objective.value)\n",
    "print(\"optimal solution = \", x.value)"
   ]
  },
  {
   "cell_type": "code",
   "execution_count": null,
   "metadata": {},
   "outputs": [],
   "source": []
  }
 ],
 "metadata": {
  "kernelspec": {
   "display_name": "lro",
   "language": "python",
   "name": "python3"
  },
  "language_info": {
   "codemirror_mode": {
    "name": "ipython",
    "version": 3
   },
   "file_extension": ".py",
   "mimetype": "text/x-python",
   "name": "python",
   "nbconvert_exporter": "python",
   "pygments_lexer": "ipython3",
   "version": "3.10.6 (main, Oct  7 2022, 15:17:23) [Clang 12.0.0 ]"
  },
  "vscode": {
   "interpreter": {
    "hash": "e3ed6dde042e78d86e091991aef4e6276872e8fbcb7e1edcb6e9eacd7157f213"
   }
  }
 },
 "nbformat": 4,
 "nbformat_minor": 2
}
