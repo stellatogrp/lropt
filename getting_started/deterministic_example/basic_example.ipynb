{
 "cells": [
  {
   "cell_type": "markdown",
   "metadata": {},
   "source": [
    "# Deterministic Uncertainty Sets - Basic example"
   ]
  },
  {
   "cell_type": "markdown",
   "metadata": {},
   "source": [
    "This section explains the basics of how to use the package with a determinsitic uncertainty set, and gives a simple example."
   ]
  },
  {
   "cell_type": "code",
   "execution_count": 17,
   "metadata": {},
   "outputs": [],
   "source": [
    "import cvxpy as cp\n",
    "import scipy as sc\n",
    "from sklearn import datasets\n",
    "import numpy as np\n",
    "import numpy.random as npr\n",
    "import numpy.testing as npt\n",
    "import torch\n",
    "import pandas as pd\n",
    "import lropt\n",
    "import matplotlib.pyplot as plt\n",
    "RTOL = 1e-04\n",
    "ATOL = 1e-04\n",
    "import warnings\n",
    "warnings.filterwarnings(\"ignore\")\n",
    "plt.rcParams.update({\n",
    "    \"text.usetex\":True,\n",
    "    \"font.size\":18,\n",
    "    \"font.family\": \"serif\"\n",
    "})\n",
    "colors = [\"tab:blue\", \"tab:green\", \"tab:orange\", \n",
    "          \"tab:red\", \"tab:purple\", \"tab:brown\", \"tab:pink\", \"tab:grey\", \"tab:olive\"]"
   ]
  },
  {
   "cell_type": "markdown",
   "metadata": {},
   "source": [
    "### Formulating the uncertainty set\n",
    "\n",
    "The first step is to formulate the uncertainty set. There are multiple options, with their associated input parameters. The uncertainty set can be formulated within the uncertain parameter, which takes in the size of the uncertainty and an uncertainty set as parameters."
   ]
  },
  {
   "cell_type": "markdown",
   "metadata": {},
   "source": [
    "Ellipsoidal uncertainty: $\\{u \\mid \\| Au + b \\|_p \\leq \\rho \\}$\n",
    "\n",
    "- $\\rho$ : float, optional  \n",
    "  * Ellipsoid scaling. Default 1.0. \n",
    "- $p$ : integer, optional  \n",
    "  * Order of the norm. Default 2.\n",
    "- $A$ : np.array, optional\n",
    "  * Scaling matrix for u. Default identity matrix.\n",
    "- $b$ : np.array, optional\n",
    "  * Relocation vector for u. Default None.\n"
   ]
  },
  {
   "cell_type": "code",
   "execution_count": 19,
   "metadata": {},
   "outputs": [],
   "source": [
    "# Ellipsoidal uncertainty set example\n",
    "m = 5\n",
    "data = np.random.normal(0,1,size = (100,m))\n",
    "ellip_u = lropt.UncertainParameter(m,\n",
    "                                   uncertainty_set = lropt.Ellipsoidal(p = 2, \n",
    "                                                                       rho=2., b = np.mean(data, axis = 0)))"
   ]
  },
  {
   "cell_type": "markdown",
   "metadata": {},
   "source": [
    "Mean Robust uncertainty: $\\{ u = (v_1,\\dots,v_K)  \\mid  \\sum_{k=1} ^K w_k \\| A_k(v_k - \\bar{d}_k) \\|_p^{\\text{power}} \\le \\rho \\}$ \n",
    "\n",
    "- $K$: int\n",
    "  * Number of clusters. Default 1.\n",
    "- data : np.array\n",
    "  * Data to be clustered. The $K$ cluster centers are denoted $\\bar{d}_k$ for $k = 1, \\dots,K$.\n",
    "- $\\rho$ : float, optional  \n",
    "  * Ellipsoid scaling. Default 1.0. \n",
    "- $p$ : integer, optional  \n",
    "  * Order of the norm. Default 2.\n",
    "- power: integer, optional\n",
    "  * Power of the norm. Default 1. \n",
    "- $A_k$ : np.array, optional\n",
    "  * Scaling matrix for u, for each $k$. Default identity matrix.\n",
    "- Train: boolean, optional\n",
    "  * Whether or not $A_k$ should be trained using given data. Default True.\n"
   ]
  },
  {
   "cell_type": "code",
   "execution_count": 20,
   "metadata": {},
   "outputs": [],
   "source": [
    "# size of uncertain parameter\n",
    "m = 5\n",
    "# Generate data\n",
    "data = np.random.normal(0,1,size = (100,m))\n",
    "\n",
    "mro_u = lropt.UncertainParameter(m,\n",
    "                                 uncertainty_set = lropt.MRO(K = 1, rho=2., data = data, train = False))"
   ]
  },
  {
   "cell_type": "markdown",
   "metadata": {},
   "source": [
    "Box uncertainty: $\\{ u \\mid\\| Au + b\\|_\\infty \\leq \\rho \\}$ \n",
    "\n",
    "- $\\rho$ : float, optional  \n",
    "  * Box scaling. Default 1.0.\n",
    "- $A$ : np.array, optional\n",
    "  * Scaling matrix for u. Default identity matrix.\n",
    "- $b$ : np.array, optional\n",
    "  * Relocation vector for u. Default None.\n"
   ]
  },
  {
   "cell_type": "code",
   "execution_count": 21,
   "metadata": {},
   "outputs": [],
   "source": [
    "# Box uncertainty set example\n",
    "box_u = lropt.UncertainParameter(m, \n",
    "                                 uncertainty_set = lropt.Box(rho=2.))"
   ]
  },
  {
   "cell_type": "markdown",
   "metadata": {},
   "source": [
    "Budget uncertainty: $\\{u \\mid \\| A_1u + b_1 \\|_\\infty \\leq \\rho_1, \\| A_2u + b_2 \\|_1 \\leq \\rho_2\\}$ \n",
    "\n",
    "- $\\rho_1$ : float, optional  \n",
    "  * Box scaling. Default 1.0. \n",
    "- $\\rho_2$ : float, optional\n",
    "  * 1-norm scaling. Default 1.0.\n",
    "- $A_1$, $A_2$ : np.array, optional\n",
    "  * Scaling matrix for u. Default identity matrix.\n",
    "- $b_1$, $b_2$ : np.array, optional\n",
    "  * Relocation vector for u. Default None.\n"
   ]
  },
  {
   "cell_type": "code",
   "execution_count": 22,
   "metadata": {},
   "outputs": [],
   "source": [
    "# Budget uncertainty set example\n",
    "budget_u = lropt.UncertainParameter(m, \n",
    "                                    uncertainty_set = lropt.Budget(rho1=2., \n",
    "                                                                   rho2 = 1.))"
   ]
  },
  {
   "cell_type": "markdown",
   "metadata": {},
   "source": [
    "Polyhedral uncertainty: $\\{ u \\mid Du \\leq d\\}$\n",
    "\n",
    "- $D$ : np.array  \n",
    "- $d$ : np.array  "
   ]
  },
  {
   "cell_type": "code",
   "execution_count": 23,
   "metadata": {},
   "outputs": [],
   "source": [
    "# Polyhedral uncertainty set example\n",
    "poly_u = lropt.UncertainParameter(m, \n",
    "                                  uncertainty_set = lropt.Polyhedral(D = np.ones((3,m)), d = np.array([1,2,3])))"
   ]
  },
  {
   "cell_type": "markdown",
   "metadata": {},
   "source": [
    "###  Formulating the Robust Problem\n",
    "\n",
    "We can now fomulate the Robust Problem, treating the uncertain parameter as a regular parameter."
   ]
  },
  {
   "cell_type": "markdown",
   "metadata": {},
   "source": [
    "#### Example 1: Affine transformed LP, ellipsoidal uncertainty and mean robust uncertainty.\n",
    "We solve the problem\n",
    "$$\n",
    "\\begin{array}{ll}\n",
    "\\text{minimize} & c^Tx\\\\\n",
    "\\text{subject to}  & (Pu+a)^Tx \\leq  10,\\\\\n",
    "\\end{array}\n",
    "$$\n",
    "where $c$, $P$, and $a$ are constants, and $u$ is the uncertain parameter from the ellipsoidal set above, where $b$ is nonzero."
   ]
  },
  {
   "cell_type": "code",
   "execution_count": 29,
   "metadata": {},
   "outputs": [
    {
     "name": "stdout",
     "output_type": "stream",
     "text": [
      "LRO objective value:  -0.486554205438346 \n",
      "LRO x:  [-0.61573308 -0.07132139 -0.57877838 -1.5140201 ]\n"
     ]
    }
   ],
   "source": [
    "#restate the ellipsoidal set\n",
    "ellip_u = lropt.UncertainParameter(m,\n",
    "                                  uncertainty_set = lropt.Ellipsoidal(p = 2, \n",
    "                                                                      rho=2., b = -np.mean(data, axis = 0)))\n",
    "n = 4\n",
    "\n",
    "# formulate cvxpy variable\n",
    "x_r = cp.Variable(4)\n",
    "\n",
    "# formulate problem constants\n",
    "P = 3. * np.eye(m)[:n, :]\n",
    "a = 0.1 * np.random.rand(n)\n",
    "c = np.random.rand(n)\n",
    "\n",
    "# formulate objective\n",
    "objective = cp.Minimize(c@x_r)\n",
    "\n",
    "# formulate constraints\n",
    "constraints = [(P@ellip_u +a)@ x_r <= 10]\n",
    "\n",
    "# formulate Robust Problem\n",
    "prob_robust = lropt.RobustProblem(objective, constraints)\n",
    "\n",
    "# solve\n",
    "prob_robust.solve()\n",
    "print(\"LRO objective value: \", prob_robust.objective.value, \"\\nLRO x: \", x_r.value)\n"
   ]
  },
  {
   "cell_type": "markdown",
   "metadata": {},
   "source": [
    "We note that this is equivalent to using the MRO uncertainty set with $K = 1$ and power = 1."
   ]
  },
  {
   "cell_type": "code",
   "execution_count": 30,
   "metadata": {},
   "outputs": [
    {
     "name": "stdout",
     "output_type": "stream",
     "text": [
      "MRO objective value:  -0.48655420520114034 \n",
      "MRO x:  [-0.61573587 -0.07132052 -0.5787773  -1.51401982]\n"
     ]
    }
   ],
   "source": [
    "#\n",
    "mro_u = lropt.UncertainParameter(m,\n",
    "                                 uncertainty_set = lropt.MRO(rho=2., K = 1, data = data, train = False))\n",
    "n = 4\n",
    "\n",
    "# formulate cvxpy variable\n",
    "x_m = cp.Variable(4)\n",
    "\n",
    "# formulate objective\n",
    "objective = cp.Minimize(c@x_m)\n",
    "\n",
    "# formulate constraints\n",
    "constraints = [(P@mro_u +a)@ x_m <= 10]\n",
    "\n",
    "# formulate Robust Problem\n",
    "prob_robust = lropt.RobustProblem(objective, constraints)\n",
    "\n",
    "# solve\n",
    "prob_robust.solve()\n",
    "print(\"MRO objective value: \", prob_robust.objective.value, \"\\nMRO x: \", x_m.value)\n"
   ]
  },
  {
   "cell_type": "markdown",
   "metadata": {},
   "source": [
    "We compare the above with its explicit reformulation and solution\n",
    "$$\n",
    "\\begin{array}{ll}\n",
    "\\text{minimize} & c^Tx\\\\\n",
    "\\text{subject to}  & a^Tx - b^T(P^Tx) + \\rho\\|P^Tx\\|_2 \\leq  10,\\\\\n",
    "\\end{array}\n",
    "$$"
   ]
  },
  {
   "cell_type": "code",
   "execution_count": 31,
   "metadata": {},
   "outputs": [
    {
     "name": "stdout",
     "output_type": "stream",
     "text": [
      "Cvxpy objective value:  -0.48655420316015846 \n",
      "Cvxpy x:  [-0.6157156  -0.07132688 -0.57878513 -1.51402186]\n"
     ]
    }
   ],
   "source": [
    "# formulate cvxpy variable\n",
    "x = cp.Variable(4)\n",
    "\n",
    "# formulate objective\n",
    "objective = cp.Minimize(c@x)\n",
    "\n",
    "# formulate constraints\n",
    "constraints = [a@x + np.mean(data, axis = 0)@(P.T@x) + 2*cp.norm(P.T@x,2) <= 10]\n",
    "\n",
    "# formulate problem\n",
    "prob_cvxpy = cp.Problem(objective, constraints)\n",
    "\n",
    "# solve\n",
    "prob_cvxpy.solve()\n",
    "\n",
    "print(\"Cvxpy objective value: \", prob_cvxpy.objective.value, \"\\nCvxpy x: \", x.value)\n",
    "\n",
    "# assert x values are equal\n",
    "npt.assert_allclose(x_r.value, x.value, rtol=RTOL, atol=ATOL)\n"
   ]
  },
  {
   "cell_type": "markdown",
   "metadata": {},
   "source": [
    "We see that they provide the same solution."
   ]
  }
 ],
 "metadata": {
  "kernelspec": {
   "display_name": "lropt_cvxpy",
   "language": "python",
   "name": "python3"
  },
  "language_info": {
   "codemirror_mode": {
    "name": "ipython",
    "version": 3
   },
   "file_extension": ".py",
   "mimetype": "text/x-python",
   "name": "python",
   "nbconvert_exporter": "python",
   "pygments_lexer": "ipython3",
   "version": "3.11.0"
  }
 },
 "nbformat": 4,
 "nbformat_minor": 2
}
