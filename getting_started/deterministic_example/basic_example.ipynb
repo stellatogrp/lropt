{
 "cells": [
  {
   "cell_type": "markdown",
   "metadata": {},
   "source": [
    "# Deterministic Uncertainty Sets - Basic example"
   ]
  },
  {
   "cell_type": "markdown",
   "metadata": {},
   "source": [
    "This section explains the basics of how to use the package with a determinsitic uncertainty set, and gives a simple example."
   ]
  },
  {
   "cell_type": "code",
   "execution_count": 1,
   "metadata": {
    "execution": {
     "iopub.execute_input": "2023-11-21T19:38:46.087353Z",
     "iopub.status.busy": "2023-11-21T19:38:46.087140Z",
     "iopub.status.idle": "2023-11-21T19:38:48.805473Z",
     "shell.execute_reply": "2023-11-21T19:38:48.804787Z"
    }
   },
   "outputs": [],
   "source": [
    "import cvxpy as cp\n",
    "import scipy as sc\n",
    "from sklearn import datasets\n",
    "import numpy as np\n",
    "import numpy.random as npr\n",
    "import numpy.testing as npt\n",
    "import torch\n",
    "import pandas as pd\n",
    "import lropt\n",
    "import matplotlib.pyplot as plt\n",
    "RTOL = 1e-04\n",
    "ATOL = 1e-04\n",
    "import warnings\n",
    "warnings.filterwarnings(\"ignore\")\n",
    "plt.rcParams.update({\n",
    "    \"text.usetex\":True,\n",
    "    \"font.size\":18,\n",
    "    \"font.family\": \"serif\"\n",
    "})\n",
    "colors = [\"tab:blue\", \"tab:green\", \"tab:orange\", \n",
    "          \"tab:red\", \"tab:purple\", \"tab:brown\", \"tab:pink\", \"tab:grey\", \"tab:olive\"]"
   ]
  },
  {
   "cell_type": "markdown",
   "metadata": {},
   "source": [
    "### Formulating the uncertainty set\n",
    "\n",
    "The first step is to formulate the uncertainty set. There are multiple options, with their associated input parameters. The uncertainty set can be formulated within the uncertain parameter, which takes in the size of the uncertainty and an uncertainty set as parameters."
   ]
  },
  {
   "cell_type": "markdown",
   "metadata": {},
   "source": [
    "Ellipsoidal uncertainty: $\\{u \\mid \\| Au + b \\|_p \\leq \\rho \\}$\n",
    "\n",
    "- $\\rho$ : float, optional  \n",
    "  * Ellipsoid scaling. Default 1.0. \n",
    "- $p$ : integer, optional  \n",
    "  * Order of the norm. Default 2.\n",
    "- $A$ : np.array, optional\n",
    "  * Scaling matrix for u. Default identity matrix.\n",
    "- $b$ : np.array, optional\n",
    "  * Relocation vector for u. Default None.\n"
   ]
  },
  {
   "cell_type": "code",
   "execution_count": 2,
   "metadata": {
    "execution": {
     "iopub.execute_input": "2023-11-21T19:38:48.808456Z",
     "iopub.status.busy": "2023-11-21T19:38:48.808172Z",
     "iopub.status.idle": "2023-11-21T19:38:48.812251Z",
     "shell.execute_reply": "2023-11-21T19:38:48.811693Z"
    }
   },
   "outputs": [],
   "source": [
    "# Ellipsoidal uncertainty set example\n",
    "m = 5\n",
    "data = np.random.normal(0,1,size = (100,m))\n",
    "ellip_u = lropt.UncertainParameter(m,\n",
    "                                   uncertainty_set = lropt.Ellipsoidal(p = 2, \n",
    "                                                                       rho=2., b = np.mean(data, axis = 0)))"
   ]
  },
  {
   "cell_type": "markdown",
   "metadata": {},
   "source": [
    "Mean Robust uncertainty: $\\{ u = (v_1,\\dots,v_K)  \\mid  \\sum_{k=1} ^K w_k \\| A_k(v_k - \\bar{d}_k) \\|_p^{\\text{power}} \\le \\rho \\}$ \n",
    "\n",
    "- $K$: int\n",
    "  * Number of clusters. Default 1.\n",
    "- data : np.array\n",
    "  * Data to be clustered. The $K$ cluster centers are denoted $\\bar{d}_k$ for $k = 1, \\dots,K$.\n",
    "- $\\rho$ : float, optional  \n",
    "  * Ellipsoid scaling. Default 1.0. \n",
    "- $p$ : integer, optional  \n",
    "  * Order of the norm. Default 2.\n",
    "- power: integer, optional\n",
    "  * Power of the norm. Default 1. \n",
    "- $A_k$ : np.array, optional\n",
    "  * Scaling matrix for u, for each $k$. Default identity matrix.\n",
    "- Train: boolean, optional\n",
    "  * Whether or not $A_k$ should be trained using given data. Default True.\n"
   ]
  },
  {
   "cell_type": "code",
   "execution_count": 3,
   "metadata": {
    "execution": {
     "iopub.execute_input": "2023-11-21T19:38:48.814720Z",
     "iopub.status.busy": "2023-11-21T19:38:48.814356Z",
     "iopub.status.idle": "2023-11-21T19:38:48.844433Z",
     "shell.execute_reply": "2023-11-21T19:38:48.843868Z"
    }
   },
   "outputs": [],
   "source": [
    "# size of uncertain parameter\n",
    "m = 5\n",
    "# Generate data\n",
    "data = np.random.normal(0,1,size = (100,m))\n",
    "\n",
    "mro_u = lropt.UncertainParameter(m,\n",
    "                                 uncertainty_set = lropt.MRO(K = 1, rho=2., data = data, train = False))"
   ]
  },
  {
   "cell_type": "markdown",
   "metadata": {},
   "source": [
    "Box uncertainty: $\\{ u \\mid\\| Au + b\\|_\\infty \\leq \\rho \\}$ \n",
    "\n",
    "- $\\rho$ : float, optional  \n",
    "  * Box scaling. Default 1.0.\n",
    "- $A$ : np.array, optional\n",
    "  * Scaling matrix for u. Default identity matrix.\n",
    "- $b$ : np.array, optional\n",
    "  * Relocation vector for u. Default None.\n"
   ]
  },
  {
   "cell_type": "code",
   "execution_count": 4,
   "metadata": {
    "execution": {
     "iopub.execute_input": "2023-11-21T19:38:48.847110Z",
     "iopub.status.busy": "2023-11-21T19:38:48.846688Z",
     "iopub.status.idle": "2023-11-21T19:38:48.850319Z",
     "shell.execute_reply": "2023-11-21T19:38:48.849733Z"
    }
   },
   "outputs": [],
   "source": [
    "# Box uncertainty set example\n",
    "box_u = lropt.UncertainParameter(m, \n",
    "                                 uncertainty_set = lropt.Box(rho=2.))"
   ]
  },
  {
   "cell_type": "markdown",
   "metadata": {},
   "source": [
    "Budget uncertainty: $\\{u \\mid \\| A_1u + b_1 \\|_\\infty \\leq \\rho_1, \\| A_2u + b_2 \\|_1 \\leq \\rho_2\\}$ \n",
    "\n",
    "- $\\rho_1$ : float, optional  \n",
    "  * Box scaling. Default 1.0. \n",
    "- $\\rho_2$ : float, optional\n",
    "  * 1-norm scaling. Default 1.0.\n",
    "- $A_1$, $A_2$ : np.array, optional\n",
    "  * Scaling matrix for u. Default identity matrix.\n",
    "- $b_1$, $b_2$ : np.array, optional\n",
    "  * Relocation vector for u. Default None.\n"
   ]
  },
  {
   "cell_type": "code",
   "execution_count": 5,
   "metadata": {
    "execution": {
     "iopub.execute_input": "2023-11-21T19:38:48.852701Z",
     "iopub.status.busy": "2023-11-21T19:38:48.852324Z",
     "iopub.status.idle": "2023-11-21T19:38:48.855623Z",
     "shell.execute_reply": "2023-11-21T19:38:48.855085Z"
    }
   },
   "outputs": [],
   "source": [
    "# Budget uncertainty set example\n",
    "budget_u = lropt.UncertainParameter(m, \n",
    "                                    uncertainty_set = lropt.Budget(rho1=2., \n",
    "                                                                   rho2 = 1.))"
   ]
  },
  {
   "cell_type": "markdown",
   "metadata": {},
   "source": [
    "Polyhedral uncertainty: $\\{ u \\mid Du \\leq d\\}$\n",
    "\n",
    "- $D$ : np.array  \n",
    "- $d$ : np.array  "
   ]
  },
  {
   "cell_type": "code",
   "execution_count": 6,
   "metadata": {
    "execution": {
     "iopub.execute_input": "2023-11-21T19:38:48.858024Z",
     "iopub.status.busy": "2023-11-21T19:38:48.857721Z",
     "iopub.status.idle": "2023-11-21T19:38:48.861079Z",
     "shell.execute_reply": "2023-11-21T19:38:48.860554Z"
    }
   },
   "outputs": [],
   "source": [
    "# Polyhedral uncertainty set example\n",
    "poly_u = lropt.UncertainParameter(m, \n",
    "                                  uncertainty_set = lropt.Polyhedral(D = np.ones((3,m)), d = np.array([1,2,3])))"
   ]
  },
  {
   "cell_type": "markdown",
   "metadata": {},
   "source": [
    "###  Formulating the Robust Problem\n",
    "\n",
    "We can now fomulate the Robust Problem, treating the uncertain parameter as a regular parameter."
   ]
  },
  {
   "cell_type": "markdown",
   "metadata": {},
   "source": [
    "#### Example 1: Affine transformed LP, ellipsoidal uncertainty and mean robust uncertainty.\n",
    "We solve the problem\n",
    "$$\n",
    "\\begin{array}{ll}\n",
    "\\text{minimize} & c^Tx\\\\\n",
    "\\text{subject to}  & (Pu+a)^Tx \\leq  10,\\\\\n",
    "\\end{array}\n",
    "$$\n",
    "where $c$, $P$, and $a$ are constants, and $u$ is the uncertain parameter from the ellipsoidal set above, where $b$ is nonzero."
   ]
  },
  {
   "cell_type": "code",
   "execution_count": 7,
   "metadata": {
    "execution": {
     "iopub.execute_input": "2023-11-21T19:38:48.863495Z",
     "iopub.status.busy": "2023-11-21T19:38:48.863296Z",
     "iopub.status.idle": "2023-11-21T19:38:48.886270Z",
     "shell.execute_reply": "2023-11-21T19:38:48.885632Z"
    }
   },
   "outputs": [
    {
     "name": "stdout",
     "output_type": "stream",
     "text": [
      "LRO objective value:  -2.097998029531417 \n",
      "LRO x:  [-0.88502512 -1.15485879 -0.47530895 -0.34174012]\n"
     ]
    }
   ],
   "source": [
    "#restate the ellipsoidal set\n",
    "ellip_u = lropt.UncertainParameter(m,\n",
    "                                  uncertainty_set = lropt.Ellipsoidal(p = 2, \n",
    "                                                                      rho=2., b = -np.mean(data, axis = 0)))\n",
    "n = 4\n",
    "\n",
    "# formulate cvxpy variable\n",
    "x_r = cp.Variable(4)\n",
    "\n",
    "# formulate problem constants\n",
    "P = 3. * np.eye(m)[:n, :]\n",
    "a = 0.1 * np.random.rand(n)\n",
    "c = np.random.rand(n)\n",
    "\n",
    "# formulate objective\n",
    "objective = cp.Minimize(c@x_r)\n",
    "\n",
    "# formulate constraints\n",
    "constraints = [(P@ellip_u +a)@ x_r <= 10]\n",
    "\n",
    "# formulate Robust Problem\n",
    "prob_robust = lropt.RobustProblem(objective, constraints)\n",
    "\n",
    "# solve\n",
    "prob_robust.solve()\n",
    "print(\"LRO objective value: \", prob_robust.objective.value, \"\\nLRO x: \", x_r.value)\n"
   ]
  },
  {
   "cell_type": "markdown",
   "metadata": {},
   "source": [
    "We note that this is equivalent to using the MRO uncertainty set with $K = 1$ and power = 1."
   ]
  },
  {
   "cell_type": "code",
   "execution_count": 8,
   "metadata": {
    "execution": {
     "iopub.execute_input": "2023-11-21T19:38:48.921185Z",
     "iopub.status.busy": "2023-11-21T19:38:48.920717Z",
     "iopub.status.idle": "2023-11-21T19:38:48.945152Z",
     "shell.execute_reply": "2023-11-21T19:38:48.944570Z"
    }
   },
   "outputs": [
    {
     "name": "stdout",
     "output_type": "stream",
     "text": [
      "MRO objective value:  -2.097998028531319 \n",
      "MRO x:  [-0.88502789 -1.15485947 -0.47530453 -0.34173626]\n"
     ]
    }
   ],
   "source": [
    "#\n",
    "mro_u = lropt.UncertainParameter(m,\n",
    "                                 uncertainty_set = lropt.MRO(rho=2., K = 1, data = data, train = False))\n",
    "n = 4\n",
    "\n",
    "# formulate cvxpy variable\n",
    "x_m = cp.Variable(4)\n",
    "\n",
    "# formulate objective\n",
    "objective = cp.Minimize(c@x_m)\n",
    "\n",
    "# formulate constraints\n",
    "constraints = [(P@mro_u +a)@ x_m <= 10]\n",
    "\n",
    "# formulate Robust Problem\n",
    "prob_robust = lropt.RobustProblem(objective, constraints)\n",
    "\n",
    "# solve\n",
    "prob_robust.solve()\n",
    "print(\"MRO objective value: \", prob_robust.objective.value, \"\\nMRO x: \", x_m.value)\n"
   ]
  },
  {
   "cell_type": "markdown",
   "metadata": {},
   "source": [
    "We compare the above with its explicit reformulation and solution\n",
    "$$\n",
    "\\begin{array}{ll}\n",
    "\\text{minimize} & c^Tx\\\\\n",
    "\\text{subject to}  & a^Tx - b^T(P^Tx) + \\rho\\|P^Tx\\|_2 \\leq  10,\\\\\n",
    "\\end{array}\n",
    "$$"
   ]
  },
  {
   "cell_type": "code",
   "execution_count": 9,
   "metadata": {
    "execution": {
     "iopub.execute_input": "2023-11-21T19:38:48.947748Z",
     "iopub.status.busy": "2023-11-21T19:38:48.947353Z",
     "iopub.status.idle": "2023-11-21T19:38:48.958846Z",
     "shell.execute_reply": "2023-11-21T19:38:48.958273Z"
    }
   },
   "outputs": [
    {
     "name": "stdout",
     "output_type": "stream",
     "text": [
      "Cvxpy objective value:  -2.0979980273174244 \n",
      "Cvxpy x:  [-0.88503269 -1.15486066 -0.47529689 -0.34172959]\n"
     ]
    }
   ],
   "source": [
    "# formulate cvxpy variable\n",
    "x = cp.Variable(4)\n",
    "\n",
    "# formulate objective\n",
    "objective = cp.Minimize(c@x)\n",
    "\n",
    "# formulate constraints\n",
    "constraints = [a@x + np.mean(data, axis = 0)@(P.T@x) + 2*cp.norm(P.T@x,2) <= 10]\n",
    "\n",
    "# formulate problem\n",
    "prob_cvxpy = cp.Problem(objective, constraints)\n",
    "\n",
    "# solve\n",
    "prob_cvxpy.solve()\n",
    "\n",
    "print(\"Cvxpy objective value: \", prob_cvxpy.objective.value, \"\\nCvxpy x: \", x.value)\n",
    "\n",
    "# assert x values are equal\n",
    "npt.assert_allclose(x_r.value, x.value, rtol=RTOL, atol=ATOL)\n"
   ]
  },
  {
   "cell_type": "markdown",
   "metadata": {},
   "source": [
    "We see that they provide the same solution."
   ]
  }
 ],
 "metadata": {
  "kernelspec": {
   "display_name": "lropt_cvxpy",
   "language": "python",
   "name": "python3"
  },
  "language_info": {
   "codemirror_mode": {
    "name": "ipython",
    "version": 3
   },
   "file_extension": ".py",
   "mimetype": "text/x-python",
   "name": "python",
   "nbconvert_exporter": "python",
   "pygments_lexer": "ipython3",
   "version": "3.10.13"
  }
 },
 "nbformat": 4,
 "nbformat_minor": 2
}
