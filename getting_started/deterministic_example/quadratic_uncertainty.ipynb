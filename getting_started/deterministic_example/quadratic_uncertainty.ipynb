{
 "cells": [
  {
   "cell_type": "markdown",
   "metadata": {},
   "source": [
    "# Deterministic Uncertainty Sets - Direct comparison constraints, budget uncertainty"
   ]
  },
  {
   "cell_type": "code",
   "execution_count": 1,
   "metadata": {
    "execution": {
     "iopub.execute_input": "2023-11-21T19:39:09.369258Z",
     "iopub.status.busy": "2023-11-21T19:39:09.369048Z",
     "iopub.status.idle": "2023-11-21T19:39:11.784148Z",
     "shell.execute_reply": "2023-11-21T19:39:11.783429Z"
    }
   },
   "outputs": [],
   "source": [
    "import cvxpy as cp\n",
    "import scipy as sc\n",
    "from sklearn import datasets\n",
    "import numpy as np\n",
    "import numpy.random as npr\n",
    "import numpy.testing as npt\n",
    "import torch\n",
    "import pandas as pd\n",
    "import lropt\n",
    "import matplotlib.pyplot as plt\n",
    "RTOL = 1e-04\n",
    "ATOL = 1e-04\n",
    "import warnings\n",
    "warnings.filterwarnings(\"ignore\")\n",
    "plt.rcParams.update({\n",
    "    \"text.usetex\":True,\n",
    "    \"font.size\":18,\n",
    "    \"font.family\": \"serif\"\n",
    "})\n",
    "colors = [\"tab:blue\", \"tab:green\", \"tab:orange\", \n",
    "          \"tab:red\", \"tab:purple\", \"tab:brown\", \"tab:pink\", \"tab:grey\", \"tab:olive\"]"
   ]
  },
  {
   "cell_type": "markdown",
   "metadata": {},
   "source": [
    "We solve the problem\n",
    "$$\n",
    "\\begin{array}{ll}\n",
    "\\text{minimize} & \\tau\\\\\n",
    "\\text{subject to}  & -(1/2)\\sum_{i=1}^n (u^TP_iu)x_i  \\leq  \\tau\\\\\n",
    "& \\mathbf{1}^Tx = 3\\\\\n",
    "& x \\geq 0, \\quad x \\leq 1\n",
    "\\end{array}\n",
    "$$\n",
    "where each $P_i\\in \\mathbf{R}^{n\\times n}$ is a symmetric positive definite matrix, and $u$ is the uncertain parameter from an ellipsoidal uncertainty set. "
   ]
  },
  {
   "cell_type": "code",
   "execution_count": 2,
   "metadata": {
    "execution": {
     "iopub.execute_input": "2023-11-21T19:39:11.787262Z",
     "iopub.status.busy": "2023-11-21T19:39:11.786744Z",
     "iopub.status.idle": "2023-11-21T19:39:11.846484Z",
     "shell.execute_reply": "2023-11-21T19:39:11.845346Z"
    }
   },
   "outputs": [
    {
     "name": "stdout",
     "output_type": "stream",
     "text": [
      "LRO objective value:  -2.0631492961158832e-10 \n",
      "LRO x:  [0.79877983 0.80138279 0.80072783 0.79878798 0.80032158]\n"
     ]
    }
   ],
   "source": [
    "m = 5\n",
    "# formulate uncertainty set\n",
    "n = 5\n",
    "u = lropt.UncertainParameter(n,\n",
    "                             uncertainty_set=lropt.Ellipsoidal(p=2, rho=0.5))\n",
    "# formulate cvxpy variables\n",
    "x_r = cp.Variable(n)\n",
    "t = cp.Variable()\n",
    "\n",
    "# formulate problem constants\n",
    "P = {}\n",
    "P_inv = {}\n",
    "for i in range(n):\n",
    "    P[i] = datasets.make_spd_matrix(n, random_state=i)\n",
    "    P_inv[i] = sc.linalg.sqrtm(np.linalg.inv(P[i]))\n",
    "\n",
    "# formulate objective\n",
    "objective = cp.Minimize(t)\n",
    "\n",
    "# formulate constraints \n",
    "constraints = [cp.sum([-0.5*lropt.quad_form(u, P[i]*x_r[i]) for i in range(n)]) <= t]\n",
    "constraints += [cp.sum(x_r)==4]\n",
    "constraints += [x_r >= 0.6, x_r <= 1]\n",
    "\n",
    "# formulate Robust Problem\n",
    "prob_robust = lropt.RobustProblem(objective, constraints)\n",
    "\n",
    "# solve\n",
    "prob_robust.solve()\n",
    "print(\"LRO objective value: \", prob_robust.objective.value, \"\\nLRO x: \", x_r.value)"
   ]
  },
  {
   "cell_type": "markdown",
   "metadata": {},
   "source": [
    "We compare this with the direct reformulation,\n",
    "\\begin{equation}\n",
    "\t\\begin{array}{lll}\n",
    "\t\t&\\text{minimize} & \\tau \\\\\n",
    "\t\t&\\text{subject to} & (1/2)\\sum_{i=1}^n (z_i^TP_i^{-1}z_i)/x_i + \\rho\\|z\\|_2 \\le \\tau\\\\\n",
    "\t\t&& \\sum_{i=1}^n z_i = z,\\\\\n",
    "&& \\mathbf{1}^Tx = 3\\\\\n",
    "&& x \\geq 0, \\quad x \\leq 1\n",
    "\t\\end{array}\n",
    "\\end{equation}\n",
    "where we have $\\gamma \\in \\mathbf{R}^m, z \\in \\mathbf{R}^n, z_i \\in \\mathbf{R}^n$, $i = 1,\\dots,n$, as auxiliary variables. "
   ]
  },
  {
   "cell_type": "code",
   "execution_count": 3,
   "metadata": {
    "execution": {
     "iopub.execute_input": "2023-11-21T19:39:11.849848Z",
     "iopub.status.busy": "2023-11-21T19:39:11.849546Z",
     "iopub.status.idle": "2023-11-21T19:39:11.885280Z",
     "shell.execute_reply": "2023-11-21T19:39:11.884614Z"
    }
   },
   "outputs": [
    {
     "name": "stdout",
     "output_type": "stream",
     "text": [
      "Cvxpy objective value:  -2.1183732382563087e-10 \n",
      "Cvxpy x:  [0.79881653 0.80133787 0.80070692 0.79882447 0.80031422]\n"
     ]
    }
   ],
   "source": [
    "# formulate using cvxpy\n",
    "x_cvxpy = cp.Variable(n)\n",
    "t = cp.Variable()\n",
    "z = cp.Variable(n)\n",
    "y = cp.Variable((n,n))\n",
    "gam = cp.Variable(n)\n",
    "\n",
    "# formulate objective\n",
    "objective = cp.Minimize(t)\n",
    "\n",
    "# formulate constraints\n",
    "constraints = [cp.sum([cp.quad_over_lin(y[i]@P_inv[i],2*x_cvxpy[i]) for i in range(n)]) + 0.5*cp.norm(z,2) <= t]\n",
    "constraints += [cp.sum(y, axis = 1) == z]\n",
    "constraints += [cp.sum(x_cvxpy) == 4]\n",
    "constraints += [x_cvxpy >= 0.6, x_cvxpy <= 1]\n",
    "\n",
    "# formulate problem \n",
    "prob_cvxpy = cp.Problem(objective, constraints)\n",
    "prob_cvxpy.solve()\n",
    "print(\"Cvxpy objective value: \", prob_cvxpy.objective.value, \"\\nCvxpy x: \", x_cvxpy.value)\n",
    "\n",
    "# assert x values are equal\n",
    "npt.assert_allclose(x_r.value, x_cvxpy.value, rtol=RTOL, atol=ATOL)\n"
   ]
  }
 ],
 "metadata": {
  "kernelspec": {
   "display_name": "lropt_cvxpy",
   "language": "python",
   "name": "python3"
  },
  "language_info": {
   "codemirror_mode": {
    "name": "ipython",
    "version": 3
   },
   "file_extension": ".py",
   "mimetype": "text/x-python",
   "name": "python",
   "nbconvert_exporter": "python",
   "pygments_lexer": "ipython3",
   "version": "3.10.13"
  }
 },
 "nbformat": 4,
 "nbformat_minor": 2
}
