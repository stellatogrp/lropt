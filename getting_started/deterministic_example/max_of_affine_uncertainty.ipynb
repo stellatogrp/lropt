{
 "cells": [
  {
   "cell_type": "markdown",
   "metadata": {},
   "source": [
    "# Deterministic Uncertainty Sets - Max of affine uncertainty, ellipsoidal set, mean robust set"
   ]
  },
  {
   "cell_type": "code",
   "execution_count": 1,
   "metadata": {
    "execution": {
     "iopub.execute_input": "2023-11-21T19:30:49.595950Z",
     "iopub.status.busy": "2023-11-21T19:30:49.595757Z",
     "iopub.status.idle": "2023-11-21T19:30:52.116197Z",
     "shell.execute_reply": "2023-11-21T19:30:52.115513Z"
    }
   },
   "outputs": [],
   "source": [
    "import cvxpy as cp\n",
    "import scipy as sc\n",
    "from sklearn import datasets\n",
    "import numpy as np\n",
    "import numpy.random as npr\n",
    "import numpy.testing as npt\n",
    "import torch\n",
    "import pandas as pd\n",
    "import lropt\n",
    "import matplotlib.pyplot as plt\n",
    "RTOL = 1e-04\n",
    "ATOL = 1e-04\n",
    "import warnings\n",
    "warnings.filterwarnings(\"ignore\")\n",
    "plt.rcParams.update({\n",
    "    \"text.usetex\":True,\n",
    "    \"font.size\":18,\n",
    "    \"font.family\": \"serif\"\n",
    "})\n",
    "colors = [\"tab:blue\", \"tab:green\", \"tab:orange\", \n",
    "          \"tab:red\", \"tab:purple\", \"tab:brown\", \"tab:pink\", \"tab:grey\", \"tab:olive\"]"
   ]
  },
  {
   "cell_type": "markdown",
   "metadata": {},
   "source": [
    "We solve the problem\n",
    "$$\n",
    "\\begin{array}{ll}\n",
    "\t\t\\text{minimize} & \\tau \\\\\n",
    "\t\t\\text{subject to } & \\max\\{a^Tx - d^Tx, a^Tx - d^T(3u+3)\\} \\leq \\tau,\\\\\n",
    "\\end{array}\n",
    "$$\n",
    "where $a$ and $d$ are constants, and $u$ is the uncertain parameter from an ellipsoidal uncertainty set. "
   ]
  },
  {
   "cell_type": "code",
   "execution_count": 2,
   "metadata": {
    "execution": {
     "iopub.execute_input": "2023-11-21T19:30:52.119190Z",
     "iopub.status.busy": "2023-11-21T19:30:52.118869Z",
     "iopub.status.idle": "2023-11-21T19:30:52.146638Z",
     "shell.execute_reply": "2023-11-21T19:30:52.145899Z"
    }
   },
   "outputs": [
    {
     "name": "stdout",
     "output_type": "stream",
     "text": [
      "LRO objective value:  -29.61311182296922 \n",
      "LRO x:  [ 6.82227780e+00 -5.31982565e-10 -4.06531654e-10 -1.07906326e-09\n",
      "  5.14566555e-10]\n"
     ]
    }
   ],
   "source": [
    "m = 5\n",
    "# Generate data\n",
    "data = np.random.normal(0,1,size = (100,m))\n",
    "# formulate uncertainty set\n",
    "n = 5\n",
    "u = lropt.UncertainParameter(n,\n",
    "                             uncertainty_set=lropt.Ellipsoidal(p=2, rho=1, b = -np.mean(data, axis = 0)))\n",
    "# formulate cvxpy variables\n",
    "x_r = cp.Variable(n)\n",
    "t = cp.Variable()\n",
    "\n",
    "# formulate constants\n",
    "a = npr.uniform(1,4,n)\n",
    "d = a + npr.uniform(2,5,n)\n",
    "\n",
    "# formulate objective\n",
    "objective = cp.Minimize(t)\n",
    "\n",
    "# formulate constraints \n",
    "constraints = [cp.maximum(a@x_r - d@x_r, a@x_r - d@(3*u+3)) <= t]\n",
    "constraints += [x_r >= 0]\n",
    "\n",
    "\n",
    "# formulate Robust Problem\n",
    "prob_robust = lropt.RobustProblem(objective, constraints)\n",
    "\n",
    "# solve\n",
    "prob_robust.solve()\n",
    "print(\"LRO objective value: \", prob_robust.objective.value, \"\\nLRO x: \", x_r.value)"
   ]
  },
  {
   "cell_type": "markdown",
   "metadata": {},
   "source": [
    "We assert that it is equivalent to the direct reformulation"
   ]
  },
  {
   "cell_type": "code",
   "execution_count": 3,
   "metadata": {
    "execution": {
     "iopub.execute_input": "2023-11-21T19:30:52.149340Z",
     "iopub.status.busy": "2023-11-21T19:30:52.149113Z",
     "iopub.status.idle": "2023-11-21T19:30:52.162428Z",
     "shell.execute_reply": "2023-11-21T19:30:52.161837Z"
    }
   },
   "outputs": [
    {
     "name": "stdout",
     "output_type": "stream",
     "text": [
      "Cvxpy objective value:  -29.61311182548822 \n",
      "Cvxpy x:  [6.82227779e+00 3.75795768e-10 3.95958213e-10 2.97132557e-10\n",
      " 4.45313658e-10]\n"
     ]
    }
   ],
   "source": [
    "# formulate using cvxpy\n",
    "x_cvxpy = cp.Variable(n)\n",
    "t = cp.Variable()\n",
    "\n",
    "# formulate objective\n",
    "objective = cp.Minimize(t)\n",
    "\n",
    "# formulate constraints\n",
    "constraints = [a@x_cvxpy -d@x_cvxpy <= t]\n",
    "constraints += [a@x_cvxpy -3*d@np.ones(n) + np.mean(data, axis = 0)@(-3*d) + cp.norm(3*d,2) <= t]\n",
    "constraints += [x_cvxpy >= 0]\n",
    "\n",
    "# formulate problem \n",
    "prob_cvxpy = cp.Problem(objective, constraints)\n",
    "prob_cvxpy.solve()\n",
    "print(\"Cvxpy objective value: \", prob_cvxpy.objective.value, \"\\nCvxpy x: \", x_cvxpy.value)\n",
    "\n",
    "# assert x values are equal\n",
    "npt.assert_allclose(x_r.value, x_cvxpy.value, rtol=RTOL, atol=ATOL)\n"
   ]
  },
  {
   "cell_type": "markdown",
   "metadata": {},
   "source": [
    "We solve the same problem for the MRO uncertainty set with $K= 1$ and power = 1. We note that this gives a different reformulation, and upper bounds the solution for the normal Ellipsoidal case. "
   ]
  },
  {
   "cell_type": "code",
   "execution_count": 4,
   "metadata": {
    "execution": {
     "iopub.execute_input": "2023-11-21T19:30:52.164867Z",
     "iopub.status.busy": "2023-11-21T19:30:52.164657Z",
     "iopub.status.idle": "2023-11-21T19:30:52.219560Z",
     "shell.execute_reply": "2023-11-21T19:30:52.218804Z"
    }
   },
   "outputs": [
    {
     "name": "stdout",
     "output_type": "stream",
     "text": [
      "MRO objective value:  -11.03324770206946 \n",
      "MRO x:  [1.25546009e+01 4.45637802e-11 5.20161882e-11 3.29681211e-11\n",
      " 6.38461760e-11]\n"
     ]
    }
   ],
   "source": [
    "# formulate uncertainty set\n",
    "n = 5\n",
    "u = lropt.UncertainParameter(n,\n",
    "                             uncertainty_set=lropt.MRO(K = 1, data = data,p=2,\n",
    "                                                       rho=1, train = False))\n",
    "# formulate cvxpy variables\n",
    "x_m = cp.Variable(n)\n",
    "t = cp.Variable()\n",
    "\n",
    "# formulate objective\n",
    "objective = cp.Minimize(t)\n",
    "\n",
    "# formulate constraints \n",
    "constraints = [cp.maximum(a@x_m - d@x_m, a@x_m - d@(3*u+3)) <= t]\n",
    "constraints += [x_m >= 0]\n",
    "\n",
    "# formulate Robust Problem\n",
    "prob_robust = lropt.RobustProblem(objective, constraints)\n",
    "\n",
    "# solve\n",
    "prob_robust.solve()\n",
    "print(\"MRO objective value: \", prob_robust.objective.value, \"\\nMRO x: \", x_m.value)"
   ]
  },
  {
   "cell_type": "markdown",
   "metadata": {},
   "source": [
    "We assert the equivalence to the direct reformulation of the MRO problem. "
   ]
  },
  {
   "cell_type": "code",
   "execution_count": 5,
   "metadata": {
    "execution": {
     "iopub.execute_input": "2023-11-21T19:30:52.222426Z",
     "iopub.status.busy": "2023-11-21T19:30:52.222178Z",
     "iopub.status.idle": "2023-11-21T19:30:52.236106Z",
     "shell.execute_reply": "2023-11-21T19:30:52.235476Z"
    }
   },
   "outputs": [
    {
     "name": "stdout",
     "output_type": "stream",
     "text": [
      "Cvxpy objective value:  -11.033247698109944 \n",
      "Cvxpy x:  [1.25546009e+01 8.27847514e-10 8.35377661e-10 6.61619693e-10\n",
      " 8.63321297e-10]\n"
     ]
    }
   ],
   "source": [
    "# formulate using cvxpy\n",
    "x_cvxpy = cp.Variable(n)\n",
    "t = cp.Variable()\n",
    "\n",
    "# formulate objective\n",
    "objective = cp.Minimize(t)\n",
    "\n",
    "# formulate constraints\n",
    "constraints = [a@x_cvxpy -d@x_cvxpy + cp.norm(3*d,2) <= t]\n",
    "constraints += [a@x_cvxpy -3*d@np.ones(n) + np.mean(data, axis = 0)@(-3*d) + cp.norm(3*d,2) <= t]\n",
    "constraints += [x_cvxpy >= 0]\n",
    "\n",
    "# formulate problem \n",
    "prob_cvxpy = cp.Problem(objective, constraints)\n",
    "prob_cvxpy.solve()\n",
    "print(\"Cvxpy objective value: \", prob_cvxpy.objective.value, \"\\nCvxpy x: \", x_cvxpy.value)\n",
    "\n",
    "# assert x values are equal\n",
    "npt.assert_allclose(x_m.value, x_cvxpy.value, rtol=RTOL, atol=ATOL)\n"
   ]
  }
 ],
 "metadata": {
  "kernelspec": {
   "display_name": "lropt_cvxpy",
   "language": "python",
   "name": "python3"
  },
  "language_info": {
   "codemirror_mode": {
    "name": "ipython",
    "version": 3
   },
   "file_extension": ".py",
   "mimetype": "text/x-python",
   "name": "python",
   "nbconvert_exporter": "python",
   "pygments_lexer": "ipython3",
   "version": "3.10.13"
  }
 },
 "nbformat": 4,
 "nbformat_minor": 2
}
