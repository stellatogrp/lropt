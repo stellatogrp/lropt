{
 "cells": [
  {
   "cell_type": "markdown",
   "metadata": {},
   "source": [
    "# Deterministic Uncertainty Sets - Multiple uncertain terms, box uncertainty"
   ]
  },
  {
   "cell_type": "code",
   "execution_count": 1,
   "metadata": {
    "execution": {
     "iopub.execute_input": "2023-11-21T19:39:00.288297Z",
     "iopub.status.busy": "2023-11-21T19:39:00.288102Z",
     "iopub.status.idle": "2023-11-21T19:39:02.766083Z",
     "shell.execute_reply": "2023-11-21T19:39:02.765400Z"
    }
   },
   "outputs": [],
   "source": [
    "import cvxpy as cp\n",
    "import scipy as sc\n",
    "from sklearn import datasets\n",
    "import numpy as np\n",
    "import numpy.random as npr\n",
    "import numpy.testing as npt\n",
    "import torch\n",
    "import pandas as pd\n",
    "import lropt\n",
    "import matplotlib.pyplot as plt\n",
    "RTOL = 1e-04\n",
    "ATOL = 1e-04\n",
    "import warnings\n",
    "warnings.filterwarnings(\"ignore\")\n",
    "plt.rcParams.update({\n",
    "    \"text.usetex\":True,\n",
    "    \"font.size\":18,\n",
    "    \"font.family\": \"serif\"\n",
    "})\n",
    "colors = [\"tab:blue\", \"tab:green\", \"tab:orange\", \n",
    "          \"tab:red\", \"tab:purple\", \"tab:brown\", \"tab:pink\", \"tab:grey\", \"tab:olive\"]"
   ]
  },
  {
   "cell_type": "markdown",
   "metadata": {},
   "source": [
    "We solve the problem\n",
    "$$\n",
    "\\begin{array}{ll}\n",
    "\\text{minimize} & c^Tx\\\\\n",
    "\\text{subject to}  & P(Au+ b)^Tx  \\leq  10 + 2(Au + b)^Tx\\\\\n",
    "& x \\geq 0,\\quad x \\leq 1,\n",
    "\\end{array}\n",
    "$$\n",
    "where again $c$, $P$, and $a$ are constants, and $u$ is the uncertain parameter from a box uncertainty set. We note that the uncertain parameter can appear more than once in the uncertain constraint. \n",
    "\n",
    "Note that using the box uncertainty set is equivalent to using the ellipsoidal uncertainty set with $p = \\infty$"
   ]
  },
  {
   "cell_type": "code",
   "execution_count": 2,
   "metadata": {
    "execution": {
     "iopub.execute_input": "2023-11-21T19:39:02.769327Z",
     "iopub.status.busy": "2023-11-21T19:39:02.768797Z",
     "iopub.status.idle": "2023-11-21T19:39:02.816876Z",
     "shell.execute_reply": "2023-11-21T19:39:02.816060Z"
    }
   },
   "outputs": [
    {
     "name": "stdout",
     "output_type": "stream",
     "text": [
      "Box objective value:  -1.759561257675106 \n",
      "Box x:  [2.14193987e-10 5.43606836e-12 9.99999999e-01 1.00000000e+00\n",
      " 1.14502757e-01]\n",
      "Ellipsoidal objective value:  -1.7595612576751014 \n",
      "Ellipsoidal x:  [2.14194745e-10 5.43612853e-12 9.99999999e-01 1.00000000e+00\n",
      " 1.14502757e-01]\n"
     ]
    }
   ],
   "source": [
    "#formulate using the box set\n",
    "m = 5\n",
    "box_u = lropt.UncertainParameter(m, \n",
    "                                 uncertainty_set = lropt.Box(rho=2.))\n",
    "n = 5\n",
    "\n",
    "# formulate cvxpy variable\n",
    "x_box = cp.Variable(n)\n",
    "\n",
    "# formulate problem constants\n",
    "P = 3*np.random.rand(n,m)\n",
    "c = np.random.rand(n)\n",
    "center = 0.5*np.ones(m)\n",
    "side = 0.1*np.array([1,2,3,4,5])\n",
    "A = np.diag(0.5*side)\n",
    "b = center\n",
    "\n",
    "# formulate objective\n",
    "objective = cp.Minimize(-c@x_box)\n",
    "\n",
    "# formulate constraints\n",
    "constraints = [(P@A@box_u+ P@b)@ x_box - 2*(A@box_u + b)@x_box <= 10 , x_box >=0, x_box<=1]\n",
    "\n",
    "# formulate Robust Problem\n",
    "prob_robust = lropt.RobustProblem(objective, constraints)\n",
    "\n",
    "# solve\n",
    "newprob = prob_robust.dualize_constraints()\n",
    "newprob.solve()\n",
    "print(\"Box objective value: \", newprob.objective.value, \"\\nBox x: \", x_box.value)\n",
    "\n",
    "#formulate using the ellipsoidal set\n",
    "ellip_u = lropt.UncertainParameter(m,\n",
    "                                   uncertainty_set = lropt.Ellipsoidal(p = np.inf, \n",
    "                                                                       rho=2., a = np.eye(m)))\n",
    "n = 5\n",
    "\n",
    "# formulate cvxpy variable\n",
    "x_el = cp.Variable(n)\n",
    "\n",
    "# formulate objective\n",
    "objective = cp.Minimize(-c@x_el)\n",
    "\n",
    "# formulate constraints\n",
    "constraints = [P@(A@ellip_u + b)@ x_el  <= 10+(2*A@ellip_u+ 2*b)@x_el, x_el >=0, x_el<=1]\n",
    "\n",
    "# formulate Robust Problem\n",
    "prob_robust = lropt.RobustProblem(objective, constraints)\n",
    "\n",
    "# solve\n",
    "prob_robust.solve()\n",
    "\n",
    "print(\"Ellipsoidal objective value: \", prob_robust.objective.value, \"\\nEllipsoidal x: \", x_el.value)\n",
    "\n",
    "# assert x values are equal\n",
    "npt.assert_allclose(x_box.value, x_el.value, rtol=RTOL, atol=ATOL)\n"
   ]
  },
  {
   "cell_type": "markdown",
   "metadata": {},
   "source": [
    "We compare the above with its explicit reformulation and solution\n",
    "$$\n",
    "\\begin{array}{ll}\n",
    "\\text{minimize} & c^Tx\\\\\n",
    "\\text{subject to}  & (Pb)^Tx - 2b^Tx + \\rho\\|A^TP^Tx - 2A^Tx\\|_1 \\leq  10,\\\\\n",
    "\\end{array}\n",
    "$$"
   ]
  },
  {
   "cell_type": "code",
   "execution_count": 3,
   "metadata": {
    "execution": {
     "iopub.execute_input": "2023-11-21T19:39:02.819697Z",
     "iopub.status.busy": "2023-11-21T19:39:02.819293Z",
     "iopub.status.idle": "2023-11-21T19:39:02.833458Z",
     "shell.execute_reply": "2023-11-21T19:39:02.832751Z"
    }
   },
   "outputs": [
    {
     "name": "stdout",
     "output_type": "stream",
     "text": [
      "Cvxpy objective value:  -1.7595612578223223 \n",
      "Cvxpy x:  [9.26204016e-11 3.21962933e-12 1.00000000e+00 1.00000000e+00\n",
      " 1.14502757e-01]\n"
     ]
    }
   ],
   "source": [
    "# formulate using cvxpy\n",
    "x_cvxpy = cp.Variable(5)\n",
    "# formulate objective\n",
    "objective = cp.Minimize(-c@x_cvxpy)\n",
    "\n",
    "# formulate constraints\n",
    "constraints = [(P@b)@x_cvxpy - 2*b@x_cvxpy + 2*cp.norm((P@A).T@x_cvxpy - 2*A.T@x_cvxpy,p=1)<= 10, x_cvxpy>=0, x_cvxpy<=1]\n",
    "\n",
    "# formulate problem\n",
    "prob_cvxpy = cp.Problem(objective, constraints)\n",
    "\n",
    "# solve\n",
    "prob_cvxpy.solve()\n",
    "\n",
    "print(\"Cvxpy objective value: \", prob_cvxpy.objective.value, \"\\nCvxpy x: \", x_cvxpy.value)\n",
    "\n",
    "# assert x values are equal\n",
    "npt.assert_allclose(x_box.value, x_cvxpy.value, rtol=RTOL, atol=ATOL)\n"
   ]
  }
 ],
 "metadata": {
  "kernelspec": {
   "display_name": "lropt_cvxpy",
   "language": "python",
   "name": "python3"
  },
  "language_info": {
   "codemirror_mode": {
    "name": "ipython",
    "version": 3
   },
   "file_extension": ".py",
   "mimetype": "text/x-python",
   "name": "python",
   "nbconvert_exporter": "python",
   "pygments_lexer": "ipython3",
   "version": "3.10.13"
  }
 },
 "nbformat": 4,
 "nbformat_minor": 2
}
