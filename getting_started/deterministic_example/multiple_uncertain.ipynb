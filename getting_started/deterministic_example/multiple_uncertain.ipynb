{
 "cells": [
  {
   "cell_type": "markdown",
   "metadata": {},
   "source": [
    "# Deterministic Uncertainty Sets - Multiple uncertain terms, box uncertainty"
   ]
  },
  {
   "cell_type": "code",
   "execution_count": 1,
   "metadata": {
    "execution": {
     "iopub.execute_input": "2023-11-21T19:30:54.421126Z",
     "iopub.status.busy": "2023-11-21T19:30:54.420934Z",
     "iopub.status.idle": "2023-11-21T19:30:56.896603Z",
     "shell.execute_reply": "2023-11-21T19:30:56.895846Z"
    }
   },
   "outputs": [],
   "source": [
    "import cvxpy as cp\n",
    "import scipy as sc\n",
    "from sklearn import datasets\n",
    "import numpy as np\n",
    "import numpy.random as npr\n",
    "import numpy.testing as npt\n",
    "import torch\n",
    "import pandas as pd\n",
    "import lropt\n",
    "import matplotlib.pyplot as plt\n",
    "RTOL = 1e-04\n",
    "ATOL = 1e-04\n",
    "import warnings\n",
    "warnings.filterwarnings(\"ignore\")\n",
    "plt.rcParams.update({\n",
    "    \"text.usetex\":True,\n",
    "    \"font.size\":18,\n",
    "    \"font.family\": \"serif\"\n",
    "})\n",
    "colors = [\"tab:blue\", \"tab:green\", \"tab:orange\", \n",
    "          \"tab:red\", \"tab:purple\", \"tab:brown\", \"tab:pink\", \"tab:grey\", \"tab:olive\"]"
   ]
  },
  {
   "cell_type": "markdown",
   "metadata": {},
   "source": [
    "We solve the problem\n",
    "$$\n",
    "\\begin{array}{ll}\n",
    "\\text{minimize} & c^Tx\\\\\n",
    "\\text{subject to}  & P(Au+ b)^Tx  \\leq  10 + 2(Au + b)^Tx\\\\\n",
    "& x \\geq 0,\\quad x \\leq 1,\n",
    "\\end{array}\n",
    "$$\n",
    "where again $c$, $P$, and $a$ are constants, and $u$ is the uncertain parameter from a box uncertainty set. We note that the uncertain parameter can appear more than once in the uncertain constraint. \n",
    "\n",
    "Note that using the box uncertainty set is equivalent to using the ellipsoidal uncertainty set with $p = \\infty$"
   ]
  },
  {
   "cell_type": "code",
   "execution_count": 2,
   "metadata": {
    "execution": {
     "iopub.execute_input": "2023-11-21T19:30:56.899828Z",
     "iopub.status.busy": "2023-11-21T19:30:56.899485Z",
     "iopub.status.idle": "2023-11-21T19:30:56.947477Z",
     "shell.execute_reply": "2023-11-21T19:30:56.946831Z"
    }
   },
   "outputs": [
    {
     "name": "stdout",
     "output_type": "stream",
     "text": [
      "Box objective value:  -1.400371062641744 \n",
      "Box x:  [1.74966246e-11 1.00000000e+00 9.86373819e-01 2.07932189e-10\n",
      " 1.33398221e-01]\n",
      "Ellipsoidal objective value:  -1.4003710626417445 \n",
      "Ellipsoidal x:  [1.74965509e-11 1.00000000e+00 9.86373819e-01 2.07931738e-10\n",
      " 1.33398221e-01]\n"
     ]
    }
   ],
   "source": [
    "#formulate using the box set\n",
    "m = 5\n",
    "box_u = lropt.UncertainParameter(m, \n",
    "                                 uncertainty_set = lropt.Box(rho=2.))\n",
    "n = 5\n",
    "\n",
    "# formulate cvxpy variable\n",
    "x_box = cp.Variable(n)\n",
    "\n",
    "# formulate problem constants\n",
    "P = 3*np.random.rand(n,m)\n",
    "c = np.random.rand(n)\n",
    "center = 0.5*np.ones(m)\n",
    "side = 0.1*np.array([1,2,3,4,5])\n",
    "A = np.diag(0.5*side)\n",
    "b = center\n",
    "\n",
    "# formulate objective\n",
    "objective = cp.Minimize(-c@x_box)\n",
    "\n",
    "# formulate constraints\n",
    "constraints = [(P@A@box_u+ P@b)@ x_box - 2*(A@box_u + b)@x_box <= 10 , x_box >=0, x_box<=1]\n",
    "\n",
    "# formulate Robust Problem\n",
    "prob_robust = lropt.RobustProblem(objective, constraints)\n",
    "\n",
    "# solve\n",
    "newprob = prob_robust.dualize_constraints()\n",
    "newprob.solve()\n",
    "print(\"Box objective value: \", newprob.objective.value, \"\\nBox x: \", x_box.value)\n",
    "\n",
    "#formulate using the ellipsoidal set\n",
    "ellip_u = lropt.UncertainParameter(m,\n",
    "                                   uncertainty_set = lropt.Ellipsoidal(p = np.inf, \n",
    "                                                                       rho=2., a = np.eye(m)))\n",
    "n = 5\n",
    "\n",
    "# formulate cvxpy variable\n",
    "x_el = cp.Variable(n)\n",
    "\n",
    "# formulate objective\n",
    "objective = cp.Minimize(-c@x_el)\n",
    "\n",
    "# formulate constraints\n",
    "constraints = [P@(A@ellip_u + b)@ x_el  <= 10+(2*A@ellip_u+ 2*b)@x_el, x_el >=0, x_el<=1]\n",
    "\n",
    "# formulate Robust Problem\n",
    "prob_robust = lropt.RobustProblem(objective, constraints)\n",
    "\n",
    "# solve\n",
    "prob_robust.solve()\n",
    "\n",
    "print(\"Ellipsoidal objective value: \", prob_robust.objective.value, \"\\nEllipsoidal x: \", x_el.value)\n",
    "\n",
    "# assert x values are equal\n",
    "npt.assert_allclose(x_box.value, x_el.value, rtol=RTOL, atol=ATOL)\n"
   ]
  },
  {
   "cell_type": "markdown",
   "metadata": {},
   "source": [
    "We compare the above with its explicit reformulation and solution\n",
    "$$\n",
    "\\begin{array}{ll}\n",
    "\\text{minimize} & c^Tx\\\\\n",
    "\\text{subject to}  & (Pb)^Tx - 2b^Tx + \\rho\\|A^TP^Tx - 2A^Tx\\|_1 \\leq  10,\\\\\n",
    "\\end{array}\n",
    "$$"
   ]
  },
  {
   "cell_type": "code",
   "execution_count": 3,
   "metadata": {
    "execution": {
     "iopub.execute_input": "2023-11-21T19:30:56.950094Z",
     "iopub.status.busy": "2023-11-21T19:30:56.949701Z",
     "iopub.status.idle": "2023-11-21T19:30:56.963425Z",
     "shell.execute_reply": "2023-11-21T19:30:56.962777Z"
    }
   },
   "outputs": [
    {
     "name": "stdout",
     "output_type": "stream",
     "text": [
      "Cvxpy objective value:  -1.4003710625915644 \n",
      "Cvxpy x:  [6.89827876e-11 1.00000000e+00 9.86373818e-01 2.56361977e-09\n",
      " 1.33398219e-01]\n"
     ]
    }
   ],
   "source": [
    "# formulate using cvxpy\n",
    "x_cvxpy = cp.Variable(5)\n",
    "# formulate objective\n",
    "objective = cp.Minimize(-c@x_cvxpy)\n",
    "\n",
    "# formulate constraints\n",
    "constraints = [(P@b)@x_cvxpy - 2*b@x_cvxpy + 2*cp.norm((P@A).T@x_cvxpy - 2*A.T@x_cvxpy,p=1)<= 10, x_cvxpy>=0, x_cvxpy<=1]\n",
    "\n",
    "# formulate problem\n",
    "prob_cvxpy = cp.Problem(objective, constraints)\n",
    "\n",
    "# solve\n",
    "prob_cvxpy.solve()\n",
    "\n",
    "print(\"Cvxpy objective value: \", prob_cvxpy.objective.value, \"\\nCvxpy x: \", x_cvxpy.value)\n",
    "\n",
    "# assert x values are equal\n",
    "npt.assert_allclose(x_box.value, x_cvxpy.value, rtol=RTOL, atol=ATOL)\n"
   ]
  }
 ],
 "metadata": {
  "kernelspec": {
   "display_name": "lropt_cvxpy",
   "language": "python",
   "name": "python3"
  },
  "language_info": {
   "codemirror_mode": {
    "name": "ipython",
    "version": 3
   },
   "file_extension": ".py",
   "mimetype": "text/x-python",
   "name": "python",
   "nbconvert_exporter": "python",
   "pygments_lexer": "ipython3",
   "version": "3.10.13"
  }
 },
 "nbformat": 4,
 "nbformat_minor": 2
}
